{
 "cells": [
  {
   "cell_type": "markdown",
   "metadata": {},
   "source": [
    "In this script we will extract metrics for each commit. For that you need to download and install Understand Tool, available here https://scitools.com/trial-download-3/ . To run you will need license to Understand, student get free in https://scitools.com/non-commercial-license/"
   ]
  },
  {
   "cell_type": "code",
   "execution_count": null,
   "metadata": {},
   "outputs": [],
   "source": [
    "def printStatus(index, size):\n",
    "    print(\"{0}% Completed samples\".format((index / size) * 100))"
   ]
  },
  {
   "cell_type": "code",
   "execution_count": null,
   "metadata": {},
   "outputs": [],
   "source": [
    "from git import Repo"
   ]
  },
  {
   "cell_type": "code",
   "execution_count": null,
   "metadata": {},
   "outputs": [],
   "source": [
    "def getCommitsFrom(project):\n",
    "    projectPath = \"repositories\\\\\"+project\n",
    "    repository = Repo(projectPath)\n",
    "    repository.git.checkout(\"master\", \"-f\")\n",
    "    iterCommits = repository.iter_commits()\n",
    "    commits = []\n",
    "    for c in iterCommits:\n",
    "        commits.append(c)\n",
    "    return commits"
   ]
  },
  {
   "cell_type": "code",
   "execution_count": null,
   "metadata": {},
   "outputs": [],
   "source": [
    "def checkoutTo(project, sha):\n",
    "    projectPath = \"repositories\\\\\" + project\n",
    "    repository = Repo(projectPath)\n",
    "    repository.git.checkout(sha, \"-f\")"
   ]
  },
  {
   "cell_type": "code",
   "execution_count": null,
   "metadata": {},
   "outputs": [],
   "source": [
    "import os"
   ]
  },
  {
   "cell_type": "code",
   "execution_count": null,
   "metadata": {},
   "outputs": [],
   "source": [
    "def extractMetricsWithUnderstand(owner, project):\n",
    "    understandPath = \"understand\\\\SciTools\\\\bin\\\\pc-win64\\\\und\"\n",
    "    os.system('cmd /c \"{0} create -languages java {1}\"'.format(understandPath, project))\n",
    "    os.system('cmd /c \"{0} add {1} {2}\"'.format(understandPath, \"repositories\\\\\"+owner+\"\\\\\"+project, project))\n",
    "    os.system('cmd /c \"{0} settings -metrics all {1}\"'.format(understandPath, project))\n",
    "    os.system('cmd /c \"{0} settings -metricsOutputFile {1}.csv {1}\"'.format(understandPath, project))\n",
    "    os.system('cmd /c \"{0} -quiet analyze {1}\"'.format(understandPath, project))\n",
    "    os.system('cmd /c \"{0} metrics {1}\"'.format(understandPath, project))"
   ]
  },
  {
   "cell_type": "code",
   "execution_count": null,
   "metadata": {},
   "outputs": [],
   "source": [
    "import pandas as pd\n",
    "import numpy as np"
   ]
  },
  {
   "cell_type": "code",
   "execution_count": null,
   "metadata": {},
   "outputs": [],
   "source": [
    "def sumMetricsPerSample(owner, project):\n",
    "    dataframe = pd.read_csv(project+\".csv\")\n",
    "    numberJavaFiles = 0 if dataframe.empty else dataframe[\"Kind\"].value_counts()[\"File\"]\n",
    "    dataframe = dataframe[dataframe[\"Kind\"] == \"Public Class\"]\n",
    "    dataframe[\"sample\"] = owner+\"\\\\\"+project\n",
    "    dataframe = dataframe.groupby(\"sample\").sum()\n",
    "    dataframe[\"numberJavaFiles\"] = numberJavaFiles\n",
    "    return dataframe"
   ]
  },
  {
   "cell_type": "code",
   "execution_count": null,
   "metadata": {},
   "outputs": [],
   "source": [
    "def averageMetricsPerSample(dataframe, owner, project):\n",
    "    dataframe = dataframe[(dataframe[\"Kind\"] == \"Public Class\") | (dataframe[\"Kind\"] == \"Private Class\") | (dataframe[\"Kind\"] == \"Class\")]\n",
    "    dataframe[\"sample\"] = owner+\"\\\\\"+project\n",
    "    dataframe = dataframe.groupby(\"sample\").mean()\n",
    "    return dataframe"
   ]
  },
  {
   "cell_type": "code",
   "execution_count": null,
   "metadata": {},
   "outputs": [],
   "source": [
    "def medianMetricsPerSample(dataframe, owner, project):\n",
    "    dataframe = dataframe[(dataframe[\"Kind\"] == \"Public Class\") | (dataframe[\"Kind\"] == \"Private Class\") | (dataframe[\"Kind\"] == \"Class\")]\n",
    "    dataframe[\"sample\"] = owner+\"\\\\\"+project\n",
    "    dataframe = dataframe.groupby(\"sample\").median()\n",
    "    return dataframe"
   ]
  },
  {
   "cell_type": "code",
   "execution_count": null,
   "metadata": {},
   "outputs": [],
   "source": [
    "def otherMetricsPerSample(dataframe, owner, project):\n",
    "    numberJavaFiles = 0 if dataframe.empty else dataframe[\"Kind\"].value_counts()[\"File\"]\n",
    "    dataframe = dataframe[dataframe[\"Kind\"] == \"Package\"]\n",
    "    dataframe.drop(dataframe.columns.difference(['CountDeclClass']), 1, inplace=True)\n",
    "    dataframe[\"sample\"] = owner+\"\\\\\"+project\n",
    "    dataframe = dataframe.groupby(\"sample\").sum()\n",
    "    dataframe[\"numberJavaFiles\"] = numberJavaFiles\n",
    "    return dataframe"
   ]
  },
  {
   "cell_type": "code",
   "execution_count": null,
   "metadata": {},
   "outputs": [],
   "source": [
    "import fnmatch"
   ]
  },
  {
   "cell_type": "code",
   "execution_count": null,
   "metadata": {},
   "outputs": [],
   "source": [
    "def readMetricsFromCsv(project):\n",
    "    dtype = {\n",
    "        'Kind': np.str, \n",
    "        'Name': np.str, \n",
    "        'AvgCyclomatic': np.float64, \n",
    "        'AvgCyclomaticModified': np.float64,\n",
    "        'AvgCyclomaticStrict': np.float64, \n",
    "        'AvgEssential': np.float64, \n",
    "        'AvgLine': np.float64, \n",
    "        'AvgLineBlank': np.float64,\n",
    "       'AvgLineCode': np.float64, \n",
    "        'AvgLineComment': np.float64, \n",
    "        'CountClassBase': np.float64, \n",
    "        'CountClassCoupled': np.float64,\n",
    "       'CountClassCoupledModified': np.float64, \n",
    "        'CountClassDerived': np.float64, \n",
    "        'CountDeclClass': np.float64,\n",
    "       'CountDeclClassMethod': np.float64, \n",
    "        'CountDeclClassVariable': np.float64,\n",
    "       'CountDeclExecutableUnit': np.float64, \n",
    "        'CountDeclFile': np.float64, \n",
    "        'CountDeclFunction': np.float64,\n",
    "       'CountDeclInstanceMethod': np.float64, \n",
    "        'CountDeclInstanceVariable': np.float64,\n",
    "       'CountDeclMethod': np.float64, \n",
    "        'CountDeclMethodAll': np.float64, \n",
    "        'CountDeclMethodDefault': np.float64,\n",
    "       'CountDeclMethodPrivate': np.float64, \n",
    "        'CountDeclMethodProtected': np.float64,\n",
    "       'CountDeclMethodPublic': np.float64, \n",
    "        'CountInput': np.float64, \n",
    "        'CountLine': np.float64, \n",
    "        'CountLineBlank': np.float64,\n",
    "       'CountLineCode': np.float64, \n",
    "        'CountLineCodeDecl': np.float64, \n",
    "        'CountLineCodeExe': np.float64,\n",
    "       'CountLineComment': np.float64, \n",
    "        'CountOutput': np.float64, \n",
    "        'CountPath': np.float64, \n",
    "        'CountPathLog': np.float64,\n",
    "       'CountSemicolon': np.float64, \n",
    "        'CountStmt': np.float64, \n",
    "        'CountStmtDecl': np.float64, \n",
    "        'CountStmtExe': np.float64,\n",
    "       'Cyclomatic': np.float64, \n",
    "        'CyclomaticModified': np.float64, \n",
    "        'CyclomaticStrict': np.float64, \n",
    "        'Essential': np.float64,\n",
    "       'Knots': np.float64, \n",
    "        'MaxCyclomatic': np.float64, \n",
    "        'MaxCyclomaticModified': np.float64,\n",
    "       'MaxCyclomaticStrict': np.float64, \n",
    "        'MaxEssential': np.float64, \n",
    "        'MaxEssentialKnots': np.float64,\n",
    "       'MaxInheritanceTree': np.float64, \n",
    "        'MaxNesting': np.float64, \n",
    "        'MinEssentialKnots': np.float64,\n",
    "       'PercentLackOfCohesion': np.float64, \n",
    "        'PercentLackOfCohesionModified': np.float64,\n",
    "       'RatioCommentToCode': np.float64, \n",
    "        'SumCyclomatic': np.float64, \n",
    "        'SumCyclomaticModified': np.float64,\n",
    "       'SumCyclomaticStrict': np.float64, \n",
    "        'SumEssential': np.float64\n",
    "    }\n",
    "    dataframe = pd.read_csv(project+\".csv\", dtype=dtype)\n",
    "    return dataframe"
   ]
  },
  {
   "cell_type": "code",
   "execution_count": null,
   "metadata": {},
   "outputs": [],
   "source": [
    "def getUnderstandMetrics(owner, project):\n",
    "    extractMetricsWithUnderstand(owner, project)\n",
    "    \n",
    "    dataframe = readMetricsFromCsv(project)\n",
    "    \n",
    "    avgMetrics = averageMetricsPerSample(dataframe.copy(), owner, project)\n",
    "    avgMetrics[\"type\"] = \"average\"\n",
    "    avgMetrics.set_index(\"type\")\n",
    "    \n",
    "    medMetrics = medianMetricsPerSample(dataframe.copy(), owner, project)\n",
    "    medMetrics[\"type\"] = \"median\"\n",
    "    medMetrics.set_index(\"type\")\n",
    "    \n",
    "    otherMetrics = otherMetricsPerSample(dataframe.copy(), owner, project)\n",
    "    otherMetrics[\"type\"] = \"absolute\"\n",
    "    otherMetrics.set_index(\"type\")\n",
    "    \n",
    "    return pd.concat([avgMetrics, medMetrics, otherMetrics], axis=0)"
   ]
  },
  {
   "cell_type": "code",
   "execution_count": null,
   "metadata": {},
   "outputs": [],
   "source": [
    "def findPaths(pattern, path):\n",
    "    result = []\n",
    "    for root, dirs, files in os.walk(path):\n",
    "        if '.git' in root:\n",
    "            continue\n",
    "        for name in files:\n",
    "            if fnmatch.fnmatch(name, pattern):\n",
    "                result.append(os.path.join(root, name))\n",
    "    return result"
   ]
  },
  {
   "cell_type": "code",
   "execution_count": null,
   "metadata": {},
   "outputs": [],
   "source": [
    "pip install JPype1"
   ]
  },
  {
   "cell_type": "code",
   "execution_count": null,
   "metadata": {},
   "outputs": [],
   "source": [
    "# Boiler plate stuff to start the module\n",
    "import jpype\n",
    "from jpype import *\n",
    "from statistics import mean\n",
    "\n",
    "class Readability(object):\n",
    "    def __init__(self, project):\n",
    "        super(Readability, self).__init__()\n",
    "        self.project = project\n",
    "        self.startJVM()\n",
    "        self.readabilityPackage = JPackage(\"raykernel\").apps.readability.eval.Main\n",
    "        self.repositoryPath = \"repositories\\\\\"+project\n",
    "\n",
    "    def startJVM(self):\n",
    "        if not jpype.isJVMStarted():\n",
    "            jpype.startJVM(jpype.getDefaultJVMPath(), '-Djava.class.path=readability.jar',  '-ea', '-Xmx4096M', convertStrings=True)\n",
    "\n",
    "    def shutdownJVM(self):\n",
    "        jpype.shutdownJVM()\n",
    "\n",
    "    def getReadability(self):\n",
    "        javaFiles = findPaths(\"*.java\", self.repositoryPath)\n",
    "        if len(javaFiles) == 0: return 0\n",
    "        readability = 0\n",
    "        array = []\n",
    "        for javaFile in javaFiles:\n",
    "            try:\n",
    "                file = open(javaFile).read()\n",
    "            except:\n",
    "                file = \"\"\n",
    "            array.append(float(self.readabilityPackage.getReadability(file)))\n",
    "        return mean(array)"
   ]
  },
  {
   "cell_type": "code",
   "execution_count": null,
   "metadata": {},
   "outputs": [],
   "source": [
    "def getReadability(owner, project):\n",
    "    r = Readability(owner+\"\\\\\"+project)\n",
    "    readability = r.getReadability()\n",
    "    del r\n",
    "    return readability"
   ]
  },
  {
   "cell_type": "code",
   "execution_count": null,
   "metadata": {},
   "outputs": [],
   "source": [
    "def getMetrics(commit, owner, project):\n",
    "    metrics = getUnderstandMetrics(owner, project)\n",
    "    metrics[\"commitSha\"] = commit.hexsha\n",
    "    metrics[\"commitDate\"] = commit.authored_datetime\n",
    "    metrics[\"readability\"] = getReadability(owner, project)\n",
    "    return metrics"
   ]
  },
  {
   "cell_type": "code",
   "execution_count": null,
   "metadata": {},
   "outputs": [],
   "source": [
    "def deleteUnusedFiles(sample):\n",
    "    os.remove(sample + \".csv\")\n",
    "    os.remove(sample + \".udb\")"
   ]
  },
  {
   "cell_type": "code",
   "execution_count": null,
   "metadata": {},
   "outputs": [],
   "source": [
    "def createDirectoryIfNotExists(dirName):\n",
    "    if not os.path.exists(dirName):\n",
    "            os.makedirs(dirName)"
   ]
  },
  {
   "cell_type": "code",
   "execution_count": null,
   "metadata": {},
   "outputs": [],
   "source": [
    "def replaceSamplePathForWindowsLike(sample):\n",
    "    return sample.replace(\"/\", \"\\\\\")"
   ]
  },
  {
   "cell_type": "code",
   "execution_count": null,
   "metadata": {},
   "outputs": [],
   "source": [
    "def extractMetricsByCommit(sample, commit):\n",
    "    owner, project = sample.split(\"\\\\\")\n",
    "    checkoutTo(sample, commit.hexsha)\n",
    "    print(\"commit ======= \" + commit.hexsha)\n",
    "    metrics = getMetrics(commit, owner, project)\n",
    "    return metrics"
   ]
  },
  {
   "cell_type": "code",
   "execution_count": null,
   "metadata": {},
   "outputs": [],
   "source": [
    "def extractMetricsForAllCommits(commits, sample):\n",
    "    allCommits = pd.DataFrame()\n",
    "    for index, commit in enumerate(commits):\n",
    "        metrics = extractMetricsByCommit(sample, commit)\n",
    "        allCommits = allCommits.append(metrics, ignore_index=True)\n",
    "        print(\"{0}% of commits completed from sample {1}\".format((index/len(commits) * 100), sample))\n",
    "#         allCommits.to_csv(\"metrics\\\\\"+sample+\".csv\", index=False)\n",
    "    return allCommits"
   ]
  },
  {
   "cell_type": "code",
   "execution_count": null,
   "metadata": {},
   "outputs": [],
   "source": [
    "def metricsByCommit(framework, samples):\n",
    "    \n",
    "    for index, sample in enumerate(samples):\n",
    "        sample = replaceSamplePathForWindowsLike(sample)\n",
    "        \n",
    "        printStatus(index+1, len(samples))\n",
    "        \n",
    "        createDirectoryIfNotExists(\"metrics\")\n",
    "        \n",
    "        commits = getCommitsFrom(sample)\n",
    "        commits.reverse()\n",
    "        \n",
    "        owner, project = sample.split(\"\\\\\")\n",
    "        \n",
    "        createDirectoryIfNotExists(\"metrics\\\\\"+owner)\n",
    "\n",
    "        ######### if the script crash, copy the commit sha of the last sucess analyses and paste below. And then uncomment this code\n",
    "#         for index, commit in enumerate(commits):\n",
    "#             if commit.hexsha == \"b6e4c433c0298ae765ef79143f6e67ebbf9a67d0\":\n",
    "#                 position = index\n",
    "#         commits = commits[position+1:]\n",
    "        \n",
    "        allCommits = extractMetricsForAllCommits(commits, sample)\n",
    "        \n",
    "        deleteUnusedFiles(project)\n",
    "        \n",
    "        allCommits.to_csv(\"metrics\\\\\"+sample+\".csv\", index=False)"
   ]
  },
  {
   "cell_type": "code",
   "execution_count": null,
   "metadata": {},
   "outputs": [],
   "source": [
    "androidSamples = pd.read_csv(\"..\\\\1-GettingQuestions\\\\samplesWithQuestions\\\\androidSamples.csv\")\n",
    "awsSamples = pd.read_csv(\"..\\\\1-GettingQuestions\\\\samplesWithQuestions\\\\awsSamples.csv\")\n",
    "azureSamples = pd.read_csv(\"..\\\\1-GettingQuestions\\\\samplesWithQuestions\\\\azureSamples.csv\")\n",
    "springSamples = pd.read_csv(\"..\\\\1-GettingQuestions\\\\samplesWithQuestions\\\\springSamples.csv\")"
   ]
  },
  {
   "cell_type": "code",
   "execution_count": null,
   "metadata": {
    "scrolled": true
   },
   "outputs": [],
   "source": [
    "metricsByCommit(\"Azure\", azureSamples[\"path\"])"
   ]
  },
  {
   "cell_type": "code",
   "execution_count": null,
   "metadata": {
    "scrolled": true
   },
   "outputs": [],
   "source": [
    "metricsByCommit(\"AWS\", awsSamples[\"path\"])"
   ]
  },
  {
   "cell_type": "code",
   "execution_count": null,
   "metadata": {
    "scrolled": true
   },
   "outputs": [],
   "source": [
    "metricsByCommit(\"Spring\", springSamples[\"path\"])"
   ]
  },
  {
   "cell_type": "code",
   "execution_count": null,
   "metadata": {},
   "outputs": [],
   "source": [
    "metricsByCommit(\"Android\", androidSamples[\"path\"])"
   ]
  }
 ],
 "metadata": {
  "kernelspec": {
   "display_name": "Python 3",
   "language": "python",
   "name": "python3"
  },
  "language_info": {
   "codemirror_mode": {
    "name": "ipython",
    "version": 3
   },
   "file_extension": ".py",
   "mimetype": "text/x-python",
   "name": "python",
   "nbconvert_exporter": "python",
   "pygments_lexer": "ipython3",
   "version": "3.8.3"
  }
 },
 "nbformat": 4,
 "nbformat_minor": 4
}
