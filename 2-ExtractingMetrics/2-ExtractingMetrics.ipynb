{
 "cells": [
  {
   "cell_type": "code",
   "execution_count": null,
   "metadata": {},
   "outputs": [],
   "source": [
    "def printStatus(index, size):\n",
    "    print(\"{0}% Completed samples\".format((index / size) * 100))"
   ]
  },
  {
   "cell_type": "code",
   "execution_count": null,
   "metadata": {},
   "outputs": [],
   "source": [
    "from git import Repo"
   ]
  },
  {
   "cell_type": "code",
   "execution_count": null,
   "metadata": {},
   "outputs": [],
   "source": [
    "def getCommitsFrom(project):\n",
    "    projectPath = \"repositories\\\\\"+project\n",
    "    repository = Repo(projectPath)\n",
    "    repository.git.checkout(\"master\", \"-f\")\n",
    "    iterCommits = repository.iter_commits()\n",
    "    commits = []\n",
    "    for c in iterCommits:\n",
    "        commits.append(c)\n",
    "    return commits"
   ]
  },
  {
   "cell_type": "code",
   "execution_count": null,
   "metadata": {},
   "outputs": [],
   "source": [
    "def checkoutTo(project, sha):\n",
    "    projectPath = \"repositories\\\\\" + project\n",
    "    repository = Repo(projectPath)\n",
    "    repository.git.checkout(sha, \"-f\")"
   ]
  },
  {
   "cell_type": "code",
   "execution_count": null,
   "metadata": {},
   "outputs": [],
   "source": [
    "import os"
   ]
  },
  {
   "cell_type": "code",
   "execution_count": null,
   "metadata": {},
   "outputs": [],
   "source": [
    "def extractMetricsWithUnderstand(owner, project):\n",
    "    understandPath = \"understand\\\\SciTools\\\\bin\\\\pc-win64\\\\und\"\n",
    "    os.system('cmd /c \"{0} create -languages java {1}\"'.format(understandPath, project))\n",
    "    os.system('cmd /c \"{0} add {1} {2}\"'.format(understandPath, \"repositories\\\\\"+owner+\"\\\\\"+project, project))\n",
    "    os.system('cmd /c \"{0} settings -metrics all {1}\"'.format(understandPath, project))\n",
    "    os.system('cmd /c \"{0} settings -metricsOutputFile {1}.csv {1}\"'.format(understandPath, project))\n",
    "    os.system('cmd /c \"{0} -quiet analyze {1}\"'.format(understandPath, project))\n",
    "    os.system('cmd /c \"{0} metrics {1}\"'.format(understandPath, project))"
   ]
  },
  {
   "cell_type": "code",
   "execution_count": null,
   "metadata": {},
   "outputs": [],
   "source": [
    "import pandas as pd"
   ]
  },
  {
   "cell_type": "code",
   "execution_count": null,
   "metadata": {},
   "outputs": [],
   "source": [
    "def sumMetricsPerSample(owner, project):\n",
    "    print(project)\n",
    "    dataframe = pd.read_csv(project+\".csv\")\n",
    "    numberJavaFiles = 0 if dataframe.empty else dataframe[\"Kind\"].value_counts()[\"File\"]\n",
    "    dataframe = dataframe[dataframe[\"Kind\"] == \"Public Class\"]\n",
    "    dataframe[\"sample\"] = owner+\"\\\\\"+project\n",
    "    dataframe = dataframe.groupby(\"sample\").sum()\n",
    "    dataframe[\"numberJavaFiles\"] = numberJavaFiles\n",
    "    return dataframe"
   ]
  },
  {
   "cell_type": "code",
   "execution_count": null,
   "metadata": {},
   "outputs": [],
   "source": [
    "import fnmatch"
   ]
  },
  {
   "cell_type": "code",
   "execution_count": null,
   "metadata": {},
   "outputs": [],
   "source": [
    "def getUnderstandMetrics(owner, project):\n",
    "    extractMetricsWithUnderstand(owner, project)\n",
    "    metrics = sumMetricsPerSample(owner, project)\n",
    "    return metrics"
   ]
  },
  {
   "cell_type": "code",
   "execution_count": null,
   "metadata": {},
   "outputs": [],
   "source": [
    "def findPaths(pattern, path):\n",
    "    result = []\n",
    "    for root, dirs, files in os.walk(path):\n",
    "        if '.git' in root:\n",
    "            continue\n",
    "        for name in files:\n",
    "            if fnmatch.fnmatch(name, pattern):\n",
    "                result.append(os.path.join(root, name))\n",
    "    return result"
   ]
  },
  {
   "cell_type": "code",
   "execution_count": null,
   "metadata": {},
   "outputs": [],
   "source": [
    "pip install JPype1"
   ]
  },
  {
   "cell_type": "code",
   "execution_count": null,
   "metadata": {},
   "outputs": [],
   "source": [
    "# Boiler plate stuff to start the module\n",
    "import jpype\n",
    "from jpype import *\n",
    "from statistics import mean\n",
    "\n",
    "class Readability(object):\n",
    "    def __init__(self, project):\n",
    "        super(Readability, self).__init__()\n",
    "        self.project = project\n",
    "        self.startJVM()\n",
    "        self.readabilityPackage = JPackage(\"raykernel\").apps.readability.eval.Main\n",
    "        self.repositoryPath = \"repositories\\\\\"+project\n",
    "\n",
    "    def startJVM(self):\n",
    "        if not jpype.isJVMStarted():\n",
    "            jpype.startJVM(jpype.getDefaultJVMPath(), '-Djava.class.path=readability.jar',  '-ea', '-Xmx4096M', convertStrings=True)\n",
    "#             jpype.startJVM(classpath=\"readability.jar\", convertStrings=True)\n",
    "\n",
    "\n",
    "    def shutdownJVM(self):\n",
    "        jpype.shutdownJVM()\n",
    "\n",
    "    def getReadability(self):\n",
    "        javaFiles = findPaths(\"*.java\", self.repositoryPath)\n",
    "        if len(javaFiles) == 0: return 0\n",
    "        readability = 0\n",
    "        array = []\n",
    "        for javaFile in javaFiles:\n",
    "            try:\n",
    "                file = open(javaFile).read()\n",
    "            except:\n",
    "                file = \"\"\n",
    "            array.append(float(self.readabilityPackage.getReadability(file)))\n",
    "        return mean(array)"
   ]
  },
  {
   "cell_type": "code",
   "execution_count": null,
   "metadata": {},
   "outputs": [],
   "source": [
    "def getReadability(owner, project):\n",
    "    r = Readability(owner+\"\\\\\"+project)\n",
    "    readability = r.getReadability()\n",
    "    del r\n",
    "    return readability"
   ]
  },
  {
   "cell_type": "code",
   "execution_count": null,
   "metadata": {},
   "outputs": [],
   "source": [
    "def getMetrics(commit, owner, project):\n",
    "    metrics = getUnderstandMetrics(owner, project)\n",
    "    metrics[\"commitSha\"] = commit.hexsha\n",
    "    metrics[\"commitDate\"] = commit.authored_datetime\n",
    "    metrics[\"readability\"] = getReadability(owner, project)\n",
    "    return metrics"
   ]
  },
  {
   "cell_type": "code",
   "execution_count": null,
   "metadata": {},
   "outputs": [],
   "source": [
    "def deleteUnusedFiles(sample):\n",
    "    os.remove(sample + \".csv\")\n",
    "    os.remove(sample + \".udb\")"
   ]
  },
  {
   "cell_type": "code",
   "execution_count": null,
   "metadata": {},
   "outputs": [],
   "source": [
    "def createDirectoryIfNotExists(dirName):\n",
    "    if not os.path.exists(dirName):\n",
    "            os.makedirs(dirName)"
   ]
  },
  {
   "cell_type": "code",
   "execution_count": null,
   "metadata": {},
   "outputs": [],
   "source": [
    "def replaceSamplePathForWindowsLike(sample):\n",
    "    return sample.replace(\"/\", \"\\\\\")"
   ]
  },
  {
   "cell_type": "code",
   "execution_count": null,
   "metadata": {},
   "outputs": [],
   "source": [
    "def extractMetricsByCommit(sample, commit):\n",
    "    owner, project = sample.split(\"\\\\\")\n",
    "    checkoutTo(sample, commit.hexsha)\n",
    "    print(\"commit ======= \" + commit.hexsha)\n",
    "    metrics = getMetrics(commit, owner, project)\n",
    "    return metrics"
   ]
  },
  {
   "cell_type": "code",
   "execution_count": null,
   "metadata": {},
   "outputs": [],
   "source": [
    "def extractMetricsForAllCommits(commits, sample):\n",
    "    allCommits = pd.DataFrame()\n",
    "    for index, commit in enumerate(commits):\n",
    "        metrics = extractMetricsByCommit(sample, commit)\n",
    "        allCommits = allCommits.append(metrics, ignore_index=True)\n",
    "        print(\"{0}% of commits completed from sample {1}\".format((index/len(commits) * 100), sample))\n",
    "        allCommits.to_csv(\"metrics\\\\\"+sample+\".csv\", index=False)\n",
    "    return allCommits"
   ]
  },
  {
   "cell_type": "code",
   "execution_count": null,
   "metadata": {},
   "outputs": [],
   "source": [
    "def metricsByCommit(framework, samples):\n",
    "    \n",
    "    for index, sample in enumerate(samples):\n",
    "        sample = replaceSamplePathForWindowsLike(sample)\n",
    "        \n",
    "        printStatus(index+1, len(samples))\n",
    "        \n",
    "        createDirectoryIfNotExists(\"metrics\")\n",
    "        \n",
    "        commits = getCommitsFrom(sample)\n",
    "        commits.reverse()\n",
    "        \n",
    "        owner, project = sample.split(\"\\\\\")\n",
    "        \n",
    "        createDirectoryIfNotExists(\"metrics\\\\\"+owner)\n",
    "\n",
    "        ######### é so rodar, esta com a hash certa para o proximo\n",
    "#         for index, commit in enumerate(commits):\n",
    "#             if commit.hexsha == \"b6e4c433c0298ae765ef79143f6e67ebbf9a67d0\":\n",
    "#                 position = index\n",
    "#         commits = commits[position+1:]\n",
    "        \n",
    "        allCommits = extractMetricsForAllCommits(commits, sample)\n",
    "        \n",
    "        deleteUnusedFiles(project)\n",
    "        \n",
    "        allCommits.to_csv(\"metrics\\\\\"+sample+\".csv\", index=False)"
   ]
  },
  {
   "cell_type": "code",
   "execution_count": null,
   "metadata": {},
   "outputs": [],
   "source": [
    "androidSamples = pd.read_csv(\"..\\\\1-GettingQuestions\\\\samplesWithQuestions\\\\androidSamples.csv\")\n",
    "awsSamples = pd.read_csv(\"..\\\\1-GettingQuestions\\\\samplesWithQuestions\\\\awsSamples.csv\")\n",
    "azureSamples = pd.read_csv(\"..\\\\1-GettingQuestions\\\\samplesWithQuestions\\\\azureSamples.csv\")\n",
    "springSamples = pd.read_csv(\"..\\\\1-GettingQuestions\\\\samplesWithQuestions\\\\springSamples.csv\")"
   ]
  },
  {
   "cell_type": "code",
   "execution_count": null,
   "metadata": {},
   "outputs": [],
   "source": [
    "len(awsSamples[\"path\"])"
   ]
  },
  {
   "cell_type": "code",
   "execution_count": null,
   "metadata": {},
   "outputs": [],
   "source": [
    "len(azureSamples[\"path\"])"
   ]
  },
  {
   "cell_type": "code",
   "execution_count": null,
   "metadata": {},
   "outputs": [],
   "source": [
    "len(springSamples[\"path\"])"
   ]
  },
  {
   "cell_type": "code",
   "execution_count": null,
   "metadata": {},
   "outputs": [],
   "source": [
    "len(androidSamples[\"path\"])"
   ]
  },
  {
   "cell_type": "code",
   "execution_count": null,
   "metadata": {
    "scrolled": true
   },
   "outputs": [],
   "source": [
    "metricsByCommit(\"Android\", androidSamples[\"path\"])"
   ]
  },
  {
   "cell_type": "code",
   "execution_count": null,
   "metadata": {
    "scrolled": true
   },
   "outputs": [],
   "source": [
    "metricsByCommit(\"AWS\", awsSamples[\"path\"])"
   ]
  },
  {
   "cell_type": "code",
   "execution_count": null,
   "metadata": {
    "scrolled": true
   },
   "outputs": [],
   "source": [
    "metricsByCommit(\"Spring\", springSamples[\"path\"])"
   ]
  },
  {
   "cell_type": "code",
   "execution_count": null,
   "metadata": {
    "scrolled": true
   },
   "outputs": [],
   "source": [
    "metricsByCommit(\"Azure\", azureSamples[\"path\"])"
   ]
  }
 ],
 "metadata": {
  "kernelspec": {
   "display_name": "Python 3",
   "language": "python",
   "name": "python3"
  },
  "language_info": {
   "codemirror_mode": {
    "name": "ipython",
    "version": 3
   },
   "file_extension": ".py",
   "mimetype": "text/x-python",
   "name": "python",
   "nbconvert_exporter": "python",
   "pygments_lexer": "ipython3",
   "version": "3.8.3"
  }
 },
 "nbformat": 4,
 "nbformat_minor": 4
}
