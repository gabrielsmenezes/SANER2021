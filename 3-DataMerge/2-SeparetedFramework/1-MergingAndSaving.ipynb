{
 "cells": [
  {
   "cell_type": "code",
   "execution_count": null,
   "metadata": {},
   "outputs": [],
   "source": [
    "import pandas as pd"
   ]
  },
  {
   "cell_type": "markdown",
   "metadata": {},
   "source": [
    "Loading lists of samples"
   ]
  },
  {
   "cell_type": "code",
   "execution_count": null,
   "metadata": {},
   "outputs": [],
   "source": [
    "androidListSamples = pd.read_csv(\"..\\\\..\\\\1-GettingQuestions\\\\samplesWithQuestions\\\\androidSamples.csv\")\n",
    "awsListSamples = pd.read_csv(\"..\\\\..\\\\1-GettingQuestions\\\\samplesWithQuestions\\\\awsSamples.csv\")\n",
    "azureListSamples = pd.read_csv(\"..\\\\..\\\\1-GettingQuestions\\\\samplesWithQuestions\\\\azureSamples.csv\")\n",
    "springListSamples = pd.read_csv(\"..\\\\..\\\\1-GettingQuestions\\\\samplesWithQuestions\\\\springSamples.csv\")"
   ]
  },
  {
   "cell_type": "code",
   "execution_count": null,
   "metadata": {},
   "outputs": [],
   "source": [
    "def getSampleDataframe(name):\n",
    "    name = name.replace(\"/\", \"\\\\\")\n",
    "    sample = pd.read_csv(\"..\\\\..\\\\2-ExtractingMetrics\\\\metrics\\\\\"+name+\".csv\", parse_dates=True)\n",
    "    sampleAverage = sample[sample[\"type\"] == \"average\"]\n",
    "    sampleAverage[\"numberJavaFiles\"] = sample[sample[\"type\"] == \"absolute\"][\"numberJavaFiles\"].values\n",
    "    sampleAverage[\"CountDeclClass\"] = sample[sample[\"type\"] == \"absolute\"][\"CountDeclClass\"].values\n",
    "    sampleAverage[\"readability\"] = (sampleAverage[\"readability\"] * sampleAverage[\"numberJavaFiles\"]) / sampleAverage[\"CountDeclClass\"]\n",
    "    sampleAverage['commitDate'] = pd.to_datetime(sampleAverage['commitDate'].astype(str).str[:-6])\n",
    "    sampleAverage.set_index(\"commitDate\", inplace=True)\n",
    "    sampleAverage.dropna(axis=1, how=\"all\", inplace=True)\n",
    "    sampleAverage = sampleAverage.groupby([(sampleAverage.index.year), (sampleAverage.index.month)]).mean()\n",
    "    generic = pd.DataFrame(index=pd.date_range(start=\"2013-04-15\", end=\"2020-09-30\", freq=\"M\", name=\"commitDate\"))\n",
    "    generic = generic.groupby([(generic.index.year), (generic.index.month)]).sum()\n",
    "    return pd.concat([generic, sampleAverage], axis=1).fillna(method='ffill').dropna(how=\"all\")"
   ]
  },
  {
   "cell_type": "markdown",
   "metadata": {},
   "source": [
    "For each framework, load metrics per samples and group by month"
   ]
  },
  {
   "cell_type": "code",
   "execution_count": null,
   "metadata": {
    "scrolled": true
   },
   "outputs": [],
   "source": [
    "androidSamples = pd.concat([getSampleDataframe(sample) for sample in androidListSamples[\"path\"]], axis=0)\n",
    "awsSamples = pd.concat([getSampleDataframe(sample) for sample in awsListSamples[\"path\"]], axis=0)\n",
    "azureSamples = pd.concat([getSampleDataframe(sample) for sample in azureListSamples[\"path\"]], axis=0)\n",
    "springSamples = pd.concat([getSampleDataframe(sample) for sample in springListSamples[\"path\"]], axis=0)"
   ]
  },
  {
   "cell_type": "code",
   "execution_count": null,
   "metadata": {},
   "outputs": [],
   "source": [
    "androidSamples = androidSamples.groupby(level=[0,1]).mean()\n",
    "awsSamples = awsSamples.groupby(level=[0,1]).mean()\n",
    "azureSamples = azureSamples.groupby(level=[0,1]).mean()\n",
    "springSamples = springSamples.groupby(level=[0,1]).mean()"
   ]
  },
  {
   "cell_type": "code",
   "execution_count": null,
   "metadata": {},
   "outputs": [],
   "source": [
    "def generateStats(dataframe, framework):\n",
    "    stats = pd.DataFrame(index = dataframe.min().index)\n",
    "    stats[\"min\"] = dataframe.min()\n",
    "    stats[\"max\"] = dataframe.max()\n",
    "    stats[\"avg\"] = dataframe.mean()\n",
    "    stats[\"med\"] = dataframe.median()\n",
    "    stats[\"std\"] = dataframe.std()\n",
    "    stats.to_csv(framework+\"_stats.csv\")"
   ]
  },
  {
   "cell_type": "markdown",
   "metadata": {},
   "source": [
    "Obtaining stats for each framework"
   ]
  },
  {
   "cell_type": "code",
   "execution_count": null,
   "metadata": {},
   "outputs": [],
   "source": [
    "Obtaining statsgenerateStats(androidSamples, \"android\")\n",
    "generateStats(awsSamples, \"aws\")\n",
    "generateStats(azureSamples, \"azure\")\n",
    "generateStats(springSamples, \"spring\")"
   ]
  },
  {
   "cell_type": "markdown",
   "metadata": {},
   "source": [
    "Loading questions"
   ]
  },
  {
   "cell_type": "code",
   "execution_count": null,
   "metadata": {},
   "outputs": [],
   "source": [
    "androidQuestions = pd.read_csv(\"..\\\\..\\\\1-GettingQuestions\\\\questions\\\\androidQuestions.csv\")\n",
    "awsQuestions = pd.read_csv(\"..\\\\..\\\\1-GettingQuestions\\\\questions\\\\awsQuestions.csv\")\n",
    "azureQuestions = pd.read_csv(\"..\\\\..\\\\1-GettingQuestions\\\\questions\\\\azureQuestions.csv\")\n",
    "springQuestions = pd.read_csv(\"..\\\\..\\\\1-GettingQuestions\\\\questions\\\\springQuestions.csv\")"
   ]
  },
  {
   "cell_type": "code",
   "execution_count": null,
   "metadata": {},
   "outputs": [],
   "source": [
    "def groupBy(dataframe):\n",
    "    dataframe['creationDate'] = pd.to_datetime(dataframe['creationDate'])\n",
    "    dataframe.set_index(dataframe['creationDate'], inplace=True)\n",
    "    dataframe[\"questions\"] = 1\n",
    "    del dataframe['creationDate']\n",
    "    return dataframe.groupby([(dataframe.index.year), (dataframe.index.month)]).sum()"
   ]
  },
  {
   "cell_type": "code",
   "execution_count": null,
   "metadata": {},
   "outputs": [],
   "source": [
    "androidQuestions = groupBy(androidQuestions)\n",
    "awsQuestions = groupBy(awsQuestions)\n",
    "azureQuestions = groupBy(azureQuestions)\n",
    "springQuestions = groupBy(springQuestions)"
   ]
  },
  {
   "cell_type": "code",
   "execution_count": null,
   "metadata": {},
   "outputs": [],
   "source": [
    "androidQuestions[\"questions\"]=androidQuestions[\"questions\"].cumsum()\n",
    "awsQuestions[\"questions\"]=awsQuestions[\"questions\"].cumsum()\n",
    "azureQuestions[\"questions\"]=azureQuestions[\"questions\"].cumsum()\n",
    "springQuestions[\"questions\"]=springQuestions[\"questions\"].cumsum()"
   ]
  },
  {
   "cell_type": "markdown",
   "metadata": {},
   "source": [
    "Merging metrics and questions"
   ]
  },
  {
   "cell_type": "code",
   "execution_count": null,
   "metadata": {
    "scrolled": true
   },
   "outputs": [],
   "source": [
    "def merging(dataframe1, dataframe2):\n",
    "    df = pd.concat([dataframe1, dataframe2], axis=1)\n",
    "    df.fillna(method=\"ffill\", inplace=True)\n",
    "    df.fillna(0, inplace=True)\n",
    "    return df"
   ]
  },
  {
   "cell_type": "code",
   "execution_count": null,
   "metadata": {},
   "outputs": [],
   "source": [
    "android = merging(androidSamples, androidQuestions)\n",
    "aws = merging(awsSamples, awsQuestions).drop((2020, 9))\n",
    "azure = merging(azureSamples, azureQuestions).drop((2020, 9))\n",
    "spring = merging(springSamples, springQuestions).drop((2020, 9))"
   ]
  },
  {
   "cell_type": "markdown",
   "metadata": {},
   "source": [
    "Saving"
   ]
  },
  {
   "cell_type": "code",
   "execution_count": null,
   "metadata": {},
   "outputs": [],
   "source": [
    "def save(dataframe, framework):\n",
    "    dataframe.to_csv(framework+\".csv\")"
   ]
  },
  {
   "cell_type": "code",
   "execution_count": null,
   "metadata": {},
   "outputs": [],
   "source": [
    "save(android, \"android\")\n",
    "save(aws, \"aws\")\n",
    "save(azure, \"azure\")\n",
    "save(spring, \"spring\")"
   ]
  }
 ],
 "metadata": {
  "kernelspec": {
   "display_name": "Python 3",
   "language": "python",
   "name": "python3"
  },
  "language_info": {
   "codemirror_mode": {
    "name": "ipython",
    "version": 3
   },
   "file_extension": ".py",
   "mimetype": "text/x-python",
   "name": "python",
   "nbconvert_exporter": "python",
   "pygments_lexer": "ipython3",
   "version": "3.8.3"
  }
 },
 "nbformat": 4,
 "nbformat_minor": 4
}
