{
 "cells": [
  {
   "cell_type": "markdown",
   "metadata": {},
   "source": [
    "# Loading data"
   ]
  },
  {
   "cell_type": "code",
   "execution_count": 65,
   "metadata": {},
   "outputs": [],
   "source": [
    "import pandas as pd"
   ]
  },
  {
   "cell_type": "markdown",
   "metadata": {},
   "source": [
    "## Loading metrics"
   ]
  },
  {
   "cell_type": "code",
   "execution_count": 66,
   "metadata": {},
   "outputs": [],
   "source": [
    "androidListSamples = pd.read_csv(\"..\\\\..\\\\1-GettingQuestions\\\\samplesWithQuestions\\\\androidSamples.csv\")\n",
    "awsListSamples = pd.read_csv(\"..\\\\..\\\\1-GettingQuestions\\\\samplesWithQuestions\\\\awsSamples.csv\")\n",
    "azureListSamples = pd.read_csv(\"..\\\\..\\\\1-GettingQuestions\\\\samplesWithQuestions\\\\azureSamples.csv\")\n",
    "springListSamples = pd.read_csv(\"..\\\\..\\\\1-GettingQuestions\\\\samplesWithQuestions\\\\springSamples.csv\")"
   ]
  },
  {
   "cell_type": "code",
   "execution_count": 67,
   "metadata": {},
   "outputs": [
    {
     "data": {
      "text/plain": [
       "84"
      ]
     },
     "execution_count": 67,
     "metadata": {},
     "output_type": "execute_result"
    }
   ],
   "source": [
    "len(androidListSamples)"
   ]
  },
  {
   "cell_type": "code",
   "execution_count": 68,
   "metadata": {},
   "outputs": [
    {
     "data": {
      "text/plain": [
       "8"
      ]
     },
     "execution_count": 68,
     "metadata": {},
     "output_type": "execute_result"
    }
   ],
   "source": [
    "len(awsListSamples)"
   ]
  },
  {
   "cell_type": "code",
   "execution_count": 69,
   "metadata": {},
   "outputs": [
    {
     "data": {
      "text/plain": [
       "31"
      ]
     },
     "execution_count": 69,
     "metadata": {},
     "output_type": "execute_result"
    }
   ],
   "source": [
    "len(azureListSamples)"
   ]
  },
  {
   "cell_type": "code",
   "execution_count": 70,
   "metadata": {},
   "outputs": [
    {
     "data": {
      "text/plain": [
       "36"
      ]
     },
     "execution_count": 70,
     "metadata": {},
     "output_type": "execute_result"
    }
   ],
   "source": [
    "len(springListSamples)"
   ]
  },
  {
   "cell_type": "code",
   "execution_count": 71,
   "metadata": {},
   "outputs": [
    {
     "data": {
      "text/plain": [
       "159"
      ]
     },
     "execution_count": 71,
     "metadata": {},
     "output_type": "execute_result"
    }
   ],
   "source": [
    "len(androidListSamples) + len(awsListSamples) + len(azureListSamples) + len(springListSamples)"
   ]
  },
  {
   "cell_type": "markdown",
   "metadata": {},
   "source": [
    "### 159 Code Samples"
   ]
  },
  {
   "cell_type": "code",
   "execution_count": 72,
   "metadata": {},
   "outputs": [],
   "source": [
    "def dealWithData(listSamples):    \n",
    "    listSamples[\"windowsPath\"] = listSamples[\"path\"].str.replace(\"/\", \"\\\\\")\n",
    "    \n",
    "    allSamples = [pd.read_csv(\"..\\\\..\\\\2-ExtractingMetrics\\\\metrics\\\\\"+sample+\".csv\", parse_dates=True) for sample in listSamples[\"windowsPath\"]]\n",
    "\n",
    "    allSamplesMetrics = pd.concat(allSamples, axis=0, ignore_index=True)\n",
    "\n",
    "    allSamplesMetrics['commitDate'] = pd.to_datetime(allSamplesMetrics['commitDate'].astype(str).str[:-6])\n",
    "\n",
    "    allSamplesMetrics.sort_values(by=\"commitDate\", inplace=True)\n",
    "    \n",
    "    print(allSamplesMetrics.shape)\n",
    "        \n",
    "    return allSamplesMetrics"
   ]
  },
  {
   "cell_type": "code",
   "execution_count": 73,
   "metadata": {},
   "outputs": [
    {
     "name": "stdout",
     "output_type": "stream",
     "text": [
      "(14139, 65)\n",
      "(723, 65)\n",
      "(2799, 65)\n",
      "(18708, 65)\n"
     ]
    }
   ],
   "source": [
    "androidSamples = dealWithData(androidListSamples)\n",
    "awsSamples = dealWithData(awsListSamples)\n",
    "azureSamples = dealWithData(azureListSamples)\n",
    "springSamples = dealWithData(springListSamples)"
   ]
  },
  {
   "cell_type": "code",
   "execution_count": 74,
   "metadata": {},
   "outputs": [
    {
     "data": {
      "text/plain": [
       "12123.0"
      ]
     },
     "execution_count": 74,
     "metadata": {},
     "output_type": "execute_result"
    }
   ],
   "source": [
    "(androidSamples.shape[0] + awsSamples.shape[0] +  azureSamples.shape[0] +  springSamples.shape[0])/3"
   ]
  },
  {
   "cell_type": "code",
   "execution_count": 75,
   "metadata": {
    "scrolled": true
   },
   "outputs": [],
   "source": [
    "def addOtherMetrics(dataframeDestiny, dataframeSource):\n",
    "    dataframeDestiny[\"numberJavaFiles\"] = dataframeSource[dataframeSource[\"type\"] == \"absolute\"][\"numberJavaFiles\"].values\n",
    "    dataframeDestiny[\"CountDeclClass\"] = dataframeSource[dataframeSource[\"type\"] == \"absolute\"][\"CountDeclClass\"].values"
   ]
  },
  {
   "cell_type": "markdown",
   "metadata": {},
   "source": [
    "Getting only average"
   ]
  },
  {
   "cell_type": "code",
   "execution_count": 76,
   "metadata": {},
   "outputs": [
    {
     "name": "stderr",
     "output_type": "stream",
     "text": [
      "<ipython-input-75-f7169c94c265>:2: SettingWithCopyWarning: \n",
      "A value is trying to be set on a copy of a slice from a DataFrame.\n",
      "Try using .loc[row_indexer,col_indexer] = value instead\n",
      "\n",
      "See the caveats in the documentation: https://pandas.pydata.org/pandas-docs/stable/user_guide/indexing.html#returning-a-view-versus-a-copy\n",
      "  dataframeDestiny[\"numberJavaFiles\"] = dataframeSource[dataframeSource[\"type\"] == \"absolute\"][\"numberJavaFiles\"].values\n",
      "<ipython-input-75-f7169c94c265>:3: SettingWithCopyWarning: \n",
      "A value is trying to be set on a copy of a slice from a DataFrame.\n",
      "Try using .loc[row_indexer,col_indexer] = value instead\n",
      "\n",
      "See the caveats in the documentation: https://pandas.pydata.org/pandas-docs/stable/user_guide/indexing.html#returning-a-view-versus-a-copy\n",
      "  dataframeDestiny[\"CountDeclClass\"] = dataframeSource[dataframeSource[\"type\"] == \"absolute\"][\"CountDeclClass\"].values\n"
     ]
    }
   ],
   "source": [
    "androidSamplesAverage = androidSamples[androidSamples[\"type\"] == \"average\"]\n",
    "addOtherMetrics(androidSamplesAverage, androidSamples)\n",
    "\n",
    "awsSamplesAverage = awsSamples[awsSamples[\"type\"] == \"average\"]\n",
    "addOtherMetrics(awsSamplesAverage, awsSamples)\n",
    "\n",
    "azureSamplesAverage = azureSamples[azureSamples[\"type\"] == \"average\"]\n",
    "addOtherMetrics(azureSamplesAverage, azureSamples)\n",
    "\n",
    "springSamplesAverage = springSamples[springSamples[\"type\"] == \"average\"]\n",
    "addOtherMetrics(springSamplesAverage, springSamples)"
   ]
  },
  {
   "cell_type": "code",
   "execution_count": 77,
   "metadata": {},
   "outputs": [],
   "source": [
    "def transformReadabilityPerFileToReadabilityPerClass(dataframe):\n",
    "    dataframe[\"readability\"] = (dataframe[\"readability\"] * dataframe[\"numberJavaFiles\"]) / dataframe[\"CountDeclClass\"]"
   ]
  },
  {
   "cell_type": "code",
   "execution_count": 78,
   "metadata": {},
   "outputs": [
    {
     "name": "stderr",
     "output_type": "stream",
     "text": [
      "<ipython-input-77-6fba051f18ca>:2: SettingWithCopyWarning: \n",
      "A value is trying to be set on a copy of a slice from a DataFrame.\n",
      "Try using .loc[row_indexer,col_indexer] = value instead\n",
      "\n",
      "See the caveats in the documentation: https://pandas.pydata.org/pandas-docs/stable/user_guide/indexing.html#returning-a-view-versus-a-copy\n",
      "  dataframe[\"readability\"] = (dataframe[\"readability\"] * dataframe[\"numberJavaFiles\"]) / dataframe[\"CountDeclClass\"]\n"
     ]
    }
   ],
   "source": [
    "transformReadabilityPerFileToReadabilityPerClass(androidSamplesAverage)\n",
    "transformReadabilityPerFileToReadabilityPerClass(awsSamplesAverage)\n",
    "transformReadabilityPerFileToReadabilityPerClass(azureSamplesAverage)\n",
    "transformReadabilityPerFileToReadabilityPerClass(springSamplesAverage)"
   ]
  },
  {
   "cell_type": "code",
   "execution_count": 79,
   "metadata": {},
   "outputs": [],
   "source": [
    "def generateStats(dataframe, framework):\n",
    "    stats = pd.DataFrame(index = dataframe.min().index)\n",
    "    stats[\"min\"] = dataframe.min()\n",
    "    stats[\"max\"] = dataframe.max()\n",
    "    stats[\"avg\"] = dataframe.mean()\n",
    "    stats[\"med\"] = dataframe.median()\n",
    "    stats[\"std\"] = dataframe.std()\n",
    "    stats.to_csv(framework+\"_stats.csv\")"
   ]
  },
  {
   "cell_type": "code",
   "execution_count": 80,
   "metadata": {},
   "outputs": [],
   "source": [
    "generateStats(androidSamplesAverage, \"android\")\n",
    "generateStats(awsSamplesAverage, \"aws\")\n",
    "generateStats(azureSamplesAverage, \"azure\")\n",
    "generateStats(springSamplesAverage, \"spring\")"
   ]
  },
  {
   "cell_type": "markdown",
   "metadata": {},
   "source": [
    "Questions"
   ]
  },
  {
   "cell_type": "code",
   "execution_count": 81,
   "metadata": {},
   "outputs": [],
   "source": [
    "def groupBy(dataframe):\n",
    "    dataframe.set_index(dataframe[\"commitDate\"], inplace=True)\n",
    "    del dataframe[\"commitDate\"]\n",
    "    return dataframe.groupby([(dataframe.index.year), (dataframe.index.month)]).mean()"
   ]
  },
  {
   "cell_type": "code",
   "execution_count": 82,
   "metadata": {},
   "outputs": [],
   "source": [
    "androidMetrics = groupBy(androidSamplesAverage)\n",
    "awsMetrics = groupBy(awsSamplesAverage)\n",
    "azureMetrics = groupBy(azureSamplesAverage)\n",
    "springMetrics = groupBy(springSamplesAverage)"
   ]
  },
  {
   "cell_type": "markdown",
   "metadata": {},
   "source": [
    "## Loading SO questions"
   ]
  },
  {
   "cell_type": "code",
   "execution_count": 83,
   "metadata": {},
   "outputs": [],
   "source": [
    "androidQuestions = pd.read_csv(\"..\\\\..\\\\1-GettingQuestions\\\\questions\\\\androidQuestions.csv\")\n",
    "awsQuestions = pd.read_csv(\"..\\\\..\\\\1-GettingQuestions\\\\questions\\\\awsQuestions.csv\")\n",
    "azureQuestions = pd.read_csv(\"..\\\\..\\\\1-GettingQuestions\\\\questions\\\\azureQuestions.csv\")\n",
    "springQuestions = pd.read_csv(\"..\\\\..\\\\1-GettingQuestions\\\\questions\\\\springQuestions.csv\")"
   ]
  },
  {
   "cell_type": "code",
   "execution_count": 84,
   "metadata": {},
   "outputs": [],
   "source": [
    "def groupBy(dataframe):\n",
    "    dataframe['creationDate'] = pd.to_datetime(dataframe['creationDate'])\n",
    "    dataframe.sort_values(by=\"creationDate\", inplace=True)\n",
    "    dataframe.set_index(dataframe['creationDate'], inplace=True)\n",
    "    dataframe[\"questions\"] = 1\n",
    "    del dataframe[\"ownerUserId\"]\n",
    "    del dataframe[\"postTypeId\"]\n",
    "    del dataframe[\"acceptedAnswerId\"]\n",
    "    del dataframe[\"id\"]\n",
    "    return dataframe.groupby([(dataframe.index.year), (dataframe.index.month)]).sum()"
   ]
  },
  {
   "cell_type": "code",
   "execution_count": 85,
   "metadata": {},
   "outputs": [],
   "source": [
    "androidQuestions = groupBy(androidQuestions)\n",
    "awsQuestions = groupBy(awsQuestions)\n",
    "azureQuestions = groupBy(azureQuestions)\n",
    "springQuestions = groupBy(springQuestions)"
   ]
  },
  {
   "cell_type": "markdown",
   "metadata": {},
   "source": [
    "## Merging the data"
   ]
  },
  {
   "cell_type": "code",
   "execution_count": 86,
   "metadata": {
    "scrolled": true
   },
   "outputs": [],
   "source": [
    "def merging(dataframe1, dataframe2):\n",
    "    df = pd.concat([dataframe1, dataframe2], axis=1)\n",
    "    df[\"questions\"].fillna(0, inplace=True)\n",
    "    df.fillna(method=\"ffill\", inplace=True)\n",
    "    return df"
   ]
  },
  {
   "cell_type": "code",
   "execution_count": 87,
   "metadata": {},
   "outputs": [],
   "source": [
    "android = merging(androidMetrics, androidQuestions)\n",
    "aws = merging(awsMetrics, awsQuestions)\n",
    "azure = merging(azureMetrics, azureQuestions)\n",
    "spring = merging(springMetrics, springQuestions)"
   ]
  },
  {
   "cell_type": "markdown",
   "metadata": {},
   "source": [
    "## Saving"
   ]
  },
  {
   "cell_type": "code",
   "execution_count": 91,
   "metadata": {},
   "outputs": [],
   "source": [
    "def save(dataframe, framework):\n",
    "    dataframe.to_csv(framework+\".csv\")"
   ]
  },
  {
   "cell_type": "code",
   "execution_count": 92,
   "metadata": {},
   "outputs": [],
   "source": [
    "save(android, \"android\")\n",
    "save(aws, \"aws\")\n",
    "save(azure, \"azure\")\n",
    "save(spring, \"spring\")"
   ]
  }
 ],
 "metadata": {
  "kernelspec": {
   "display_name": "Python 3",
   "language": "python",
   "name": "python3"
  },
  "language_info": {
   "codemirror_mode": {
    "name": "ipython",
    "version": 3
   },
   "file_extension": ".py",
   "mimetype": "text/x-python",
   "name": "python",
   "nbconvert_exporter": "python",
   "pygments_lexer": "ipython3",
   "version": "3.8.3"
  }
 },
 "nbformat": 4,
 "nbformat_minor": 4
}
