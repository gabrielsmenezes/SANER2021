{
 "cells": [
  {
   "cell_type": "markdown",
   "metadata": {},
   "source": [
    "# Loading data"
   ]
  },
  {
   "cell_type": "code",
   "execution_count": 1,
   "metadata": {},
   "outputs": [],
   "source": [
    "import pandas as pd"
   ]
  },
  {
   "cell_type": "markdown",
   "metadata": {},
   "source": [
    "## Loading metrics"
   ]
  },
  {
   "cell_type": "code",
   "execution_count": 2,
   "metadata": {},
   "outputs": [],
   "source": [
    "androidListSamples = pd.read_csv(\"..\\\\1-GettingQuestions\\\\samplesWithQuestions\\\\androidSamples.csv\")\n",
    "awsListSamples = pd.read_csv(\"..\\\\1-GettingQuestions\\\\samplesWithQuestions\\\\awsSamples.csv\")\n",
    "azureListSamples = pd.read_csv(\"..\\\\1-GettingQuestions\\\\samplesWithQuestions\\\\azureSamples.csv\")\n",
    "springListSamples = pd.read_csv(\"..\\\\1-GettingQuestions\\\\samplesWithQuestions\\\\springSamples.csv\")"
   ]
  },
  {
   "cell_type": "code",
   "execution_count": 3,
   "metadata": {},
   "outputs": [
    {
     "data": {
      "text/plain": [
       "84"
      ]
     },
     "execution_count": 3,
     "metadata": {},
     "output_type": "execute_result"
    }
   ],
   "source": [
    "len(androidListSamples)"
   ]
  },
  {
   "cell_type": "code",
   "execution_count": 4,
   "metadata": {},
   "outputs": [
    {
     "data": {
      "text/plain": [
       "8"
      ]
     },
     "execution_count": 4,
     "metadata": {},
     "output_type": "execute_result"
    }
   ],
   "source": [
    "len(awsListSamples)"
   ]
  },
  {
   "cell_type": "code",
   "execution_count": 5,
   "metadata": {},
   "outputs": [
    {
     "data": {
      "text/plain": [
       "31"
      ]
     },
     "execution_count": 5,
     "metadata": {},
     "output_type": "execute_result"
    }
   ],
   "source": [
    "len(azureListSamples)"
   ]
  },
  {
   "cell_type": "code",
   "execution_count": 6,
   "metadata": {},
   "outputs": [
    {
     "data": {
      "text/plain": [
       "36"
      ]
     },
     "execution_count": 6,
     "metadata": {},
     "output_type": "execute_result"
    }
   ],
   "source": [
    "len(springListSamples)"
   ]
  },
  {
   "cell_type": "code",
   "execution_count": 7,
   "metadata": {},
   "outputs": [
    {
     "data": {
      "text/plain": [
       "159"
      ]
     },
     "execution_count": 7,
     "metadata": {},
     "output_type": "execute_result"
    }
   ],
   "source": [
    "len(androidListSamples) + len(awsListSamples) + len(azureListSamples) + len(springListSamples)"
   ]
  },
  {
   "cell_type": "markdown",
   "metadata": {},
   "source": [
    "### 159 Code Samples"
   ]
  },
  {
   "cell_type": "code",
   "execution_count": 8,
   "metadata": {},
   "outputs": [],
   "source": [
    "def dealWithData(listSamples):    \n",
    "    listSamples[\"windowsPath\"] = listSamples[\"path\"].str.replace(\"/\", \"\\\\\")\n",
    "    \n",
    "    allSamples = [pd.read_csv(\"..\\\\2-ExtractingMetrics\\\\metrics\\\\\"+sample+\".csv\", parse_dates=True) for sample in listSamples[\"windowsPath\"]]\n",
    "\n",
    "    allSamplesMetrics = pd.concat(allSamples, axis=0, ignore_index=True)\n",
    "\n",
    "    del allSamplesMetrics[\"Kind\"]\n",
    "    del allSamplesMetrics[\"Name\"]\n",
    "\n",
    "    allSamplesMetrics['commitDate'] = pd.to_datetime(allSamplesMetrics['commitDate'].astype(str).str[:-6])\n",
    "\n",
    "    allSamplesMetrics.sort_values(by=\"commitDate\", inplace=True)\n",
    "    \n",
    "    print(allSamplesMetrics.shape)\n",
    "        \n",
    "    return allSamplesMetrics"
   ]
  },
  {
   "cell_type": "code",
   "execution_count": 9,
   "metadata": {},
   "outputs": [
    {
     "name": "stdout",
     "output_type": "stream",
     "text": [
      "(4710, 64)\n",
      "(241, 64)\n",
      "(933, 64)\n",
      "(6236, 64)\n"
     ]
    }
   ],
   "source": [
    "androidSamples = dealWithData(androidListSamples)\n",
    "awsSamples = dealWithData(awsListSamples)\n",
    "azureSamples = dealWithData(azureListSamples)\n",
    "springSamples = dealWithData(springListSamples)"
   ]
  },
  {
   "cell_type": "code",
   "execution_count": 10,
   "metadata": {},
   "outputs": [
    {
     "data": {
      "text/plain": [
       "12120"
      ]
     },
     "execution_count": 10,
     "metadata": {},
     "output_type": "execute_result"
    }
   ],
   "source": [
    "androidSamples.shape[0] + awsSamples.shape[0] +  azureSamples.shape[0] +  springSamples.shape[0]"
   ]
  },
  {
   "cell_type": "markdown",
   "metadata": {},
   "source": [
    "Commits"
   ]
  },
  {
   "cell_type": "code",
   "execution_count": 11,
   "metadata": {},
   "outputs": [
    {
     "data": {
      "text/plain": [
       "(12120, 64)"
      ]
     },
     "execution_count": 11,
     "metadata": {},
     "output_type": "execute_result"
    }
   ],
   "source": [
    "allMetrics = pd.concat([androidSamples, awsSamples, azureSamples, springSamples], axis=0)\n",
    "allMetrics.shape"
   ]
  },
  {
   "cell_type": "code",
   "execution_count": 12,
   "metadata": {},
   "outputs": [],
   "source": [
    "stats = pd.DataFrame(index = allMetrics.min().index)"
   ]
  },
  {
   "cell_type": "code",
   "execution_count": 13,
   "metadata": {},
   "outputs": [],
   "source": [
    "del allMetrics[\"CountDeclExecutableUnit\"]\n",
    "del allMetrics[\"CountDeclFile\"]\n",
    "del allMetrics[\"CountDeclFunction\"]\n",
    "del allMetrics[\"CountInput\"]\n",
    "del allMetrics[\"CountOutput\"]\n",
    "del allMetrics[\"CountPath\"]\n",
    "del allMetrics[\"CountPathLog\"]\n",
    "del allMetrics[\"Cyclomatic\"]\n",
    "del allMetrics[\"CyclomaticModified\"]\n",
    "del allMetrics[\"CyclomaticStrict\"]\n",
    "del allMetrics[\"Essential\"]\n",
    "del allMetrics[\"Knots\"]\n",
    "del allMetrics[\"MinEssentialKnots\"]\n",
    "del allMetrics[\"MaxEssentialKnots\"]\n",
    "del allMetrics[\"CountDeclClass\"]"
   ]
  },
  {
   "cell_type": "markdown",
   "metadata": {},
   "source": [
    "Total loc for all commit"
   ]
  },
  {
   "cell_type": "code",
   "execution_count": 14,
   "metadata": {},
   "outputs": [
    {
     "data": {
      "text/plain": [
       "16997958.0"
      ]
     },
     "execution_count": 14,
     "metadata": {},
     "output_type": "execute_result"
    }
   ],
   "source": [
    "allMetrics[\"CountLineCode\"].sum()"
   ]
  },
  {
   "cell_type": "markdown",
   "metadata": {},
   "source": [
    "### Min"
   ]
  },
  {
   "cell_type": "code",
   "execution_count": 15,
   "metadata": {
    "scrolled": true
   },
   "outputs": [
    {
     "name": "stdout",
     "output_type": "stream",
     "text": [
      "AvgCyclomatic                                                           1\n",
      "AvgCyclomaticModified                                                   1\n",
      "AvgCyclomaticStrict                                                     1\n",
      "AvgEssential                                                            1\n",
      "AvgLine                                                                 3\n",
      "AvgLineBlank                                                            0\n",
      "AvgLineCode                                                             3\n",
      "AvgLineComment                                                          0\n",
      "CountClassBase                                                          1\n",
      "CountClassCoupled                                                       1\n",
      "CountClassCoupledModified                                               0\n",
      "CountClassDerived                                                       0\n",
      "CountDeclClassMethod                                                    0\n",
      "CountDeclClassVariable                                                  0\n",
      "CountDeclInstanceMethod                                                 0\n",
      "CountDeclInstanceVariable                                               0\n",
      "CountDeclMethod                                                         1\n",
      "CountDeclMethodAll                                                     13\n",
      "CountDeclMethodDefault                                                  0\n",
      "CountDeclMethodPrivate                                                  0\n",
      "CountDeclMethodProtected                                                0\n",
      "CountDeclMethodPublic                                                   0\n",
      "CountLine                                                               8\n",
      "CountLineBlank                                                          0\n",
      "CountLineCode                                                           7\n",
      "CountLineCodeDecl                                                       3\n",
      "CountLineCodeExe                                                        1\n",
      "CountLineComment                                                        0\n",
      "CountSemicolon                                                          1\n",
      "CountStmt                                                               4\n",
      "CountStmtDecl                                                           2\n",
      "CountStmtExe                                                            1\n",
      "MaxCyclomatic                                                           1\n",
      "MaxCyclomaticModified                                                   1\n",
      "MaxCyclomaticStrict                                                     1\n",
      "MaxEssential                                                            1\n",
      "MaxInheritanceTree                                                      1\n",
      "MaxNesting                                                              0\n",
      "PercentLackOfCohesion                                                   0\n",
      "PercentLackOfCohesionModified                                           0\n",
      "RatioCommentToCode                                                      0\n",
      "SumCyclomatic                                                           1\n",
      "SumCyclomaticModified                                                   1\n",
      "SumCyclomaticStrict                                                     1\n",
      "SumEssential                                                            1\n",
      "numberJavaFiles                                                         1\n",
      "commitSha                        000174e5c9e05d119930b2a13db5aefb837209ea\n",
      "commitDate                                            2013-04-15 08:50:04\n",
      "readability                                                             0\n",
      "dtype: object\n"
     ]
    }
   ],
   "source": [
    "with pd.option_context('display.max_rows', None, 'display.max_columns', None):  # more options can be specified also\n",
    "    print(allMetrics.min())\n",
    "stats[\"min\"] = allMetrics.min()"
   ]
  },
  {
   "cell_type": "markdown",
   "metadata": {},
   "source": [
    "### Max"
   ]
  },
  {
   "cell_type": "code",
   "execution_count": 16,
   "metadata": {
    "scrolled": true
   },
   "outputs": [
    {
     "name": "stdout",
     "output_type": "stream",
     "text": [
      "AvgCyclomatic                                                         217\n",
      "AvgCyclomaticModified                                                 199\n",
      "AvgCyclomaticStrict                                                   232\n",
      "AvgEssential                                                          141\n",
      "AvgLine                                                              1400\n",
      "AvgLineBlank                                                          253\n",
      "AvgLineCode                                                          1240\n",
      "AvgLineComment                                                        198\n",
      "CountClassBase                                                        338\n",
      "CountClassCoupled                                                    1422\n",
      "CountClassCoupledModified                                             757\n",
      "CountClassDerived                                                       8\n",
      "CountDeclClassMethod                                                  186\n",
      "CountDeclClassVariable                                                508\n",
      "CountDeclInstanceMethod                                               977\n",
      "CountDeclInstanceVariable                                             456\n",
      "CountDeclMethod                                                      1100\n",
      "CountDeclMethodAll                                                   4471\n",
      "CountDeclMethodDefault                                                204\n",
      "CountDeclMethodPrivate                                                424\n",
      "CountDeclMethodProtected                                               93\n",
      "CountDeclMethodPublic                                                 630\n",
      "CountLine                                                          240577\n",
      "CountLineBlank                                                       3052\n",
      "CountLineCode                                                      178316\n",
      "CountLineCodeDecl                                                  172563\n",
      "CountLineCodeExe                                                   171034\n",
      "CountLineComment                                                    61590\n",
      "CountSemicolon                                                     169619\n",
      "CountStmt                                                          172943\n",
      "CountStmtDecl                                                      171193\n",
      "CountStmtExe                                                         5837\n",
      "MaxCyclomatic                                                         684\n",
      "MaxCyclomaticModified                                                 488\n",
      "MaxCyclomaticStrict                                                   729\n",
      "MaxEssential                                                          402\n",
      "MaxInheritanceTree                                                    384\n",
      "MaxNesting                                                            191\n",
      "PercentLackOfCohesion                                                4832\n",
      "PercentLackOfCohesionModified                                        3865\n",
      "RatioCommentToCode                                                  45.17\n",
      "SumCyclomatic                                                        2561\n",
      "SumCyclomaticModified                                                2222\n",
      "SumCyclomaticStrict                                                  2730\n",
      "SumEssential                                                         1523\n",
      "numberJavaFiles                                                       343\n",
      "commitSha                        fffc58dc637c031b38ea441e4df33156fc6afb97\n",
      "commitDate                                            2020-09-30 10:59:04\n",
      "readability                                                       0.86713\n",
      "dtype: object\n"
     ]
    }
   ],
   "source": [
    "with pd.option_context('display.max_rows', None, 'display.max_columns', None):  # more options can be specified also\n",
    "    print(allMetrics.max())\n",
    "stats[\"max\"] = allMetrics.max()"
   ]
  },
  {
   "cell_type": "markdown",
   "metadata": {},
   "source": [
    "### Average"
   ]
  },
  {
   "cell_type": "code",
   "execution_count": 17,
   "metadata": {
    "scrolled": true
   },
   "outputs": [
    {
     "name": "stdout",
     "output_type": "stream",
     "text": [
      "AvgCyclomatic                      22.845050\n",
      "AvgCyclomaticModified              21.332673\n",
      "AvgCyclomaticStrict                24.251815\n",
      "AvgEssential                       15.640017\n",
      "AvgLine                           168.752145\n",
      "AvgLineBlank                        7.202723\n",
      "AvgLineCode                       136.035479\n",
      "AvgLineComment                     20.149010\n",
      "CountClassBase                     20.009076\n",
      "CountClassCoupled                  88.217409\n",
      "CountClassCoupledModified          28.011634\n",
      "CountClassDerived                   0.168977\n",
      "CountDeclClassMethod               13.060809\n",
      "CountDeclClassVariable             38.460479\n",
      "CountDeclInstanceMethod            83.384901\n",
      "CountDeclInstanceVariable          36.791172\n",
      "CountDeclMethod                    96.445710\n",
      "CountDeclMethodAll                298.328465\n",
      "CountDeclMethodDefault              1.308581\n",
      "CountDeclMethodPrivate             28.427805\n",
      "CountDeclMethodProtected            8.604868\n",
      "CountDeclMethodPublic              58.104455\n",
      "CountLine                        1900.524835\n",
      "CountLineBlank                    206.962789\n",
      "CountLineCode                    1402.471782\n",
      "CountLineCodeDecl                 480.641254\n",
      "CountLineCodeExe                  928.198680\n",
      "CountLineComment                  297.322360\n",
      "CountSemicolon                    663.874010\n",
      "CountStmt                         902.760479\n",
      "CountStmtDecl                     396.071452\n",
      "CountStmtExe                      506.689026\n",
      "MaxCyclomatic                      58.693894\n",
      "MaxCyclomaticModified              46.811964\n",
      "MaxCyclomaticStrict                63.330776\n",
      "MaxEssential                       29.056766\n",
      "MaxInheritanceTree                 26.188861\n",
      "MaxNesting                         18.258086\n",
      "PercentLackOfCohesion             485.347277\n",
      "PercentLackOfCohesionModified     406.687376\n",
      "RatioCommentToCode                  4.301067\n",
      "SumCyclomatic                     204.704208\n",
      "SumCyclomaticModified             184.727970\n",
      "SumCyclomaticStrict               218.182591\n",
      "SumEssential                      117.062789\n",
      "numberJavaFiles                    16.911386\n",
      "readability                         0.168788\n",
      "dtype: float64\n"
     ]
    }
   ],
   "source": [
    "with pd.option_context('display.max_rows', None, 'display.max_columns', None):  # more options can be specified also\n",
    "    print(allMetrics.mean())\n",
    "stats[\"avg\"] = allMetrics.mean()"
   ]
  },
  {
   "cell_type": "markdown",
   "metadata": {},
   "source": [
    "### Median"
   ]
  },
  {
   "cell_type": "code",
   "execution_count": 18,
   "metadata": {
    "scrolled": true
   },
   "outputs": [
    {
     "name": "stdout",
     "output_type": "stream",
     "text": [
      "AvgCyclomatic                      6.000000\n",
      "AvgCyclomaticModified              6.000000\n",
      "AvgCyclomaticStrict                6.000000\n",
      "AvgEssential                       5.000000\n",
      "AvgLine                           39.000000\n",
      "AvgLineBlank                       3.000000\n",
      "AvgLineCode                       32.000000\n",
      "AvgLineComment                     3.000000\n",
      "CountClassBase                     5.000000\n",
      "CountClassCoupled                 18.000000\n",
      "CountClassCoupledModified          3.000000\n",
      "CountClassDerived                  0.000000\n",
      "CountDeclClassMethod               2.000000\n",
      "CountDeclClassVariable             1.000000\n",
      "CountDeclInstanceMethod           11.000000\n",
      "CountDeclInstanceVariable          5.000000\n",
      "CountDeclMethod                   14.000000\n",
      "CountDeclMethodAll                71.000000\n",
      "CountDeclMethodDefault             0.000000\n",
      "CountDeclMethodPrivate             0.000000\n",
      "CountDeclMethodProtected           0.000000\n",
      "CountDeclMethodPublic             12.000000\n",
      "CountLine                        186.500000\n",
      "CountLineBlank                    34.000000\n",
      "CountLineCode                    124.000000\n",
      "CountLineCodeDecl                 47.000000\n",
      "CountLineCodeExe                  61.000000\n",
      "CountLineComment                  19.000000\n",
      "CountSemicolon                    48.000000\n",
      "CountStmt                         74.000000\n",
      "CountStmtDecl                     37.000000\n",
      "CountStmtExe                      38.000000\n",
      "MaxCyclomatic                      7.000000\n",
      "MaxCyclomaticModified              7.000000\n",
      "MaxCyclomaticStrict                8.000000\n",
      "MaxEssential                       5.000000\n",
      "MaxInheritanceTree                 6.000000\n",
      "MaxNesting                         3.000000\n",
      "PercentLackOfCohesion            100.000000\n",
      "PercentLackOfCohesionModified     97.000000\n",
      "RatioCommentToCode                 0.550000\n",
      "SumCyclomatic                     18.000000\n",
      "SumCyclomaticModified             18.000000\n",
      "SumCyclomaticStrict               18.000000\n",
      "SumEssential                      15.000000\n",
      "numberJavaFiles                    5.000000\n",
      "readability                        0.080281\n",
      "dtype: float64\n"
     ]
    }
   ],
   "source": [
    "with pd.option_context('display.max_rows', None, 'display.max_columns', None):  # more options can be specified also\n",
    "    print(allMetrics.median())\n",
    "stats[\"med\"] = allMetrics.median()"
   ]
  },
  {
   "cell_type": "markdown",
   "metadata": {},
   "source": [
    "### Standard Deviation"
   ]
  },
  {
   "cell_type": "code",
   "execution_count": 19,
   "metadata": {
    "scrolled": true
   },
   "outputs": [
    {
     "name": "stdout",
     "output_type": "stream",
     "text": [
      "AvgCyclomatic                      41.499733\n",
      "AvgCyclomaticModified              37.754107\n",
      "AvgCyclomaticStrict                44.321338\n",
      "AvgEssential                       26.072260\n",
      "AvgLine                           280.875646\n",
      "AvgLineBlank                       13.535609\n",
      "AvgLineCode                       241.147237\n",
      "AvgLineComment                     29.777397\n",
      "CountClassBase                     34.300814\n",
      "CountClassCoupled                 177.222195\n",
      "CountClassCoupledModified          64.909594\n",
      "CountClassDerived                   0.764223\n",
      "CountDeclClassMethod               25.575644\n",
      "CountDeclClassVariable             91.787264\n",
      "CountDeclInstanceMethod           178.094757\n",
      "CountDeclInstanceVariable          78.967557\n",
      "CountDeclMethod                   199.088959\n",
      "CountDeclMethodAll                549.421654\n",
      "CountDeclMethodDefault              6.151979\n",
      "CountDeclMethodPrivate             73.762996\n",
      "CountDeclMethodProtected           19.332048\n",
      "CountDeclMethodPublic             109.780462\n",
      "CountLine                        5318.402642\n",
      "CountLineBlank                    381.335097\n",
      "CountLineCode                    4039.675876\n",
      "CountLineCodeDecl                2882.467178\n",
      "CountLineCodeExe                 3315.898301\n",
      "CountLineComment                 1164.771590\n",
      "CountSemicolon                   2992.253437\n",
      "CountStmt                        3280.219862\n",
      "CountStmtDecl                    2802.277510\n",
      "CountStmtExe                     1094.935245\n",
      "MaxCyclomatic                     127.868465\n",
      "MaxCyclomaticModified              93.035386\n",
      "MaxCyclomaticStrict               138.059664\n",
      "MaxEssential                       68.479734\n",
      "MaxInheritanceTree                 48.422177\n",
      "MaxNesting                         38.398775\n",
      "PercentLackOfCohesion             899.952090\n",
      "PercentLackOfCohesionModified     733.631974\n",
      "RatioCommentToCode                  6.640584\n",
      "SumCyclomatic                     464.745596\n",
      "SumCyclomaticModified             405.023837\n",
      "SumCyclomaticStrict               497.419677\n",
      "SumEssential                      262.069642\n",
      "numberJavaFiles                    27.813916\n",
      "readability                         0.190994\n",
      "dtype: float64\n"
     ]
    }
   ],
   "source": [
    "with pd.option_context('display.max_rows', None, 'display.max_columns', None):  # more options can be specified also\n",
    "    print(allMetrics.std())\n",
    "stats[\"std\"] = allMetrics.std()"
   ]
  },
  {
   "cell_type": "code",
   "execution_count": 20,
   "metadata": {},
   "outputs": [],
   "source": [
    "stats.to_csv(\"stats.csv\")"
   ]
  },
  {
   "cell_type": "code",
   "execution_count": 21,
   "metadata": {},
   "outputs": [
    {
     "data": {
      "text/html": [
       "<div>\n",
       "<style scoped>\n",
       "    .dataframe tbody tr th:only-of-type {\n",
       "        vertical-align: middle;\n",
       "    }\n",
       "\n",
       "    .dataframe tbody tr th {\n",
       "        vertical-align: top;\n",
       "    }\n",
       "\n",
       "    .dataframe thead th {\n",
       "        text-align: right;\n",
       "    }\n",
       "</style>\n",
       "<table border=\"1\" class=\"dataframe\">\n",
       "  <thead>\n",
       "    <tr style=\"text-align: right;\">\n",
       "      <th></th>\n",
       "      <th>min</th>\n",
       "      <th>max</th>\n",
       "      <th>avg</th>\n",
       "      <th>med</th>\n",
       "      <th>std</th>\n",
       "    </tr>\n",
       "  </thead>\n",
       "  <tbody>\n",
       "    <tr>\n",
       "      <th>AvgCyclomatic</th>\n",
       "      <td>1</td>\n",
       "      <td>217</td>\n",
       "      <td>22.845050</td>\n",
       "      <td>6.000000</td>\n",
       "      <td>41.499733</td>\n",
       "    </tr>\n",
       "    <tr>\n",
       "      <th>AvgCyclomaticModified</th>\n",
       "      <td>1</td>\n",
       "      <td>199</td>\n",
       "      <td>21.332673</td>\n",
       "      <td>6.000000</td>\n",
       "      <td>37.754107</td>\n",
       "    </tr>\n",
       "    <tr>\n",
       "      <th>AvgCyclomaticStrict</th>\n",
       "      <td>1</td>\n",
       "      <td>232</td>\n",
       "      <td>24.251815</td>\n",
       "      <td>6.000000</td>\n",
       "      <td>44.321338</td>\n",
       "    </tr>\n",
       "    <tr>\n",
       "      <th>AvgEssential</th>\n",
       "      <td>1</td>\n",
       "      <td>141</td>\n",
       "      <td>15.640017</td>\n",
       "      <td>5.000000</td>\n",
       "      <td>26.072260</td>\n",
       "    </tr>\n",
       "    <tr>\n",
       "      <th>AvgLine</th>\n",
       "      <td>3</td>\n",
       "      <td>1400</td>\n",
       "      <td>168.752145</td>\n",
       "      <td>39.000000</td>\n",
       "      <td>280.875646</td>\n",
       "    </tr>\n",
       "    <tr>\n",
       "      <th>...</th>\n",
       "      <td>...</td>\n",
       "      <td>...</td>\n",
       "      <td>...</td>\n",
       "      <td>...</td>\n",
       "      <td>...</td>\n",
       "    </tr>\n",
       "    <tr>\n",
       "      <th>SumEssential</th>\n",
       "      <td>1</td>\n",
       "      <td>1523</td>\n",
       "      <td>117.062789</td>\n",
       "      <td>15.000000</td>\n",
       "      <td>262.069642</td>\n",
       "    </tr>\n",
       "    <tr>\n",
       "      <th>numberJavaFiles</th>\n",
       "      <td>1</td>\n",
       "      <td>343</td>\n",
       "      <td>16.911386</td>\n",
       "      <td>5.000000</td>\n",
       "      <td>27.813916</td>\n",
       "    </tr>\n",
       "    <tr>\n",
       "      <th>commitSha</th>\n",
       "      <td>000174e5c9e05d119930b2a13db5aefb837209ea</td>\n",
       "      <td>fffc58dc637c031b38ea441e4df33156fc6afb97</td>\n",
       "      <td>NaN</td>\n",
       "      <td>NaN</td>\n",
       "      <td>NaN</td>\n",
       "    </tr>\n",
       "    <tr>\n",
       "      <th>commitDate</th>\n",
       "      <td>2013-04-15 08:50:04</td>\n",
       "      <td>2020-09-30 10:59:04</td>\n",
       "      <td>NaN</td>\n",
       "      <td>NaN</td>\n",
       "      <td>NaN</td>\n",
       "    </tr>\n",
       "    <tr>\n",
       "      <th>readability</th>\n",
       "      <td>0</td>\n",
       "      <td>0.86713</td>\n",
       "      <td>0.168788</td>\n",
       "      <td>0.080281</td>\n",
       "      <td>0.190994</td>\n",
       "    </tr>\n",
       "  </tbody>\n",
       "</table>\n",
       "<p>64 rows × 5 columns</p>\n",
       "</div>"
      ],
      "text/plain": [
       "                                                            min  \\\n",
       "AvgCyclomatic                                                 1   \n",
       "AvgCyclomaticModified                                         1   \n",
       "AvgCyclomaticStrict                                           1   \n",
       "AvgEssential                                                  1   \n",
       "AvgLine                                                       3   \n",
       "...                                                         ...   \n",
       "SumEssential                                                  1   \n",
       "numberJavaFiles                                               1   \n",
       "commitSha              000174e5c9e05d119930b2a13db5aefb837209ea   \n",
       "commitDate                                  2013-04-15 08:50:04   \n",
       "readability                                                   0   \n",
       "\n",
       "                                                            max         avg  \\\n",
       "AvgCyclomatic                                               217   22.845050   \n",
       "AvgCyclomaticModified                                       199   21.332673   \n",
       "AvgCyclomaticStrict                                         232   24.251815   \n",
       "AvgEssential                                                141   15.640017   \n",
       "AvgLine                                                    1400  168.752145   \n",
       "...                                                         ...         ...   \n",
       "SumEssential                                               1523  117.062789   \n",
       "numberJavaFiles                                             343   16.911386   \n",
       "commitSha              fffc58dc637c031b38ea441e4df33156fc6afb97         NaN   \n",
       "commitDate                                  2020-09-30 10:59:04         NaN   \n",
       "readability                                             0.86713    0.168788   \n",
       "\n",
       "                             med         std  \n",
       "AvgCyclomatic           6.000000   41.499733  \n",
       "AvgCyclomaticModified   6.000000   37.754107  \n",
       "AvgCyclomaticStrict     6.000000   44.321338  \n",
       "AvgEssential            5.000000   26.072260  \n",
       "AvgLine                39.000000  280.875646  \n",
       "...                          ...         ...  \n",
       "SumEssential           15.000000  262.069642  \n",
       "numberJavaFiles         5.000000   27.813916  \n",
       "commitSha                    NaN         NaN  \n",
       "commitDate                   NaN         NaN  \n",
       "readability             0.080281    0.190994  \n",
       "\n",
       "[64 rows x 5 columns]"
      ]
     },
     "execution_count": 21,
     "metadata": {},
     "output_type": "execute_result"
    }
   ],
   "source": [
    "stats"
   ]
  },
  {
   "cell_type": "markdown",
   "metadata": {},
   "source": [
    "Questions"
   ]
  },
  {
   "cell_type": "code",
   "execution_count": 22,
   "metadata": {},
   "outputs": [],
   "source": [
    "allMetrics.set_index(allMetrics[\"commitDate\"], inplace=True)\n",
    "\n",
    "allMetrics.index\n",
    "\n",
    "del allMetrics[\"commitDate\"]"
   ]
  },
  {
   "cell_type": "code",
   "execution_count": 23,
   "metadata": {},
   "outputs": [],
   "source": [
    "allMetrics = allMetrics.groupby([(allMetrics.index.year), (allMetrics.index.month)]).mean()"
   ]
  },
  {
   "cell_type": "markdown",
   "metadata": {},
   "source": [
    "## Loading SO questions"
   ]
  },
  {
   "cell_type": "code",
   "execution_count": 24,
   "metadata": {},
   "outputs": [],
   "source": [
    "androidQuestions = pd.read_csv(\"..\\\\1-GettingQuestions\\\\questions\\\\androidQuestions.csv\")\n",
    "awsQuestions = pd.read_csv(\"..\\\\1-GettingQuestions\\\\questions\\\\awsQuestions.csv\")\n",
    "azureQuestions = pd.read_csv(\"..\\\\1-GettingQuestions\\\\questions\\\\azureQuestions.csv\")\n",
    "springQuestions = pd.read_csv(\"..\\\\1-GettingQuestions\\\\questions\\\\springQuestions.csv\")"
   ]
  },
  {
   "cell_type": "code",
   "execution_count": 25,
   "metadata": {},
   "outputs": [
    {
     "data": {
      "text/plain": [
       "1083"
      ]
     },
     "execution_count": 25,
     "metadata": {},
     "output_type": "execute_result"
    }
   ],
   "source": [
    "len(androidQuestions)"
   ]
  },
  {
   "cell_type": "code",
   "execution_count": 26,
   "metadata": {},
   "outputs": [
    {
     "data": {
      "text/plain": [
       "14"
      ]
     },
     "execution_count": 26,
     "metadata": {},
     "output_type": "execute_result"
    }
   ],
   "source": [
    "len(awsQuestions)"
   ]
  },
  {
   "cell_type": "code",
   "execution_count": 27,
   "metadata": {},
   "outputs": [
    {
     "data": {
      "text/plain": [
       "64"
      ]
     },
     "execution_count": 27,
     "metadata": {},
     "output_type": "execute_result"
    }
   ],
   "source": [
    "len(azureQuestions)"
   ]
  },
  {
   "cell_type": "code",
   "execution_count": 28,
   "metadata": {},
   "outputs": [
    {
     "data": {
      "text/plain": [
       "136"
      ]
     },
     "execution_count": 28,
     "metadata": {},
     "output_type": "execute_result"
    }
   ],
   "source": [
    "len(springQuestions)"
   ]
  },
  {
   "cell_type": "code",
   "execution_count": 29,
   "metadata": {},
   "outputs": [],
   "source": [
    "allQuestions = pd.concat([androidQuestions, awsQuestions, azureQuestions, springQuestions], axis=0, ignore_index=True)"
   ]
  },
  {
   "cell_type": "code",
   "execution_count": 30,
   "metadata": {},
   "outputs": [
    {
     "data": {
      "text/plain": [
       "1297"
      ]
     },
     "execution_count": 30,
     "metadata": {},
     "output_type": "execute_result"
    }
   ],
   "source": [
    "len(allQuestions)"
   ]
  },
  {
   "cell_type": "code",
   "execution_count": 16,
   "metadata": {},
   "outputs": [],
   "source": [
    "allQuestions['creationDate'] = pd.to_datetime(allQuestions['creationDate'])\n",
    "allQuestions.sort_values(by=\"creationDate\", inplace=True)\n",
    "allQuestions.set_index(allQuestions['creationDate'], inplace=True)\n",
    "allQuestions[\"questions\"] = 1\n",
    "allQuestions=allQuestions.groupby([(allQuestions.index.year), (allQuestions.index.month)]).sum()"
   ]
  },
  {
   "cell_type": "code",
   "execution_count": 17,
   "metadata": {},
   "outputs": [],
   "source": [
    "del allQuestions[\"ownerUserId\"]\n",
    "del allQuestions[\"postTypeId\"]\n",
    "del allQuestions[\"acceptedAnswerId\"]\n",
    "del allQuestions[\"id\"]"
   ]
  },
  {
   "cell_type": "markdown",
   "metadata": {},
   "source": [
    "## Merging the data"
   ]
  },
  {
   "cell_type": "code",
   "execution_count": 18,
   "metadata": {
    "scrolled": true
   },
   "outputs": [],
   "source": [
    "metricsAndQuestions = pd.concat([allMetrics, allQuestions], axis=1)\n",
    "metricsAndQuestions[\"questions\"].fillna(0, inplace=True)\n",
    "metricsAndQuestions.fillna(method=\"ffill\", inplace=True)"
   ]
  },
  {
   "cell_type": "markdown",
   "metadata": {},
   "source": [
    "## Saving"
   ]
  },
  {
   "cell_type": "code",
   "execution_count": 19,
   "metadata": {},
   "outputs": [],
   "source": [
    "metricsAndQuestions.to_csv(\"metricsAndQuestions.csv\")"
   ]
  },
  {
   "cell_type": "code",
   "execution_count": 54,
   "metadata": {},
   "outputs": [
    {
     "data": {
      "text/html": [
       "<div>\n",
       "<style scoped>\n",
       "    .dataframe tbody tr th:only-of-type {\n",
       "        vertical-align: middle;\n",
       "    }\n",
       "\n",
       "    .dataframe tbody tr th {\n",
       "        vertical-align: top;\n",
       "    }\n",
       "\n",
       "    .dataframe thead th {\n",
       "        text-align: right;\n",
       "    }\n",
       "</style>\n",
       "<table border=\"1\" class=\"dataframe\">\n",
       "  <thead>\n",
       "    <tr style=\"text-align: right;\">\n",
       "      <th></th>\n",
       "      <th></th>\n",
       "      <th>AvgCyclomatic</th>\n",
       "      <th>AvgCyclomaticModified</th>\n",
       "      <th>AvgCyclomaticStrict</th>\n",
       "      <th>AvgEssential</th>\n",
       "      <th>AvgLine</th>\n",
       "      <th>AvgLineBlank</th>\n",
       "      <th>AvgLineCode</th>\n",
       "      <th>AvgLineComment</th>\n",
       "      <th>CountClassBase</th>\n",
       "      <th>CountClassCoupled</th>\n",
       "      <th>...</th>\n",
       "      <th>PercentLackOfCohesion</th>\n",
       "      <th>PercentLackOfCohesionModified</th>\n",
       "      <th>RatioCommentToCode</th>\n",
       "      <th>SumCyclomatic</th>\n",
       "      <th>SumCyclomaticModified</th>\n",
       "      <th>SumCyclomaticStrict</th>\n",
       "      <th>SumEssential</th>\n",
       "      <th>numberJavaFiles</th>\n",
       "      <th>readability</th>\n",
       "      <th>questions</th>\n",
       "    </tr>\n",
       "  </thead>\n",
       "  <tbody>\n",
       "    <tr>\n",
       "      <th rowspan=\"5\" valign=\"top\">2013</th>\n",
       "      <th>4</th>\n",
       "      <td>5.657895</td>\n",
       "      <td>5.657895</td>\n",
       "      <td>5.657895</td>\n",
       "      <td>4.026316</td>\n",
       "      <td>22.763158</td>\n",
       "      <td>1.236842</td>\n",
       "      <td>21.315789</td>\n",
       "      <td>0.289474</td>\n",
       "      <td>5.368421</td>\n",
       "      <td>16.026316</td>\n",
       "      <td>...</td>\n",
       "      <td>11.289474</td>\n",
       "      <td>11.289474</td>\n",
       "      <td>0.153421</td>\n",
       "      <td>9.078947</td>\n",
       "      <td>9.078947</td>\n",
       "      <td>9.078947</td>\n",
       "      <td>7.394737</td>\n",
       "      <td>5.368421</td>\n",
       "      <td>0.315649</td>\n",
       "      <td>0.0</td>\n",
       "    </tr>\n",
       "    <tr>\n",
       "      <th>5</th>\n",
       "      <td>3.824427</td>\n",
       "      <td>3.824427</td>\n",
       "      <td>3.824427</td>\n",
       "      <td>3.267176</td>\n",
       "      <td>24.717557</td>\n",
       "      <td>2.374046</td>\n",
       "      <td>21.389313</td>\n",
       "      <td>0.969466</td>\n",
       "      <td>3.801527</td>\n",
       "      <td>11.145038</td>\n",
       "      <td>...</td>\n",
       "      <td>26.885496</td>\n",
       "      <td>26.885496</td>\n",
       "      <td>0.173206</td>\n",
       "      <td>7.267176</td>\n",
       "      <td>7.267176</td>\n",
       "      <td>7.267176</td>\n",
       "      <td>6.213740</td>\n",
       "      <td>3.740458</td>\n",
       "      <td>0.252481</td>\n",
       "      <td>0.0</td>\n",
       "    </tr>\n",
       "    <tr>\n",
       "      <th>6</th>\n",
       "      <td>3.352273</td>\n",
       "      <td>3.352273</td>\n",
       "      <td>3.352273</td>\n",
       "      <td>3.011364</td>\n",
       "      <td>19.227273</td>\n",
       "      <td>1.693182</td>\n",
       "      <td>17.079545</td>\n",
       "      <td>0.477273</td>\n",
       "      <td>3.125000</td>\n",
       "      <td>9.147727</td>\n",
       "      <td>...</td>\n",
       "      <td>24.272727</td>\n",
       "      <td>24.272727</td>\n",
       "      <td>0.063864</td>\n",
       "      <td>6.784091</td>\n",
       "      <td>6.784091</td>\n",
       "      <td>6.784091</td>\n",
       "      <td>5.965909</td>\n",
       "      <td>3.068182</td>\n",
       "      <td>0.288942</td>\n",
       "      <td>0.0</td>\n",
       "    </tr>\n",
       "    <tr>\n",
       "      <th>7</th>\n",
       "      <td>3.005089</td>\n",
       "      <td>3.005089</td>\n",
       "      <td>3.061069</td>\n",
       "      <td>2.783715</td>\n",
       "      <td>16.763359</td>\n",
       "      <td>1.170483</td>\n",
       "      <td>15.129771</td>\n",
       "      <td>0.358779</td>\n",
       "      <td>2.885496</td>\n",
       "      <td>9.569975</td>\n",
       "      <td>...</td>\n",
       "      <td>36.842239</td>\n",
       "      <td>36.842239</td>\n",
       "      <td>0.051552</td>\n",
       "      <td>7.254453</td>\n",
       "      <td>7.254453</td>\n",
       "      <td>7.338422</td>\n",
       "      <td>6.234097</td>\n",
       "      <td>3.027990</td>\n",
       "      <td>0.269503</td>\n",
       "      <td>0.0</td>\n",
       "    </tr>\n",
       "    <tr>\n",
       "      <th>8</th>\n",
       "      <td>3.187586</td>\n",
       "      <td>3.187586</td>\n",
       "      <td>3.281379</td>\n",
       "      <td>2.924138</td>\n",
       "      <td>17.427586</td>\n",
       "      <td>1.297931</td>\n",
       "      <td>15.713103</td>\n",
       "      <td>0.376552</td>\n",
       "      <td>3.030345</td>\n",
       "      <td>9.612414</td>\n",
       "      <td>...</td>\n",
       "      <td>37.805517</td>\n",
       "      <td>37.722759</td>\n",
       "      <td>0.050717</td>\n",
       "      <td>7.296552</td>\n",
       "      <td>7.296552</td>\n",
       "      <td>7.437241</td>\n",
       "      <td>6.281379</td>\n",
       "      <td>3.295172</td>\n",
       "      <td>0.289438</td>\n",
       "      <td>0.0</td>\n",
       "    </tr>\n",
       "    <tr>\n",
       "      <th>...</th>\n",
       "      <th>...</th>\n",
       "      <td>...</td>\n",
       "      <td>...</td>\n",
       "      <td>...</td>\n",
       "      <td>...</td>\n",
       "      <td>...</td>\n",
       "      <td>...</td>\n",
       "      <td>...</td>\n",
       "      <td>...</td>\n",
       "      <td>...</td>\n",
       "      <td>...</td>\n",
       "      <td>...</td>\n",
       "      <td>...</td>\n",
       "      <td>...</td>\n",
       "      <td>...</td>\n",
       "      <td>...</td>\n",
       "      <td>...</td>\n",
       "      <td>...</td>\n",
       "      <td>...</td>\n",
       "      <td>...</td>\n",
       "      <td>...</td>\n",
       "      <td>...</td>\n",
       "    </tr>\n",
       "    <tr>\n",
       "      <th rowspan=\"5\" valign=\"top\">2020</th>\n",
       "      <th>5</th>\n",
       "      <td>44.128205</td>\n",
       "      <td>41.102564</td>\n",
       "      <td>46.897436</td>\n",
       "      <td>28.897436</td>\n",
       "      <td>303.384615</td>\n",
       "      <td>11.871795</td>\n",
       "      <td>255.538462</td>\n",
       "      <td>25.974359</td>\n",
       "      <td>34.179487</td>\n",
       "      <td>193.384615</td>\n",
       "      <td>...</td>\n",
       "      <td>833.846154</td>\n",
       "      <td>681.538462</td>\n",
       "      <td>4.148205</td>\n",
       "      <td>429.076923</td>\n",
       "      <td>375.794872</td>\n",
       "      <td>457.666667</td>\n",
       "      <td>257.076923</td>\n",
       "      <td>41.461538</td>\n",
       "      <td>0.295245</td>\n",
       "      <td>8.0</td>\n",
       "    </tr>\n",
       "    <tr>\n",
       "      <th>6</th>\n",
       "      <td>117.100000</td>\n",
       "      <td>107.666667</td>\n",
       "      <td>125.233333</td>\n",
       "      <td>76.833333</td>\n",
       "      <td>784.166667</td>\n",
       "      <td>20.900000</td>\n",
       "      <td>676.733333</td>\n",
       "      <td>56.300000</td>\n",
       "      <td>95.000000</td>\n",
       "      <td>516.200000</td>\n",
       "      <td>...</td>\n",
       "      <td>2539.433333</td>\n",
       "      <td>2045.533333</td>\n",
       "      <td>11.254667</td>\n",
       "      <td>1313.500000</td>\n",
       "      <td>1142.433333</td>\n",
       "      <td>1400.800000</td>\n",
       "      <td>777.733333</td>\n",
       "      <td>78.500000</td>\n",
       "      <td>0.047969</td>\n",
       "      <td>4.0</td>\n",
       "    </tr>\n",
       "    <tr>\n",
       "      <th>7</th>\n",
       "      <td>50.307692</td>\n",
       "      <td>46.576923</td>\n",
       "      <td>53.730769</td>\n",
       "      <td>34.346154</td>\n",
       "      <td>345.961538</td>\n",
       "      <td>12.000000</td>\n",
       "      <td>294.576923</td>\n",
       "      <td>26.884615</td>\n",
       "      <td>41.423077</td>\n",
       "      <td>216.500000</td>\n",
       "      <td>...</td>\n",
       "      <td>1071.923077</td>\n",
       "      <td>879.500000</td>\n",
       "      <td>5.023077</td>\n",
       "      <td>529.346154</td>\n",
       "      <td>462.923077</td>\n",
       "      <td>564.076923</td>\n",
       "      <td>318.961538</td>\n",
       "      <td>35.846154</td>\n",
       "      <td>0.188474</td>\n",
       "      <td>8.0</td>\n",
       "    </tr>\n",
       "    <tr>\n",
       "      <th>8</th>\n",
       "      <td>15.264151</td>\n",
       "      <td>14.547170</td>\n",
       "      <td>16.094340</td>\n",
       "      <td>11.622642</td>\n",
       "      <td>107.943396</td>\n",
       "      <td>5.641509</td>\n",
       "      <td>91.452830</td>\n",
       "      <td>7.754717</td>\n",
       "      <td>13.830189</td>\n",
       "      <td>58.094340</td>\n",
       "      <td>...</td>\n",
       "      <td>310.566038</td>\n",
       "      <td>254.188679</td>\n",
       "      <td>1.428491</td>\n",
       "      <td>132.377358</td>\n",
       "      <td>119.433962</td>\n",
       "      <td>139.698113</td>\n",
       "      <td>84.471698</td>\n",
       "      <td>13.207547</td>\n",
       "      <td>0.297849</td>\n",
       "      <td>8.0</td>\n",
       "    </tr>\n",
       "    <tr>\n",
       "      <th>9</th>\n",
       "      <td>44.380952</td>\n",
       "      <td>41.357143</td>\n",
       "      <td>47.404762</td>\n",
       "      <td>29.261905</td>\n",
       "      <td>306.619048</td>\n",
       "      <td>11.761905</td>\n",
       "      <td>262.214286</td>\n",
       "      <td>21.547619</td>\n",
       "      <td>35.642857</td>\n",
       "      <td>189.095238</td>\n",
       "      <td>...</td>\n",
       "      <td>953.666667</td>\n",
       "      <td>785.190476</td>\n",
       "      <td>3.810476</td>\n",
       "      <td>568.000000</td>\n",
       "      <td>511.571429</td>\n",
       "      <td>605.238095</td>\n",
       "      <td>300.523810</td>\n",
       "      <td>30.547619</td>\n",
       "      <td>0.126221</td>\n",
       "      <td>0.0</td>\n",
       "    </tr>\n",
       "  </tbody>\n",
       "</table>\n",
       "<p>90 rows × 63 columns</p>\n",
       "</div>"
      ],
      "text/plain": [
       "        AvgCyclomatic  AvgCyclomaticModified  AvgCyclomaticStrict  \\\n",
       "2013 4       5.657895               5.657895             5.657895   \n",
       "     5       3.824427               3.824427             3.824427   \n",
       "     6       3.352273               3.352273             3.352273   \n",
       "     7       3.005089               3.005089             3.061069   \n",
       "     8       3.187586               3.187586             3.281379   \n",
       "...               ...                    ...                  ...   \n",
       "2020 5      44.128205              41.102564            46.897436   \n",
       "     6     117.100000             107.666667           125.233333   \n",
       "     7      50.307692              46.576923            53.730769   \n",
       "     8      15.264151              14.547170            16.094340   \n",
       "     9      44.380952              41.357143            47.404762   \n",
       "\n",
       "        AvgEssential     AvgLine  AvgLineBlank  AvgLineCode  AvgLineComment  \\\n",
       "2013 4      4.026316   22.763158      1.236842    21.315789        0.289474   \n",
       "     5      3.267176   24.717557      2.374046    21.389313        0.969466   \n",
       "     6      3.011364   19.227273      1.693182    17.079545        0.477273   \n",
       "     7      2.783715   16.763359      1.170483    15.129771        0.358779   \n",
       "     8      2.924138   17.427586      1.297931    15.713103        0.376552   \n",
       "...              ...         ...           ...          ...             ...   \n",
       "2020 5     28.897436  303.384615     11.871795   255.538462       25.974359   \n",
       "     6     76.833333  784.166667     20.900000   676.733333       56.300000   \n",
       "     7     34.346154  345.961538     12.000000   294.576923       26.884615   \n",
       "     8     11.622642  107.943396      5.641509    91.452830        7.754717   \n",
       "     9     29.261905  306.619048     11.761905   262.214286       21.547619   \n",
       "\n",
       "        CountClassBase  CountClassCoupled  ...  PercentLackOfCohesion  \\\n",
       "2013 4        5.368421          16.026316  ...              11.289474   \n",
       "     5        3.801527          11.145038  ...              26.885496   \n",
       "     6        3.125000           9.147727  ...              24.272727   \n",
       "     7        2.885496           9.569975  ...              36.842239   \n",
       "     8        3.030345           9.612414  ...              37.805517   \n",
       "...                ...                ...  ...                    ...   \n",
       "2020 5       34.179487         193.384615  ...             833.846154   \n",
       "     6       95.000000         516.200000  ...            2539.433333   \n",
       "     7       41.423077         216.500000  ...            1071.923077   \n",
       "     8       13.830189          58.094340  ...             310.566038   \n",
       "     9       35.642857         189.095238  ...             953.666667   \n",
       "\n",
       "        PercentLackOfCohesionModified  RatioCommentToCode  SumCyclomatic  \\\n",
       "2013 4                      11.289474            0.153421       9.078947   \n",
       "     5                      26.885496            0.173206       7.267176   \n",
       "     6                      24.272727            0.063864       6.784091   \n",
       "     7                      36.842239            0.051552       7.254453   \n",
       "     8                      37.722759            0.050717       7.296552   \n",
       "...                               ...                 ...            ...   \n",
       "2020 5                     681.538462            4.148205     429.076923   \n",
       "     6                    2045.533333           11.254667    1313.500000   \n",
       "     7                     879.500000            5.023077     529.346154   \n",
       "     8                     254.188679            1.428491     132.377358   \n",
       "     9                     785.190476            3.810476     568.000000   \n",
       "\n",
       "        SumCyclomaticModified  SumCyclomaticStrict  SumEssential  \\\n",
       "2013 4               9.078947             9.078947      7.394737   \n",
       "     5               7.267176             7.267176      6.213740   \n",
       "     6               6.784091             6.784091      5.965909   \n",
       "     7               7.254453             7.338422      6.234097   \n",
       "     8               7.296552             7.437241      6.281379   \n",
       "...                       ...                  ...           ...   \n",
       "2020 5             375.794872           457.666667    257.076923   \n",
       "     6            1142.433333          1400.800000    777.733333   \n",
       "     7             462.923077           564.076923    318.961538   \n",
       "     8             119.433962           139.698113     84.471698   \n",
       "     9             511.571429           605.238095    300.523810   \n",
       "\n",
       "        numberJavaFiles  readability  questions  \n",
       "2013 4         5.368421     0.315649        0.0  \n",
       "     5         3.740458     0.252481        0.0  \n",
       "     6         3.068182     0.288942        0.0  \n",
       "     7         3.027990     0.269503        0.0  \n",
       "     8         3.295172     0.289438        0.0  \n",
       "...                 ...          ...        ...  \n",
       "2020 5        41.461538     0.295245        8.0  \n",
       "     6        78.500000     0.047969        4.0  \n",
       "     7        35.846154     0.188474        8.0  \n",
       "     8        13.207547     0.297849        8.0  \n",
       "     9        30.547619     0.126221        0.0  \n",
       "\n",
       "[90 rows x 63 columns]"
      ]
     },
     "execution_count": 54,
     "metadata": {},
     "output_type": "execute_result"
    }
   ],
   "source": [
    "pd.read_csv(\"metricsAndQuestions.csv\", index_col=[0,1])"
   ]
  },
  {
   "cell_type": "code",
   "execution_count": null,
   "metadata": {},
   "outputs": [],
   "source": []
  }
 ],
 "metadata": {
  "kernelspec": {
   "display_name": "Python 3",
   "language": "python",
   "name": "python3"
  },
  "language_info": {
   "codemirror_mode": {
    "name": "ipython",
    "version": 3
   },
   "file_extension": ".py",
   "mimetype": "text/x-python",
   "name": "python",
   "nbconvert_exporter": "python",
   "pygments_lexer": "ipython3",
   "version": "3.8.3"
  }
 },
 "nbformat": 4,
 "nbformat_minor": 4
}
