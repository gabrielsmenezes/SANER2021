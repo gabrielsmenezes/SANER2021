{
 "cells": [
  {
   "cell_type": "markdown",
   "metadata": {},
   "source": [
    "# Loading data"
   ]
  },
  {
   "cell_type": "code",
   "execution_count": 367,
   "metadata": {},
   "outputs": [],
   "source": [
    "import pandas as pd"
   ]
  },
  {
   "cell_type": "markdown",
   "metadata": {},
   "source": [
    "## Loading metrics"
   ]
  },
  {
   "cell_type": "code",
   "execution_count": 368,
   "metadata": {},
   "outputs": [],
   "source": [
    "androidListSamples = pd.read_csv(\"..\\\\1-GettingQuestions\\\\samplesWithQuestions\\\\androidSamples.csv\")\n",
    "awsListSamples = pd.read_csv(\"..\\\\1-GettingQuestions\\\\samplesWithQuestions\\\\awsSamples.csv\")\n",
    "azureListSamples = pd.read_csv(\"..\\\\1-GettingQuestions\\\\samplesWithQuestions\\\\azureSamples.csv\")\n",
    "springListSamples = pd.read_csv(\"..\\\\1-GettingQuestions\\\\samplesWithQuestions\\\\springSamples.csv\")"
   ]
  },
  {
   "cell_type": "code",
   "execution_count": 369,
   "metadata": {},
   "outputs": [
    {
     "data": {
      "text/plain": [
       "84"
      ]
     },
     "execution_count": 369,
     "metadata": {},
     "output_type": "execute_result"
    }
   ],
   "source": [
    "len(androidListSamples)"
   ]
  },
  {
   "cell_type": "code",
   "execution_count": 370,
   "metadata": {},
   "outputs": [
    {
     "data": {
      "text/plain": [
       "8"
      ]
     },
     "execution_count": 370,
     "metadata": {},
     "output_type": "execute_result"
    }
   ],
   "source": [
    "len(awsListSamples)"
   ]
  },
  {
   "cell_type": "code",
   "execution_count": 371,
   "metadata": {},
   "outputs": [
    {
     "data": {
      "text/plain": [
       "31"
      ]
     },
     "execution_count": 371,
     "metadata": {},
     "output_type": "execute_result"
    }
   ],
   "source": [
    "len(azureListSamples)"
   ]
  },
  {
   "cell_type": "code",
   "execution_count": 372,
   "metadata": {},
   "outputs": [
    {
     "data": {
      "text/plain": [
       "36"
      ]
     },
     "execution_count": 372,
     "metadata": {},
     "output_type": "execute_result"
    }
   ],
   "source": [
    "len(springListSamples)"
   ]
  },
  {
   "cell_type": "code",
   "execution_count": 373,
   "metadata": {},
   "outputs": [
    {
     "data": {
      "text/plain": [
       "159"
      ]
     },
     "execution_count": 373,
     "metadata": {},
     "output_type": "execute_result"
    }
   ],
   "source": [
    "len(androidListSamples) + len(awsListSamples) + len(azureListSamples) + len(springListSamples)"
   ]
  },
  {
   "cell_type": "markdown",
   "metadata": {},
   "source": [
    "### 159 Code Samples"
   ]
  },
  {
   "cell_type": "code",
   "execution_count": 374,
   "metadata": {},
   "outputs": [],
   "source": [
    "def dealWithData(listSamples):    \n",
    "    listSamples[\"windowsPath\"] = listSamples[\"path\"].str.replace(\"/\", \"\\\\\")\n",
    "    \n",
    "    allSamples = [pd.read_csv(\"..\\\\2-ExtractingMetrics\\\\metrics\\\\\"+sample+\".csv\", parse_dates=True) for sample in listSamples[\"windowsPath\"]]\n",
    "\n",
    "    allSamplesMetrics = pd.concat(allSamples, axis=0, ignore_index=True)\n",
    "\n",
    "    allSamplesMetrics['commitDate'] = pd.to_datetime(allSamplesMetrics['commitDate'].astype(str).str[:-6])\n",
    "\n",
    "    allSamplesMetrics.sort_values(by=\"commitDate\", inplace=True)\n",
    "    \n",
    "    print(allSamplesMetrics.shape)\n",
    "        \n",
    "    return allSamplesMetrics"
   ]
  },
  {
   "cell_type": "code",
   "execution_count": 375,
   "metadata": {},
   "outputs": [
    {
     "name": "stdout",
     "output_type": "stream",
     "text": [
      "(14139, 65)\n",
      "(723, 65)\n",
      "(2799, 65)\n",
      "(18708, 65)\n"
     ]
    }
   ],
   "source": [
    "androidSamples = dealWithData(androidListSamples)\n",
    "awsSamples = dealWithData(awsListSamples)\n",
    "azureSamples = dealWithData(azureListSamples)\n",
    "springSamples = dealWithData(springListSamples)"
   ]
  },
  {
   "cell_type": "code",
   "execution_count": 376,
   "metadata": {},
   "outputs": [
    {
     "data": {
      "text/plain": [
       "36369"
      ]
     },
     "execution_count": 376,
     "metadata": {},
     "output_type": "execute_result"
    }
   ],
   "source": [
    "androidSamples.shape[0] + awsSamples.shape[0] +  azureSamples.shape[0] +  springSamples.shape[0]"
   ]
  },
  {
   "cell_type": "code",
   "execution_count": 377,
   "metadata": {
    "scrolled": true
   },
   "outputs": [],
   "source": [
    "def addOtherMetrics(dataframeDestiny, dataframeSource):\n",
    "    dataframeDestiny[\"numberJavaFiles\"] = dataframeSource[dataframeSource[\"type\"] == \"absolute\"][\"numberJavaFiles\"].values\n",
    "    dataframeDestiny[\"CountDeclClass\"] = dataframeSource[dataframeSource[\"type\"] == \"absolute\"][\"CountDeclClass\"].values"
   ]
  },
  {
   "cell_type": "markdown",
   "metadata": {},
   "source": [
    "Getting only average"
   ]
  },
  {
   "cell_type": "code",
   "execution_count": 378,
   "metadata": {},
   "outputs": [
    {
     "name": "stderr",
     "output_type": "stream",
     "text": [
      "<ipython-input-377-f7169c94c265>:2: SettingWithCopyWarning: \n",
      "A value is trying to be set on a copy of a slice from a DataFrame.\n",
      "Try using .loc[row_indexer,col_indexer] = value instead\n",
      "\n",
      "See the caveats in the documentation: https://pandas.pydata.org/pandas-docs/stable/user_guide/indexing.html#returning-a-view-versus-a-copy\n",
      "  dataframeDestiny[\"numberJavaFiles\"] = dataframeSource[dataframeSource[\"type\"] == \"absolute\"][\"numberJavaFiles\"].values\n",
      "<ipython-input-377-f7169c94c265>:3: SettingWithCopyWarning: \n",
      "A value is trying to be set on a copy of a slice from a DataFrame.\n",
      "Try using .loc[row_indexer,col_indexer] = value instead\n",
      "\n",
      "See the caveats in the documentation: https://pandas.pydata.org/pandas-docs/stable/user_guide/indexing.html#returning-a-view-versus-a-copy\n",
      "  dataframeDestiny[\"CountDeclClass\"] = dataframeSource[dataframeSource[\"type\"] == \"absolute\"][\"CountDeclClass\"].values\n"
     ]
    }
   ],
   "source": [
    "androidSamplesAverage = androidSamples[androidSamples[\"type\"] == \"average\"]\n",
    "addOtherMetrics(androidSamplesAverage, androidSamples)\n",
    "\n",
    "awsSamplesAverage = awsSamples[awsSamples[\"type\"] == \"average\"]\n",
    "addOtherMetrics(awsSamplesAverage, awsSamples)\n",
    "\n",
    "azureSamplesAverage = azureSamples[azureSamples[\"type\"] == \"average\"]\n",
    "addOtherMetrics(azureSamplesAverage, azureSamples)\n",
    "\n",
    "springSamplesAverage = springSamples[springSamples[\"type\"] == \"average\"]\n",
    "addOtherMetrics(springSamplesAverage, springSamples)"
   ]
  },
  {
   "cell_type": "code",
   "execution_count": 379,
   "metadata": {},
   "outputs": [
    {
     "data": {
      "text/plain": [
       "(7410, 65)"
      ]
     },
     "execution_count": 379,
     "metadata": {},
     "output_type": "execute_result"
    }
   ],
   "source": [
    "allMetricsAverage = pd.concat([awsSamplesAverage, azureSamplesAverage, springSamplesAverage], axis=0)\n",
    "allMetricsAverage.shape"
   ]
  },
  {
   "cell_type": "markdown",
   "metadata": {},
   "source": [
    "Getting only median"
   ]
  },
  {
   "cell_type": "code",
   "execution_count": 380,
   "metadata": {},
   "outputs": [
    {
     "name": "stderr",
     "output_type": "stream",
     "text": [
      "<ipython-input-377-f7169c94c265>:2: SettingWithCopyWarning: \n",
      "A value is trying to be set on a copy of a slice from a DataFrame.\n",
      "Try using .loc[row_indexer,col_indexer] = value instead\n",
      "\n",
      "See the caveats in the documentation: https://pandas.pydata.org/pandas-docs/stable/user_guide/indexing.html#returning-a-view-versus-a-copy\n",
      "  dataframeDestiny[\"numberJavaFiles\"] = dataframeSource[dataframeSource[\"type\"] == \"absolute\"][\"numberJavaFiles\"].values\n",
      "<ipython-input-377-f7169c94c265>:3: SettingWithCopyWarning: \n",
      "A value is trying to be set on a copy of a slice from a DataFrame.\n",
      "Try using .loc[row_indexer,col_indexer] = value instead\n",
      "\n",
      "See the caveats in the documentation: https://pandas.pydata.org/pandas-docs/stable/user_guide/indexing.html#returning-a-view-versus-a-copy\n",
      "  dataframeDestiny[\"CountDeclClass\"] = dataframeSource[dataframeSource[\"type\"] == \"absolute\"][\"CountDeclClass\"].values\n"
     ]
    }
   ],
   "source": [
    "androidSamplesMedian = androidSamples[androidSamples[\"type\"] == \"median\"]\n",
    "addOtherMetrics(androidSamplesMedian, androidSamples)\n",
    "\n",
    "awsSamplesMedian = awsSamples[awsSamples[\"type\"] == \"median\"]\n",
    "addOtherMetrics(awsSamplesMedian, awsSamples)\n",
    "\n",
    "azureSamplesMedian = azureSamples[azureSamples[\"type\"] == \"median\"]\n",
    "addOtherMetrics(azureSamplesMedian, azureSamples)\n",
    "\n",
    "springSamplesMedian = springSamples[springSamples[\"type\"] == \"median\"]\n",
    "addOtherMetrics(springSamplesMedian, springSamples)"
   ]
  },
  {
   "cell_type": "code",
   "execution_count": 381,
   "metadata": {},
   "outputs": [
    {
     "data": {
      "text/plain": [
       "(7410, 65)"
      ]
     },
     "execution_count": 381,
     "metadata": {},
     "output_type": "execute_result"
    }
   ],
   "source": [
    "allMetricsMedian = pd.concat([awsSamplesMedian, azureSamplesMedian, springSamplesMedian], axis=0)\n",
    "allMetricsMedian.shape"
   ]
  },
  {
   "cell_type": "code",
   "execution_count": 382,
   "metadata": {},
   "outputs": [],
   "source": [
    "def transformReadabilityPerFileToReadabilityPerClass(dataframe):\n",
    "    dataframe[\"readability\"] = (dataframe[\"readability\"] * dataframe[\"numberJavaFiles\"]) / dataframe[\"CountDeclClass\"]"
   ]
  },
  {
   "cell_type": "code",
   "execution_count": 383,
   "metadata": {},
   "outputs": [],
   "source": [
    "transformReadabilityPerFileToReadabilityPerClass(allMetricsAverage)\n",
    "transformReadabilityPerFileToReadabilityPerClass(allMetricsMedian)"
   ]
  },
  {
   "cell_type": "code",
   "execution_count": 384,
   "metadata": {},
   "outputs": [],
   "source": [
    "allMetrics = allMetricsAverage"
   ]
  },
  {
   "cell_type": "code",
   "execution_count": 385,
   "metadata": {},
   "outputs": [],
   "source": [
    "stats = pd.DataFrame(index = allMetrics.min().index)"
   ]
  },
  {
   "cell_type": "markdown",
   "metadata": {},
   "source": [
    "Total loc for all commit"
   ]
  },
  {
   "cell_type": "code",
   "execution_count": 1,
   "metadata": {},
   "outputs": [
    {
     "ename": "NameError",
     "evalue": "name 'allMetrics' is not defined",
     "output_type": "error",
     "traceback": [
      "\u001b[1;31m---------------------------------------------------------------------------\u001b[0m",
      "\u001b[1;31mNameError\u001b[0m                                 Traceback (most recent call last)",
      "\u001b[1;32m<ipython-input-1-addc33d2b933>\u001b[0m in \u001b[0;36m<module>\u001b[1;34m\u001b[0m\n\u001b[1;32m----> 1\u001b[1;33m \u001b[0mallMetrics\u001b[0m\u001b[1;33m[\u001b[0m\u001b[1;34m\"CountLineCode\"\u001b[0m\u001b[1;33m]\u001b[0m\u001b[1;33m.\u001b[0m\u001b[0msum\u001b[0m\u001b[1;33m(\u001b[0m\u001b[1;33m)\u001b[0m\u001b[1;33m/\u001b[0m\u001b[1;36m3\u001b[0m\u001b[1;33m\u001b[0m\u001b[1;33m\u001b[0m\u001b[0m\n\u001b[0m",
      "\u001b[1;31mNameError\u001b[0m: name 'allMetrics' is not defined"
     ]
    }
   ],
   "source": [
    "allMetrics[\"CountLineCode\"].sum()/3"
   ]
  },
  {
   "cell_type": "markdown",
   "metadata": {},
   "source": [
    "### Min"
   ]
  },
  {
   "cell_type": "code",
   "execution_count": 387,
   "metadata": {
    "scrolled": true
   },
   "outputs": [
    {
     "name": "stdout",
     "output_type": "stream",
     "text": [
      "AvgCyclomatic                                                           0\n",
      "AvgCyclomaticModified                                                   0\n",
      "AvgCyclomaticStrict                                                     0\n",
      "AvgEssential                                                            0\n",
      "AvgLine                                                                 0\n",
      "AvgLineBlank                                                            0\n",
      "AvgLineCode                                                             0\n",
      "AvgLineComment                                                          0\n",
      "CountClassBase                                                          1\n",
      "CountClassCoupled                                                       0\n",
      "CountClassCoupledModified                                               0\n",
      "CountClassDerived                                                       0\n",
      "CountDeclClass                                                          1\n",
      "CountDeclClassMethod                                                    0\n",
      "CountDeclClassVariable                                                  0\n",
      "CountDeclExecutableUnit                                              None\n",
      "CountDeclFile                                                        None\n",
      "CountDeclFunction                                                    None\n",
      "CountDeclInstanceMethod                                                 0\n",
      "CountDeclInstanceVariable                                               0\n",
      "CountDeclMethod                                                         0\n",
      "CountDeclMethodAll                                                     12\n",
      "CountDeclMethodDefault                                                  0\n",
      "CountDeclMethodPrivate                                                  0\n",
      "CountDeclMethodProtected                                                0\n",
      "CountDeclMethodPublic                                                   0\n",
      "CountInput                                                           None\n",
      "CountLine                                                               2\n",
      "CountLineBlank                                                          0\n",
      "CountLineCode                                                           2\n",
      "CountLineCodeDecl                                                       1\n",
      "CountLineCodeExe                                                        0\n",
      "CountLineComment                                                        0\n",
      "CountOutput                                                          None\n",
      "CountPath                                                            None\n",
      "CountPathLog                                                         None\n",
      "CountSemicolon                                                          0\n",
      "CountStmt                                                               1\n",
      "CountStmtDecl                                                           1\n",
      "CountStmtExe                                                            0\n",
      "Cyclomatic                                                           None\n",
      "CyclomaticModified                                                   None\n",
      "CyclomaticStrict                                                     None\n",
      "Essential                                                            None\n",
      "Knots                                                                None\n",
      "MaxCyclomatic                                                           0\n",
      "MaxCyclomaticModified                                                   0\n",
      "MaxCyclomaticStrict                                                     0\n",
      "MaxEssential                                                            0\n",
      "MaxEssentialKnots                                                    None\n",
      "MaxInheritanceTree                                                      1\n",
      "MaxNesting                                                              0\n",
      "MinEssentialKnots                                                    None\n",
      "PercentLackOfCohesion                                                   0\n",
      "PercentLackOfCohesionModified                                           0\n",
      "RatioCommentToCode                                                      0\n",
      "SumCyclomatic                                                           0\n",
      "SumCyclomaticModified                                                   0\n",
      "SumCyclomaticStrict                                                     0\n",
      "SumEssential                                                            0\n",
      "type                                                               median\n",
      "numberJavaFiles                                                         1\n",
      "commitSha                        000174e5c9e05d119930b2a13db5aefb837209ea\n",
      "commitDate                                            2013-04-15 08:50:04\n",
      "readability                                                             0\n",
      "dtype: object\n"
     ]
    }
   ],
   "source": [
    "with pd.option_context('display.max_rows', None, 'display.max_columns', None):  # more options can be specified also\n",
    "    print(allMetrics.min())\n",
    "stats[\"min\"] = allMetrics.min()"
   ]
  },
  {
   "cell_type": "markdown",
   "metadata": {},
   "source": [
    "### Max"
   ]
  },
  {
   "cell_type": "code",
   "execution_count": 388,
   "metadata": {
    "scrolled": true
   },
   "outputs": [
    {
     "name": "stdout",
     "output_type": "stream",
     "text": [
      "AvgCyclomatic                                                           8\n",
      "AvgCyclomaticModified                                                   8\n",
      "AvgCyclomaticStrict                                                     8\n",
      "AvgEssential                                                            6\n",
      "AvgLine                                                               146\n",
      "AvgLineBlank                                                         20.5\n",
      "AvgLineCode                                                           103\n",
      "AvgLineComment                                                       22.5\n",
      "CountClassBase                                                        1.5\n",
      "CountClassCoupled                                                      30\n",
      "CountClassCoupledModified                                               4\n",
      "CountClassDerived                                                       0\n",
      "CountDeclClass                                                        500\n",
      "CountDeclClassMethod                                                   45\n",
      "CountDeclClassVariable                                               10.5\n",
      "CountDeclExecutableUnit                                              None\n",
      "CountDeclFile                                                        None\n",
      "CountDeclFunction                                                    None\n",
      "CountDeclInstanceMethod                                                 8\n",
      "CountDeclInstanceVariable                                             5.5\n",
      "CountDeclMethod                                                      45.5\n",
      "CountDeclMethodAll                                                   57.5\n",
      "CountDeclMethodDefault                                                  3\n",
      "CountDeclMethodPrivate                                                  9\n",
      "CountDeclMethodProtected                                              1.5\n",
      "CountDeclMethodPublic                                                43.5\n",
      "CountInput                                                           None\n",
      "CountLine                                                          1622.5\n",
      "CountLineBlank                                                        153\n",
      "CountLineCode                                                        1207\n",
      "CountLineCodeDecl                                                     178\n",
      "CountLineCodeExe                                                    992.5\n",
      "CountLineComment                                                    268.5\n",
      "CountOutput                                                          None\n",
      "CountPath                                                            None\n",
      "CountPathLog                                                         None\n",
      "CountSemicolon                                                      395.5\n",
      "CountStmt                                                           629.5\n",
      "CountStmtDecl                                                         212\n",
      "CountStmtExe                                                        420.5\n",
      "Cyclomatic                                                           None\n",
      "CyclomaticModified                                                   None\n",
      "CyclomaticStrict                                                     None\n",
      "Essential                                                            None\n",
      "Knots                                                                None\n",
      "MaxCyclomatic                                                          20\n",
      "MaxCyclomaticModified                                                  20\n",
      "MaxCyclomaticStrict                                                  20.5\n",
      "MaxEssential                                                            6\n",
      "MaxEssentialKnots                                                    None\n",
      "MaxInheritanceTree                                                      2\n",
      "MaxNesting                                                            5.5\n",
      "MinEssentialKnots                                                    None\n",
      "PercentLackOfCohesion                                                  83\n",
      "PercentLackOfCohesionModified                                          83\n",
      "RatioCommentToCode                                                   1.16\n",
      "SumCyclomatic                                                       177.5\n",
      "SumCyclomaticModified                                               177.5\n",
      "SumCyclomaticStrict                                                   190\n",
      "SumEssential                                                           48\n",
      "type                                                               median\n",
      "numberJavaFiles                                                       232\n",
      "commitSha                        ffef67e6abe04fb501c8236e36a10e7abcb8f2df\n",
      "commitDate                                            2020-09-30 10:59:04\n",
      "readability                                                       1.73426\n",
      "dtype: object\n"
     ]
    }
   ],
   "source": [
    "with pd.option_context('display.max_rows', None, 'display.max_columns', None):  # more options can be specified also\n",
    "    print(allMetrics.max())\n",
    "stats[\"max\"] = allMetrics.max()"
   ]
  },
  {
   "cell_type": "markdown",
   "metadata": {},
   "source": [
    "### Average"
   ]
  },
  {
   "cell_type": "code",
   "execution_count": 389,
   "metadata": {
    "scrolled": true
   },
   "outputs": [
    {
     "name": "stdout",
     "output_type": "stream",
     "text": [
      "AvgCyclomatic                     1.210931\n",
      "AvgCyclomaticModified             1.210661\n",
      "AvgCyclomaticStrict               1.218084\n",
      "AvgEssential                      1.008030\n",
      "AvgLine                           8.572537\n",
      "AvgLineBlank                      0.743117\n",
      "AvgLineCode                       6.881174\n",
      "AvgLineComment                    0.815317\n",
      "CountClassBase                    1.014305\n",
      "CountClassCoupled                 4.063968\n",
      "CountClassCoupledModified         0.416869\n",
      "CountClassDerived                 0.000000\n",
      "CountDeclClass                    8.203374\n",
      "CountDeclClassMethod              1.190553\n",
      "CountDeclClassVariable            0.218219\n",
      "CountDeclExecutableUnit                NaN\n",
      "CountDeclFile                          NaN\n",
      "CountDeclFunction                      NaN\n",
      "CountDeclInstanceMethod           1.725506\n",
      "CountDeclInstanceVariable         0.668016\n",
      "CountDeclMethod                   3.088596\n",
      "CountDeclMethodAll               15.155938\n",
      "CountDeclMethodDefault            0.119636\n",
      "CountDeclMethodPrivate            0.150810\n",
      "CountDeclMethodProtected          0.010729\n",
      "CountDeclMethodPublic             2.617544\n",
      "CountInput                             NaN\n",
      "CountLine                        60.523752\n",
      "CountLineBlank                    8.418219\n",
      "CountLineCode                    43.668623\n",
      "CountLineCodeDecl                11.349663\n",
      "CountLineCodeExe                 29.519703\n",
      "CountLineComment                  8.368016\n",
      "CountOutput                            NaN\n",
      "CountPath                              NaN\n",
      "CountPathLog                           NaN\n",
      "CountSemicolon                   16.783333\n",
      "CountStmt                        25.727665\n",
      "CountStmtDecl                    10.805803\n",
      "CountStmtExe                     14.845277\n",
      "Cyclomatic                             NaN\n",
      "CyclomaticModified                     NaN\n",
      "CyclomaticStrict                       NaN\n",
      "Essential                              NaN\n",
      "Knots                                  NaN\n",
      "MaxCyclomatic                     1.785695\n",
      "MaxCyclomaticModified             1.781849\n",
      "MaxCyclomaticStrict               1.822672\n",
      "MaxEssential                      1.053711\n",
      "MaxEssentialKnots                      NaN\n",
      "MaxInheritanceTree                1.053846\n",
      "MaxNesting                        0.370243\n",
      "MinEssentialKnots                      NaN\n",
      "PercentLackOfCohesion            12.719568\n",
      "PercentLackOfCohesionModified    11.991970\n",
      "RatioCommentToCode                0.073318\n",
      "SumCyclomatic                     6.497841\n",
      "SumCyclomaticModified             6.459852\n",
      "SumCyclomaticStrict               6.705803\n",
      "SumEssential                      3.325978\n",
      "numberJavaFiles                   6.166532\n",
      "readability                       0.250319\n",
      "dtype: float64\n"
     ]
    }
   ],
   "source": [
    "with pd.option_context('display.max_rows', None, 'display.max_columns', None):  # more options can be specified also\n",
    "    print(allMetrics.mean())\n",
    "stats[\"avg\"] = allMetrics.mean()"
   ]
  },
  {
   "cell_type": "markdown",
   "metadata": {},
   "source": [
    "### Median"
   ]
  },
  {
   "cell_type": "code",
   "execution_count": 390,
   "metadata": {
    "scrolled": true
   },
   "outputs": [
    {
     "name": "stdout",
     "output_type": "stream",
     "text": [
      "AvgCyclomatic                     1.000000\n",
      "AvgCyclomaticModified             1.000000\n",
      "AvgCyclomaticStrict               1.000000\n",
      "AvgEssential                      1.000000\n",
      "AvgLine                           4.000000\n",
      "AvgLineBlank                      0.000000\n",
      "AvgLineCode                       4.000000\n",
      "AvgLineComment                    0.000000\n",
      "CountClassBase                    1.000000\n",
      "CountClassCoupled                 3.000000\n",
      "CountClassCoupledModified         0.000000\n",
      "CountClassDerived                 0.000000\n",
      "CountDeclClass                    4.000000\n",
      "CountDeclClassMethod              0.000000\n",
      "CountDeclClassVariable            0.000000\n",
      "CountDeclExecutableUnit                NaN\n",
      "CountDeclFile                          NaN\n",
      "CountDeclFunction                      NaN\n",
      "CountDeclInstanceMethod           1.000000\n",
      "CountDeclInstanceVariable         0.000000\n",
      "CountDeclMethod                   2.000000\n",
      "CountDeclMethodAll               14.000000\n",
      "CountDeclMethodDefault            0.000000\n",
      "CountDeclMethodPrivate            0.000000\n",
      "CountDeclMethodProtected          0.000000\n",
      "CountDeclMethodPublic             1.500000\n",
      "CountInput                             NaN\n",
      "CountLine                        18.000000\n",
      "CountLineBlank                    4.000000\n",
      "CountLineCode                    14.000000\n",
      "CountLineCodeDecl                 6.500000\n",
      "CountLineCodeExe                  5.000000\n",
      "CountLineComment                  0.000000\n",
      "CountOutput                            NaN\n",
      "CountPath                              NaN\n",
      "CountPathLog                           NaN\n",
      "CountSemicolon                    5.000000\n",
      "CountStmt                         8.500000\n",
      "CountStmtDecl                     5.000000\n",
      "CountStmtExe                      4.000000\n",
      "Cyclomatic                             NaN\n",
      "CyclomaticModified                     NaN\n",
      "CyclomaticStrict                       NaN\n",
      "Essential                              NaN\n",
      "Knots                                  NaN\n",
      "MaxCyclomatic                     1.000000\n",
      "MaxCyclomaticModified             1.000000\n",
      "MaxCyclomaticStrict               1.000000\n",
      "MaxEssential                      1.000000\n",
      "MaxEssentialKnots                      NaN\n",
      "MaxInheritanceTree                1.000000\n",
      "MaxNesting                        0.000000\n",
      "MinEssentialKnots                      NaN\n",
      "PercentLackOfCohesion             0.000000\n",
      "PercentLackOfCohesionModified     0.000000\n",
      "RatioCommentToCode                0.000000\n",
      "SumCyclomatic                     2.500000\n",
      "SumCyclomaticModified             2.500000\n",
      "SumCyclomaticStrict               2.500000\n",
      "SumEssential                      2.000000\n",
      "numberJavaFiles                   4.000000\n",
      "readability                       0.207325\n",
      "dtype: float64\n"
     ]
    }
   ],
   "source": [
    "with pd.option_context('display.max_rows', None, 'display.max_columns', None):  # more options can be specified also\n",
    "    print(allMetrics.median())\n",
    "stats[\"med\"] = allMetrics.median()"
   ]
  },
  {
   "cell_type": "markdown",
   "metadata": {},
   "source": [
    "### Standard Deviation"
   ]
  },
  {
   "cell_type": "code",
   "execution_count": 391,
   "metadata": {
    "scrolled": true
   },
   "outputs": [
    {
     "name": "stdout",
     "output_type": "stream",
     "text": [
      "AvgCyclomatic                      0.673257\n",
      "AvgCyclomaticModified              0.672439\n",
      "AvgCyclomaticStrict                0.691773\n",
      "AvgEssential                       0.161929\n",
      "AvgLine                           12.454334\n",
      "AvgLineBlank                       2.096046\n",
      "AvgLineCode                        8.204471\n",
      "AvgLineComment                     2.465390\n",
      "CountClassBase                     0.083359\n",
      "CountClassCoupled                  3.638357\n",
      "CountClassCoupledModified          0.609380\n",
      "CountClassDerived                  0.000000\n",
      "CountDeclClass                    21.882854\n",
      "CountDeclClassMethod               5.619365\n",
      "CountDeclClassVariable             0.873775\n",
      "CountDeclExecutableUnit                 NaN\n",
      "CountDeclFile                           NaN\n",
      "CountDeclFunction                       NaN\n",
      "CountDeclInstanceMethod            1.302488\n",
      "CountDeclInstanceVariable          0.839038\n",
      "CountDeclMethod                    5.666254\n",
      "CountDeclMethodAll                 5.677260\n",
      "CountDeclMethodDefault             0.392378\n",
      "CountDeclMethodPrivate             0.602467\n",
      "CountDeclMethodProtected           0.086470\n",
      "CountDeclMethodPublic              5.362304\n",
      "CountInput                              NaN\n",
      "CountLine                        202.943173\n",
      "CountLineBlank                    19.161060\n",
      "CountLineCode                    149.489804\n",
      "CountLineCodeDecl                 22.650814\n",
      "CountLineCodeExe                 123.289683\n",
      "CountLineComment                  35.334372\n",
      "CountOutput                             NaN\n",
      "CountPath                               NaN\n",
      "CountPathLog                            NaN\n",
      "CountSemicolon                    49.664954\n",
      "CountStmt                         77.861486\n",
      "CountStmtDecl                     26.724473\n",
      "CountStmtExe                      51.239491\n",
      "Cyclomatic                              NaN\n",
      "CyclomaticModified                      NaN\n",
      "CyclomaticStrict                        NaN\n",
      "Essential                               NaN\n",
      "Knots                                   NaN\n",
      "MaxCyclomatic                      2.354131\n",
      "MaxCyclomaticModified              2.352968\n",
      "MaxCyclomaticStrict                2.534124\n",
      "MaxEssential                       0.342205\n",
      "MaxEssentialKnots                       NaN\n",
      "MaxInheritanceTree                 0.205379\n",
      "MaxNesting                         0.786106\n",
      "MinEssentialKnots                       NaN\n",
      "PercentLackOfCohesion             21.985886\n",
      "PercentLackOfCohesionModified     21.061262\n",
      "RatioCommentToCode                 0.156781\n",
      "SumCyclomatic                     21.442879\n",
      "SumCyclomaticModified             21.424699\n",
      "SumCyclomaticStrict               22.490227\n",
      "SumEssential                       5.906705\n",
      "numberJavaFiles                   11.176340\n",
      "readability                        0.275634\n",
      "dtype: float64\n"
     ]
    }
   ],
   "source": [
    "with pd.option_context('display.max_rows', None, 'display.max_columns', None):  # more options can be specified also\n",
    "    print(allMetrics.std())\n",
    "stats[\"std\"] = allMetrics.std()"
   ]
  },
  {
   "cell_type": "code",
   "execution_count": 392,
   "metadata": {},
   "outputs": [],
   "source": [
    "stats.to_csv(\"stats.csv\")"
   ]
  },
  {
   "cell_type": "code",
   "execution_count": 393,
   "metadata": {},
   "outputs": [
    {
     "data": {
      "text/html": [
       "<div>\n",
       "<style scoped>\n",
       "    .dataframe tbody tr th:only-of-type {\n",
       "        vertical-align: middle;\n",
       "    }\n",
       "\n",
       "    .dataframe tbody tr th {\n",
       "        vertical-align: top;\n",
       "    }\n",
       "\n",
       "    .dataframe thead th {\n",
       "        text-align: right;\n",
       "    }\n",
       "</style>\n",
       "<table border=\"1\" class=\"dataframe\">\n",
       "  <thead>\n",
       "    <tr style=\"text-align: right;\">\n",
       "      <th></th>\n",
       "      <th>min</th>\n",
       "      <th>max</th>\n",
       "      <th>avg</th>\n",
       "      <th>med</th>\n",
       "      <th>std</th>\n",
       "    </tr>\n",
       "  </thead>\n",
       "  <tbody>\n",
       "    <tr>\n",
       "      <th>AvgCyclomatic</th>\n",
       "      <td>0</td>\n",
       "      <td>8</td>\n",
       "      <td>1.210931</td>\n",
       "      <td>1.000000</td>\n",
       "      <td>0.673257</td>\n",
       "    </tr>\n",
       "    <tr>\n",
       "      <th>AvgCyclomaticModified</th>\n",
       "      <td>0</td>\n",
       "      <td>8</td>\n",
       "      <td>1.210661</td>\n",
       "      <td>1.000000</td>\n",
       "      <td>0.672439</td>\n",
       "    </tr>\n",
       "    <tr>\n",
       "      <th>AvgCyclomaticStrict</th>\n",
       "      <td>0</td>\n",
       "      <td>8</td>\n",
       "      <td>1.218084</td>\n",
       "      <td>1.000000</td>\n",
       "      <td>0.691773</td>\n",
       "    </tr>\n",
       "    <tr>\n",
       "      <th>AvgEssential</th>\n",
       "      <td>0</td>\n",
       "      <td>6</td>\n",
       "      <td>1.008030</td>\n",
       "      <td>1.000000</td>\n",
       "      <td>0.161929</td>\n",
       "    </tr>\n",
       "    <tr>\n",
       "      <th>AvgLine</th>\n",
       "      <td>0</td>\n",
       "      <td>146</td>\n",
       "      <td>8.572537</td>\n",
       "      <td>4.000000</td>\n",
       "      <td>12.454334</td>\n",
       "    </tr>\n",
       "    <tr>\n",
       "      <th>...</th>\n",
       "      <td>...</td>\n",
       "      <td>...</td>\n",
       "      <td>...</td>\n",
       "      <td>...</td>\n",
       "      <td>...</td>\n",
       "    </tr>\n",
       "    <tr>\n",
       "      <th>type</th>\n",
       "      <td>median</td>\n",
       "      <td>median</td>\n",
       "      <td>NaN</td>\n",
       "      <td>NaN</td>\n",
       "      <td>NaN</td>\n",
       "    </tr>\n",
       "    <tr>\n",
       "      <th>numberJavaFiles</th>\n",
       "      <td>1</td>\n",
       "      <td>232</td>\n",
       "      <td>6.166532</td>\n",
       "      <td>4.000000</td>\n",
       "      <td>11.176340</td>\n",
       "    </tr>\n",
       "    <tr>\n",
       "      <th>commitSha</th>\n",
       "      <td>000174e5c9e05d119930b2a13db5aefb837209ea</td>\n",
       "      <td>ffef67e6abe04fb501c8236e36a10e7abcb8f2df</td>\n",
       "      <td>NaN</td>\n",
       "      <td>NaN</td>\n",
       "      <td>NaN</td>\n",
       "    </tr>\n",
       "    <tr>\n",
       "      <th>commitDate</th>\n",
       "      <td>2013-04-15 08:50:04</td>\n",
       "      <td>2020-09-30 10:59:04</td>\n",
       "      <td>NaN</td>\n",
       "      <td>NaN</td>\n",
       "      <td>NaN</td>\n",
       "    </tr>\n",
       "    <tr>\n",
       "      <th>readability</th>\n",
       "      <td>0</td>\n",
       "      <td>1.73426</td>\n",
       "      <td>0.250319</td>\n",
       "      <td>0.207325</td>\n",
       "      <td>0.275634</td>\n",
       "    </tr>\n",
       "  </tbody>\n",
       "</table>\n",
       "<p>65 rows × 5 columns</p>\n",
       "</div>"
      ],
      "text/plain": [
       "                                                            min  \\\n",
       "AvgCyclomatic                                                 0   \n",
       "AvgCyclomaticModified                                         0   \n",
       "AvgCyclomaticStrict                                           0   \n",
       "AvgEssential                                                  0   \n",
       "AvgLine                                                       0   \n",
       "...                                                         ...   \n",
       "type                                                     median   \n",
       "numberJavaFiles                                               1   \n",
       "commitSha              000174e5c9e05d119930b2a13db5aefb837209ea   \n",
       "commitDate                                  2013-04-15 08:50:04   \n",
       "readability                                                   0   \n",
       "\n",
       "                                                            max       avg  \\\n",
       "AvgCyclomatic                                                 8  1.210931   \n",
       "AvgCyclomaticModified                                         8  1.210661   \n",
       "AvgCyclomaticStrict                                           8  1.218084   \n",
       "AvgEssential                                                  6  1.008030   \n",
       "AvgLine                                                     146  8.572537   \n",
       "...                                                         ...       ...   \n",
       "type                                                     median       NaN   \n",
       "numberJavaFiles                                             232  6.166532   \n",
       "commitSha              ffef67e6abe04fb501c8236e36a10e7abcb8f2df       NaN   \n",
       "commitDate                                  2020-09-30 10:59:04       NaN   \n",
       "readability                                             1.73426  0.250319   \n",
       "\n",
       "                            med        std  \n",
       "AvgCyclomatic          1.000000   0.673257  \n",
       "AvgCyclomaticModified  1.000000   0.672439  \n",
       "AvgCyclomaticStrict    1.000000   0.691773  \n",
       "AvgEssential           1.000000   0.161929  \n",
       "AvgLine                4.000000  12.454334  \n",
       "...                         ...        ...  \n",
       "type                        NaN        NaN  \n",
       "numberJavaFiles        4.000000  11.176340  \n",
       "commitSha                   NaN        NaN  \n",
       "commitDate                  NaN        NaN  \n",
       "readability            0.207325   0.275634  \n",
       "\n",
       "[65 rows x 5 columns]"
      ]
     },
     "execution_count": 393,
     "metadata": {},
     "output_type": "execute_result"
    }
   ],
   "source": [
    "stats"
   ]
  },
  {
   "cell_type": "markdown",
   "metadata": {},
   "source": [
    "Questions"
   ]
  },
  {
   "cell_type": "code",
   "execution_count": 394,
   "metadata": {},
   "outputs": [],
   "source": [
    "allMetrics.set_index(allMetrics[\"commitDate\"], inplace=True)\n",
    "\n",
    "allMetrics.index\n",
    "\n",
    "del allMetrics[\"commitDate\"]"
   ]
  },
  {
   "cell_type": "code",
   "execution_count": 395,
   "metadata": {},
   "outputs": [],
   "source": [
    "allMetrics = allMetrics.groupby([(allMetrics.index.year), (allMetrics.index.month)]).mean()"
   ]
  },
  {
   "cell_type": "markdown",
   "metadata": {},
   "source": [
    "## Loading SO questions"
   ]
  },
  {
   "cell_type": "code",
   "execution_count": 396,
   "metadata": {},
   "outputs": [],
   "source": [
    "androidQuestions = pd.read_csv(\"..\\\\1-GettingQuestions\\\\questions\\\\androidQuestions.csv\")\n",
    "awsQuestions = pd.read_csv(\"..\\\\1-GettingQuestions\\\\questions\\\\awsQuestions.csv\")\n",
    "azureQuestions = pd.read_csv(\"..\\\\1-GettingQuestions\\\\questions\\\\azureQuestions.csv\")\n",
    "springQuestions = pd.read_csv(\"..\\\\1-GettingQuestions\\\\questions\\\\springQuestions.csv\")"
   ]
  },
  {
   "cell_type": "code",
   "execution_count": 397,
   "metadata": {},
   "outputs": [
    {
     "data": {
      "text/plain": [
       "1083"
      ]
     },
     "execution_count": 397,
     "metadata": {},
     "output_type": "execute_result"
    }
   ],
   "source": [
    "len(androidQuestions)"
   ]
  },
  {
   "cell_type": "code",
   "execution_count": 398,
   "metadata": {},
   "outputs": [
    {
     "data": {
      "text/plain": [
       "14"
      ]
     },
     "execution_count": 398,
     "metadata": {},
     "output_type": "execute_result"
    }
   ],
   "source": [
    "len(awsQuestions)"
   ]
  },
  {
   "cell_type": "code",
   "execution_count": 399,
   "metadata": {},
   "outputs": [
    {
     "data": {
      "text/plain": [
       "64"
      ]
     },
     "execution_count": 399,
     "metadata": {},
     "output_type": "execute_result"
    }
   ],
   "source": [
    "len(azureQuestions)"
   ]
  },
  {
   "cell_type": "code",
   "execution_count": 400,
   "metadata": {},
   "outputs": [
    {
     "data": {
      "text/plain": [
       "136"
      ]
     },
     "execution_count": 400,
     "metadata": {},
     "output_type": "execute_result"
    }
   ],
   "source": [
    "len(springQuestions)"
   ]
  },
  {
   "cell_type": "code",
   "execution_count": 401,
   "metadata": {},
   "outputs": [],
   "source": [
    "allQuestions = pd.concat([androidQuestions, awsQuestions, azureQuestions, springQuestions], axis=0, ignore_index=True)"
   ]
  },
  {
   "cell_type": "code",
   "execution_count": 402,
   "metadata": {},
   "outputs": [
    {
     "data": {
      "text/plain": [
       "1297"
      ]
     },
     "execution_count": 402,
     "metadata": {},
     "output_type": "execute_result"
    }
   ],
   "source": [
    "len(allQuestions)"
   ]
  },
  {
   "cell_type": "code",
   "execution_count": 403,
   "metadata": {},
   "outputs": [],
   "source": [
    "allQuestions['creationDate'] = pd.to_datetime(allQuestions['creationDate'])\n",
    "allQuestions.sort_values(by=\"creationDate\", inplace=True)\n",
    "allQuestions.set_index(allQuestions['creationDate'], inplace=True)\n",
    "allQuestions[\"questions\"] = 1\n",
    "allQuestions=allQuestions.groupby([(allQuestions.index.year), (allQuestions.index.month)]).sum()"
   ]
  },
  {
   "cell_type": "code",
   "execution_count": 404,
   "metadata": {},
   "outputs": [],
   "source": [
    "del allQuestions[\"ownerUserId\"]\n",
    "del allQuestions[\"postTypeId\"]\n",
    "del allQuestions[\"acceptedAnswerId\"]\n",
    "del allQuestions[\"id\"]"
   ]
  },
  {
   "cell_type": "markdown",
   "metadata": {},
   "source": [
    "## Merging the data"
   ]
  },
  {
   "cell_type": "code",
   "execution_count": 405,
   "metadata": {
    "scrolled": true
   },
   "outputs": [],
   "source": [
    "metricsAndQuestions = pd.concat([allMetrics, allQuestions], axis=1)\n",
    "metricsAndQuestions[\"questions\"].fillna(0, inplace=True)\n",
    "metricsAndQuestions.fillna(method=\"ffill\", inplace=True)"
   ]
  },
  {
   "cell_type": "markdown",
   "metadata": {},
   "source": [
    "## Saving"
   ]
  },
  {
   "cell_type": "code",
   "execution_count": 406,
   "metadata": {},
   "outputs": [],
   "source": [
    "metricsAndQuestions.to_csv(\"metricsAndQuestions.csv\")"
   ]
  },
  {
   "cell_type": "code",
   "execution_count": 407,
   "metadata": {},
   "outputs": [
    {
     "data": {
      "text/html": [
       "<div>\n",
       "<style scoped>\n",
       "    .dataframe tbody tr th:only-of-type {\n",
       "        vertical-align: middle;\n",
       "    }\n",
       "\n",
       "    .dataframe tbody tr th {\n",
       "        vertical-align: top;\n",
       "    }\n",
       "\n",
       "    .dataframe thead th {\n",
       "        text-align: right;\n",
       "    }\n",
       "</style>\n",
       "<table border=\"1\" class=\"dataframe\">\n",
       "  <thead>\n",
       "    <tr style=\"text-align: right;\">\n",
       "      <th></th>\n",
       "      <th></th>\n",
       "      <th>AvgCyclomatic</th>\n",
       "      <th>AvgCyclomaticModified</th>\n",
       "      <th>AvgCyclomaticStrict</th>\n",
       "      <th>AvgEssential</th>\n",
       "      <th>AvgLine</th>\n",
       "      <th>AvgLineBlank</th>\n",
       "      <th>AvgLineCode</th>\n",
       "      <th>AvgLineComment</th>\n",
       "      <th>CountClassBase</th>\n",
       "      <th>CountClassCoupled</th>\n",
       "      <th>...</th>\n",
       "      <th>PercentLackOfCohesion</th>\n",
       "      <th>PercentLackOfCohesionModified</th>\n",
       "      <th>RatioCommentToCode</th>\n",
       "      <th>SumCyclomatic</th>\n",
       "      <th>SumCyclomaticModified</th>\n",
       "      <th>SumCyclomaticStrict</th>\n",
       "      <th>SumEssential</th>\n",
       "      <th>numberJavaFiles</th>\n",
       "      <th>readability</th>\n",
       "      <th>questions</th>\n",
       "    </tr>\n",
       "  </thead>\n",
       "  <tbody>\n",
       "    <tr>\n",
       "      <th rowspan=\"5\" valign=\"top\">2013</th>\n",
       "      <th>4</th>\n",
       "      <td>0.947368</td>\n",
       "      <td>0.947368</td>\n",
       "      <td>0.947368</td>\n",
       "      <td>0.842105</td>\n",
       "      <td>5.302632</td>\n",
       "      <td>0.486842</td>\n",
       "      <td>4.605263</td>\n",
       "      <td>0.223684</td>\n",
       "      <td>1.000000</td>\n",
       "      <td>3.328947</td>\n",
       "      <td>...</td>\n",
       "      <td>0.000000</td>\n",
       "      <td>0.000000</td>\n",
       "      <td>0.010263</td>\n",
       "      <td>1.894737</td>\n",
       "      <td>1.894737</td>\n",
       "      <td>1.894737</td>\n",
       "      <td>1.131579</td>\n",
       "      <td>5.368421</td>\n",
       "      <td>0.315649</td>\n",
       "      <td>0.0</td>\n",
       "    </tr>\n",
       "    <tr>\n",
       "      <th>5</th>\n",
       "      <td>1.259542</td>\n",
       "      <td>1.259542</td>\n",
       "      <td>1.259542</td>\n",
       "      <td>1.000000</td>\n",
       "      <td>8.969466</td>\n",
       "      <td>0.896947</td>\n",
       "      <td>7.687023</td>\n",
       "      <td>0.400763</td>\n",
       "      <td>1.000000</td>\n",
       "      <td>3.503817</td>\n",
       "      <td>...</td>\n",
       "      <td>0.377863</td>\n",
       "      <td>0.377863</td>\n",
       "      <td>0.037137</td>\n",
       "      <td>1.942748</td>\n",
       "      <td>1.942748</td>\n",
       "      <td>1.942748</td>\n",
       "      <td>1.587786</td>\n",
       "      <td>3.740458</td>\n",
       "      <td>0.241234</td>\n",
       "      <td>0.0</td>\n",
       "    </tr>\n",
       "    <tr>\n",
       "      <th>6</th>\n",
       "      <td>1.181818</td>\n",
       "      <td>1.181818</td>\n",
       "      <td>1.181818</td>\n",
       "      <td>1.000000</td>\n",
       "      <td>7.051136</td>\n",
       "      <td>0.596591</td>\n",
       "      <td>6.204545</td>\n",
       "      <td>0.232955</td>\n",
       "      <td>1.005682</td>\n",
       "      <td>3.215909</td>\n",
       "      <td>...</td>\n",
       "      <td>6.232955</td>\n",
       "      <td>6.232955</td>\n",
       "      <td>0.024318</td>\n",
       "      <td>2.386364</td>\n",
       "      <td>2.386364</td>\n",
       "      <td>2.386364</td>\n",
       "      <td>2.051136</td>\n",
       "      <td>3.068182</td>\n",
       "      <td>0.265861</td>\n",
       "      <td>0.0</td>\n",
       "    </tr>\n",
       "    <tr>\n",
       "      <th>7</th>\n",
       "      <td>1.104326</td>\n",
       "      <td>1.104326</td>\n",
       "      <td>1.104326</td>\n",
       "      <td>1.000000</td>\n",
       "      <td>6.416031</td>\n",
       "      <td>0.389313</td>\n",
       "      <td>5.792621</td>\n",
       "      <td>0.142494</td>\n",
       "      <td>1.002545</td>\n",
       "      <td>3.703562</td>\n",
       "      <td>...</td>\n",
       "      <td>14.510178</td>\n",
       "      <td>14.510178</td>\n",
       "      <td>0.016794</td>\n",
       "      <td>2.721374</td>\n",
       "      <td>2.721374</td>\n",
       "      <td>2.777354</td>\n",
       "      <td>2.255725</td>\n",
       "      <td>3.027990</td>\n",
       "      <td>0.266828</td>\n",
       "      <td>0.0</td>\n",
       "    </tr>\n",
       "    <tr>\n",
       "      <th>8</th>\n",
       "      <td>1.091724</td>\n",
       "      <td>1.091724</td>\n",
       "      <td>1.091724</td>\n",
       "      <td>1.000000</td>\n",
       "      <td>6.205517</td>\n",
       "      <td>0.407586</td>\n",
       "      <td>5.602759</td>\n",
       "      <td>0.142759</td>\n",
       "      <td>1.000000</td>\n",
       "      <td>3.549655</td>\n",
       "      <td>...</td>\n",
       "      <td>14.131034</td>\n",
       "      <td>14.131034</td>\n",
       "      <td>0.015283</td>\n",
       "      <td>2.504138</td>\n",
       "      <td>2.504138</td>\n",
       "      <td>2.597931</td>\n",
       "      <td>2.039310</td>\n",
       "      <td>3.295172</td>\n",
       "      <td>0.324683</td>\n",
       "      <td>0.0</td>\n",
       "    </tr>\n",
       "    <tr>\n",
       "      <th>...</th>\n",
       "      <th>...</th>\n",
       "      <td>...</td>\n",
       "      <td>...</td>\n",
       "      <td>...</td>\n",
       "      <td>...</td>\n",
       "      <td>...</td>\n",
       "      <td>...</td>\n",
       "      <td>...</td>\n",
       "      <td>...</td>\n",
       "      <td>...</td>\n",
       "      <td>...</td>\n",
       "      <td>...</td>\n",
       "      <td>...</td>\n",
       "      <td>...</td>\n",
       "      <td>...</td>\n",
       "      <td>...</td>\n",
       "      <td>...</td>\n",
       "      <td>...</td>\n",
       "      <td>...</td>\n",
       "      <td>...</td>\n",
       "      <td>...</td>\n",
       "      <td>...</td>\n",
       "    </tr>\n",
       "    <tr>\n",
       "      <th rowspan=\"5\" valign=\"top\">2020</th>\n",
       "      <th>5</th>\n",
       "      <td>1.060606</td>\n",
       "      <td>1.060606</td>\n",
       "      <td>1.060606</td>\n",
       "      <td>1.000000</td>\n",
       "      <td>8.484848</td>\n",
       "      <td>0.303030</td>\n",
       "      <td>6.803030</td>\n",
       "      <td>0.545455</td>\n",
       "      <td>1.000000</td>\n",
       "      <td>5.348485</td>\n",
       "      <td>...</td>\n",
       "      <td>4.893939</td>\n",
       "      <td>4.590909</td>\n",
       "      <td>0.048788</td>\n",
       "      <td>3.666667</td>\n",
       "      <td>3.666667</td>\n",
       "      <td>3.757576</td>\n",
       "      <td>2.530303</td>\n",
       "      <td>25.121212</td>\n",
       "      <td>0.208518</td>\n",
       "      <td>8.0</td>\n",
       "    </tr>\n",
       "    <tr>\n",
       "      <th>6</th>\n",
       "      <td>1.200000</td>\n",
       "      <td>1.200000</td>\n",
       "      <td>1.200000</td>\n",
       "      <td>1.000000</td>\n",
       "      <td>13.633333</td>\n",
       "      <td>0.900000</td>\n",
       "      <td>9.300000</td>\n",
       "      <td>2.733333</td>\n",
       "      <td>1.000000</td>\n",
       "      <td>6.533333</td>\n",
       "      <td>...</td>\n",
       "      <td>21.166667</td>\n",
       "      <td>18.500000</td>\n",
       "      <td>0.261667</td>\n",
       "      <td>6.966667</td>\n",
       "      <td>6.566667</td>\n",
       "      <td>7.200000</td>\n",
       "      <td>4.733333</td>\n",
       "      <td>13.866667</td>\n",
       "      <td>0.070826</td>\n",
       "      <td>4.0</td>\n",
       "    </tr>\n",
       "    <tr>\n",
       "      <th>7</th>\n",
       "      <td>1.047619</td>\n",
       "      <td>1.047619</td>\n",
       "      <td>1.047619</td>\n",
       "      <td>1.000000</td>\n",
       "      <td>7.500000</td>\n",
       "      <td>0.571429</td>\n",
       "      <td>5.619048</td>\n",
       "      <td>0.952381</td>\n",
       "      <td>1.000000</td>\n",
       "      <td>3.214286</td>\n",
       "      <td>...</td>\n",
       "      <td>17.261905</td>\n",
       "      <td>15.785714</td>\n",
       "      <td>0.153571</td>\n",
       "      <td>4.333333</td>\n",
       "      <td>4.142857</td>\n",
       "      <td>4.452381</td>\n",
       "      <td>3.476190</td>\n",
       "      <td>10.095238</td>\n",
       "      <td>0.204299</td>\n",
       "      <td>8.0</td>\n",
       "    </tr>\n",
       "    <tr>\n",
       "      <th>8</th>\n",
       "      <td>1.088235</td>\n",
       "      <td>1.088235</td>\n",
       "      <td>1.088235</td>\n",
       "      <td>1.000000</td>\n",
       "      <td>6.362745</td>\n",
       "      <td>0.294118</td>\n",
       "      <td>5.549020</td>\n",
       "      <td>0.421569</td>\n",
       "      <td>1.000000</td>\n",
       "      <td>3.107843</td>\n",
       "      <td>...</td>\n",
       "      <td>13.882353</td>\n",
       "      <td>11.607843</td>\n",
       "      <td>0.057353</td>\n",
       "      <td>3.696078</td>\n",
       "      <td>3.617647</td>\n",
       "      <td>3.764706</td>\n",
       "      <td>2.843137</td>\n",
       "      <td>9.647059</td>\n",
       "      <td>0.263442</td>\n",
       "      <td>8.0</td>\n",
       "    </tr>\n",
       "    <tr>\n",
       "      <th>9</th>\n",
       "      <td>1.942857</td>\n",
       "      <td>1.942857</td>\n",
       "      <td>2.142857</td>\n",
       "      <td>1.028571</td>\n",
       "      <td>22.700000</td>\n",
       "      <td>2.328571</td>\n",
       "      <td>16.542857</td>\n",
       "      <td>3.742857</td>\n",
       "      <td>1.000000</td>\n",
       "      <td>8.728571</td>\n",
       "      <td>...</td>\n",
       "      <td>31.028571</td>\n",
       "      <td>27.914286</td>\n",
       "      <td>0.173143</td>\n",
       "      <td>56.642857</td>\n",
       "      <td>56.585714</td>\n",
       "      <td>60.400000</td>\n",
       "      <td>17.414286</td>\n",
       "      <td>8.771429</td>\n",
       "      <td>0.125756</td>\n",
       "      <td>0.0</td>\n",
       "    </tr>\n",
       "  </tbody>\n",
       "</table>\n",
       "<p>90 rows × 63 columns</p>\n",
       "</div>"
      ],
      "text/plain": [
       "        AvgCyclomatic  AvgCyclomaticModified  AvgCyclomaticStrict  \\\n",
       "2013 4       0.947368               0.947368             0.947368   \n",
       "     5       1.259542               1.259542             1.259542   \n",
       "     6       1.181818               1.181818             1.181818   \n",
       "     7       1.104326               1.104326             1.104326   \n",
       "     8       1.091724               1.091724             1.091724   \n",
       "...               ...                    ...                  ...   \n",
       "2020 5       1.060606               1.060606             1.060606   \n",
       "     6       1.200000               1.200000             1.200000   \n",
       "     7       1.047619               1.047619             1.047619   \n",
       "     8       1.088235               1.088235             1.088235   \n",
       "     9       1.942857               1.942857             2.142857   \n",
       "\n",
       "        AvgEssential    AvgLine  AvgLineBlank  AvgLineCode  AvgLineComment  \\\n",
       "2013 4      0.842105   5.302632      0.486842     4.605263        0.223684   \n",
       "     5      1.000000   8.969466      0.896947     7.687023        0.400763   \n",
       "     6      1.000000   7.051136      0.596591     6.204545        0.232955   \n",
       "     7      1.000000   6.416031      0.389313     5.792621        0.142494   \n",
       "     8      1.000000   6.205517      0.407586     5.602759        0.142759   \n",
       "...              ...        ...           ...          ...             ...   \n",
       "2020 5      1.000000   8.484848      0.303030     6.803030        0.545455   \n",
       "     6      1.000000  13.633333      0.900000     9.300000        2.733333   \n",
       "     7      1.000000   7.500000      0.571429     5.619048        0.952381   \n",
       "     8      1.000000   6.362745      0.294118     5.549020        0.421569   \n",
       "     9      1.028571  22.700000      2.328571    16.542857        3.742857   \n",
       "\n",
       "        CountClassBase  CountClassCoupled  ...  PercentLackOfCohesion  \\\n",
       "2013 4        1.000000           3.328947  ...               0.000000   \n",
       "     5        1.000000           3.503817  ...               0.377863   \n",
       "     6        1.005682           3.215909  ...               6.232955   \n",
       "     7        1.002545           3.703562  ...              14.510178   \n",
       "     8        1.000000           3.549655  ...              14.131034   \n",
       "...                ...                ...  ...                    ...   \n",
       "2020 5        1.000000           5.348485  ...               4.893939   \n",
       "     6        1.000000           6.533333  ...              21.166667   \n",
       "     7        1.000000           3.214286  ...              17.261905   \n",
       "     8        1.000000           3.107843  ...              13.882353   \n",
       "     9        1.000000           8.728571  ...              31.028571   \n",
       "\n",
       "        PercentLackOfCohesionModified  RatioCommentToCode  SumCyclomatic  \\\n",
       "2013 4                       0.000000            0.010263       1.894737   \n",
       "     5                       0.377863            0.037137       1.942748   \n",
       "     6                       6.232955            0.024318       2.386364   \n",
       "     7                      14.510178            0.016794       2.721374   \n",
       "     8                      14.131034            0.015283       2.504138   \n",
       "...                               ...                 ...            ...   \n",
       "2020 5                       4.590909            0.048788       3.666667   \n",
       "     6                      18.500000            0.261667       6.966667   \n",
       "     7                      15.785714            0.153571       4.333333   \n",
       "     8                      11.607843            0.057353       3.696078   \n",
       "     9                      27.914286            0.173143      56.642857   \n",
       "\n",
       "        SumCyclomaticModified  SumCyclomaticStrict  SumEssential  \\\n",
       "2013 4               1.894737             1.894737      1.131579   \n",
       "     5               1.942748             1.942748      1.587786   \n",
       "     6               2.386364             2.386364      2.051136   \n",
       "     7               2.721374             2.777354      2.255725   \n",
       "     8               2.504138             2.597931      2.039310   \n",
       "...                       ...                  ...           ...   \n",
       "2020 5               3.666667             3.757576      2.530303   \n",
       "     6               6.566667             7.200000      4.733333   \n",
       "     7               4.142857             4.452381      3.476190   \n",
       "     8               3.617647             3.764706      2.843137   \n",
       "     9              56.585714            60.400000     17.414286   \n",
       "\n",
       "        numberJavaFiles  readability  questions  \n",
       "2013 4         5.368421     0.315649        0.0  \n",
       "     5         3.740458     0.241234        0.0  \n",
       "     6         3.068182     0.265861        0.0  \n",
       "     7         3.027990     0.266828        0.0  \n",
       "     8         3.295172     0.324683        0.0  \n",
       "...                 ...          ...        ...  \n",
       "2020 5        25.121212     0.208518        8.0  \n",
       "     6        13.866667     0.070826        4.0  \n",
       "     7        10.095238     0.204299        8.0  \n",
       "     8         9.647059     0.263442        8.0  \n",
       "     9         8.771429     0.125756        0.0  \n",
       "\n",
       "[90 rows x 63 columns]"
      ]
     },
     "execution_count": 407,
     "metadata": {},
     "output_type": "execute_result"
    }
   ],
   "source": [
    "pd.read_csv(\"metricsAndQuestions.csv\", index_col=[0,1])"
   ]
  }
 ],
 "metadata": {
  "kernelspec": {
   "display_name": "Python 3",
   "language": "python",
   "name": "python3"
  },
  "language_info": {
   "codemirror_mode": {
    "name": "ipython",
    "version": 3
   },
   "file_extension": ".py",
   "mimetype": "text/x-python",
   "name": "python",
   "nbconvert_exporter": "python",
   "pygments_lexer": "ipython3",
   "version": "3.8.3"
  }
 },
 "nbformat": 4,
 "nbformat_minor": 4
}
