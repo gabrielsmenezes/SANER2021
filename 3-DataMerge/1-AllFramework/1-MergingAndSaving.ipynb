{
 "cells": [
  {
   "cell_type": "code",
   "execution_count": 1,
   "metadata": {},
   "outputs": [],
   "source": [
    "import pandas as pd"
   ]
  },
  {
   "cell_type": "markdown",
   "metadata": {},
   "source": [
    "Loading lists of samples"
   ]
  },
  {
   "cell_type": "code",
   "execution_count": 2,
   "metadata": {},
   "outputs": [],
   "source": [
    "androidListSamples = pd.read_csv(\"..\\\\..\\\\1-GettingQuestions\\\\samplesWithQuestions\\\\androidSamples.csv\")\n",
    "awsListSamples = pd.read_csv(\"..\\\\..\\\\1-GettingQuestions\\\\samplesWithQuestions\\\\awsSamples.csv\")\n",
    "azureListSamples = pd.read_csv(\"..\\\\..\\\\1-GettingQuestions\\\\samplesWithQuestions\\\\azureSamples.csv\")\n",
    "springListSamples = pd.read_csv(\"..\\\\..\\\\1-GettingQuestions\\\\samplesWithQuestions\\\\springSamples.csv\")"
   ]
  },
  {
   "cell_type": "code",
   "execution_count": 7,
   "metadata": {},
   "outputs": [],
   "source": [
    "def getSampleDataframe(name):\n",
    "    name = name.replace(\"/\", \"\\\\\")\n",
    "    sample = pd.read_csv(\"..\\\\..\\\\2-ExtractingMetrics\\\\metrics\\\\\"+name+\".csv\", parse_dates=True)\n",
    "    sampleAverage = sample[sample[\"type\"] == \"average\"]\n",
    "    sampleAverage[\"numberJavaFiles\"] = sample[sample[\"type\"] == \"absolute\"][\"numberJavaFiles\"].values\n",
    "    sampleAverage[\"CountDeclClass\"] = sample[sample[\"type\"] == \"absolute\"][\"CountDeclClass\"].values\n",
    "    sampleAverage[\"readability\"] = (sampleAverage[\"readability\"] * sampleAverage[\"numberJavaFiles\"]) / sampleAverage[\"CountDeclClass\"]\n",
    "    sampleAverage['commitDate'] = pd.to_datetime(sampleAverage['commitDate'].astype(str).str[:-6])\n",
    "    sampleAverage.set_index(\"commitDate\", inplace=True)\n",
    "    sampleAverage.dropna(axis=1, how=\"all\", inplace=True)\n",
    "    sampleAverage = sampleAverage.groupby([(sampleAverage.index.year), (sampleAverage.index.month)]).mean()\n",
    "    generic = pd.DataFrame(index=pd.date_range(start=\"2013-04-15\", end=\"2020-09-30\", freq=\"M\", name=\"commitDate\"))\n",
    "    generic = generic.groupby([(generic.index.year), (generic.index.month)]).sum()\n",
    "    return pd.concat([generic, sampleAverage], axis=1).fillna(method='ffill').dropna(how=\"all\")"
   ]
  },
  {
   "cell_type": "markdown",
   "metadata": {},
   "source": [
    "For each framework, load metrics per samples and group by month"
   ]
  },
  {
   "cell_type": "code",
   "execution_count": 8,
   "metadata": {},
   "outputs": [
    {
     "name": "stderr",
     "output_type": "stream",
     "text": [
      "<ipython-input-7-153a14f4a358>:5: SettingWithCopyWarning: \n",
      "A value is trying to be set on a copy of a slice from a DataFrame.\n",
      "Try using .loc[row_indexer,col_indexer] = value instead\n",
      "\n",
      "See the caveats in the documentation: https://pandas.pydata.org/pandas-docs/stable/user_guide/indexing.html#returning-a-view-versus-a-copy\n",
      "  sampleAverage[\"numberJavaFiles\"] = sample[sample[\"type\"] == \"absolute\"][\"numberJavaFiles\"].values\n",
      "<ipython-input-7-153a14f4a358>:6: SettingWithCopyWarning: \n",
      "A value is trying to be set on a copy of a slice from a DataFrame.\n",
      "Try using .loc[row_indexer,col_indexer] = value instead\n",
      "\n",
      "See the caveats in the documentation: https://pandas.pydata.org/pandas-docs/stable/user_guide/indexing.html#returning-a-view-versus-a-copy\n",
      "  sampleAverage[\"CountDeclClass\"] = sample[sample[\"type\"] == \"absolute\"][\"CountDeclClass\"].values\n",
      "<ipython-input-7-153a14f4a358>:7: SettingWithCopyWarning: \n",
      "A value is trying to be set on a copy of a slice from a DataFrame.\n",
      "Try using .loc[row_indexer,col_indexer] = value instead\n",
      "\n",
      "See the caveats in the documentation: https://pandas.pydata.org/pandas-docs/stable/user_guide/indexing.html#returning-a-view-versus-a-copy\n",
      "  sampleAverage[\"readability\"] = (sampleAverage[\"readability\"] * sampleAverage[\"numberJavaFiles\"]) / sampleAverage[\"CountDeclClass\"]\n",
      "<ipython-input-7-153a14f4a358>:8: SettingWithCopyWarning: \n",
      "A value is trying to be set on a copy of a slice from a DataFrame.\n",
      "Try using .loc[row_indexer,col_indexer] = value instead\n",
      "\n",
      "See the caveats in the documentation: https://pandas.pydata.org/pandas-docs/stable/user_guide/indexing.html#returning-a-view-versus-a-copy\n",
      "  sampleAverage['commitDate'] = pd.to_datetime(sampleAverage['commitDate'].astype(str).str[:-6])\n",
      "<ipython-input-7-153a14f4a358>:10: SettingWithCopyWarning: \n",
      "A value is trying to be set on a copy of a slice from a DataFrame\n",
      "\n",
      "See the caveats in the documentation: https://pandas.pydata.org/pandas-docs/stable/user_guide/indexing.html#returning-a-view-versus-a-copy\n",
      "  sampleAverage.dropna(axis=1, how=\"all\", inplace=True)\n"
     ]
    }
   ],
   "source": [
    "androidSamples = pd.concat([getSampleDataframe(sample) for sample in androidListSamples[\"path\"]], axis=0)\n",
    "awsSamples = pd.concat([getSampleDataframe(sample) for sample in awsListSamples[\"path\"]], axis=0)\n",
    "azureSamples = pd.concat([getSampleDataframe(sample) for sample in azureListSamples[\"path\"]], axis=0)\n",
    "springSamples = pd.concat([getSampleDataframe(sample) for sample in springListSamples[\"path\"]], axis=0)"
   ]
  },
  {
   "cell_type": "code",
   "execution_count": 9,
   "metadata": {
    "scrolled": true
   },
   "outputs": [],
   "source": [
    "androidSamples = androidSamples.groupby(level=[0,1]).mean()\n",
    "awsSamples = awsSamples.groupby(level=[0,1]).mean()\n",
    "azureSamples = azureSamples.groupby(level=[0,1]).mean()\n",
    "springSamples = springSamples.groupby(level=[0,1]).mean()"
   ]
  },
  {
   "cell_type": "markdown",
   "metadata": {},
   "source": [
    "Join all framework in one DataFrame"
   ]
  },
  {
   "cell_type": "code",
   "execution_count": 18,
   "metadata": {},
   "outputs": [],
   "source": [
    "allMetricsAverage = pd.concat([androidSamples, awsSamples, azureSamples, springSamples], axis=0)"
   ]
  },
  {
   "cell_type": "code",
   "execution_count": 19,
   "metadata": {},
   "outputs": [],
   "source": [
    "allMetrics = allMetricsAverage"
   ]
  },
  {
   "cell_type": "code",
   "execution_count": 20,
   "metadata": {},
   "outputs": [],
   "source": [
    "allMetrics = allMetrics.groupby(level=[0,1]).mean()"
   ]
  },
  {
   "cell_type": "code",
   "execution_count": 21,
   "metadata": {},
   "outputs": [],
   "source": [
    "def generateStats(dataframe):\n",
    "    stats = pd.DataFrame(index = dataframe.min().index)\n",
    "    stats[\"min\"] = dataframe.min()\n",
    "    stats[\"max\"] = dataframe.max()\n",
    "    stats[\"avg\"] = dataframe.mean()\n",
    "    stats[\"med\"] = dataframe.median()\n",
    "    stats[\"std\"] = dataframe.std()\n",
    "    stats.to_csv(\"stats.csv\")"
   ]
  },
  {
   "cell_type": "markdown",
   "metadata": {},
   "source": [
    "Obtaining stats"
   ]
  },
  {
   "cell_type": "code",
   "execution_count": 22,
   "metadata": {},
   "outputs": [],
   "source": [
    "generateStats(allMetrics)"
   ]
  },
  {
   "cell_type": "markdown",
   "metadata": {},
   "source": [
    "Loading questions"
   ]
  },
  {
   "cell_type": "code",
   "execution_count": 287,
   "metadata": {},
   "outputs": [],
   "source": [
    "androidQuestions = pd.read_csv(\"..\\\\..\\\\1-GettingQuestions\\\\questions\\\\androidQuestions.csv\")\n",
    "awsQuestions = pd.read_csv(\"..\\\\..\\\\1-GettingQuestions\\\\questions\\\\awsQuestions.csv\")\n",
    "azureQuestions = pd.read_csv(\"..\\\\..\\\\1-GettingQuestions\\\\questions\\\\azureQuestions.csv\")\n",
    "springQuestions = pd.read_csv(\"..\\\\..\\\\1-GettingQuestions\\\\questions\\\\springQuestions.csv\")"
   ]
  },
  {
   "cell_type": "code",
   "execution_count": 288,
   "metadata": {},
   "outputs": [],
   "source": [
    "allQuestions = pd.concat([androidQuestions, awsQuestions, azureQuestions, springQuestions], axis=0, ignore_index=True)"
   ]
  },
  {
   "cell_type": "code",
   "execution_count": null,
   "metadata": {},
   "outputs": [],
   "source": [
    "allQuestions['creationDate'] = pd.to_datetime(allQuestions['creationDate'])\n",
    "allQuestions.sort_values(by=\"creationDate\", inplace=True)\n",
    "allQuestions.set_index(allQuestions['creationDate'], inplace=True)\n",
    "allQuestions[\"questions\"] = 1\n",
    "del allQuestions[\"ownerUserId\"]\n",
    "del allQuestions[\"postTypeId\"]\n",
    "del allQuestions[\"acceptedAnswerId\"]\n",
    "del allQuestions[\"id\"]\n",
    "del allQuestions['creationDate']\n",
    "allQuestions=allQuestions.groupby([(allQuestions.index.year), (allQuestions.index.month)]).sum()"
   ]
  },
  {
   "cell_type": "code",
   "execution_count": 290,
   "metadata": {},
   "outputs": [],
   "source": [
    "allQuestions[\"questions\"]=allQuestions.cumsum()"
   ]
  },
  {
   "cell_type": "markdown",
   "metadata": {},
   "source": [
    "Merging metrics and questions"
   ]
  },
  {
   "cell_type": "code",
   "execution_count": 292,
   "metadata": {
    "scrolled": true
   },
   "outputs": [],
   "source": [
    "metricsAndQuestions = pd.concat([allMetrics, allQuestions], axis=1)\n",
    "metricsAndQuestions.fillna(method=\"ffill\", inplace=True)\n",
    "metricsAndQuestions.fillna(0, inplace=True)"
   ]
  },
  {
   "cell_type": "code",
   "execution_count": 293,
   "metadata": {},
   "outputs": [],
   "source": [
    "metricsAndQuestions = metricsAndQuestions.drop((2020, 9))"
   ]
  },
  {
   "cell_type": "markdown",
   "metadata": {},
   "source": [
    "Saving"
   ]
  },
  {
   "cell_type": "code",
   "execution_count": 294,
   "metadata": {},
   "outputs": [],
   "source": [
    "metricsAndQuestions.to_csv(\"metricsAndQuestions.csv\")"
   ]
  }
 ],
 "metadata": {
  "kernelspec": {
   "display_name": "Python 3",
   "language": "python",
   "name": "python3"
  },
  "language_info": {
   "codemirror_mode": {
    "name": "ipython",
    "version": 3
   },
   "file_extension": ".py",
   "mimetype": "text/x-python",
   "name": "python",
   "nbconvert_exporter": "python",
   "pygments_lexer": "ipython3",
   "version": "3.8.6"
  }
 },
 "nbformat": 4,
 "nbformat_minor": 4
}
