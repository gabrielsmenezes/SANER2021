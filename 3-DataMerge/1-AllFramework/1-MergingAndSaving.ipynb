{
 "cells": [
  {
   "cell_type": "markdown",
   "metadata": {},
   "source": [
    "# Loading data"
   ]
  },
  {
   "cell_type": "code",
   "execution_count": 1,
   "metadata": {},
   "outputs": [],
   "source": [
    "import pandas as pd"
   ]
  },
  {
   "cell_type": "markdown",
   "metadata": {},
   "source": [
    "## Loading metrics"
   ]
  },
  {
   "cell_type": "code",
   "execution_count": 2,
   "metadata": {},
   "outputs": [],
   "source": [
    "androidListSamples = pd.read_csv(\"..\\\\..\\\\1-GettingQuestions\\\\samplesWithQuestions\\\\androidSamples.csv\")\n",
    "awsListSamples = pd.read_csv(\"..\\\\..\\\\1-GettingQuestions\\\\samplesWithQuestions\\\\awsSamples.csv\")\n",
    "azureListSamples = pd.read_csv(\"..\\\\..\\\\1-GettingQuestions\\\\samplesWithQuestions\\\\azureSamples.csv\")\n",
    "springListSamples = pd.read_csv(\"..\\\\..\\\\1-GettingQuestions\\\\samplesWithQuestions\\\\springSamples.csv\")"
   ]
  },
  {
   "cell_type": "code",
   "execution_count": 3,
   "metadata": {},
   "outputs": [
    {
     "data": {
      "text/plain": [
       "84"
      ]
     },
     "execution_count": 3,
     "metadata": {},
     "output_type": "execute_result"
    }
   ],
   "source": [
    "len(androidListSamples)"
   ]
  },
  {
   "cell_type": "code",
   "execution_count": 4,
   "metadata": {},
   "outputs": [
    {
     "data": {
      "text/plain": [
       "8"
      ]
     },
     "execution_count": 4,
     "metadata": {},
     "output_type": "execute_result"
    }
   ],
   "source": [
    "len(awsListSamples)"
   ]
  },
  {
   "cell_type": "code",
   "execution_count": 5,
   "metadata": {},
   "outputs": [
    {
     "data": {
      "text/plain": [
       "31"
      ]
     },
     "execution_count": 5,
     "metadata": {},
     "output_type": "execute_result"
    }
   ],
   "source": [
    "len(azureListSamples)"
   ]
  },
  {
   "cell_type": "code",
   "execution_count": 6,
   "metadata": {},
   "outputs": [
    {
     "data": {
      "text/plain": [
       "36"
      ]
     },
     "execution_count": 6,
     "metadata": {},
     "output_type": "execute_result"
    }
   ],
   "source": [
    "len(springListSamples)"
   ]
  },
  {
   "cell_type": "code",
   "execution_count": 7,
   "metadata": {},
   "outputs": [
    {
     "data": {
      "text/plain": [
       "159"
      ]
     },
     "execution_count": 7,
     "metadata": {},
     "output_type": "execute_result"
    }
   ],
   "source": [
    "len(androidListSamples) + len(awsListSamples) + len(azureListSamples) + len(springListSamples)"
   ]
  },
  {
   "cell_type": "markdown",
   "metadata": {},
   "source": [
    "### 159 Code Samples"
   ]
  },
  {
   "cell_type": "code",
   "execution_count": 8,
   "metadata": {},
   "outputs": [],
   "source": [
    "def dealWithData(listSamples):    \n",
    "    listSamples[\"windowsPath\"] = listSamples[\"path\"].str.replace(\"/\", \"\\\\\")\n",
    "    \n",
    "    allSamples = [pd.read_csv(\"..\\\\..\\\\2-ExtractingMetrics\\\\metrics\\\\\"+sample+\".csv\", parse_dates=True) for sample in listSamples[\"windowsPath\"]]\n",
    "\n",
    "    allSamplesMetrics = pd.concat(allSamples, axis=0, ignore_index=True)\n",
    "\n",
    "    allSamplesMetrics['commitDate'] = pd.to_datetime(allSamplesMetrics['commitDate'].astype(str).str[:-6])\n",
    "\n",
    "    allSamplesMetrics.sort_values(by=\"commitDate\", inplace=True)\n",
    "    \n",
    "    print(allSamplesMetrics.shape)\n",
    "        \n",
    "    return allSamplesMetrics"
   ]
  },
  {
   "cell_type": "code",
   "execution_count": 9,
   "metadata": {},
   "outputs": [
    {
     "name": "stdout",
     "output_type": "stream",
     "text": [
      "(14139, 65)\n",
      "(723, 65)\n",
      "(2799, 65)\n",
      "(18708, 65)\n"
     ]
    }
   ],
   "source": [
    "androidSamples = dealWithData(androidListSamples)\n",
    "awsSamples = dealWithData(awsListSamples)\n",
    "azureSamples = dealWithData(azureListSamples)\n",
    "springSamples = dealWithData(springListSamples)"
   ]
  },
  {
   "cell_type": "code",
   "execution_count": 10,
   "metadata": {},
   "outputs": [
    {
     "data": {
      "text/plain": [
       "12123.0"
      ]
     },
     "execution_count": 10,
     "metadata": {},
     "output_type": "execute_result"
    }
   ],
   "source": [
    "(androidSamples.shape[0] + awsSamples.shape[0] +  azureSamples.shape[0] +  springSamples.shape[0])/3"
   ]
  },
  {
   "cell_type": "code",
   "execution_count": 11,
   "metadata": {
    "scrolled": true
   },
   "outputs": [],
   "source": [
    "def addOtherMetrics(dataframeDestiny, dataframeSource):\n",
    "    dataframeDestiny[\"numberJavaFiles\"] = dataframeSource[dataframeSource[\"type\"] == \"absolute\"][\"numberJavaFiles\"].values\n",
    "    dataframeDestiny[\"CountDeclClass\"] = dataframeSource[dataframeSource[\"type\"] == \"absolute\"][\"CountDeclClass\"].values"
   ]
  },
  {
   "cell_type": "markdown",
   "metadata": {},
   "source": [
    "Getting only average"
   ]
  },
  {
   "cell_type": "code",
   "execution_count": 12,
   "metadata": {},
   "outputs": [
    {
     "name": "stderr",
     "output_type": "stream",
     "text": [
      "<ipython-input-11-f7169c94c265>:2: SettingWithCopyWarning: \n",
      "A value is trying to be set on a copy of a slice from a DataFrame.\n",
      "Try using .loc[row_indexer,col_indexer] = value instead\n",
      "\n",
      "See the caveats in the documentation: https://pandas.pydata.org/pandas-docs/stable/user_guide/indexing.html#returning-a-view-versus-a-copy\n",
      "  dataframeDestiny[\"numberJavaFiles\"] = dataframeSource[dataframeSource[\"type\"] == \"absolute\"][\"numberJavaFiles\"].values\n",
      "<ipython-input-11-f7169c94c265>:3: SettingWithCopyWarning: \n",
      "A value is trying to be set on a copy of a slice from a DataFrame.\n",
      "Try using .loc[row_indexer,col_indexer] = value instead\n",
      "\n",
      "See the caveats in the documentation: https://pandas.pydata.org/pandas-docs/stable/user_guide/indexing.html#returning-a-view-versus-a-copy\n",
      "  dataframeDestiny[\"CountDeclClass\"] = dataframeSource[dataframeSource[\"type\"] == \"absolute\"][\"CountDeclClass\"].values\n"
     ]
    }
   ],
   "source": [
    "androidSamplesAverage = androidSamples[androidSamples[\"type\"] == \"average\"]\n",
    "addOtherMetrics(androidSamplesAverage, androidSamples)\n",
    "\n",
    "awsSamplesAverage = awsSamples[awsSamples[\"type\"] == \"average\"]\n",
    "addOtherMetrics(awsSamplesAverage, awsSamples)\n",
    "\n",
    "azureSamplesAverage = azureSamples[azureSamples[\"type\"] == \"average\"]\n",
    "addOtherMetrics(azureSamplesAverage, azureSamples)\n",
    "\n",
    "springSamplesAverage = springSamples[springSamples[\"type\"] == \"average\"]\n",
    "addOtherMetrics(springSamplesAverage, springSamples)"
   ]
  },
  {
   "cell_type": "code",
   "execution_count": 13,
   "metadata": {},
   "outputs": [
    {
     "data": {
      "text/plain": [
       "12123"
      ]
     },
     "execution_count": 13,
     "metadata": {},
     "output_type": "execute_result"
    }
   ],
   "source": [
    "allMetricsAverage = pd.concat([androidSamplesAverage, awsSamplesAverage, azureSamplesAverage, springSamplesAverage], axis=0)\n",
    "allMetricsAverage.shape[0]"
   ]
  },
  {
   "cell_type": "markdown",
   "metadata": {},
   "source": [
    "Getting only median"
   ]
  },
  {
   "cell_type": "code",
   "execution_count": 14,
   "metadata": {},
   "outputs": [
    {
     "name": "stderr",
     "output_type": "stream",
     "text": [
      "<ipython-input-11-f7169c94c265>:2: SettingWithCopyWarning: \n",
      "A value is trying to be set on a copy of a slice from a DataFrame.\n",
      "Try using .loc[row_indexer,col_indexer] = value instead\n",
      "\n",
      "See the caveats in the documentation: https://pandas.pydata.org/pandas-docs/stable/user_guide/indexing.html#returning-a-view-versus-a-copy\n",
      "  dataframeDestiny[\"numberJavaFiles\"] = dataframeSource[dataframeSource[\"type\"] == \"absolute\"][\"numberJavaFiles\"].values\n",
      "<ipython-input-11-f7169c94c265>:3: SettingWithCopyWarning: \n",
      "A value is trying to be set on a copy of a slice from a DataFrame.\n",
      "Try using .loc[row_indexer,col_indexer] = value instead\n",
      "\n",
      "See the caveats in the documentation: https://pandas.pydata.org/pandas-docs/stable/user_guide/indexing.html#returning-a-view-versus-a-copy\n",
      "  dataframeDestiny[\"CountDeclClass\"] = dataframeSource[dataframeSource[\"type\"] == \"absolute\"][\"CountDeclClass\"].values\n"
     ]
    }
   ],
   "source": [
    "androidSamplesMedian = androidSamples[androidSamples[\"type\"] == \"median\"]\n",
    "addOtherMetrics(androidSamplesMedian, androidSamples)\n",
    "\n",
    "awsSamplesMedian = awsSamples[awsSamples[\"type\"] == \"median\"]\n",
    "addOtherMetrics(awsSamplesMedian, awsSamples)\n",
    "\n",
    "azureSamplesMedian = azureSamples[azureSamples[\"type\"] == \"median\"]\n",
    "addOtherMetrics(azureSamplesMedian, azureSamples)\n",
    "\n",
    "springSamplesMedian = springSamples[springSamples[\"type\"] == \"median\"]\n",
    "addOtherMetrics(springSamplesMedian, springSamples)"
   ]
  },
  {
   "cell_type": "code",
   "execution_count": 15,
   "metadata": {},
   "outputs": [
    {
     "data": {
      "text/plain": [
       "(12123, 65)"
      ]
     },
     "execution_count": 15,
     "metadata": {},
     "output_type": "execute_result"
    }
   ],
   "source": [
    "allMetricsMedian = pd.concat([androidSamplesMedian, awsSamplesMedian, azureSamplesMedian, springSamplesMedian], axis=0)\n",
    "allMetricsMedian.shape"
   ]
  },
  {
   "cell_type": "code",
   "execution_count": 16,
   "metadata": {},
   "outputs": [],
   "source": [
    "def transformReadabilityPerFileToReadabilityPerClass(dataframe):\n",
    "    dataframe[\"readability\"] = (dataframe[\"readability\"] * dataframe[\"numberJavaFiles\"]) / dataframe[\"CountDeclClass\"]"
   ]
  },
  {
   "cell_type": "code",
   "execution_count": 17,
   "metadata": {},
   "outputs": [],
   "source": [
    "transformReadabilityPerFileToReadabilityPerClass(allMetricsAverage)\n",
    "transformReadabilityPerFileToReadabilityPerClass(allMetricsMedian)"
   ]
  },
  {
   "cell_type": "code",
   "execution_count": 18,
   "metadata": {},
   "outputs": [],
   "source": [
    "allMetrics = allMetricsAverage"
   ]
  },
  {
   "cell_type": "code",
   "execution_count": 19,
   "metadata": {},
   "outputs": [],
   "source": [
    "stats = pd.DataFrame(index = allMetrics.min().index)"
   ]
  },
  {
   "cell_type": "markdown",
   "metadata": {},
   "source": [
    "Total loc for all commit"
   ]
  },
  {
   "cell_type": "code",
   "execution_count": 20,
   "metadata": {},
   "outputs": [
    {
     "data": {
      "text/plain": [
       "249231.97487210852"
      ]
     },
     "execution_count": 20,
     "metadata": {},
     "output_type": "execute_result"
    }
   ],
   "source": [
    "allMetrics[\"CountLineCode\"].sum()/3"
   ]
  },
  {
   "cell_type": "markdown",
   "metadata": {},
   "source": [
    "### Min"
   ]
  },
  {
   "cell_type": "code",
   "execution_count": 21,
   "metadata": {
    "scrolled": true
   },
   "outputs": [
    {
     "name": "stdout",
     "output_type": "stream",
     "text": [
      "AvgCyclomatic                                                    0.333333\n",
      "AvgCyclomaticModified                                            0.333333\n",
      "AvgCyclomaticStrict                                              0.333333\n",
      "AvgEssential                                                     0.245562\n",
      "AvgLine                                                             1.125\n",
      "AvgLineBlank                                                            0\n",
      "AvgLineCode                                                         1.125\n",
      "AvgLineComment                                                          0\n",
      "CountClassBase                                                          1\n",
      "CountClassCoupled                                                0.333333\n",
      "CountClassCoupledModified                                               0\n",
      "CountClassDerived                                                       0\n",
      "CountDeclClass                                                          1\n",
      "CountDeclClassMethod                                                    0\n",
      "CountDeclClassVariable                                                  0\n",
      "CountDeclExecutableUnit                                              None\n",
      "CountDeclFile                                                        None\n",
      "CountDeclFunction                                                    None\n",
      "CountDeclInstanceMethod                                                 0\n",
      "CountDeclInstanceVariable                                               0\n",
      "CountDeclMethod                                                  0.666667\n",
      "CountDeclMethodAll                                                12.6667\n",
      "CountDeclMethodDefault                                                  0\n",
      "CountDeclMethodPrivate                                                  0\n",
      "CountDeclMethodProtected                                                0\n",
      "CountDeclMethodPublic                                                   0\n",
      "CountInput                                                           None\n",
      "CountLine                                                            5.25\n",
      "CountLineBlank                                                          0\n",
      "CountLineCode                                                         4.5\n",
      "CountLineCodeDecl                                                    2.25\n",
      "CountLineCodeExe                                                      0.5\n",
      "CountLineComment                                                        0\n",
      "CountOutput                                                          None\n",
      "CountPath                                                            None\n",
      "CountPathLog                                                         None\n",
      "CountSemicolon                                                        0.5\n",
      "CountStmt                                                             2.5\n",
      "CountStmtDecl                                                           2\n",
      "CountStmtExe                                                          0.5\n",
      "Cyclomatic                                                           None\n",
      "CyclomaticModified                                                   None\n",
      "CyclomaticStrict                                                     None\n",
      "Essential                                                            None\n",
      "Knots                                                                None\n",
      "MaxCyclomatic                                                    0.333333\n",
      "MaxCyclomaticModified                                            0.333333\n",
      "MaxCyclomaticStrict                                              0.333333\n",
      "MaxEssential                                                     0.333333\n",
      "MaxEssentialKnots                                                    None\n",
      "MaxInheritanceTree                                                      1\n",
      "MaxNesting                                                              0\n",
      "MinEssentialKnots                                                    None\n",
      "PercentLackOfCohesion                                                   0\n",
      "PercentLackOfCohesionModified                                           0\n",
      "RatioCommentToCode                                                      0\n",
      "SumCyclomatic                                                    0.666667\n",
      "SumCyclomaticModified                                            0.666667\n",
      "SumCyclomaticStrict                                              0.666667\n",
      "SumEssential                                                     0.666667\n",
      "type                                                              average\n",
      "numberJavaFiles                                                         1\n",
      "commitSha                        000174e5c9e05d119930b2a13db5aefb837209ea\n",
      "commitDate                                            2013-04-15 08:50:04\n",
      "readability                                                             0\n",
      "dtype: object\n"
     ]
    }
   ],
   "source": [
    "with pd.option_context('display.max_rows', None, 'display.max_columns', None):  # more options can be specified also\n",
    "    print(allMetrics.min())\n",
    "stats[\"min\"] = allMetrics.min()"
   ]
  },
  {
   "cell_type": "markdown",
   "metadata": {},
   "source": [
    "### Max"
   ]
  },
  {
   "cell_type": "code",
   "execution_count": 22,
   "metadata": {
    "scrolled": true
   },
   "outputs": [
    {
     "name": "stdout",
     "output_type": "stream",
     "text": [
      "AvgCyclomatic                                                           8\n",
      "AvgCyclomaticModified                                                   8\n",
      "AvgCyclomaticStrict                                                     8\n",
      "AvgEssential                                                            6\n",
      "AvgLine                                                               146\n",
      "AvgLineBlank                                                         20.5\n",
      "AvgLineCode                                                           103\n",
      "AvgLineComment                                                       22.5\n",
      "CountClassBase                                                          4\n",
      "CountClassCoupled                                                      30\n",
      "CountClassCoupledModified                                         6.08911\n",
      "CountClassDerived                                                0.656716\n",
      "CountDeclClass                                                       2572\n",
      "CountDeclClassMethod                                                   45\n",
      "CountDeclClassVariable                                                 27\n",
      "CountDeclExecutableUnit                                              None\n",
      "CountDeclFile                                                        None\n",
      "CountDeclFunction                                                    None\n",
      "CountDeclInstanceMethod                                                18\n",
      "CountDeclInstanceVariable                                         9.83333\n",
      "CountDeclMethod                                                      45.5\n",
      "CountDeclMethodAll                                                131.667\n",
      "CountDeclMethodDefault                                                3.2\n",
      "CountDeclMethodPrivate                                                 10\n",
      "CountDeclMethodProtected                                              4.5\n",
      "CountDeclMethodPublic                                                43.5\n",
      "CountInput                                                           None\n",
      "CountLine                                                          1622.5\n",
      "CountLineBlank                                                        153\n",
      "CountLineCode                                                        1207\n",
      "CountLineCodeDecl                                                 512.385\n",
      "CountLineCodeExe                                                    992.5\n",
      "CountLineComment                                                    268.5\n",
      "CountOutput                                                          None\n",
      "CountPath                                                            None\n",
      "CountPathLog                                                         None\n",
      "CountSemicolon                                                    505.568\n",
      "CountStmt                                                           629.5\n",
      "CountStmtDecl                                                     508.346\n",
      "CountStmtExe                                                        420.5\n",
      "Cyclomatic                                                           None\n",
      "CyclomaticModified                                                   None\n",
      "CyclomaticStrict                                                     None\n",
      "Essential                                                            None\n",
      "Knots                                                                None\n",
      "MaxCyclomatic                                                     17.6667\n",
      "MaxCyclomaticModified                                             17.6667\n",
      "MaxCyclomaticStrict                                                  20.5\n",
      "MaxEssential                                                            6\n",
      "MaxEssentialKnots                                                    None\n",
      "MaxInheritanceTree                                                2.33333\n",
      "MaxNesting                                                            5.5\n",
      "MinEssentialKnots                                                    None\n",
      "PercentLackOfCohesion                                                  83\n",
      "PercentLackOfCohesionModified                                          83\n",
      "RatioCommentToCode                                                   1.55\n",
      "SumCyclomatic                                                       177.5\n",
      "SumCyclomaticModified                                               177.5\n",
      "SumCyclomaticStrict                                                   190\n",
      "SumEssential                                                           48\n",
      "type                                                              average\n",
      "numberJavaFiles                                                       348\n",
      "commitSha                        fffc58dc637c031b38ea441e4df33156fc6afb97\n",
      "commitDate                                            2020-09-30 10:59:04\n",
      "readability                                                       1.53116\n",
      "dtype: object\n"
     ]
    }
   ],
   "source": [
    "with pd.option_context('display.max_rows', None, 'display.max_columns', None):  # more options can be specified also\n",
    "    print(allMetrics.max())\n",
    "stats[\"max\"] = allMetrics.max()"
   ]
  },
  {
   "cell_type": "markdown",
   "metadata": {},
   "source": [
    "### Average"
   ]
  },
  {
   "cell_type": "code",
   "execution_count": 23,
   "metadata": {
    "scrolled": true
   },
   "outputs": [
    {
     "name": "stdout",
     "output_type": "stream",
     "text": [
      "AvgCyclomatic                     1.340957\n",
      "AvgCyclomaticModified             1.306633\n",
      "AvgCyclomaticStrict               1.396184\n",
      "AvgEssential                      1.015108\n",
      "AvgLine                          10.347750\n",
      "AvgLineBlank                      0.788256\n",
      "AvgLineCode                       8.021510\n",
      "AvgLineComment                    1.334839\n",
      "CountClassBase                    1.191091\n",
      "CountClassCoupled                 4.614449\n",
      "CountClassCoupledModified         0.963694\n",
      "CountClassDerived                 0.009110\n",
      "CountDeclClass                   34.285573\n",
      "CountDeclClassMethod              1.220578\n",
      "CountDeclClassVariable            1.086070\n",
      "CountDeclExecutableUnit                NaN\n",
      "CountDeclFile                          NaN\n",
      "CountDeclFunction                      NaN\n",
      "CountDeclInstanceMethod           3.269446\n",
      "CountDeclInstanceVariable         1.494966\n",
      "CountDeclMethod                   4.490024\n",
      "CountDeclMethodAll               17.070916\n",
      "CountDeclMethodDefault            0.179672\n",
      "CountDeclMethodPrivate            0.779242\n",
      "CountDeclMethodProtected          0.277379\n",
      "CountDeclMethodPublic             3.253731\n",
      "CountInput                             NaN\n",
      "CountLine                        88.033246\n",
      "CountLineBlank                   11.166589\n",
      "CountLineCode                    61.675817\n",
      "CountLineCodeDecl                17.778406\n",
      "CountLineCodeExe                 40.768374\n",
      "CountLineComment                 15.466777\n",
      "CountOutput                            NaN\n",
      "CountPath                              NaN\n",
      "CountPathLog                           NaN\n",
      "CountSemicolon                   25.890289\n",
      "CountStmt                        37.679858\n",
      "CountStmtDecl                    15.537048\n",
      "CountStmtExe                     22.142810\n",
      "Cyclomatic                             NaN\n",
      "CyclomaticModified                     NaN\n",
      "CyclomaticStrict                       NaN\n",
      "Essential                              NaN\n",
      "Knots                                  NaN\n",
      "MaxCyclomatic                     2.557319\n",
      "MaxCyclomaticModified             2.338304\n",
      "MaxCyclomaticStrict               2.712065\n",
      "MaxEssential                      1.280897\n",
      "MaxEssentialKnots                      NaN\n",
      "MaxInheritanceTree                1.353957\n",
      "MaxNesting                        0.745786\n",
      "MinEssentialKnots                      NaN\n",
      "PercentLackOfCohesion            23.234450\n",
      "PercentLackOfCohesionModified    20.767332\n",
      "RatioCommentToCode                0.222296\n",
      "SumCyclomatic                     9.035387\n",
      "SumCyclomaticModified             8.695991\n",
      "SumCyclomaticStrict               9.476872\n",
      "SumEssential                      4.982903\n",
      "numberJavaFiles                  17.609750\n",
      "readability                       0.168993\n",
      "dtype: float64\n"
     ]
    }
   ],
   "source": [
    "with pd.option_context('display.max_rows', None, 'display.max_columns', None):  # more options can be specified also\n",
    "    print(allMetrics.mean())\n",
    "stats[\"avg\"] = allMetrics.mean()"
   ]
  },
  {
   "cell_type": "markdown",
   "metadata": {},
   "source": [
    "### Median"
   ]
  },
  {
   "cell_type": "code",
   "execution_count": 24,
   "metadata": {
    "scrolled": true
   },
   "outputs": [
    {
     "name": "stdout",
     "output_type": "stream",
     "text": [
      "AvgCyclomatic                     1.166667\n",
      "AvgCyclomaticModified             1.142857\n",
      "AvgCyclomaticStrict               1.250000\n",
      "AvgEssential                      1.000000\n",
      "AvgLine                           9.031250\n",
      "AvgLineBlank                      0.371429\n",
      "AvgLineCode                       6.750000\n",
      "AvgLineComment                    0.526316\n",
      "CountClassBase                    1.088889\n",
      "CountClassCoupled                 3.888889\n",
      "CountClassCoupledModified         0.733333\n",
      "CountClassDerived                 0.000000\n",
      "CountDeclClass                    6.000000\n",
      "CountDeclClassMethod              0.500000\n",
      "CountDeclClassVariable            0.444444\n",
      "CountDeclExecutableUnit                NaN\n",
      "CountDeclFile                          NaN\n",
      "CountDeclFunction                      NaN\n",
      "CountDeclInstanceMethod           2.850000\n",
      "CountDeclInstanceVariable         1.258621\n",
      "CountDeclMethod                   3.411765\n",
      "CountDeclMethodAll               15.500000\n",
      "CountDeclMethodDefault            0.000000\n",
      "CountDeclMethodPrivate            0.083333\n",
      "CountDeclMethodProtected          0.000000\n",
      "CountDeclMethodPublic             2.500000\n",
      "CountInput                             NaN\n",
      "CountLine                        46.500000\n",
      "CountLineBlank                    8.000000\n",
      "CountLineCode                    32.000000\n",
      "CountLineCodeDecl                11.872727\n",
      "CountLineCodeExe                 17.500000\n",
      "CountLineComment                  4.000000\n",
      "CountOutput                            NaN\n",
      "CountPath                              NaN\n",
      "CountPathLog                           NaN\n",
      "CountSemicolon                   12.898305\n",
      "CountStmt                        18.666667\n",
      "CountStmtDecl                     9.145455\n",
      "CountStmtExe                     10.500000\n",
      "Cyclomatic                             NaN\n",
      "CyclomaticModified                     NaN\n",
      "CyclomaticStrict                       NaN\n",
      "Essential                              NaN\n",
      "Knots                                  NaN\n",
      "MaxCyclomatic                     2.000000\n",
      "MaxCyclomaticModified             1.857143\n",
      "MaxCyclomaticStrict               2.000000\n",
      "MaxEssential                      1.000000\n",
      "MaxEssentialKnots                      NaN\n",
      "MaxInheritanceTree                1.222222\n",
      "MaxNesting                        0.500000\n",
      "MinEssentialKnots                      NaN\n",
      "PercentLackOfCohesion            26.000000\n",
      "PercentLackOfCohesionModified    22.000000\n",
      "RatioCommentToCode                0.106667\n",
      "SumCyclomatic                     4.500000\n",
      "SumCyclomaticModified             4.384615\n",
      "SumCyclomaticStrict               4.500000\n",
      "SumEssential                      3.500000\n",
      "numberJavaFiles                   5.000000\n",
      "readability                       0.055854\n",
      "dtype: float64\n"
     ]
    }
   ],
   "source": [
    "with pd.option_context('display.max_rows', None, 'display.max_columns', None):  # more options can be specified also\n",
    "    print(allMetrics.median())\n",
    "stats[\"med\"] = allMetrics.median()"
   ]
  },
  {
   "cell_type": "markdown",
   "metadata": {},
   "source": [
    "### Standard Deviation"
   ]
  },
  {
   "cell_type": "code",
   "execution_count": 25,
   "metadata": {
    "scrolled": true
   },
   "outputs": [
    {
     "name": "stdout",
     "output_type": "stream",
     "text": [
      "AvgCyclomatic                      0.576267\n",
      "AvgCyclomaticModified              0.558158\n",
      "AvgCyclomaticStrict                0.614463\n",
      "AvgEssential                       0.146837\n",
      "AvgLine                           10.171054\n",
      "AvgLineBlank                       1.696889\n",
      "AvgLineCode                        6.703336\n",
      "AvgLineComment                     2.207817\n",
      "CountClassBase                     0.263514\n",
      "CountClassCoupled                  3.068797\n",
      "CountClassCoupledModified          0.865931\n",
      "CountClassDerived                  0.044090\n",
      "CountDeclClass                    71.994795\n",
      "CountDeclClassMethod               4.573623\n",
      "CountDeclClassVariable             1.463307\n",
      "CountDeclExecutableUnit                 NaN\n",
      "CountDeclFile                           NaN\n",
      "CountDeclFunction                       NaN\n",
      "CountDeclInstanceMethod            2.265539\n",
      "CountDeclInstanceVariable          1.308135\n",
      "CountDeclMethod                    4.879229\n",
      "CountDeclMethodAll                 5.447301\n",
      "CountDeclMethodDefault             0.448312\n",
      "CountDeclMethodPrivate             1.143082\n",
      "CountDeclMethodProtected           0.430467\n",
      "CountDeclMethodPublic              4.444295\n",
      "CountInput                              NaN\n",
      "CountLine                        170.007105\n",
      "CountLineBlank                    16.080283\n",
      "CountLineCode                    124.709376\n",
      "CountLineCodeDecl                 22.138496\n",
      "CountLineCodeExe                 101.957644\n",
      "CountLineComment                  31.659018\n",
      "CountOutput                             NaN\n",
      "CountPath                               NaN\n",
      "CountPathLog                            NaN\n",
      "CountSemicolon                    43.368003\n",
      "CountStmt                         66.348257\n",
      "CountStmtDecl                     24.262076\n",
      "CountStmtExe                      43.219906\n",
      "Cyclomatic                              NaN\n",
      "CyclomaticModified                      NaN\n",
      "CyclomaticStrict                        NaN\n",
      "Essential                               NaN\n",
      "Knots                                   NaN\n",
      "MaxCyclomatic                      2.228193\n",
      "MaxCyclomaticModified              2.040059\n",
      "MaxCyclomaticStrict                2.436970\n",
      "MaxEssential                       0.545068\n",
      "MaxEssentialKnots                       NaN\n",
      "MaxInheritanceTree                 0.380697\n",
      "MaxNesting                         0.760604\n",
      "MinEssentialKnots                       NaN\n",
      "PercentLackOfCohesion             17.988145\n",
      "PercentLackOfCohesionModified     16.523352\n",
      "RatioCommentToCode                 0.277518\n",
      "SumCyclomatic                     17.861510\n",
      "SumCyclomaticModified             17.736254\n",
      "SumCyclomaticStrict               18.827781\n",
      "SumEssential                       5.251304\n",
      "numberJavaFiles                   28.413278\n",
      "readability                        0.245822\n",
      "dtype: float64\n"
     ]
    }
   ],
   "source": [
    "with pd.option_context('display.max_rows', None, 'display.max_columns', None):  # more options can be specified also\n",
    "    print(allMetrics.std())\n",
    "stats[\"std\"] = allMetrics.std()"
   ]
  },
  {
   "cell_type": "code",
   "execution_count": 26,
   "metadata": {},
   "outputs": [],
   "source": [
    "stats.to_csv(\"stats.csv\")"
   ]
  },
  {
   "cell_type": "code",
   "execution_count": 27,
   "metadata": {},
   "outputs": [
    {
     "data": {
      "text/html": [
       "<div>\n",
       "<style scoped>\n",
       "    .dataframe tbody tr th:only-of-type {\n",
       "        vertical-align: middle;\n",
       "    }\n",
       "\n",
       "    .dataframe tbody tr th {\n",
       "        vertical-align: top;\n",
       "    }\n",
       "\n",
       "    .dataframe thead th {\n",
       "        text-align: right;\n",
       "    }\n",
       "</style>\n",
       "<table border=\"1\" class=\"dataframe\">\n",
       "  <thead>\n",
       "    <tr style=\"text-align: right;\">\n",
       "      <th></th>\n",
       "      <th>min</th>\n",
       "      <th>max</th>\n",
       "      <th>avg</th>\n",
       "      <th>med</th>\n",
       "      <th>std</th>\n",
       "    </tr>\n",
       "  </thead>\n",
       "  <tbody>\n",
       "    <tr>\n",
       "      <th>AvgCyclomatic</th>\n",
       "      <td>0.333333</td>\n",
       "      <td>8</td>\n",
       "      <td>1.340957</td>\n",
       "      <td>1.166667</td>\n",
       "      <td>0.576267</td>\n",
       "    </tr>\n",
       "    <tr>\n",
       "      <th>AvgCyclomaticModified</th>\n",
       "      <td>0.333333</td>\n",
       "      <td>8</td>\n",
       "      <td>1.306633</td>\n",
       "      <td>1.142857</td>\n",
       "      <td>0.558158</td>\n",
       "    </tr>\n",
       "    <tr>\n",
       "      <th>AvgCyclomaticStrict</th>\n",
       "      <td>0.333333</td>\n",
       "      <td>8</td>\n",
       "      <td>1.396184</td>\n",
       "      <td>1.250000</td>\n",
       "      <td>0.614463</td>\n",
       "    </tr>\n",
       "    <tr>\n",
       "      <th>AvgEssential</th>\n",
       "      <td>0.245562</td>\n",
       "      <td>6</td>\n",
       "      <td>1.015108</td>\n",
       "      <td>1.000000</td>\n",
       "      <td>0.146837</td>\n",
       "    </tr>\n",
       "    <tr>\n",
       "      <th>AvgLine</th>\n",
       "      <td>1.125</td>\n",
       "      <td>146</td>\n",
       "      <td>10.347750</td>\n",
       "      <td>9.031250</td>\n",
       "      <td>10.171054</td>\n",
       "    </tr>\n",
       "    <tr>\n",
       "      <th>...</th>\n",
       "      <td>...</td>\n",
       "      <td>...</td>\n",
       "      <td>...</td>\n",
       "      <td>...</td>\n",
       "      <td>...</td>\n",
       "    </tr>\n",
       "    <tr>\n",
       "      <th>type</th>\n",
       "      <td>average</td>\n",
       "      <td>average</td>\n",
       "      <td>NaN</td>\n",
       "      <td>NaN</td>\n",
       "      <td>NaN</td>\n",
       "    </tr>\n",
       "    <tr>\n",
       "      <th>numberJavaFiles</th>\n",
       "      <td>1</td>\n",
       "      <td>348</td>\n",
       "      <td>17.609750</td>\n",
       "      <td>5.000000</td>\n",
       "      <td>28.413278</td>\n",
       "    </tr>\n",
       "    <tr>\n",
       "      <th>commitSha</th>\n",
       "      <td>000174e5c9e05d119930b2a13db5aefb837209ea</td>\n",
       "      <td>fffc58dc637c031b38ea441e4df33156fc6afb97</td>\n",
       "      <td>NaN</td>\n",
       "      <td>NaN</td>\n",
       "      <td>NaN</td>\n",
       "    </tr>\n",
       "    <tr>\n",
       "      <th>commitDate</th>\n",
       "      <td>2013-04-15 08:50:04</td>\n",
       "      <td>2020-09-30 10:59:04</td>\n",
       "      <td>NaN</td>\n",
       "      <td>NaN</td>\n",
       "      <td>NaN</td>\n",
       "    </tr>\n",
       "    <tr>\n",
       "      <th>readability</th>\n",
       "      <td>0</td>\n",
       "      <td>1.53116</td>\n",
       "      <td>0.168993</td>\n",
       "      <td>0.055854</td>\n",
       "      <td>0.245822</td>\n",
       "    </tr>\n",
       "  </tbody>\n",
       "</table>\n",
       "<p>65 rows × 5 columns</p>\n",
       "</div>"
      ],
      "text/plain": [
       "                                                            min  \\\n",
       "AvgCyclomatic                                          0.333333   \n",
       "AvgCyclomaticModified                                  0.333333   \n",
       "AvgCyclomaticStrict                                    0.333333   \n",
       "AvgEssential                                           0.245562   \n",
       "AvgLine                                                   1.125   \n",
       "...                                                         ...   \n",
       "type                                                    average   \n",
       "numberJavaFiles                                               1   \n",
       "commitSha              000174e5c9e05d119930b2a13db5aefb837209ea   \n",
       "commitDate                                  2013-04-15 08:50:04   \n",
       "readability                                                   0   \n",
       "\n",
       "                                                            max        avg  \\\n",
       "AvgCyclomatic                                                 8   1.340957   \n",
       "AvgCyclomaticModified                                         8   1.306633   \n",
       "AvgCyclomaticStrict                                           8   1.396184   \n",
       "AvgEssential                                                  6   1.015108   \n",
       "AvgLine                                                     146  10.347750   \n",
       "...                                                         ...        ...   \n",
       "type                                                    average        NaN   \n",
       "numberJavaFiles                                             348  17.609750   \n",
       "commitSha              fffc58dc637c031b38ea441e4df33156fc6afb97        NaN   \n",
       "commitDate                                  2020-09-30 10:59:04        NaN   \n",
       "readability                                             1.53116   0.168993   \n",
       "\n",
       "                            med        std  \n",
       "AvgCyclomatic          1.166667   0.576267  \n",
       "AvgCyclomaticModified  1.142857   0.558158  \n",
       "AvgCyclomaticStrict    1.250000   0.614463  \n",
       "AvgEssential           1.000000   0.146837  \n",
       "AvgLine                9.031250  10.171054  \n",
       "...                         ...        ...  \n",
       "type                        NaN        NaN  \n",
       "numberJavaFiles        5.000000  28.413278  \n",
       "commitSha                   NaN        NaN  \n",
       "commitDate                  NaN        NaN  \n",
       "readability            0.055854   0.245822  \n",
       "\n",
       "[65 rows x 5 columns]"
      ]
     },
     "execution_count": 27,
     "metadata": {},
     "output_type": "execute_result"
    }
   ],
   "source": [
    "stats"
   ]
  },
  {
   "cell_type": "markdown",
   "metadata": {},
   "source": [
    "Questions"
   ]
  },
  {
   "cell_type": "code",
   "execution_count": 28,
   "metadata": {},
   "outputs": [],
   "source": [
    "allMetrics.set_index(allMetrics[\"commitDate\"], inplace=True)\n",
    "\n",
    "allMetrics.index\n",
    "\n",
    "del allMetrics[\"commitDate\"]"
   ]
  },
  {
   "cell_type": "code",
   "execution_count": 29,
   "metadata": {},
   "outputs": [],
   "source": [
    "allMetrics = allMetrics.groupby([(allMetrics.index.year), (allMetrics.index.month)]).mean()"
   ]
  },
  {
   "cell_type": "markdown",
   "metadata": {},
   "source": [
    "## Loading SO questions"
   ]
  },
  {
   "cell_type": "code",
   "execution_count": 30,
   "metadata": {},
   "outputs": [],
   "source": [
    "androidQuestions = pd.read_csv(\"..\\\\..\\\\1-GettingQuestions\\\\questions\\\\androidQuestions.csv\")\n",
    "awsQuestions = pd.read_csv(\"..\\\\..\\\\1-GettingQuestions\\\\questions\\\\awsQuestions.csv\")\n",
    "azureQuestions = pd.read_csv(\"..\\\\..\\\\1-GettingQuestions\\\\questions\\\\azureQuestions.csv\")\n",
    "springQuestions = pd.read_csv(\"..\\\\..\\\\1-GettingQuestions\\\\questions\\\\springQuestions.csv\")"
   ]
  },
  {
   "cell_type": "code",
   "execution_count": 31,
   "metadata": {},
   "outputs": [
    {
     "data": {
      "text/plain": [
       "1083"
      ]
     },
     "execution_count": 31,
     "metadata": {},
     "output_type": "execute_result"
    }
   ],
   "source": [
    "len(androidQuestions)"
   ]
  },
  {
   "cell_type": "code",
   "execution_count": 32,
   "metadata": {},
   "outputs": [
    {
     "data": {
      "text/plain": [
       "14"
      ]
     },
     "execution_count": 32,
     "metadata": {},
     "output_type": "execute_result"
    }
   ],
   "source": [
    "len(awsQuestions)"
   ]
  },
  {
   "cell_type": "code",
   "execution_count": 33,
   "metadata": {},
   "outputs": [
    {
     "data": {
      "text/plain": [
       "64"
      ]
     },
     "execution_count": 33,
     "metadata": {},
     "output_type": "execute_result"
    }
   ],
   "source": [
    "len(azureQuestions)"
   ]
  },
  {
   "cell_type": "code",
   "execution_count": 34,
   "metadata": {},
   "outputs": [
    {
     "data": {
      "text/plain": [
       "136"
      ]
     },
     "execution_count": 34,
     "metadata": {},
     "output_type": "execute_result"
    }
   ],
   "source": [
    "len(springQuestions)"
   ]
  },
  {
   "cell_type": "code",
   "execution_count": 35,
   "metadata": {},
   "outputs": [],
   "source": [
    "allQuestions = pd.concat([androidQuestions, awsQuestions, azureQuestions, springQuestions], axis=0, ignore_index=True)"
   ]
  },
  {
   "cell_type": "code",
   "execution_count": 36,
   "metadata": {},
   "outputs": [
    {
     "data": {
      "text/plain": [
       "1297"
      ]
     },
     "execution_count": 36,
     "metadata": {},
     "output_type": "execute_result"
    }
   ],
   "source": [
    "len(allQuestions)"
   ]
  },
  {
   "cell_type": "code",
   "execution_count": 37,
   "metadata": {},
   "outputs": [],
   "source": [
    "allQuestions['creationDate'] = pd.to_datetime(allQuestions['creationDate'])\n",
    "allQuestions.sort_values(by=\"creationDate\", inplace=True)\n",
    "allQuestions.set_index(allQuestions['creationDate'], inplace=True)\n",
    "allQuestions[\"questions\"] = 1\n",
    "allQuestions=allQuestions.groupby([(allQuestions.index.year), (allQuestions.index.month)]).sum()"
   ]
  },
  {
   "cell_type": "code",
   "execution_count": 38,
   "metadata": {},
   "outputs": [],
   "source": [
    "del allQuestions[\"ownerUserId\"]\n",
    "del allQuestions[\"postTypeId\"]\n",
    "del allQuestions[\"acceptedAnswerId\"]\n",
    "del allQuestions[\"id\"]"
   ]
  },
  {
   "cell_type": "markdown",
   "metadata": {},
   "source": [
    "## Merging the data"
   ]
  },
  {
   "cell_type": "code",
   "execution_count": 39,
   "metadata": {
    "scrolled": true
   },
   "outputs": [],
   "source": [
    "metricsAndQuestions = pd.concat([allMetrics, allQuestions], axis=1)\n",
    "metricsAndQuestions[\"questions\"].fillna(0, inplace=True)\n",
    "metricsAndQuestions.fillna(method=\"ffill\", inplace=True)"
   ]
  },
  {
   "cell_type": "markdown",
   "metadata": {},
   "source": [
    "## Saving"
   ]
  },
  {
   "cell_type": "code",
   "execution_count": 40,
   "metadata": {},
   "outputs": [],
   "source": [
    "metricsAndQuestions.to_csv(\"metricsAndQuestions.csv\")"
   ]
  },
  {
   "cell_type": "code",
   "execution_count": 41,
   "metadata": {
    "scrolled": true
   },
   "outputs": [
    {
     "data": {
      "text/html": [
       "<div>\n",
       "<style scoped>\n",
       "    .dataframe tbody tr th:only-of-type {\n",
       "        vertical-align: middle;\n",
       "    }\n",
       "\n",
       "    .dataframe tbody tr th {\n",
       "        vertical-align: top;\n",
       "    }\n",
       "\n",
       "    .dataframe thead th {\n",
       "        text-align: right;\n",
       "    }\n",
       "</style>\n",
       "<table border=\"1\" class=\"dataframe\">\n",
       "  <thead>\n",
       "    <tr style=\"text-align: right;\">\n",
       "      <th></th>\n",
       "      <th></th>\n",
       "      <th>AvgCyclomatic</th>\n",
       "      <th>AvgCyclomaticModified</th>\n",
       "      <th>AvgCyclomaticStrict</th>\n",
       "      <th>AvgEssential</th>\n",
       "      <th>AvgLine</th>\n",
       "      <th>AvgLineBlank</th>\n",
       "      <th>AvgLineCode</th>\n",
       "      <th>AvgLineComment</th>\n",
       "      <th>CountClassBase</th>\n",
       "      <th>CountClassCoupled</th>\n",
       "      <th>...</th>\n",
       "      <th>PercentLackOfCohesion</th>\n",
       "      <th>PercentLackOfCohesionModified</th>\n",
       "      <th>RatioCommentToCode</th>\n",
       "      <th>SumCyclomatic</th>\n",
       "      <th>SumCyclomaticModified</th>\n",
       "      <th>SumCyclomaticStrict</th>\n",
       "      <th>SumEssential</th>\n",
       "      <th>numberJavaFiles</th>\n",
       "      <th>readability</th>\n",
       "      <th>questions</th>\n",
       "    </tr>\n",
       "  </thead>\n",
       "  <tbody>\n",
       "    <tr>\n",
       "      <th rowspan=\"5\" valign=\"top\">2013</th>\n",
       "      <th>4</th>\n",
       "      <td>1.150219</td>\n",
       "      <td>1.150219</td>\n",
       "      <td>1.150219</td>\n",
       "      <td>0.803728</td>\n",
       "      <td>6.019737</td>\n",
       "      <td>0.596491</td>\n",
       "      <td>5.212719</td>\n",
       "      <td>0.223684</td>\n",
       "      <td>1.000000</td>\n",
       "      <td>3.223684</td>\n",
       "      <td>...</td>\n",
       "      <td>2.569079</td>\n",
       "      <td>2.569079</td>\n",
       "      <td>0.032945</td>\n",
       "      <td>1.878289</td>\n",
       "      <td>1.878289</td>\n",
       "      <td>1.878289</td>\n",
       "      <td>1.479167</td>\n",
       "      <td>5.368421</td>\n",
       "      <td>0.315649</td>\n",
       "      <td>0.0</td>\n",
       "    </tr>\n",
       "    <tr>\n",
       "      <th>5</th>\n",
       "      <td>1.225972</td>\n",
       "      <td>1.225972</td>\n",
       "      <td>1.225972</td>\n",
       "      <td>0.921738</td>\n",
       "      <td>9.730189</td>\n",
       "      <td>1.154780</td>\n",
       "      <td>8.123610</td>\n",
       "      <td>0.466794</td>\n",
       "      <td>1.035751</td>\n",
       "      <td>3.336569</td>\n",
       "      <td>...</td>\n",
       "      <td>6.021274</td>\n",
       "      <td>6.021274</td>\n",
       "      <td>0.045671</td>\n",
       "      <td>2.085169</td>\n",
       "      <td>2.085169</td>\n",
       "      <td>2.085169</td>\n",
       "      <td>1.660024</td>\n",
       "      <td>3.740458</td>\n",
       "      <td>0.240252</td>\n",
       "      <td>0.0</td>\n",
       "    </tr>\n",
       "    <tr>\n",
       "      <th>6</th>\n",
       "      <td>1.187311</td>\n",
       "      <td>1.187311</td>\n",
       "      <td>1.187311</td>\n",
       "      <td>0.999621</td>\n",
       "      <td>7.323295</td>\n",
       "      <td>0.801515</td>\n",
       "      <td>6.337121</td>\n",
       "      <td>0.243182</td>\n",
       "      <td>1.039773</td>\n",
       "      <td>3.193182</td>\n",
       "      <td>...</td>\n",
       "      <td>9.885795</td>\n",
       "      <td>9.885795</td>\n",
       "      <td>0.029464</td>\n",
       "      <td>2.445455</td>\n",
       "      <td>2.445455</td>\n",
       "      <td>2.445455</td>\n",
       "      <td>2.054451</td>\n",
       "      <td>3.068182</td>\n",
       "      <td>0.263295</td>\n",
       "      <td>0.0</td>\n",
       "    </tr>\n",
       "    <tr>\n",
       "      <th>7</th>\n",
       "      <td>1.093511</td>\n",
       "      <td>1.093511</td>\n",
       "      <td>1.112171</td>\n",
       "      <td>0.997455</td>\n",
       "      <td>6.533588</td>\n",
       "      <td>0.508270</td>\n",
       "      <td>5.821416</td>\n",
       "      <td>0.153944</td>\n",
       "      <td>1.031383</td>\n",
       "      <td>3.698473</td>\n",
       "      <td>...</td>\n",
       "      <td>16.590331</td>\n",
       "      <td>16.590331</td>\n",
       "      <td>0.021012</td>\n",
       "      <td>2.839398</td>\n",
       "      <td>2.839398</td>\n",
       "      <td>2.867388</td>\n",
       "      <td>2.369084</td>\n",
       "      <td>3.027990</td>\n",
       "      <td>0.266828</td>\n",
       "      <td>0.0</td>\n",
       "    </tr>\n",
       "    <tr>\n",
       "      <th>8</th>\n",
       "      <td>1.097241</td>\n",
       "      <td>1.097241</td>\n",
       "      <td>1.128506</td>\n",
       "      <td>0.997586</td>\n",
       "      <td>6.419931</td>\n",
       "      <td>0.519655</td>\n",
       "      <td>5.720460</td>\n",
       "      <td>0.153793</td>\n",
       "      <td>1.030115</td>\n",
       "      <td>3.511724</td>\n",
       "      <td>...</td>\n",
       "      <td>16.341724</td>\n",
       "      <td>16.327931</td>\n",
       "      <td>0.018939</td>\n",
       "      <td>2.685839</td>\n",
       "      <td>2.685839</td>\n",
       "      <td>2.732736</td>\n",
       "      <td>2.243770</td>\n",
       "      <td>3.295172</td>\n",
       "      <td>0.325420</td>\n",
       "      <td>0.0</td>\n",
       "    </tr>\n",
       "    <tr>\n",
       "      <th>...</th>\n",
       "      <th>...</th>\n",
       "      <td>...</td>\n",
       "      <td>...</td>\n",
       "      <td>...</td>\n",
       "      <td>...</td>\n",
       "      <td>...</td>\n",
       "      <td>...</td>\n",
       "      <td>...</td>\n",
       "      <td>...</td>\n",
       "      <td>...</td>\n",
       "      <td>...</td>\n",
       "      <td>...</td>\n",
       "      <td>...</td>\n",
       "      <td>...</td>\n",
       "      <td>...</td>\n",
       "      <td>...</td>\n",
       "      <td>...</td>\n",
       "      <td>...</td>\n",
       "      <td>...</td>\n",
       "      <td>...</td>\n",
       "      <td>...</td>\n",
       "      <td>...</td>\n",
       "    </tr>\n",
       "    <tr>\n",
       "      <th rowspan=\"5\" valign=\"top\">2020</th>\n",
       "      <th>5</th>\n",
       "      <td>1.439123</td>\n",
       "      <td>1.403691</td>\n",
       "      <td>1.498816</td>\n",
       "      <td>1.047024</td>\n",
       "      <td>10.770717</td>\n",
       "      <td>0.724050</td>\n",
       "      <td>8.615320</td>\n",
       "      <td>1.228092</td>\n",
       "      <td>1.191325</td>\n",
       "      <td>5.789786</td>\n",
       "      <td>...</td>\n",
       "      <td>23.389254</td>\n",
       "      <td>21.393480</td>\n",
       "      <td>0.218803</td>\n",
       "      <td>7.702104</td>\n",
       "      <td>7.275724</td>\n",
       "      <td>8.197078</td>\n",
       "      <td>5.338532</td>\n",
       "      <td>44.039216</td>\n",
       "      <td>0.196083</td>\n",
       "      <td>8.0</td>\n",
       "    </tr>\n",
       "    <tr>\n",
       "      <th>6</th>\n",
       "      <td>1.615679</td>\n",
       "      <td>1.524474</td>\n",
       "      <td>1.725172</td>\n",
       "      <td>1.078249</td>\n",
       "      <td>12.937495</td>\n",
       "      <td>0.685719</td>\n",
       "      <td>10.018077</td>\n",
       "      <td>1.899293</td>\n",
       "      <td>1.276265</td>\n",
       "      <td>6.702439</td>\n",
       "      <td>...</td>\n",
       "      <td>33.353513</td>\n",
       "      <td>28.157373</td>\n",
       "      <td>0.286620</td>\n",
       "      <td>12.968817</td>\n",
       "      <td>11.697375</td>\n",
       "      <td>13.839051</td>\n",
       "      <td>7.887107</td>\n",
       "      <td>68.378378</td>\n",
       "      <td>0.034297</td>\n",
       "      <td>4.0</td>\n",
       "    </tr>\n",
       "    <tr>\n",
       "      <th>7</th>\n",
       "      <td>1.288326</td>\n",
       "      <td>1.243380</td>\n",
       "      <td>1.357621</td>\n",
       "      <td>1.032552</td>\n",
       "      <td>9.748758</td>\n",
       "      <td>0.577693</td>\n",
       "      <td>7.698444</td>\n",
       "      <td>1.182601</td>\n",
       "      <td>1.196749</td>\n",
       "      <td>4.627244</td>\n",
       "      <td>...</td>\n",
       "      <td>27.267534</td>\n",
       "      <td>24.424327</td>\n",
       "      <td>0.256001</td>\n",
       "      <td>8.188993</td>\n",
       "      <td>7.658117</td>\n",
       "      <td>8.666093</td>\n",
       "      <td>5.624773</td>\n",
       "      <td>40.075000</td>\n",
       "      <td>0.164440</td>\n",
       "      <td>8.0</td>\n",
       "    </tr>\n",
       "    <tr>\n",
       "      <th>8</th>\n",
       "      <td>1.221479</td>\n",
       "      <td>1.209393</td>\n",
       "      <td>1.254709</td>\n",
       "      <td>1.005288</td>\n",
       "      <td>8.523232</td>\n",
       "      <td>0.622670</td>\n",
       "      <td>7.004292</td>\n",
       "      <td>0.745512</td>\n",
       "      <td>1.115822</td>\n",
       "      <td>3.600690</td>\n",
       "      <td>...</td>\n",
       "      <td>19.704317</td>\n",
       "      <td>17.903981</td>\n",
       "      <td>0.142825</td>\n",
       "      <td>5.221878</td>\n",
       "      <td>5.088970</td>\n",
       "      <td>5.417408</td>\n",
       "      <td>3.816770</td>\n",
       "      <td>18.593220</td>\n",
       "      <td>0.259222</td>\n",
       "      <td>8.0</td>\n",
       "    </tr>\n",
       "    <tr>\n",
       "      <th>9</th>\n",
       "      <td>1.846543</td>\n",
       "      <td>1.808452</td>\n",
       "      <td>2.053005</td>\n",
       "      <td>1.038409</td>\n",
       "      <td>20.191077</td>\n",
       "      <td>2.048552</td>\n",
       "      <td>14.781046</td>\n",
       "      <td>2.971660</td>\n",
       "      <td>1.122481</td>\n",
       "      <td>7.992654</td>\n",
       "      <td>...</td>\n",
       "      <td>32.495593</td>\n",
       "      <td>29.408375</td>\n",
       "      <td>0.238903</td>\n",
       "      <td>47.564859</td>\n",
       "      <td>47.104271</td>\n",
       "      <td>50.935187</td>\n",
       "      <td>15.328398</td>\n",
       "      <td>31.545455</td>\n",
       "      <td>0.110821</td>\n",
       "      <td>0.0</td>\n",
       "    </tr>\n",
       "  </tbody>\n",
       "</table>\n",
       "<p>90 rows × 63 columns</p>\n",
       "</div>"
      ],
      "text/plain": [
       "        AvgCyclomatic  AvgCyclomaticModified  AvgCyclomaticStrict  \\\n",
       "2013 4       1.150219               1.150219             1.150219   \n",
       "     5       1.225972               1.225972             1.225972   \n",
       "     6       1.187311               1.187311             1.187311   \n",
       "     7       1.093511               1.093511             1.112171   \n",
       "     8       1.097241               1.097241             1.128506   \n",
       "...               ...                    ...                  ...   \n",
       "2020 5       1.439123               1.403691             1.498816   \n",
       "     6       1.615679               1.524474             1.725172   \n",
       "     7       1.288326               1.243380             1.357621   \n",
       "     8       1.221479               1.209393             1.254709   \n",
       "     9       1.846543               1.808452             2.053005   \n",
       "\n",
       "        AvgEssential    AvgLine  AvgLineBlank  AvgLineCode  AvgLineComment  \\\n",
       "2013 4      0.803728   6.019737      0.596491     5.212719        0.223684   \n",
       "     5      0.921738   9.730189      1.154780     8.123610        0.466794   \n",
       "     6      0.999621   7.323295      0.801515     6.337121        0.243182   \n",
       "     7      0.997455   6.533588      0.508270     5.821416        0.153944   \n",
       "     8      0.997586   6.419931      0.519655     5.720460        0.153793   \n",
       "...              ...        ...           ...          ...             ...   \n",
       "2020 5      1.047024  10.770717      0.724050     8.615320        1.228092   \n",
       "     6      1.078249  12.937495      0.685719    10.018077        1.899293   \n",
       "     7      1.032552   9.748758      0.577693     7.698444        1.182601   \n",
       "     8      1.005288   8.523232      0.622670     7.004292        0.745512   \n",
       "     9      1.038409  20.191077      2.048552    14.781046        2.971660   \n",
       "\n",
       "        CountClassBase  CountClassCoupled  ...  PercentLackOfCohesion  \\\n",
       "2013 4        1.000000           3.223684  ...               2.569079   \n",
       "     5        1.035751           3.336569  ...               6.021274   \n",
       "     6        1.039773           3.193182  ...               9.885795   \n",
       "     7        1.031383           3.698473  ...              16.590331   \n",
       "     8        1.030115           3.511724  ...              16.341724   \n",
       "...                ...                ...  ...                    ...   \n",
       "2020 5        1.191325           5.789786  ...              23.389254   \n",
       "     6        1.276265           6.702439  ...              33.353513   \n",
       "     7        1.196749           4.627244  ...              27.267534   \n",
       "     8        1.115822           3.600690  ...              19.704317   \n",
       "     9        1.122481           7.992654  ...              32.495593   \n",
       "\n",
       "        PercentLackOfCohesionModified  RatioCommentToCode  SumCyclomatic  \\\n",
       "2013 4                       2.569079            0.032945       1.878289   \n",
       "     5                       6.021274            0.045671       2.085169   \n",
       "     6                       9.885795            0.029464       2.445455   \n",
       "     7                      16.590331            0.021012       2.839398   \n",
       "     8                      16.327931            0.018939       2.685839   \n",
       "...                               ...                 ...            ...   \n",
       "2020 5                      21.393480            0.218803       7.702104   \n",
       "     6                      28.157373            0.286620      12.968817   \n",
       "     7                      24.424327            0.256001       8.188993   \n",
       "     8                      17.903981            0.142825       5.221878   \n",
       "     9                      29.408375            0.238903      47.564859   \n",
       "\n",
       "        SumCyclomaticModified  SumCyclomaticStrict  SumEssential  \\\n",
       "2013 4               1.878289             1.878289      1.479167   \n",
       "     5               2.085169             2.085169      1.660024   \n",
       "     6               2.445455             2.445455      2.054451   \n",
       "     7               2.839398             2.867388      2.369084   \n",
       "     8               2.685839             2.732736      2.243770   \n",
       "...                       ...                  ...           ...   \n",
       "2020 5               7.275724             8.197078      5.338532   \n",
       "     6              11.697375            13.839051      7.887107   \n",
       "     7               7.658117             8.666093      5.624773   \n",
       "     8               5.088970             5.417408      3.816770   \n",
       "     9              47.104271            50.935187     15.328398   \n",
       "\n",
       "        numberJavaFiles  readability  questions  \n",
       "2013 4         5.368421     0.315649        0.0  \n",
       "     5         3.740458     0.240252        0.0  \n",
       "     6         3.068182     0.263295        0.0  \n",
       "     7         3.027990     0.266828        0.0  \n",
       "     8         3.295172     0.325420        0.0  \n",
       "...                 ...          ...        ...  \n",
       "2020 5        44.039216     0.196083        8.0  \n",
       "     6        68.378378     0.034297        4.0  \n",
       "     7        40.075000     0.164440        8.0  \n",
       "     8        18.593220     0.259222        8.0  \n",
       "     9        31.545455     0.110821        0.0  \n",
       "\n",
       "[90 rows x 63 columns]"
      ]
     },
     "execution_count": 41,
     "metadata": {},
     "output_type": "execute_result"
    }
   ],
   "source": [
    "pd.read_csv(\"metricsAndQuestions.csv\", index_col=[0,1])"
   ]
  }
 ],
 "metadata": {
  "kernelspec": {
   "display_name": "Python 3",
   "language": "python",
   "name": "python3"
  },
  "language_info": {
   "codemirror_mode": {
    "name": "ipython",
    "version": 3
   },
   "file_extension": ".py",
   "mimetype": "text/x-python",
   "name": "python",
   "nbconvert_exporter": "python",
   "pygments_lexer": "ipython3",
   "version": "3.8.3"
  }
 },
 "nbformat": 4,
 "nbformat_minor": 4
}
