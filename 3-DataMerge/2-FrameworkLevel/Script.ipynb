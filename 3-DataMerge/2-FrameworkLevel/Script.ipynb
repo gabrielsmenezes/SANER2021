{
 "cells": [
  {
   "cell_type": "code",
   "execution_count": 62,
   "metadata": {
    "scrolled": false
   },
   "outputs": [
    {
     "data": {
      "text/plain": [
       "'/home/jovyan/work/SANER2021'"
      ]
     },
     "execution_count": 62,
     "metadata": {},
     "output_type": "execute_result"
    }
   ],
   "source": [
    "import os\n",
    "os.getcwd()"
   ]
  },
  {
   "cell_type": "code",
   "execution_count": 63,
   "metadata": {},
   "outputs": [],
   "source": [
    "os.chdir(\"/home/jovyan/work/SANER2021\")"
   ]
  },
  {
   "cell_type": "code",
   "execution_count": 64,
   "metadata": {},
   "outputs": [],
   "source": [
    "import pandas as pd"
   ]
  },
  {
   "cell_type": "code",
   "execution_count": 65,
   "metadata": {},
   "outputs": [],
   "source": [
    "import pandas as pd\n",
    "import numpy as np\n",
    "import datetime\n",
    "import matplotlib.dates as mdates\n",
    "import matplotlib.pyplot as plt"
   ]
  },
  {
   "cell_type": "code",
   "execution_count": 66,
   "metadata": {},
   "outputs": [],
   "source": [
    "androidListSamples = pd.read_csv(\"1-GettingQuestions/samplesWithQuestions/androidSamples.csv\", index_col=0, skiprows=0)\n",
    "awsListSamples = pd.read_csv(\"1-GettingQuestions/samplesWithQuestions/awsSamples.csv\", index_col=0, skiprows=0)\n",
    "azureListSamples = pd.read_csv(\"1-GettingQuestions/samplesWithQuestions/azureSamples.csv\", index_col=0, skiprows=0)\n",
    "springListSamples = pd.read_csv(\"1-GettingQuestions/samplesWithQuestions/springSamples.csv\", index_col=0, skiprows=0)"
   ]
  },
  {
   "cell_type": "code",
   "execution_count": 67,
   "metadata": {},
   "outputs": [],
   "source": [
    "def loadMetrics(listSamples):\n",
    "    metrics = dict()\n",
    "    for sample in listSamples.index.values:\n",
    "        metrics[sample] = pd.read_csv(f\"3-DataMerge/1-CodeSampleAgregation/{sample}.csv\", index_col=[0,1], na_filter=False)\n",
    "    return metrics"
   ]
  },
  {
   "cell_type": "code",
   "execution_count": 68,
   "metadata": {},
   "outputs": [],
   "source": [
    "androidMetrics = loadMetrics(androidListSamples)\n",
    "awsMetrics = loadMetrics(awsListSamples)\n",
    "azureMetrics = loadMetrics(azureListSamples)\n",
    "springMetrics = loadMetrics(springListSamples)"
   ]
  },
  {
   "cell_type": "code",
   "execution_count": null,
   "metadata": {},
   "outputs": [],
   "source": []
  },
  {
   "cell_type": "code",
   "execution_count": null,
   "metadata": {},
   "outputs": [],
   "source": []
  },
  {
   "cell_type": "code",
   "execution_count": null,
   "metadata": {},
   "outputs": [],
   "source": []
  },
  {
   "cell_type": "code",
   "execution_count": 1,
   "metadata": {},
   "outputs": [
    {
     "data": {
      "text/plain": [
       "'/home/jovyan/work/SANER2021/3-DataMerge/2-SeparetedFramework'"
      ]
     },
     "execution_count": 1,
     "metadata": {},
     "output_type": "execute_result"
    }
   ],
   "source": [
    "import os\n",
    "os.getcwd()"
   ]
  },
  {
   "cell_type": "code",
   "execution_count": 2,
   "metadata": {},
   "outputs": [],
   "source": [
    "os.chdir(\"/home/jovyan/work/SANER2021\")"
   ]
  },
  {
   "cell_type": "code",
   "execution_count": 3,
   "metadata": {},
   "outputs": [],
   "source": [
    "import pandas as pd"
   ]
  },
  {
   "cell_type": "markdown",
   "metadata": {},
   "source": [
    "Loading lists of samples"
   ]
  },
  {
   "cell_type": "code",
   "execution_count": 4,
   "metadata": {},
   "outputs": [],
   "source": [
    "androidListSamples = pd.read_csv(\"1-GettingQuestions/samplesWithQuestions/androidSamples.csv\",index_col=0, skiprows=0)\n",
    "awsListSamples = pd.read_csv(\"1-GettingQuestions/samplesWithQuestions/awsSamples.csv\", index_col=0, skiprows=0)\n",
    "azureListSamples = pd.read_csv(\"1-GettingQuestions/samplesWithQuestions/azureSamples.csv\", index_col=0, skiprows=0)\n",
    "springListSamples = pd.read_csv(\"1-GettingQuestions/samplesWithQuestions/springSamples.csv\", index_col=0, skiprows=0)"
   ]
  },
  {
   "cell_type": "markdown",
   "metadata": {},
   "source": [
    "Loading metrics for each code sample"
   ]
  },
  {
   "cell_type": "code",
   "execution_count": 13,
   "metadata": {},
   "outputs": [],
   "source": [
    "loadMetrics(listSamples):\n",
    "dataframe = pd.DataFrame()\n",
    "dataframe = pd.concat([pd.read_csv(f\"3-DataMerge/1-CodeSampleAgregation/{sampleName}.csv\", index_col=[0,1], na_filter=False) for sampleName in listSamples.index.values], axis=0)"
   ]
  },
  {
   "cell_type": "code",
   "execution_count": 14,
   "metadata": {},
   "outputs": [
    {
     "data": {
      "text/html": [
       "<div>\n",
       "<style scoped>\n",
       "    .dataframe tbody tr th:only-of-type {\n",
       "        vertical-align: middle;\n",
       "    }\n",
       "\n",
       "    .dataframe tbody tr th {\n",
       "        vertical-align: top;\n",
       "    }\n",
       "\n",
       "    .dataframe thead th {\n",
       "        text-align: right;\n",
       "    }\n",
       "</style>\n",
       "<table border=\"1\" class=\"dataframe\">\n",
       "  <thead>\n",
       "    <tr style=\"text-align: right;\">\n",
       "      <th></th>\n",
       "      <th></th>\n",
       "      <th>AvgCyclomatic</th>\n",
       "      <th>AvgCyclomaticModified</th>\n",
       "      <th>AvgCyclomaticStrict</th>\n",
       "      <th>AvgEssential</th>\n",
       "      <th>AvgLine</th>\n",
       "      <th>AvgLineBlank</th>\n",
       "      <th>AvgLineCode</th>\n",
       "      <th>AvgLineComment</th>\n",
       "      <th>CountClassBase</th>\n",
       "      <th>CountClassCoupled</th>\n",
       "      <th>...</th>\n",
       "      <th>PercentLackOfCohesion</th>\n",
       "      <th>PercentLackOfCohesionModified</th>\n",
       "      <th>RatioCommentToCode</th>\n",
       "      <th>SumCyclomatic</th>\n",
       "      <th>SumCyclomaticModified</th>\n",
       "      <th>SumCyclomaticStrict</th>\n",
       "      <th>SumEssential</th>\n",
       "      <th>numberJavaFiles</th>\n",
       "      <th>readability</th>\n",
       "      <th>questions</th>\n",
       "    </tr>\n",
       "  </thead>\n",
       "  <tbody>\n",
       "    <tr>\n",
       "      <th rowspan=\"5\" valign=\"top\">2017</th>\n",
       "      <th>3</th>\n",
       "      <td>1.375000</td>\n",
       "      <td>1.375000</td>\n",
       "      <td>1.625000</td>\n",
       "      <td>1.062500</td>\n",
       "      <td>11.125000</td>\n",
       "      <td>0.312500</td>\n",
       "      <td>9.687500</td>\n",
       "      <td>0.562500</td>\n",
       "      <td>1.062500</td>\n",
       "      <td>4.937500</td>\n",
       "      <td>...</td>\n",
       "      <td>34.625000</td>\n",
       "      <td>32.937500</td>\n",
       "      <td>0.125000</td>\n",
       "      <td>7.312500</td>\n",
       "      <td>7.312500</td>\n",
       "      <td>8.375000</td>\n",
       "      <td>5.250000</td>\n",
       "      <td>16.000000</td>\n",
       "      <td>0.001010</td>\n",
       "      <td>0.0</td>\n",
       "    </tr>\n",
       "    <tr>\n",
       "      <th>4</th>\n",
       "      <td>1.375000</td>\n",
       "      <td>1.375000</td>\n",
       "      <td>1.625000</td>\n",
       "      <td>1.062500</td>\n",
       "      <td>11.125000</td>\n",
       "      <td>0.312500</td>\n",
       "      <td>9.687500</td>\n",
       "      <td>0.562500</td>\n",
       "      <td>1.062500</td>\n",
       "      <td>4.937500</td>\n",
       "      <td>...</td>\n",
       "      <td>34.625000</td>\n",
       "      <td>32.937500</td>\n",
       "      <td>0.125000</td>\n",
       "      <td>7.312500</td>\n",
       "      <td>7.312500</td>\n",
       "      <td>8.375000</td>\n",
       "      <td>5.250000</td>\n",
       "      <td>16.000000</td>\n",
       "      <td>0.001010</td>\n",
       "      <td>0.0</td>\n",
       "    </tr>\n",
       "    <tr>\n",
       "      <th>5</th>\n",
       "      <td>1.612903</td>\n",
       "      <td>1.548387</td>\n",
       "      <td>1.612903</td>\n",
       "      <td>1.000000</td>\n",
       "      <td>9.903226</td>\n",
       "      <td>0.032258</td>\n",
       "      <td>8.903226</td>\n",
       "      <td>0.580645</td>\n",
       "      <td>1.064516</td>\n",
       "      <td>5.290323</td>\n",
       "      <td>...</td>\n",
       "      <td>41.193548</td>\n",
       "      <td>36.935484</td>\n",
       "      <td>0.120000</td>\n",
       "      <td>13.225806</td>\n",
       "      <td>12.193548</td>\n",
       "      <td>13.774194</td>\n",
       "      <td>7.774194</td>\n",
       "      <td>32.000000</td>\n",
       "      <td>0.017524</td>\n",
       "      <td>0.0</td>\n",
       "    </tr>\n",
       "    <tr>\n",
       "      <th>6</th>\n",
       "      <td>1.559997</td>\n",
       "      <td>1.352397</td>\n",
       "      <td>1.571690</td>\n",
       "      <td>0.886364</td>\n",
       "      <td>9.330178</td>\n",
       "      <td>0.037554</td>\n",
       "      <td>8.472333</td>\n",
       "      <td>0.570208</td>\n",
       "      <td>1.071169</td>\n",
       "      <td>4.900423</td>\n",
       "      <td>...</td>\n",
       "      <td>34.071274</td>\n",
       "      <td>29.666403</td>\n",
       "      <td>0.145116</td>\n",
       "      <td>9.739615</td>\n",
       "      <td>8.760983</td>\n",
       "      <td>10.328503</td>\n",
       "      <td>5.917672</td>\n",
       "      <td>27.363636</td>\n",
       "      <td>0.035075</td>\n",
       "      <td>0.0</td>\n",
       "    </tr>\n",
       "    <tr>\n",
       "      <th>7</th>\n",
       "      <td>1.559997</td>\n",
       "      <td>1.352397</td>\n",
       "      <td>1.571690</td>\n",
       "      <td>0.886364</td>\n",
       "      <td>9.330178</td>\n",
       "      <td>0.037554</td>\n",
       "      <td>8.472333</td>\n",
       "      <td>0.570208</td>\n",
       "      <td>1.071169</td>\n",
       "      <td>4.900423</td>\n",
       "      <td>...</td>\n",
       "      <td>34.071274</td>\n",
       "      <td>29.666403</td>\n",
       "      <td>0.145116</td>\n",
       "      <td>9.739615</td>\n",
       "      <td>8.760983</td>\n",
       "      <td>10.328503</td>\n",
       "      <td>5.917672</td>\n",
       "      <td>27.363636</td>\n",
       "      <td>0.035075</td>\n",
       "      <td>0.0</td>\n",
       "    </tr>\n",
       "    <tr>\n",
       "      <th>...</th>\n",
       "      <th>...</th>\n",
       "      <td>...</td>\n",
       "      <td>...</td>\n",
       "      <td>...</td>\n",
       "      <td>...</td>\n",
       "      <td>...</td>\n",
       "      <td>...</td>\n",
       "      <td>...</td>\n",
       "      <td>...</td>\n",
       "      <td>...</td>\n",
       "      <td>...</td>\n",
       "      <td>...</td>\n",
       "      <td>...</td>\n",
       "      <td>...</td>\n",
       "      <td>...</td>\n",
       "      <td>...</td>\n",
       "      <td>...</td>\n",
       "      <td>...</td>\n",
       "      <td>...</td>\n",
       "      <td>...</td>\n",
       "      <td>...</td>\n",
       "      <td>...</td>\n",
       "    </tr>\n",
       "    <tr>\n",
       "      <th rowspan=\"5\" valign=\"top\">2020</th>\n",
       "      <th>5</th>\n",
       "      <td>1.250000</td>\n",
       "      <td>1.000000</td>\n",
       "      <td>1.250000</td>\n",
       "      <td>1.000000</td>\n",
       "      <td>10.500000</td>\n",
       "      <td>0.500000</td>\n",
       "      <td>6.500000</td>\n",
       "      <td>3.250000</td>\n",
       "      <td>2.500000</td>\n",
       "      <td>1.000000</td>\n",
       "      <td>...</td>\n",
       "      <td>35.750000</td>\n",
       "      <td>31.250000</td>\n",
       "      <td>0.847500</td>\n",
       "      <td>12.500000</td>\n",
       "      <td>11.500000</td>\n",
       "      <td>13.000000</td>\n",
       "      <td>7.500000</td>\n",
       "      <td>4.000000</td>\n",
       "      <td>0.120367</td>\n",
       "      <td>3.0</td>\n",
       "    </tr>\n",
       "    <tr>\n",
       "      <th>6</th>\n",
       "      <td>1.250000</td>\n",
       "      <td>1.000000</td>\n",
       "      <td>1.250000</td>\n",
       "      <td>1.000000</td>\n",
       "      <td>10.500000</td>\n",
       "      <td>0.500000</td>\n",
       "      <td>6.500000</td>\n",
       "      <td>3.250000</td>\n",
       "      <td>2.500000</td>\n",
       "      <td>1.000000</td>\n",
       "      <td>...</td>\n",
       "      <td>35.750000</td>\n",
       "      <td>31.250000</td>\n",
       "      <td>0.847500</td>\n",
       "      <td>12.500000</td>\n",
       "      <td>11.500000</td>\n",
       "      <td>13.000000</td>\n",
       "      <td>7.500000</td>\n",
       "      <td>4.000000</td>\n",
       "      <td>0.120367</td>\n",
       "      <td>3.0</td>\n",
       "    </tr>\n",
       "    <tr>\n",
       "      <th>7</th>\n",
       "      <td>1.250000</td>\n",
       "      <td>1.000000</td>\n",
       "      <td>1.250000</td>\n",
       "      <td>1.000000</td>\n",
       "      <td>10.500000</td>\n",
       "      <td>0.500000</td>\n",
       "      <td>6.500000</td>\n",
       "      <td>3.250000</td>\n",
       "      <td>2.500000</td>\n",
       "      <td>1.000000</td>\n",
       "      <td>...</td>\n",
       "      <td>35.750000</td>\n",
       "      <td>31.250000</td>\n",
       "      <td>0.847500</td>\n",
       "      <td>12.500000</td>\n",
       "      <td>11.500000</td>\n",
       "      <td>13.000000</td>\n",
       "      <td>7.500000</td>\n",
       "      <td>4.000000</td>\n",
       "      <td>0.120367</td>\n",
       "      <td>3.0</td>\n",
       "    </tr>\n",
       "    <tr>\n",
       "      <th>8</th>\n",
       "      <td>1.250000</td>\n",
       "      <td>1.000000</td>\n",
       "      <td>1.250000</td>\n",
       "      <td>1.000000</td>\n",
       "      <td>10.500000</td>\n",
       "      <td>0.500000</td>\n",
       "      <td>6.500000</td>\n",
       "      <td>3.250000</td>\n",
       "      <td>2.500000</td>\n",
       "      <td>1.000000</td>\n",
       "      <td>...</td>\n",
       "      <td>35.750000</td>\n",
       "      <td>31.250000</td>\n",
       "      <td>0.847500</td>\n",
       "      <td>12.500000</td>\n",
       "      <td>11.500000</td>\n",
       "      <td>13.000000</td>\n",
       "      <td>7.500000</td>\n",
       "      <td>4.000000</td>\n",
       "      <td>0.120367</td>\n",
       "      <td>3.0</td>\n",
       "    </tr>\n",
       "    <tr>\n",
       "      <th>9</th>\n",
       "      <td>1.250000</td>\n",
       "      <td>1.000000</td>\n",
       "      <td>1.250000</td>\n",
       "      <td>1.000000</td>\n",
       "      <td>10.500000</td>\n",
       "      <td>0.500000</td>\n",
       "      <td>6.500000</td>\n",
       "      <td>3.250000</td>\n",
       "      <td>2.500000</td>\n",
       "      <td>1.000000</td>\n",
       "      <td>...</td>\n",
       "      <td>35.750000</td>\n",
       "      <td>31.250000</td>\n",
       "      <td>0.847500</td>\n",
       "      <td>12.500000</td>\n",
       "      <td>11.500000</td>\n",
       "      <td>13.000000</td>\n",
       "      <td>7.500000</td>\n",
       "      <td>4.000000</td>\n",
       "      <td>0.120367</td>\n",
       "      <td>3.0</td>\n",
       "    </tr>\n",
       "  </tbody>\n",
       "</table>\n",
       "<p>5404 rows × 49 columns</p>\n",
       "</div>"
      ],
      "text/plain": [
       "        AvgCyclomatic  AvgCyclomaticModified  AvgCyclomaticStrict  \\\n",
       "2017 3       1.375000               1.375000             1.625000   \n",
       "     4       1.375000               1.375000             1.625000   \n",
       "     5       1.612903               1.548387             1.612903   \n",
       "     6       1.559997               1.352397             1.571690   \n",
       "     7       1.559997               1.352397             1.571690   \n",
       "...               ...                    ...                  ...   \n",
       "2020 5       1.250000               1.000000             1.250000   \n",
       "     6       1.250000               1.000000             1.250000   \n",
       "     7       1.250000               1.000000             1.250000   \n",
       "     8       1.250000               1.000000             1.250000   \n",
       "     9       1.250000               1.000000             1.250000   \n",
       "\n",
       "        AvgEssential    AvgLine  AvgLineBlank  AvgLineCode  AvgLineComment  \\\n",
       "2017 3      1.062500  11.125000      0.312500     9.687500        0.562500   \n",
       "     4      1.062500  11.125000      0.312500     9.687500        0.562500   \n",
       "     5      1.000000   9.903226      0.032258     8.903226        0.580645   \n",
       "     6      0.886364   9.330178      0.037554     8.472333        0.570208   \n",
       "     7      0.886364   9.330178      0.037554     8.472333        0.570208   \n",
       "...              ...        ...           ...          ...             ...   \n",
       "2020 5      1.000000  10.500000      0.500000     6.500000        3.250000   \n",
       "     6      1.000000  10.500000      0.500000     6.500000        3.250000   \n",
       "     7      1.000000  10.500000      0.500000     6.500000        3.250000   \n",
       "     8      1.000000  10.500000      0.500000     6.500000        3.250000   \n",
       "     9      1.000000  10.500000      0.500000     6.500000        3.250000   \n",
       "\n",
       "        CountClassBase  CountClassCoupled  ...  PercentLackOfCohesion  \\\n",
       "2017 3        1.062500           4.937500  ...              34.625000   \n",
       "     4        1.062500           4.937500  ...              34.625000   \n",
       "     5        1.064516           5.290323  ...              41.193548   \n",
       "     6        1.071169           4.900423  ...              34.071274   \n",
       "     7        1.071169           4.900423  ...              34.071274   \n",
       "...                ...                ...  ...                    ...   \n",
       "2020 5        2.500000           1.000000  ...              35.750000   \n",
       "     6        2.500000           1.000000  ...              35.750000   \n",
       "     7        2.500000           1.000000  ...              35.750000   \n",
       "     8        2.500000           1.000000  ...              35.750000   \n",
       "     9        2.500000           1.000000  ...              35.750000   \n",
       "\n",
       "        PercentLackOfCohesionModified  RatioCommentToCode  SumCyclomatic  \\\n",
       "2017 3                      32.937500            0.125000       7.312500   \n",
       "     4                      32.937500            0.125000       7.312500   \n",
       "     5                      36.935484            0.120000      13.225806   \n",
       "     6                      29.666403            0.145116       9.739615   \n",
       "     7                      29.666403            0.145116       9.739615   \n",
       "...                               ...                 ...            ...   \n",
       "2020 5                      31.250000            0.847500      12.500000   \n",
       "     6                      31.250000            0.847500      12.500000   \n",
       "     7                      31.250000            0.847500      12.500000   \n",
       "     8                      31.250000            0.847500      12.500000   \n",
       "     9                      31.250000            0.847500      12.500000   \n",
       "\n",
       "        SumCyclomaticModified  SumCyclomaticStrict  SumEssential  \\\n",
       "2017 3               7.312500             8.375000      5.250000   \n",
       "     4               7.312500             8.375000      5.250000   \n",
       "     5              12.193548            13.774194      7.774194   \n",
       "     6               8.760983            10.328503      5.917672   \n",
       "     7               8.760983            10.328503      5.917672   \n",
       "...                       ...                  ...           ...   \n",
       "2020 5              11.500000            13.000000      7.500000   \n",
       "     6              11.500000            13.000000      7.500000   \n",
       "     7              11.500000            13.000000      7.500000   \n",
       "     8              11.500000            13.000000      7.500000   \n",
       "     9              11.500000            13.000000      7.500000   \n",
       "\n",
       "        numberJavaFiles  readability  questions  \n",
       "2017 3        16.000000     0.001010        0.0  \n",
       "     4        16.000000     0.001010        0.0  \n",
       "     5        32.000000     0.017524        0.0  \n",
       "     6        27.363636     0.035075        0.0  \n",
       "     7        27.363636     0.035075        0.0  \n",
       "...                 ...          ...        ...  \n",
       "2020 5         4.000000     0.120367        3.0  \n",
       "     6         4.000000     0.120367        3.0  \n",
       "     7         4.000000     0.120367        3.0  \n",
       "     8         4.000000     0.120367        3.0  \n",
       "     9         4.000000     0.120367        3.0  \n",
       "\n",
       "[5404 rows x 49 columns]"
      ]
     },
     "execution_count": 14,
     "metadata": {},
     "output_type": "execute_result"
    }
   ],
   "source": [
    "dataframe"
   ]
  },
  {
   "cell_type": "code",
   "execution_count": null,
   "metadata": {},
   "outputs": [],
   "source": []
  },
  {
   "cell_type": "markdown",
   "metadata": {},
   "source": [
    "For each framework, load metrics per samples and group by month"
   ]
  },
  {
   "cell_type": "code",
   "execution_count": null,
   "metadata": {
    "scrolled": true
   },
   "outputs": [],
   "source": [
    "androidSamples = pd.concat([getSampleDataframe(sample) for sample in androidListSamples[\"path\"]], axis=0)\n",
    "awsSamples = pd.concat([getSampleDataframe(sample) for sample in awsListSamples[\"path\"]], axis=0)\n",
    "azureSamples = pd.concat([getSampleDataframe(sample) for sample in azureListSamples[\"path\"]], axis=0)\n",
    "springSamples = pd.concat([getSampleDataframe(sample) for sample in springListSamples[\"path\"]], axis=0)"
   ]
  },
  {
   "cell_type": "code",
   "execution_count": null,
   "metadata": {},
   "outputs": [],
   "source": [
    "androidSamples = androidSamples.groupby(level=[0,1]).mean()\n",
    "awsSamples = awsSamples.groupby(level=[0,1]).mean()\n",
    "azureSamples = azureSamples.groupby(level=[0,1]).mean()\n",
    "springSamples = springSamples.groupby(level=[0,1]).mean()"
   ]
  },
  {
   "cell_type": "code",
   "execution_count": null,
   "metadata": {},
   "outputs": [],
   "source": [
    "def generateStats(dataframe, framework):\n",
    "    stats = pd.DataFrame(index = dataframe.min().index)\n",
    "    stats[\"min\"] = dataframe.min()\n",
    "    stats[\"max\"] = dataframe.max()\n",
    "    stats[\"avg\"] = dataframe.mean()\n",
    "    stats[\"med\"] = dataframe.median()\n",
    "    stats[\"std\"] = dataframe.std()\n",
    "    stats.to_csv(framework+\"_stats.csv\")"
   ]
  },
  {
   "cell_type": "markdown",
   "metadata": {},
   "source": [
    "Obtaining stats for each framework"
   ]
  },
  {
   "cell_type": "code",
   "execution_count": null,
   "metadata": {},
   "outputs": [],
   "source": [
    "Obtaining statsgenerateStats(androidSamples, \"android\")\n",
    "generateStats(awsSamples, \"aws\")\n",
    "generateStats(azureSamples, \"azure\")\n",
    "generateStats(springSamples, \"spring\")"
   ]
  },
  {
   "cell_type": "markdown",
   "metadata": {},
   "source": [
    "Loading questions"
   ]
  },
  {
   "cell_type": "code",
   "execution_count": null,
   "metadata": {},
   "outputs": [],
   "source": [
    "androidQuestions = pd.read_csv(\"..\\\\..\\\\1-GettingQuestions\\\\questions\\\\androidQuestions.csv\")\n",
    "awsQuestions = pd.read_csv(\"..\\\\..\\\\1-GettingQuestions\\\\questions\\\\awsQuestions.csv\")\n",
    "azureQuestions = pd.read_csv(\"..\\\\..\\\\1-GettingQuestions\\\\questions\\\\azureQuestions.csv\")\n",
    "springQuestions = pd.read_csv(\"..\\\\..\\\\1-GettingQuestions\\\\questions\\\\springQuestions.csv\")"
   ]
  },
  {
   "cell_type": "code",
   "execution_count": null,
   "metadata": {},
   "outputs": [],
   "source": [
    "def groupBy(dataframe):\n",
    "    dataframe['creationDate'] = pd.to_datetime(dataframe['creationDate'])\n",
    "    dataframe.set_index(dataframe['creationDate'], inplace=True)\n",
    "    dataframe[\"questions\"] = 1\n",
    "    del dataframe['creationDate']\n",
    "    return dataframe.groupby([(dataframe.index.year), (dataframe.index.month)]).sum()"
   ]
  },
  {
   "cell_type": "code",
   "execution_count": null,
   "metadata": {},
   "outputs": [],
   "source": [
    "androidQuestions = groupBy(androidQuestions)\n",
    "awsQuestions = groupBy(awsQuestions)\n",
    "azureQuestions = groupBy(azureQuestions)\n",
    "springQuestions = groupBy(springQuestions)"
   ]
  },
  {
   "cell_type": "code",
   "execution_count": null,
   "metadata": {},
   "outputs": [],
   "source": [
    "androidQuestions[\"questions\"]=androidQuestions[\"questions\"].cumsum()\n",
    "awsQuestions[\"questions\"]=awsQuestions[\"questions\"].cumsum()\n",
    "azureQuestions[\"questions\"]=azureQuestions[\"questions\"].cumsum()\n",
    "springQuestions[\"questions\"]=springQuestions[\"questions\"].cumsum()"
   ]
  },
  {
   "cell_type": "markdown",
   "metadata": {},
   "source": [
    "Merging metrics and questions"
   ]
  },
  {
   "cell_type": "code",
   "execution_count": null,
   "metadata": {
    "scrolled": true
   },
   "outputs": [],
   "source": [
    "def merging(dataframe1, dataframe2):\n",
    "    df = pd.concat([dataframe1, dataframe2], axis=1)\n",
    "    df.fillna(method=\"ffill\", inplace=True)\n",
    "    df.fillna(0, inplace=True)\n",
    "    return df"
   ]
  },
  {
   "cell_type": "code",
   "execution_count": null,
   "metadata": {},
   "outputs": [],
   "source": [
    "android = merging(androidSamples, androidQuestions)\n",
    "aws = merging(awsSamples, awsQuestions).drop((2020, 9))\n",
    "azure = merging(azureSamples, azureQuestions).drop((2020, 9))\n",
    "spring = merging(springSamples, springQuestions).drop((2020, 9))"
   ]
  },
  {
   "cell_type": "markdown",
   "metadata": {},
   "source": [
    "Saving"
   ]
  },
  {
   "cell_type": "code",
   "execution_count": null,
   "metadata": {},
   "outputs": [],
   "source": [
    "def save(dataframe, framework):\n",
    "    dataframe.to_csv(framework+\".csv\")"
   ]
  },
  {
   "cell_type": "code",
   "execution_count": null,
   "metadata": {},
   "outputs": [],
   "source": [
    "save(android, \"android\")\n",
    "save(aws, \"aws\")\n",
    "save(azure, \"azure\")\n",
    "save(spring, \"spring\")"
   ]
  }
 ],
 "metadata": {
  "kernelspec": {
   "display_name": "Python 3",
   "language": "python",
   "name": "python3"
  },
  "language_info": {
   "codemirror_mode": {
    "name": "ipython",
    "version": 3
   },
   "file_extension": ".py",
   "mimetype": "text/x-python",
   "name": "python",
   "nbconvert_exporter": "python",
   "pygments_lexer": "ipython3",
   "version": "3.8.6"
  }
 },
 "nbformat": 4,
 "nbformat_minor": 4
}
