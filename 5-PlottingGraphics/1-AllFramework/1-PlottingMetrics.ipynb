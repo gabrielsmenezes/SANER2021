{
 "cells": [
  {
   "cell_type": "code",
   "execution_count": 13,
   "metadata": {},
   "outputs": [],
   "source": [
    "import pandas as pd"
   ]
  },
  {
   "cell_type": "code",
   "execution_count": 14,
   "metadata": {},
   "outputs": [],
   "source": [
    "allMetricsAndQuestions = pd.read_csv(\"..\\\\..\\\\3-DataMerge\\\\metricsAndQuestions.csv\", index_col=[0,1])"
   ]
  },
  {
   "cell_type": "markdown",
   "metadata": {},
   "source": [
    "## Normalização dos dados"
   ]
  },
  {
   "cell_type": "code",
   "execution_count": 15,
   "metadata": {},
   "outputs": [],
   "source": [
    "AllMetricsAndQuestionsNormalized=(AllMetricsAndQuestions-AllMetricsAndQuestions.min())/(AllMetricsAndQuestions.max()-AllMetricsAndQuestions.min())"
   ]
  },
  {
   "cell_type": "markdown",
   "metadata": {},
   "source": [
    "## Visão geral das métricas"
   ]
  },
  {
   "cell_type": "code",
   "execution_count": 16,
   "metadata": {},
   "outputs": [
    {
     "data": {
      "text/html": [
       "<div>\n",
       "<style scoped>\n",
       "    .dataframe tbody tr th:only-of-type {\n",
       "        vertical-align: middle;\n",
       "    }\n",
       "\n",
       "    .dataframe tbody tr th {\n",
       "        vertical-align: top;\n",
       "    }\n",
       "\n",
       "    .dataframe thead th {\n",
       "        text-align: right;\n",
       "    }\n",
       "</style>\n",
       "<table border=\"1\" class=\"dataframe\">\n",
       "  <thead>\n",
       "    <tr style=\"text-align: right;\">\n",
       "      <th></th>\n",
       "      <th></th>\n",
       "      <th>AvgCyclomatic</th>\n",
       "      <th>AvgCyclomaticModified</th>\n",
       "      <th>AvgCyclomaticStrict</th>\n",
       "      <th>AvgEssential</th>\n",
       "      <th>AvgLine</th>\n",
       "      <th>AvgLineBlank</th>\n",
       "      <th>AvgLineCode</th>\n",
       "      <th>AvgLineComment</th>\n",
       "      <th>CountClassBase</th>\n",
       "      <th>CountClassCoupled</th>\n",
       "      <th>...</th>\n",
       "      <th>PercentLackOfCohesion</th>\n",
       "      <th>PercentLackOfCohesionModified</th>\n",
       "      <th>RatioCommentToCode</th>\n",
       "      <th>SumCyclomatic</th>\n",
       "      <th>SumCyclomaticModified</th>\n",
       "      <th>SumCyclomaticStrict</th>\n",
       "      <th>SumEssential</th>\n",
       "      <th>numberJavaFiles</th>\n",
       "      <th>readability</th>\n",
       "      <th>questions</th>\n",
       "    </tr>\n",
       "  </thead>\n",
       "  <tbody>\n",
       "    <tr>\n",
       "      <th rowspan=\"3\" valign=\"top\">2013</th>\n",
       "      <th>6</th>\n",
       "      <td>0.000000</td>\n",
       "      <td>0.000000</td>\n",
       "      <td>0.000000</td>\n",
       "      <td>0.000000</td>\n",
       "      <td>0.002333</td>\n",
       "      <td>0.023991</td>\n",
       "      <td>0.001045</td>\n",
       "      <td>0.000000</td>\n",
       "      <td>0.000000</td>\n",
       "      <td>0.022252</td>\n",
       "      <td>...</td>\n",
       "      <td>0.045290</td>\n",
       "      <td>0.066607</td>\n",
       "      <td>0.000000</td>\n",
       "      <td>0.026652</td>\n",
       "      <td>0.026782</td>\n",
       "      <td>0.021701</td>\n",
       "      <td>0.004701</td>\n",
       "      <td>0.000000</td>\n",
       "      <td>0.000000</td>\n",
       "      <td>0.000000</td>\n",
       "    </tr>\n",
       "    <tr>\n",
       "      <th>7</th>\n",
       "      <td>0.000000</td>\n",
       "      <td>0.000000</td>\n",
       "      <td>0.000000</td>\n",
       "      <td>0.000000</td>\n",
       "      <td>0.002333</td>\n",
       "      <td>0.023991</td>\n",
       "      <td>0.001045</td>\n",
       "      <td>0.000000</td>\n",
       "      <td>0.000000</td>\n",
       "      <td>0.022252</td>\n",
       "      <td>...</td>\n",
       "      <td>0.045290</td>\n",
       "      <td>0.066607</td>\n",
       "      <td>0.000000</td>\n",
       "      <td>0.026652</td>\n",
       "      <td>0.026782</td>\n",
       "      <td>0.021701</td>\n",
       "      <td>0.004701</td>\n",
       "      <td>0.000000</td>\n",
       "      <td>0.000000</td>\n",
       "      <td>0.000000</td>\n",
       "    </tr>\n",
       "    <tr>\n",
       "      <th>11</th>\n",
       "      <td>0.000000</td>\n",
       "      <td>0.000000</td>\n",
       "      <td>0.000000</td>\n",
       "      <td>0.000000</td>\n",
       "      <td>0.002333</td>\n",
       "      <td>0.023991</td>\n",
       "      <td>0.001045</td>\n",
       "      <td>0.000000</td>\n",
       "      <td>0.000000</td>\n",
       "      <td>0.022252</td>\n",
       "      <td>...</td>\n",
       "      <td>0.045290</td>\n",
       "      <td>0.066607</td>\n",
       "      <td>0.000000</td>\n",
       "      <td>0.026652</td>\n",
       "      <td>0.026782</td>\n",
       "      <td>0.021701</td>\n",
       "      <td>0.004701</td>\n",
       "      <td>0.000000</td>\n",
       "      <td>0.000000</td>\n",
       "      <td>0.052632</td>\n",
       "    </tr>\n",
       "    <tr>\n",
       "      <th rowspan=\"2\" valign=\"top\">2014</th>\n",
       "      <th>1</th>\n",
       "      <td>0.000000</td>\n",
       "      <td>0.000000</td>\n",
       "      <td>0.000000</td>\n",
       "      <td>0.000000</td>\n",
       "      <td>0.002333</td>\n",
       "      <td>0.023991</td>\n",
       "      <td>0.001045</td>\n",
       "      <td>0.000000</td>\n",
       "      <td>0.000000</td>\n",
       "      <td>0.022252</td>\n",
       "      <td>...</td>\n",
       "      <td>0.045290</td>\n",
       "      <td>0.066607</td>\n",
       "      <td>0.000000</td>\n",
       "      <td>0.026652</td>\n",
       "      <td>0.026782</td>\n",
       "      <td>0.021701</td>\n",
       "      <td>0.004701</td>\n",
       "      <td>0.000000</td>\n",
       "      <td>0.000000</td>\n",
       "      <td>0.026316</td>\n",
       "    </tr>\n",
       "    <tr>\n",
       "      <th>3</th>\n",
       "      <td>0.000000</td>\n",
       "      <td>0.000000</td>\n",
       "      <td>0.000000</td>\n",
       "      <td>0.000000</td>\n",
       "      <td>0.002333</td>\n",
       "      <td>0.023991</td>\n",
       "      <td>0.001045</td>\n",
       "      <td>0.000000</td>\n",
       "      <td>0.000000</td>\n",
       "      <td>0.022252</td>\n",
       "      <td>...</td>\n",
       "      <td>0.045290</td>\n",
       "      <td>0.066607</td>\n",
       "      <td>0.000000</td>\n",
       "      <td>0.026652</td>\n",
       "      <td>0.026782</td>\n",
       "      <td>0.021701</td>\n",
       "      <td>0.004701</td>\n",
       "      <td>0.000000</td>\n",
       "      <td>0.000000</td>\n",
       "      <td>0.026316</td>\n",
       "    </tr>\n",
       "    <tr>\n",
       "      <th>...</th>\n",
       "      <th>...</th>\n",
       "      <td>...</td>\n",
       "      <td>...</td>\n",
       "      <td>...</td>\n",
       "      <td>...</td>\n",
       "      <td>...</td>\n",
       "      <td>...</td>\n",
       "      <td>...</td>\n",
       "      <td>...</td>\n",
       "      <td>...</td>\n",
       "      <td>...</td>\n",
       "      <td>...</td>\n",
       "      <td>...</td>\n",
       "      <td>...</td>\n",
       "      <td>...</td>\n",
       "      <td>...</td>\n",
       "      <td>...</td>\n",
       "      <td>...</td>\n",
       "      <td>...</td>\n",
       "      <td>...</td>\n",
       "      <td>...</td>\n",
       "      <td>...</td>\n",
       "    </tr>\n",
       "    <tr>\n",
       "      <th rowspan=\"5\" valign=\"top\">2020</th>\n",
       "      <th>5</th>\n",
       "      <td>0.406106</td>\n",
       "      <td>0.371408</td>\n",
       "      <td>0.414952</td>\n",
       "      <td>0.524837</td>\n",
       "      <td>0.323293</td>\n",
       "      <td>0.173270</td>\n",
       "      <td>0.268497</td>\n",
       "      <td>0.644841</td>\n",
       "      <td>0.301961</td>\n",
       "      <td>0.592568</td>\n",
       "      <td>...</td>\n",
       "      <td>0.194444</td>\n",
       "      <td>0.239195</td>\n",
       "      <td>0.682313</td>\n",
       "      <td>0.442584</td>\n",
       "      <td>0.404161</td>\n",
       "      <td>0.473403</td>\n",
       "      <td>0.557835</td>\n",
       "      <td>0.323313</td>\n",
       "      <td>0.026170</td>\n",
       "      <td>0.210526</td>\n",
       "    </tr>\n",
       "    <tr>\n",
       "      <th>6</th>\n",
       "      <td>0.274121</td>\n",
       "      <td>0.253664</td>\n",
       "      <td>0.278395</td>\n",
       "      <td>0.366667</td>\n",
       "      <td>0.220109</td>\n",
       "      <td>0.119956</td>\n",
       "      <td>0.182828</td>\n",
       "      <td>0.457143</td>\n",
       "      <td>0.241569</td>\n",
       "      <td>0.384221</td>\n",
       "      <td>...</td>\n",
       "      <td>0.146981</td>\n",
       "      <td>0.170515</td>\n",
       "      <td>0.495725</td>\n",
       "      <td>0.292203</td>\n",
       "      <td>0.269278</td>\n",
       "      <td>0.308637</td>\n",
       "      <td>0.362906</td>\n",
       "      <td>0.242485</td>\n",
       "      <td>0.000078</td>\n",
       "      <td>0.105263</td>\n",
       "    </tr>\n",
       "    <tr>\n",
       "      <th>7</th>\n",
       "      <td>0.597444</td>\n",
       "      <td>0.545259</td>\n",
       "      <td>0.611111</td>\n",
       "      <td>0.754902</td>\n",
       "      <td>0.489217</td>\n",
       "      <td>0.267903</td>\n",
       "      <td>0.402222</td>\n",
       "      <td>1.000000</td>\n",
       "      <td>0.409804</td>\n",
       "      <td>0.830748</td>\n",
       "      <td>...</td>\n",
       "      <td>0.192633</td>\n",
       "      <td>0.218472</td>\n",
       "      <td>1.000000</td>\n",
       "      <td>0.596035</td>\n",
       "      <td>0.538070</td>\n",
       "      <td>0.641385</td>\n",
       "      <td>0.766239</td>\n",
       "      <td>0.440882</td>\n",
       "      <td>0.000000</td>\n",
       "      <td>0.210526</td>\n",
       "    </tr>\n",
       "    <tr>\n",
       "      <th>8</th>\n",
       "      <td>0.058573</td>\n",
       "      <td>0.059267</td>\n",
       "      <td>0.056584</td>\n",
       "      <td>0.150980</td>\n",
       "      <td>0.339885</td>\n",
       "      <td>0.303889</td>\n",
       "      <td>0.334315</td>\n",
       "      <td>0.261905</td>\n",
       "      <td>0.107843</td>\n",
       "      <td>0.098899</td>\n",
       "      <td>...</td>\n",
       "      <td>0.000000</td>\n",
       "      <td>0.000000</td>\n",
       "      <td>0.063705</td>\n",
       "      <td>0.094493</td>\n",
       "      <td>0.090084</td>\n",
       "      <td>0.089215</td>\n",
       "      <td>0.117521</td>\n",
       "      <td>0.242485</td>\n",
       "      <td>0.200706</td>\n",
       "      <td>0.210526</td>\n",
       "    </tr>\n",
       "    <tr>\n",
       "      <th>9</th>\n",
       "      <td>0.000000</td>\n",
       "      <td>0.000000</td>\n",
       "      <td>0.000000</td>\n",
       "      <td>0.043137</td>\n",
       "      <td>0.017889</td>\n",
       "      <td>0.015994</td>\n",
       "      <td>0.015671</td>\n",
       "      <td>0.047619</td>\n",
       "      <td>0.000000</td>\n",
       "      <td>0.106316</td>\n",
       "      <td>...</td>\n",
       "      <td>0.099638</td>\n",
       "      <td>0.131439</td>\n",
       "      <td>0.028500</td>\n",
       "      <td>0.089648</td>\n",
       "      <td>0.090084</td>\n",
       "      <td>0.084393</td>\n",
       "      <td>0.098718</td>\n",
       "      <td>0.110220</td>\n",
       "      <td>0.119641</td>\n",
       "      <td>0.000000</td>\n",
       "    </tr>\n",
       "  </tbody>\n",
       "</table>\n",
       "<p>83 rows × 63 columns</p>\n",
       "</div>"
      ],
      "text/plain": [
       "         AvgCyclomatic  AvgCyclomaticModified  AvgCyclomaticStrict  \\\n",
       "2013 6        0.000000               0.000000             0.000000   \n",
       "     7        0.000000               0.000000             0.000000   \n",
       "     11       0.000000               0.000000             0.000000   \n",
       "2014 1        0.000000               0.000000             0.000000   \n",
       "     3        0.000000               0.000000             0.000000   \n",
       "...                ...                    ...                  ...   \n",
       "2020 5        0.406106               0.371408             0.414952   \n",
       "     6        0.274121               0.253664             0.278395   \n",
       "     7        0.597444               0.545259             0.611111   \n",
       "     8        0.058573               0.059267             0.056584   \n",
       "     9        0.000000               0.000000             0.000000   \n",
       "\n",
       "         AvgEssential   AvgLine  AvgLineBlank  AvgLineCode  AvgLineComment  \\\n",
       "2013 6       0.000000  0.002333      0.023991     0.001045        0.000000   \n",
       "     7       0.000000  0.002333      0.023991     0.001045        0.000000   \n",
       "     11      0.000000  0.002333      0.023991     0.001045        0.000000   \n",
       "2014 1       0.000000  0.002333      0.023991     0.001045        0.000000   \n",
       "     3       0.000000  0.002333      0.023991     0.001045        0.000000   \n",
       "...               ...       ...           ...          ...             ...   \n",
       "2020 5       0.524837  0.323293      0.173270     0.268497        0.644841   \n",
       "     6       0.366667  0.220109      0.119956     0.182828        0.457143   \n",
       "     7       0.754902  0.489217      0.267903     0.402222        1.000000   \n",
       "     8       0.150980  0.339885      0.303889     0.334315        0.261905   \n",
       "     9       0.043137  0.017889      0.015994     0.015671        0.047619   \n",
       "\n",
       "         CountClassBase  CountClassCoupled  ...  PercentLackOfCohesion  \\\n",
       "2013 6         0.000000           0.022252  ...               0.045290   \n",
       "     7         0.000000           0.022252  ...               0.045290   \n",
       "     11        0.000000           0.022252  ...               0.045290   \n",
       "2014 1         0.000000           0.022252  ...               0.045290   \n",
       "     3         0.000000           0.022252  ...               0.045290   \n",
       "...                 ...                ...  ...                    ...   \n",
       "2020 5         0.301961           0.592568  ...               0.194444   \n",
       "     6         0.241569           0.384221  ...               0.146981   \n",
       "     7         0.409804           0.830748  ...               0.192633   \n",
       "     8         0.107843           0.098899  ...               0.000000   \n",
       "     9         0.000000           0.106316  ...               0.099638   \n",
       "\n",
       "         PercentLackOfCohesionModified  RatioCommentToCode  SumCyclomatic  \\\n",
       "2013 6                        0.066607            0.000000       0.026652   \n",
       "     7                        0.066607            0.000000       0.026652   \n",
       "     11                       0.066607            0.000000       0.026652   \n",
       "2014 1                        0.066607            0.000000       0.026652   \n",
       "     3                        0.066607            0.000000       0.026652   \n",
       "...                                ...                 ...            ...   \n",
       "2020 5                        0.239195            0.682313       0.442584   \n",
       "     6                        0.170515            0.495725       0.292203   \n",
       "     7                        0.218472            1.000000       0.596035   \n",
       "     8                        0.000000            0.063705       0.094493   \n",
       "     9                        0.131439            0.028500       0.089648   \n",
       "\n",
       "         SumCyclomaticModified  SumCyclomaticStrict  SumEssential  \\\n",
       "2013 6                0.026782             0.021701      0.004701   \n",
       "     7                0.026782             0.021701      0.004701   \n",
       "     11               0.026782             0.021701      0.004701   \n",
       "2014 1                0.026782             0.021701      0.004701   \n",
       "     3                0.026782             0.021701      0.004701   \n",
       "...                        ...                  ...           ...   \n",
       "2020 5                0.404161             0.473403      0.557835   \n",
       "     6                0.269278             0.308637      0.362906   \n",
       "     7                0.538070             0.641385      0.766239   \n",
       "     8                0.090084             0.089215      0.117521   \n",
       "     9                0.090084             0.084393      0.098718   \n",
       "\n",
       "         numberJavaFiles  readability  questions  \n",
       "2013 6          0.000000     0.000000   0.000000  \n",
       "     7          0.000000     0.000000   0.000000  \n",
       "     11         0.000000     0.000000   0.052632  \n",
       "2014 1          0.000000     0.000000   0.026316  \n",
       "     3          0.000000     0.000000   0.026316  \n",
       "...                  ...          ...        ...  \n",
       "2020 5          0.323313     0.026170   0.210526  \n",
       "     6          0.242485     0.000078   0.105263  \n",
       "     7          0.440882     0.000000   0.210526  \n",
       "     8          0.242485     0.200706   0.210526  \n",
       "     9          0.110220     0.119641   0.000000  \n",
       "\n",
       "[83 rows x 63 columns]"
      ]
     },
     "execution_count": 16,
     "metadata": {},
     "output_type": "execute_result"
    }
   ],
   "source": [
    "AllMetricsAndQuestionsNormalized"
   ]
  },
  {
   "cell_type": "markdown",
   "metadata": {},
   "source": [
    "### Gráfico do número de arquivos Java"
   ]
  },
  {
   "cell_type": "code",
   "execution_count": 18,
   "metadata": {},
   "outputs": [
    {
     "data": {
      "text/html": [
       "<div>\n",
       "<style scoped>\n",
       "    .dataframe tbody tr th:only-of-type {\n",
       "        vertical-align: middle;\n",
       "    }\n",
       "\n",
       "    .dataframe tbody tr th {\n",
       "        vertical-align: top;\n",
       "    }\n",
       "\n",
       "    .dataframe thead th {\n",
       "        text-align: right;\n",
       "    }\n",
       "</style>\n",
       "<table border=\"1\" class=\"dataframe\">\n",
       "  <thead>\n",
       "    <tr style=\"text-align: right;\">\n",
       "      <th></th>\n",
       "      <th>year</th>\n",
       "      <th>month</th>\n",
       "      <th>day</th>\n",
       "    </tr>\n",
       "  </thead>\n",
       "  <tbody>\n",
       "    <tr>\n",
       "      <th>0</th>\n",
       "      <td>2013</td>\n",
       "      <td>6</td>\n",
       "      <td>1</td>\n",
       "    </tr>\n",
       "    <tr>\n",
       "      <th>1</th>\n",
       "      <td>2013</td>\n",
       "      <td>7</td>\n",
       "      <td>1</td>\n",
       "    </tr>\n",
       "    <tr>\n",
       "      <th>2</th>\n",
       "      <td>2013</td>\n",
       "      <td>11</td>\n",
       "      <td>1</td>\n",
       "    </tr>\n",
       "    <tr>\n",
       "      <th>3</th>\n",
       "      <td>2014</td>\n",
       "      <td>1</td>\n",
       "      <td>1</td>\n",
       "    </tr>\n",
       "    <tr>\n",
       "      <th>4</th>\n",
       "      <td>2014</td>\n",
       "      <td>3</td>\n",
       "      <td>1</td>\n",
       "    </tr>\n",
       "    <tr>\n",
       "      <th>...</th>\n",
       "      <td>...</td>\n",
       "      <td>...</td>\n",
       "      <td>...</td>\n",
       "    </tr>\n",
       "    <tr>\n",
       "      <th>78</th>\n",
       "      <td>2020</td>\n",
       "      <td>5</td>\n",
       "      <td>1</td>\n",
       "    </tr>\n",
       "    <tr>\n",
       "      <th>79</th>\n",
       "      <td>2020</td>\n",
       "      <td>6</td>\n",
       "      <td>1</td>\n",
       "    </tr>\n",
       "    <tr>\n",
       "      <th>80</th>\n",
       "      <td>2020</td>\n",
       "      <td>7</td>\n",
       "      <td>1</td>\n",
       "    </tr>\n",
       "    <tr>\n",
       "      <th>81</th>\n",
       "      <td>2020</td>\n",
       "      <td>8</td>\n",
       "      <td>1</td>\n",
       "    </tr>\n",
       "    <tr>\n",
       "      <th>82</th>\n",
       "      <td>2020</td>\n",
       "      <td>9</td>\n",
       "      <td>1</td>\n",
       "    </tr>\n",
       "  </tbody>\n",
       "</table>\n",
       "<p>83 rows × 3 columns</p>\n",
       "</div>"
      ],
      "text/plain": [
       "    year  month  day\n",
       "0   2013      6    1\n",
       "1   2013      7    1\n",
       "2   2013     11    1\n",
       "3   2014      1    1\n",
       "4   2014      3    1\n",
       "..   ...    ...  ...\n",
       "78  2020      5    1\n",
       "79  2020      6    1\n",
       "80  2020      7    1\n",
       "81  2020      8    1\n",
       "82  2020      9    1\n",
       "\n",
       "[83 rows x 3 columns]"
      ]
     },
     "execution_count": 18,
     "metadata": {},
     "output_type": "execute_result"
    }
   ],
   "source": [
    "time = pd.DataFrame(AllMetricsAndQuestionsNormalized.index.values.tolist(), columns=['year','month'])\n",
    "time[\"day\"] = 1\n",
    "time"
   ]
  },
  {
   "cell_type": "code",
   "execution_count": 19,
   "metadata": {},
   "outputs": [],
   "source": [
    "AllMetricsAndQuestionsNormalized.set_index(pd.to_datetime(time), inplace=True)"
   ]
  },
  {
   "cell_type": "markdown",
   "metadata": {},
   "source": [
    "# Plotting only metrics"
   ]
  },
  {
   "cell_type": "code",
   "execution_count": 20,
   "metadata": {},
   "outputs": [],
   "source": [
    "def plot(data, metric, title, ylabel, xlabel):\n",
    "    subplot = data.plot(figsize=(15,5), fontsize=20)\n",
    "    subplot.set_title(title, fontsize=25)\n",
    "    subplot.set_ylabel(ylabel, fontsize=20)\n",
    "    subplot.set_xlabel(xlabel, fontsize=20)\n",
    "    #     subplot.figure.savefig(metric+\".pdf\",bbox_inches = 'tight')"
   ]
  },
  {
   "cell_type": "code",
   "execution_count": 22,
   "metadata": {},
   "outputs": [
    {
     "data": {
      "image/png": "[encoded data removed]",
      "text/plain": [
       "<Figure size 1080x360 with 1 Axes>"
      ]
     },
     "metadata": {
      "needs_background": "light"
     },
     "output_type": "display_data"
    }
   ],
   "source": [
    "plot(AllMetricsAndQuestionsNormalized[\"AvgCyclomatic\"], \"AvgCyclomatic\", \"AvgCyclomatic\", \"\", \"\")"
   ]
  },
  {
   "cell_type": "code",
   "execution_count": null,
   "metadata": {
    "scrolled": true
   },
   "outputs": [],
   "source": [
    "plot(normalized_df[\"AvgCyclomaticModified\"], \"AvgCyclomaticModified\", \"AvgCyclomaticModified\", \"\", \"\")"
   ]
  },
  {
   "cell_type": "code",
   "execution_count": null,
   "metadata": {
    "scrolled": false
   },
   "outputs": [],
   "source": [
    "plot(normalized_df[\"AvgCyclomaticStrict\"], \"AvgCyclomaticStrict\", \"AvgCyclomaticStrict\", \"\", \"\")"
   ]
  },
  {
   "cell_type": "code",
   "execution_count": null,
   "metadata": {
    "scrolled": true
   },
   "outputs": [],
   "source": [
    "plot(normalized_df[\"AvgEssential\"], \"AvgEssential\", \"AvgEssential\", \"\", \"\")"
   ]
  },
  {
   "cell_type": "code",
   "execution_count": null,
   "metadata": {
    "scrolled": false
   },
   "outputs": [],
   "source": [
    "plot(normalized_df[\"AvgLine\"], \"AvgLine\", \"AvgLine\", \"\", \"\")"
   ]
  },
  {
   "cell_type": "code",
   "execution_count": null,
   "metadata": {
    "scrolled": true
   },
   "outputs": [],
   "source": [
    "plot(normalized_df[\"AvgLineBlank\"], \"AvgLineBlank\", \"AvgLineBlank\", \"\", \"\")"
   ]
  },
  {
   "cell_type": "code",
   "execution_count": null,
   "metadata": {
    "scrolled": false
   },
   "outputs": [],
   "source": [
    "plot(normalized_df[\"AvgLineCode\"], \"AvgLineCode\", \"AvgLineCode\", \"\", \"\")"
   ]
  },
  {
   "cell_type": "code",
   "execution_count": null,
   "metadata": {
    "scrolled": true
   },
   "outputs": [],
   "source": [
    "plot(normalized_df[\"AvgLineComment\"], \"AvgLineComment\", \"AvgLineComment\", \"\", \"\")"
   ]
  },
  {
   "cell_type": "code",
   "execution_count": null,
   "metadata": {
    "scrolled": false
   },
   "outputs": [],
   "source": [
    "plot(normalized_df[\"CountClassBase\"], \"CountClassBase\", \"CountClassBase\", \"\", \"\")"
   ]
  },
  {
   "cell_type": "code",
   "execution_count": null,
   "metadata": {
    "scrolled": true
   },
   "outputs": [],
   "source": [
    "plot(normalized_df[\"CountClassCoupled\"], \"CountClassCoupled\", \"CountClassCoupled\", \"\", \"\")"
   ]
  },
  {
   "cell_type": "code",
   "execution_count": null,
   "metadata": {
    "scrolled": false
   },
   "outputs": [],
   "source": [
    "plot(normalized_df[\"CountClassCoupledModified\"], \"CountClassCoupledModified\", \"CountClassCoupledModified\", \"\", \"\")"
   ]
  },
  {
   "cell_type": "code",
   "execution_count": null,
   "metadata": {
    "scrolled": true
   },
   "outputs": [],
   "source": [
    "plot(normalized_df[\"CountClassDerived\"], \"CountClassDerived\", \"CountClassDerived\", \"\", \"\")"
   ]
  },
  {
   "cell_type": "code",
   "execution_count": null,
   "metadata": {
    "scrolled": false
   },
   "outputs": [],
   "source": [
    "plot(normalized_df[\"CountDeclClassMethod\"], \"CountDeclClassMethod\", \"CountDeclClassMethod\", \"\", \"\")"
   ]
  },
  {
   "cell_type": "code",
   "execution_count": null,
   "metadata": {
    "scrolled": false
   },
   "outputs": [],
   "source": [
    "plot(normalized_df[\"CountDeclClassVariable\"], \"CountDeclClassVariable\", \"CountDeclClassVariable\", \"\", \"\")"
   ]
  },
  {
   "cell_type": "code",
   "execution_count": null,
   "metadata": {
    "scrolled": false
   },
   "outputs": [],
   "source": [
    "plot(normalized_df[\"CountDeclInstanceMethod\"], \"CountDeclInstanceMethod\", \"CountDeclInstanceMethod\", \"\", \"\")"
   ]
  },
  {
   "cell_type": "code",
   "execution_count": null,
   "metadata": {
    "scrolled": true
   },
   "outputs": [],
   "source": [
    "plot(normalized_df[\"CountDeclInstanceVariable\"], \"CountDeclInstanceVariable\", \"CountDeclInstanceVariable\", \"\", \"\")"
   ]
  },
  {
   "cell_type": "code",
   "execution_count": null,
   "metadata": {
    "scrolled": false
   },
   "outputs": [],
   "source": [
    "plot(normalized_df[\"CountDeclMethod\"], \"CountDeclMethod\", \"CountDeclMethod\", \"\", \"\")"
   ]
  },
  {
   "cell_type": "code",
   "execution_count": null,
   "metadata": {
    "scrolled": true
   },
   "outputs": [],
   "source": [
    "plot(normalized_df[\"CountDeclMethodAll\"], \"CountDeclMethodAll\", \"CountDeclMethodAll\", \"\", \"\")"
   ]
  },
  {
   "cell_type": "code",
   "execution_count": null,
   "metadata": {
    "scrolled": false
   },
   "outputs": [],
   "source": [
    "plot(normalized_df[\"CountDeclMethodDefault\"], \"CountDeclMethodDefault\", \"CountDeclMethodDefault\", \"\", \"\")"
   ]
  },
  {
   "cell_type": "code",
   "execution_count": null,
   "metadata": {
    "scrolled": true
   },
   "outputs": [],
   "source": [
    "plot(normalized_df[\"CountDeclMethodPrivate\"], \"CountDeclMethodPrivate\", \"CountDeclMethodPrivate\", \"\", \"\")"
   ]
  },
  {
   "cell_type": "code",
   "execution_count": null,
   "metadata": {
    "scrolled": false
   },
   "outputs": [],
   "source": [
    "plot(normalized_df[\"CountDeclMethodProtected\"], \"CountDeclMethodProtected\", \"CountDeclMethodProtected\", \"\", \"\")"
   ]
  },
  {
   "cell_type": "code",
   "execution_count": null,
   "metadata": {
    "scrolled": true
   },
   "outputs": [],
   "source": [
    "plot(normalized_df[\"CountDeclMethodPublic\"], \"CountDeclMethodPublic\", \"CountDeclMethodPublic\", \"\", \"\")"
   ]
  },
  {
   "cell_type": "code",
   "execution_count": null,
   "metadata": {
    "scrolled": true
   },
   "outputs": [],
   "source": [
    "plot(normalized_df[\"CountLine\"], \"CountLine\", \"CountLine\", \"\", \"\")"
   ]
  },
  {
   "cell_type": "code",
   "execution_count": null,
   "metadata": {
    "scrolled": false
   },
   "outputs": [],
   "source": [
    "plot(normalized_df[\"CountLineBlank\"], \"CountLineBlank\", \"CountLineBlank\", \"\", \"\")"
   ]
  },
  {
   "cell_type": "code",
   "execution_count": null,
   "metadata": {
    "scrolled": true
   },
   "outputs": [],
   "source": [
    "plot(normalized_df[\"CountLineCode\"], \"CountLineCode\", \"CountLineCode\", \"\", \"\")"
   ]
  },
  {
   "cell_type": "code",
   "execution_count": null,
   "metadata": {
    "scrolled": false
   },
   "outputs": [],
   "source": [
    "plot(normalized_df[\"CountLineCodeDecl\"], \"CountLineCodeDecl\", \"CountLineCodeDecl\", \"\", \"\")"
   ]
  },
  {
   "cell_type": "code",
   "execution_count": null,
   "metadata": {
    "scrolled": true
   },
   "outputs": [],
   "source": [
    "plot(normalized_df[\"CountLineCodeExe\"], \"CountLineCodeExe\", \"CountLineCodeExe\", \"\", \"\")"
   ]
  },
  {
   "cell_type": "code",
   "execution_count": null,
   "metadata": {
    "scrolled": false
   },
   "outputs": [],
   "source": [
    "plot(normalized_df[\"CountLineComment\"], \"CountLineComment\", \"CountLineComment\", \"\", \"\")"
   ]
  },
  {
   "cell_type": "code",
   "execution_count": null,
   "metadata": {
    "scrolled": true
   },
   "outputs": [],
   "source": [
    "plot(normalized_df[\"CountStmt\"], \"CountStmt\", \"CountStmt\", \"\", \"\")"
   ]
  },
  {
   "cell_type": "code",
   "execution_count": null,
   "metadata": {
    "scrolled": false
   },
   "outputs": [],
   "source": [
    "plot(normalized_df[\"CountStmtDecl\"], \"CountStmtDecl\", \"CountStmtDecl\", \"\", \"\")"
   ]
  },
  {
   "cell_type": "code",
   "execution_count": null,
   "metadata": {
    "scrolled": true
   },
   "outputs": [],
   "source": [
    "plot(normalized_df[\"CountStmtExe\"], \"CountStmtExe\", \"CountStmtExe\", \"\", \"\")"
   ]
  },
  {
   "cell_type": "code",
   "execution_count": null,
   "metadata": {
    "scrolled": true
   },
   "outputs": [],
   "source": [
    "plot(normalized_df[\"MaxCyclomatic\"], \"MaxCyclomatic\", \"MaxCyclomatic\", \"\", \"\")"
   ]
  },
  {
   "cell_type": "code",
   "execution_count": null,
   "metadata": {
    "scrolled": false
   },
   "outputs": [],
   "source": [
    "plot(normalized_df[\"MaxCyclomaticModified\"], \"MaxCyclomaticModified\", \"MaxCyclomaticModified\", \"\", \"\")"
   ]
  },
  {
   "cell_type": "code",
   "execution_count": null,
   "metadata": {
    "scrolled": true
   },
   "outputs": [],
   "source": [
    "plot(normalized_df[\"MaxCyclomaticStrict\"], \"MaxCyclomaticStrict\", \"MaxCyclomaticStrict\", \"\", \"\")"
   ]
  },
  {
   "cell_type": "code",
   "execution_count": null,
   "metadata": {
    "scrolled": false
   },
   "outputs": [],
   "source": [
    "plot(normalized_df[\"MaxEssential\"], \"MaxEssential\", \"MaxEssential\", \"\", \"\")"
   ]
  },
  {
   "cell_type": "code",
   "execution_count": null,
   "metadata": {
    "scrolled": true
   },
   "outputs": [],
   "source": [
    "plot(normalized_df[\"MaxInheritanceTree\"], \"MaxInheritanceTree\", \"MaxInheritanceTree\", \"\", \"\")"
   ]
  },
  {
   "cell_type": "code",
   "execution_count": null,
   "metadata": {
    "scrolled": false
   },
   "outputs": [],
   "source": [
    "plot(normalized_df[\"MaxNesting\"], \"MaxNesting\", \"MaxNesting\", \"\", \"\")"
   ]
  },
  {
   "cell_type": "code",
   "execution_count": null,
   "metadata": {
    "scrolled": true
   },
   "outputs": [],
   "source": [
    "plot(normalized_df[\"PercentLackOfCohesion\"], \"PercentLackOfCohesion\", \"PercentLackOfCohesion\", \"\", \"\")"
   ]
  },
  {
   "cell_type": "code",
   "execution_count": null,
   "metadata": {
    "scrolled": false
   },
   "outputs": [],
   "source": [
    "plot(normalized_df[\"PercentLackOfCohesionModified\"], \"PercentLackOfCohesionModified\", \"PercentLackOfCohesionModified\", \"\", \"\")"
   ]
  },
  {
   "cell_type": "code",
   "execution_count": null,
   "metadata": {
    "scrolled": true
   },
   "outputs": [],
   "source": [
    "plot(normalized_df[\"RatioCommentToCode\"], \"RatioCommentToCode\", \"RatioCommentToCode\", \"\", \"\")"
   ]
  },
  {
   "cell_type": "code",
   "execution_count": null,
   "metadata": {
    "scrolled": false
   },
   "outputs": [],
   "source": [
    "plot(normalized_df[\"SumCyclomatic\"], \"SumCyclomatic\", \"SumCyclomatic\", \"\", \"\")"
   ]
  },
  {
   "cell_type": "code",
   "execution_count": null,
   "metadata": {
    "scrolled": true
   },
   "outputs": [],
   "source": [
    "plot(normalized_df[\"SumCyclomaticModified\"], \"SumCyclomaticModified\", \"SumCyclomaticModified\", \"\", \"\")"
   ]
  },
  {
   "cell_type": "code",
   "execution_count": null,
   "metadata": {
    "scrolled": false
   },
   "outputs": [],
   "source": [
    "plot(normalized_df[\"SumCyclomaticStrict\"], \"SumCyclomaticStrict\", \"SumCyclomaticStrict\", \"\", \"\")"
   ]
  },
  {
   "cell_type": "code",
   "execution_count": null,
   "metadata": {
    "scrolled": true
   },
   "outputs": [],
   "source": [
    "plot(normalized_df[\"SumEssential\"], \"SumEssential\", \"SumEssential\", \"\", \"\")"
   ]
  },
  {
   "cell_type": "markdown",
   "metadata": {},
   "source": [
    "# Plotting metrics and questions"
   ]
  },
  {
   "cell_type": "code",
   "execution_count": null,
   "metadata": {},
   "outputs": [],
   "source": [
    "def plot(metrics, questions, metric, title, ylabel, xlabel):\n",
    "    subplot = metrics.plot(figsize=(15,5), fontsize=20, legend=True, label=metric)\n",
    "    subplot = questions.plot(figsize=(15,5), fontsize=20, legend=True, label=\"Questions\")\n",
    "    subplot.set_title(title, fontsize=25)\n",
    "    subplot.set_ylabel(ylabel, fontsize=20)\n",
    "    subplot.set_xlabel(xlabel, fontsize=20)\n",
    "    #     subplot.figure.savefig(metric+\".pdf\",bbox_inches = 'tight')"
   ]
  },
  {
   "cell_type": "code",
   "execution_count": null,
   "metadata": {},
   "outputs": [],
   "source": [
    "plot(normalized_df[\"AvgCyclomatic\"], normalized_df[\"count_questions\"], \"AvgCyclomatic\", \"AvgCyclomatic\", \"\", \"\")"
   ]
  },
  {
   "cell_type": "code",
   "execution_count": null,
   "metadata": {
    "scrolled": true
   },
   "outputs": [],
   "source": [
    "plot(normalized_df[\"AvgCyclomaticModified\"], normalized_df[\"count_questions\"], \"AvgCyclomaticModified\", \"AvgCyclomaticModified\", \"\", \"\")"
   ]
  },
  {
   "cell_type": "code",
   "execution_count": null,
   "metadata": {
    "scrolled": false
   },
   "outputs": [],
   "source": [
    "plot(normalized_df[\"AvgCyclomaticStrict\"], normalized_df[\"count_questions\"], \"AvgCyclomaticStrict\", \"AvgCyclomaticStrict\", \"\", \"\")"
   ]
  },
  {
   "cell_type": "code",
   "execution_count": null,
   "metadata": {
    "scrolled": true
   },
   "outputs": [],
   "source": [
    "plot(normalized_df[\"AvgEssential\"], normalized_df[\"count_questions\"], \"AvgEssential\", \"AvgEssential\", \"\", \"\")"
   ]
  },
  {
   "cell_type": "code",
   "execution_count": null,
   "metadata": {
    "scrolled": false
   },
   "outputs": [],
   "source": [
    "plot(normalized_df[\"AvgLine\"], normalized_df[\"count_questions\"], \"AvgLine\", \"AvgLine\", \"\", \"\")"
   ]
  },
  {
   "cell_type": "code",
   "execution_count": null,
   "metadata": {
    "scrolled": true
   },
   "outputs": [],
   "source": [
    "plot(normalized_df[\"AvgLineBlank\"], normalized_df[\"count_questions\"], \"AvgLineBlank\", \"AvgLineBlank\", \"\", \"\")"
   ]
  },
  {
   "cell_type": "code",
   "execution_count": null,
   "metadata": {
    "scrolled": false
   },
   "outputs": [],
   "source": [
    "plot(normalized_df[\"AvgLineCode\"], normalized_df[\"count_questions\"], \"AvgLineCode\", \"AvgLineCode\", \"\", \"\")"
   ]
  },
  {
   "cell_type": "code",
   "execution_count": null,
   "metadata": {
    "scrolled": true
   },
   "outputs": [],
   "source": [
    "plot(normalized_df[\"AvgLineComment\"], normalized_df[\"count_questions\"], \"AvgLineComment\", \"AvgLineComment\", \"\", \"\")"
   ]
  },
  {
   "cell_type": "code",
   "execution_count": null,
   "metadata": {
    "scrolled": false
   },
   "outputs": [],
   "source": [
    "plot(normalized_df[\"CountClassBase\"], normalized_df[\"count_questions\"], \"CountClassBase\", \"CountClassBase\", \"\", \"\")"
   ]
  },
  {
   "cell_type": "code",
   "execution_count": null,
   "metadata": {
    "scrolled": true
   },
   "outputs": [],
   "source": [
    "plot(normalized_df[\"CountClassCoupled\"], normalized_df[\"count_questions\"], \"CountClassCoupled\", \"CountClassCoupled\", \"\", \"\")"
   ]
  },
  {
   "cell_type": "code",
   "execution_count": null,
   "metadata": {
    "scrolled": false
   },
   "outputs": [],
   "source": [
    "plot(normalized_df[\"CountClassCoupledModified\"], normalized_df[\"count_questions\"], \"CountClassCoupledModified\", \"CountClassCoupledModified\", \"\", \"\")"
   ]
  },
  {
   "cell_type": "code",
   "execution_count": null,
   "metadata": {
    "scrolled": true
   },
   "outputs": [],
   "source": [
    "plot(normalized_df[\"CountClassDerived\"], normalized_df[\"count_questions\"], \"CountClassDerived\", \"CountClassDerived\", \"\", \"\")"
   ]
  },
  {
   "cell_type": "code",
   "execution_count": null,
   "metadata": {
    "scrolled": false
   },
   "outputs": [],
   "source": [
    "plot(normalized_df[\"CountDeclClassMethod\"], normalized_df[\"count_questions\"], \"CountDeclClassMethod\", \"CountDeclClassMethod\", \"\", \"\")"
   ]
  },
  {
   "cell_type": "code",
   "execution_count": null,
   "metadata": {
    "scrolled": false
   },
   "outputs": [],
   "source": [
    "plot(normalized_df[\"CountDeclClassVariable\"], normalized_df[\"count_questions\"], \"CountDeclClassVariable\", \"CountDeclClassVariable\", \"\", \"\")"
   ]
  },
  {
   "cell_type": "code",
   "execution_count": null,
   "metadata": {
    "scrolled": false
   },
   "outputs": [],
   "source": [
    "plot(normalized_df[\"CountDeclInstanceMethod\"], normalized_df[\"count_questions\"], \"CountDeclInstanceMethod\", \"CountDeclInstanceMethod\", \"\", \"\")"
   ]
  },
  {
   "cell_type": "code",
   "execution_count": null,
   "metadata": {
    "scrolled": true
   },
   "outputs": [],
   "source": [
    "plot(normalized_df[\"CountDeclInstanceVariable\"], normalized_df[\"count_questions\"], \"CountDeclInstanceVariable\", \"CountDeclInstanceVariable\", \"\", \"\")"
   ]
  },
  {
   "cell_type": "code",
   "execution_count": null,
   "metadata": {
    "scrolled": false
   },
   "outputs": [],
   "source": [
    "plot(normalized_df[\"CountDeclMethod\"], normalized_df[\"count_questions\"], \"CountDeclMethod\", \"CountDeclMethod\", \"\", \"\")"
   ]
  },
  {
   "cell_type": "code",
   "execution_count": null,
   "metadata": {
    "scrolled": true
   },
   "outputs": [],
   "source": [
    "plot(normalized_df[\"CountDeclMethodAll\"], normalized_df[\"count_questions\"], \"CountDeclMethodAll\", \"CountDeclMethodAll\", \"\", \"\")"
   ]
  },
  {
   "cell_type": "code",
   "execution_count": null,
   "metadata": {
    "scrolled": false
   },
   "outputs": [],
   "source": [
    "plot(normalized_df[\"CountDeclMethodDefault\"], normalized_df[\"count_questions\"], \"CountDeclMethodDefault\", \"CountDeclMethodDefault\", \"\", \"\")"
   ]
  },
  {
   "cell_type": "code",
   "execution_count": null,
   "metadata": {
    "scrolled": true
   },
   "outputs": [],
   "source": [
    "plot(normalized_df[\"CountDeclMethodPrivate\"], normalized_df[\"count_questions\"], \"CountDeclMethodPrivate\", \"CountDeclMethodPrivate\", \"\", \"\")"
   ]
  },
  {
   "cell_type": "code",
   "execution_count": null,
   "metadata": {
    "scrolled": false
   },
   "outputs": [],
   "source": [
    "plot(normalized_df[\"CountDeclMethodProtected\"], normalized_df[\"count_questions\"], \"CountDeclMethodProtected\", \"CountDeclMethodProtected\", \"\", \"\")"
   ]
  },
  {
   "cell_type": "code",
   "execution_count": null,
   "metadata": {
    "scrolled": true
   },
   "outputs": [],
   "source": [
    "plot(normalized_df[\"CountDeclMethodPublic\"], normalized_df[\"count_questions\"], \"CountDeclMethodPublic\", \"CountDeclMethodPublic\", \"\", \"\")"
   ]
  },
  {
   "cell_type": "code",
   "execution_count": null,
   "metadata": {
    "scrolled": true
   },
   "outputs": [],
   "source": [
    "plot(normalized_df[\"CountLine\"], normalized_df[\"count_questions\"], \"CountLine\", \"CountLine\", \"\", \"\")"
   ]
  },
  {
   "cell_type": "code",
   "execution_count": null,
   "metadata": {
    "scrolled": false
   },
   "outputs": [],
   "source": [
    "plot(normalized_df[\"CountLineBlank\"], normalized_df[\"count_questions\"], \"CountLineBlank\", \"CountLineBlank\", \"\", \"\")"
   ]
  },
  {
   "cell_type": "code",
   "execution_count": null,
   "metadata": {
    "scrolled": true
   },
   "outputs": [],
   "source": [
    "plot(normalized_df[\"CountLineCode\"], normalized_df[\"count_questions\"], \"CountLineCode\", \"CountLineCode\", \"\", \"\")"
   ]
  },
  {
   "cell_type": "code",
   "execution_count": null,
   "metadata": {
    "scrolled": false
   },
   "outputs": [],
   "source": [
    "plot(normalized_df[\"CountLineCodeDecl\"], normalized_df[\"count_questions\"], \"CountLineCodeDecl\", \"CountLineCodeDecl\", \"\", \"\")"
   ]
  },
  {
   "cell_type": "code",
   "execution_count": null,
   "metadata": {
    "scrolled": true
   },
   "outputs": [],
   "source": [
    "plot(normalized_df[\"CountLineCodeExe\"], normalized_df[\"count_questions\"], \"CountLineCodeExe\", \"CountLineCodeExe\", \"\", \"\")"
   ]
  },
  {
   "cell_type": "code",
   "execution_count": null,
   "metadata": {
    "scrolled": false
   },
   "outputs": [],
   "source": [
    "plot(normalized_df[\"CountLineComment\"], normalized_df[\"count_questions\"], \"CountLineComment\", \"CountLineComment\", \"\", \"\")"
   ]
  },
  {
   "cell_type": "code",
   "execution_count": null,
   "metadata": {
    "scrolled": true
   },
   "outputs": [],
   "source": [
    "plot(normalized_df[\"CountStmt\"], normalized_df[\"count_questions\"], \"CountStmt\", \"CountStmt\", \"\", \"\")"
   ]
  },
  {
   "cell_type": "code",
   "execution_count": null,
   "metadata": {
    "scrolled": false
   },
   "outputs": [],
   "source": [
    "plot(normalized_df[\"CountStmtDecl\"], normalized_df[\"count_questions\"], \"CountStmtDecl\", \"CountStmtDecl\", \"\", \"\")"
   ]
  },
  {
   "cell_type": "code",
   "execution_count": null,
   "metadata": {
    "scrolled": true
   },
   "outputs": [],
   "source": [
    "plot(normalized_df[\"CountStmtExe\"], normalized_df[\"count_questions\"], \"CountStmtExe\", \"CountStmtExe\", \"\", \"\")"
   ]
  },
  {
   "cell_type": "code",
   "execution_count": null,
   "metadata": {
    "scrolled": true
   },
   "outputs": [],
   "source": [
    "plot(normalized_df[\"MaxCyclomatic\"], normalized_df[\"count_questions\"], \"MaxCyclomatic\", \"MaxCyclomatic\", \"\", \"\")"
   ]
  },
  {
   "cell_type": "code",
   "execution_count": null,
   "metadata": {
    "scrolled": false
   },
   "outputs": [],
   "source": [
    "plot(normalized_df[\"MaxCyclomaticModified\"], normalized_df[\"count_questions\"], \"MaxCyclomaticModified\", \"MaxCyclomaticModified\", \"\", \"\")"
   ]
  },
  {
   "cell_type": "code",
   "execution_count": null,
   "metadata": {
    "scrolled": true
   },
   "outputs": [],
   "source": [
    "plot(normalized_df[\"MaxCyclomaticStrict\"], normalized_df[\"count_questions\"], \"MaxCyclomaticStrict\", \"MaxCyclomaticStrict\", \"\", \"\")"
   ]
  },
  {
   "cell_type": "code",
   "execution_count": null,
   "metadata": {
    "scrolled": false
   },
   "outputs": [],
   "source": [
    "plot(normalized_df[\"MaxEssential\"], normalized_df[\"count_questions\"], \"MaxEssential\", \"MaxEssential\", \"\", \"\")"
   ]
  },
  {
   "cell_type": "code",
   "execution_count": null,
   "metadata": {
    "scrolled": true
   },
   "outputs": [],
   "source": [
    "plot(normalized_df[\"MaxInheritanceTree\"], normalized_df[\"count_questions\"], \"MaxInheritanceTree\", \"MaxInheritanceTree\", \"\", \"\")"
   ]
  },
  {
   "cell_type": "code",
   "execution_count": null,
   "metadata": {
    "scrolled": false
   },
   "outputs": [],
   "source": [
    "plot(normalized_df[\"MaxNesting\"], normalized_df[\"count_questions\"], \"MaxNesting\", \"MaxNesting\", \"\", \"\")"
   ]
  },
  {
   "cell_type": "code",
   "execution_count": null,
   "metadata": {
    "scrolled": true
   },
   "outputs": [],
   "source": [
    "plot(normalized_df[\"PercentLackOfCohesion\"], normalized_df[\"count_questions\"], \"PercentLackOfCohesion\", \"PercentLackOfCohesion\", \"\", \"\")"
   ]
  },
  {
   "cell_type": "code",
   "execution_count": null,
   "metadata": {
    "scrolled": false
   },
   "outputs": [],
   "source": [
    "plot(normalized_df[\"PercentLackOfCohesionModified\"], normalized_df[\"count_questions\"], \"PercentLackOfCohesionModified\", \"PercentLackOfCohesionModified\", \"\", \"\")"
   ]
  },
  {
   "cell_type": "code",
   "execution_count": null,
   "metadata": {
    "scrolled": true
   },
   "outputs": [],
   "source": [
    "plot(normalized_df[\"RatioCommentToCode\"], normalized_df[\"count_questions\"], \"RatioCommentToCode\", \"RatioCommentToCode\", \"\", \"\")"
   ]
  },
  {
   "cell_type": "code",
   "execution_count": null,
   "metadata": {
    "scrolled": false
   },
   "outputs": [],
   "source": [
    "plot(normalized_df[\"SumCyclomatic\"], normalized_df[\"count_questions\"], \"SumCyclomatic\", \"SumCyclomatic\", \"\", \"\")"
   ]
  },
  {
   "cell_type": "code",
   "execution_count": null,
   "metadata": {
    "scrolled": true
   },
   "outputs": [],
   "source": [
    "plot(normalized_df[\"SumCyclomaticModified\"], normalized_df[\"count_questions\"], \"SumCyclomaticModified\", \"SumCyclomaticModified\", \"\", \"\")"
   ]
  },
  {
   "cell_type": "code",
   "execution_count": null,
   "metadata": {
    "scrolled": false
   },
   "outputs": [],
   "source": [
    "plot(normalized_df[\"SumCyclomaticStrict\"], normalized_df[\"count_questions\"], \"SumCyclomaticStrict\", \"SumCyclomaticStrict\", \"\", \"\")"
   ]
  },
  {
   "cell_type": "code",
   "execution_count": null,
   "metadata": {
    "scrolled": false
   },
   "outputs": [],
   "source": [
    "plot(normalized_df[\"SumEssential\"], normalized_df[\"count_questions\"], \"SumEssential\", \"SumEssential\", \"\", \"\")"
   ]
  },
  {
   "cell_type": "code",
   "execution_count": null,
   "metadata": {},
   "outputs": [],
   "source": []
  },
  {
   "cell_type": "code",
   "execution_count": null,
   "metadata": {},
   "outputs": [],
   "source": []
  },
  {
   "cell_type": "code",
   "execution_count": null,
   "metadata": {},
   "outputs": [],
   "source": []
  }
 ],
 "metadata": {
  "kernelspec": {
   "display_name": "Python 3",
   "language": "python",
   "name": "python3"
  },
  "language_info": {
   "codemirror_mode": {
    "name": "ipython",
    "version": 3
   },
   "file_extension": ".py",
   "mimetype": "text/x-python",
   "name": "python",
   "nbconvert_exporter": "python",
   "pygments_lexer": "ipython3",
   "version": "3.8.3"
  }
 },
 "nbformat": 4,
 "nbformat_minor": 4
}
