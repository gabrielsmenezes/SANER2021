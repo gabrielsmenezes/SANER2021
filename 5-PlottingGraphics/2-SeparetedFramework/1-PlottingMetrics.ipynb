{
 "cells": [
  {
   "cell_type": "code",
   "execution_count": null,
   "metadata": {},
   "outputs": [],
   "source": [
    "import pandas as pd\n",
    "import matplotlib.dates as mdates\n",
    "from matplotlib.dates import DateFormatter\n",
    "import scipy.stats as stats"
   ]
  },
  {
   "cell_type": "code",
   "execution_count": null,
   "metadata": {},
   "outputs": [],
   "source": [
    "androidListSamples = pd.read_csv(\"..\\\\..\\\\1-GettingQuestions\\\\samplesWithQuestions\\\\androidSamples.csv\")\n",
    "awsListSamples = pd.read_csv(\"..\\\\..\\\\1-GettingQuestions\\\\samplesWithQuestions\\\\awsSamples.csv\")\n",
    "azureListSamples = pd.read_csv(\"..\\\\..\\\\1-GettingQuestions\\\\samplesWithQuestions\\\\azureSamples.csv\")\n",
    "springListSamples = pd.read_csv(\"..\\\\..\\\\1-GettingQuestions\\\\samplesWithQuestions\\\\springSamples.csv\")"
   ]
  },
  {
   "cell_type": "code",
   "execution_count": null,
   "metadata": {},
   "outputs": [],
   "source": [
    "def dealWithData(listSamples):    \n",
    "    listSamples[\"windowsPath\"] = listSamples[\"path\"].str.replace(\"/\", \"\\\\\")\n",
    "    \n",
    "    allSamples = [pd.read_csv(\"..\\\\..\\\\2-ExtractingMetrics\\\\metrics\\\\\"+sample+\".csv\", parse_dates=True) for sample in listSamples[\"windowsPath\"]]\n",
    "\n",
    "    allSamplesMetrics = pd.concat(allSamples, axis=0, ignore_index=True)\n",
    "\n",
    "    del allSamplesMetrics[\"Kind\"]\n",
    "    del allSamplesMetrics[\"Name\"]\n",
    "\n",
    "    allSamplesMetrics\n",
    "\n",
    "    allSamplesMetrics['commitDate'] = pd.to_datetime(allSamplesMetrics['commitDate'].astype(str).str[:-6])\n",
    "\n",
    "    allSamplesMetrics.sort_values(by=\"commitDate\", inplace=True)\n",
    "\n",
    "    allSamplesMetrics.set_index(allSamplesMetrics[\"commitDate\"], inplace=True)\n",
    "\n",
    "    allSamplesMetrics.index\n",
    "\n",
    "    del allSamplesMetrics[\"commitDate\"]\n",
    "    \n",
    "    print(allSamplesMetrics.shape)\n",
    "    \n",
    "    allSamplesMetrics = allSamplesMetrics.groupby([(allSamplesMetrics.index.year), (allSamplesMetrics.index.month)]).mean()\n",
    "    \n",
    "    return allSamplesMetrics"
   ]
  },
  {
   "cell_type": "markdown",
   "metadata": {},
   "source": [
    "# Total of commits"
   ]
  },
  {
   "cell_type": "code",
   "execution_count": null,
   "metadata": {},
   "outputs": [],
   "source": [
    "androidSamples = dealWithData(androidListSamples)\n",
    "awsSamples = dealWithData(awsListSamples)\n",
    "azureSamples = dealWithData(azureListSamples)\n",
    "springSamples = dealWithData(springListSamples)"
   ]
  },
  {
   "cell_type": "markdown",
   "metadata": {},
   "source": [
    "## Carregando as métricas das perguntas do Stack Overflow"
   ]
  },
  {
   "cell_type": "code",
   "execution_count": null,
   "metadata": {},
   "outputs": [],
   "source": [
    "androidQuestions = pd.read_csv(\"..\\\\..\\\\1-GettingQuestions\\\\questions\\\\androidQuestions.csv\", parse_dates=True)\n",
    "awsQuestions = pd.read_csv(\"..\\\\..\\\\1-GettingQuestions\\\\questions\\\\awsQuestions.csv\", parse_dates=True)\n",
    "azureQuestions = pd.read_csv(\"..\\\\..\\\\1-GettingQuestions\\\\questions\\\\azureQuestions.csv\", parse_dates=True)\n",
    "springQuestions = pd.read_csv(\"..\\\\..\\\\1-GettingQuestions\\\\questions\\\\springQuestions.csv\", parse_dates=True)"
   ]
  },
  {
   "cell_type": "markdown",
   "metadata": {},
   "source": [
    "# Number of Questions"
   ]
  },
  {
   "cell_type": "code",
   "execution_count": null,
   "metadata": {
    "scrolled": true
   },
   "outputs": [],
   "source": [
    "androidQuestions.shape"
   ]
  },
  {
   "cell_type": "code",
   "execution_count": null,
   "metadata": {
    "scrolled": true
   },
   "outputs": [],
   "source": [
    "awsQuestions.shape"
   ]
  },
  {
   "cell_type": "code",
   "execution_count": null,
   "metadata": {
    "scrolled": true
   },
   "outputs": [],
   "source": [
    "azureQuestions.shape"
   ]
  },
  {
   "cell_type": "code",
   "execution_count": null,
   "metadata": {
    "scrolled": true
   },
   "outputs": [],
   "source": [
    "springQuestions.shape"
   ]
  },
  {
   "cell_type": "code",
   "execution_count": null,
   "metadata": {},
   "outputs": [],
   "source": [
    "# df_stackoverflow = pd.concat([androidQuestions, awsQuestions, azureQuestions, springQuestions], axis=0, ignore_index=True)"
   ]
  },
  {
   "cell_type": "code",
   "execution_count": null,
   "metadata": {},
   "outputs": [],
   "source": [
    "def dealWithQuestions(questions):\n",
    "    questions['creationDate'] = pd.to_datetime(questions['creationDate'])\n",
    "    questions.sort_values(by=\"creationDate\", inplace=True)\n",
    "    questions.set_index(questions['creationDate'], inplace=True)\n",
    "    questions[\"count_questions\"] = 1\n",
    "    questions=questions.groupby([(questions.index.year), (questions.index.month)]).sum()\n",
    "    return questions"
   ]
  },
  {
   "cell_type": "code",
   "execution_count": null,
   "metadata": {},
   "outputs": [],
   "source": [
    "androidQuestions = dealWithQuestions(androidQuestions)\n",
    "awsQuestions = dealWithQuestions(awsQuestions)\n",
    "azureQuestions = dealWithQuestions(azureQuestions)\n",
    "springQuestions = dealWithQuestions(springQuestions)"
   ]
  },
  {
   "cell_type": "markdown",
   "metadata": {},
   "source": [
    "## Datasets Join"
   ]
  },
  {
   "cell_type": "code",
   "execution_count": null,
   "metadata": {
    "scrolled": true
   },
   "outputs": [],
   "source": [
    "def join(metrics, questions):\n",
    "    df = pd.concat([metrics,questions], axis=1)\n",
    "    df[\"count_questions\"].fillna(0, inplace=True)\n",
    "    df.fillna(method=\"ffill\", inplace=True)\n",
    "    return df"
   ]
  },
  {
   "cell_type": "code",
   "execution_count": null,
   "metadata": {},
   "outputs": [],
   "source": [
    "dfAndroid = join(androidSamples, androidQuestions)\n",
    "dfAws = join(awsSamples, awsQuestions)\n",
    "dfAzure = join(azureSamples, azureQuestions)\n",
    "dfSpring = join(springSamples, springQuestions)"
   ]
  },
  {
   "cell_type": "markdown",
   "metadata": {},
   "source": [
    "## Normalização dos dados"
   ]
  },
  {
   "cell_type": "code",
   "execution_count": null,
   "metadata": {},
   "outputs": [],
   "source": [
    "def normalize(df):\n",
    "    normalized_df=(df-df.min())/(df.max()-df.min())\n",
    "    return normalized_df"
   ]
  },
  {
   "cell_type": "code",
   "execution_count": null,
   "metadata": {},
   "outputs": [],
   "source": [
    "dfAndroidNormalized = normalize(dfAndroid)\n",
    "dfAwsNormalized = normalize(dfAws)\n",
    "dfAzureNormalized = normalize(dfAzure)\n",
    "dfSpringNormalized = normalize(dfSpring)"
   ]
  },
  {
   "cell_type": "markdown",
   "metadata": {},
   "source": [
    "### Gráfico do número de arquivos Java"
   ]
  },
  {
   "cell_type": "code",
   "execution_count": null,
   "metadata": {},
   "outputs": [],
   "source": [
    "def dealWithDate(df):\n",
    "    time = pd.DataFrame(df.index.values.tolist(), columns=['year','month'])\n",
    "    time[\"day\"] = 1\n",
    "    df.set_index(pd.to_datetime(time), inplace=True)"
   ]
  },
  {
   "cell_type": "code",
   "execution_count": null,
   "metadata": {},
   "outputs": [],
   "source": [
    "dealWithDate(dfAndroidNormalized)\n",
    "dealWithDate(dfAwsNormalized)\n",
    "dealWithDate(dfAzureNormalized)\n",
    "dealWithDate(dfSpringNormalized)"
   ]
  },
  {
   "cell_type": "markdown",
   "metadata": {},
   "source": [
    "# Plotting metrics and questions"
   ]
  },
  {
   "cell_type": "code",
   "execution_count": null,
   "metadata": {},
   "outputs": [],
   "source": [
    "def plot(metrics, questions, metric, title, ylabel, xlabel):\n",
    "    subplot = metrics.plot(figsize=(15,5), fontsize=20, legend=True, label=metric)\n",
    "    subplot = questions.plot(figsize=(15,5), fontsize=20, legend=True, label=\"Questions\")\n",
    "    subplot.set_title(title, fontsize=25)\n",
    "    subplot.set_ylabel(ylabel, fontsize=20)\n",
    "    subplot.set_xlabel(xlabel, fontsize=20)\n",
    "    #     subplot.figure.savefig(metric+\".pdf\",bbox_inches = 'tight')"
   ]
  },
  {
   "cell_type": "code",
   "execution_count": null,
   "metadata": {},
   "outputs": [],
   "source": [
    "plot(normalized_df[\"AvgCyclomatic\"], normalized_df[\"count_questions\"], \"AvgCyclomatic\", \"AvgCyclomatic\", \"\", \"\")"
   ]
  },
  {
   "cell_type": "code",
   "execution_count": 128,
   "metadata": {
    "scrolled": true
   },
   "outputs": [
    {
     "data": {
      "image/png": "[encoded data removed]",
      "text/plain": [
       "<Figure size 1080x360 with 1 Axes>"
      ]
     },
     "metadata": {
      "needs_background": "light"
     },
     "output_type": "display_data"
    }
   ],
   "source": [
    "plot(normalized_df[\"AvgCyclomaticModified\"], normalized_df[\"count_questions\"], \"AvgCyclomaticModified\", \"AvgCyclomaticModified\", \"\", \"\")"
   ]
  },
  {
   "cell_type": "code",
   "execution_count": null,
   "metadata": {
    "scrolled": false
   },
   "outputs": [],
   "source": [
    "plot(normalized_df[\"AvgCyclomaticStrict\"], normalized_df[\"count_questions\"], \"AvgCyclomaticStrict\", \"AvgCyclomaticStrict\", \"\", \"\")"
   ]
  },
  {
   "cell_type": "code",
   "execution_count": null,
   "metadata": {
    "scrolled": true
   },
   "outputs": [],
   "source": [
    "plot(normalized_df[\"AvgEssential\"], normalized_df[\"count_questions\"], \"AvgEssential\", \"AvgEssential\", \"\", \"\")"
   ]
  },
  {
   "cell_type": "code",
   "execution_count": null,
   "metadata": {
    "scrolled": false
   },
   "outputs": [],
   "source": [
    "plot(normalized_df[\"AvgLine\"], normalized_df[\"count_questions\"], \"AvgLine\", \"AvgLine\", \"\", \"\")"
   ]
  },
  {
   "cell_type": "code",
   "execution_count": null,
   "metadata": {
    "scrolled": true
   },
   "outputs": [],
   "source": [
    "plot(normalized_df[\"AvgLineBlank\"], normalized_df[\"count_questions\"], \"AvgLineBlank\", \"AvgLineBlank\", \"\", \"\")"
   ]
  },
  {
   "cell_type": "code",
   "execution_count": null,
   "metadata": {
    "scrolled": false
   },
   "outputs": [],
   "source": [
    "plot(normalized_df[\"AvgLineCode\"], normalized_df[\"count_questions\"], \"AvgLineCode\", \"AvgLineCode\", \"\", \"\")"
   ]
  },
  {
   "cell_type": "code",
   "execution_count": null,
   "metadata": {
    "scrolled": true
   },
   "outputs": [],
   "source": [
    "plot(normalized_df[\"AvgLineComment\"], normalized_df[\"count_questions\"], \"AvgLineComment\", \"AvgLineComment\", \"\", \"\")"
   ]
  },
  {
   "cell_type": "code",
   "execution_count": null,
   "metadata": {
    "scrolled": false
   },
   "outputs": [],
   "source": [
    "plot(normalized_df[\"CountClassBase\"], normalized_df[\"count_questions\"], \"CountClassBase\", \"CountClassBase\", \"\", \"\")"
   ]
  },
  {
   "cell_type": "code",
   "execution_count": null,
   "metadata": {
    "scrolled": true
   },
   "outputs": [],
   "source": [
    "plot(normalized_df[\"CountClassCoupled\"], normalized_df[\"count_questions\"], \"CountClassCoupled\", \"CountClassCoupled\", \"\", \"\")"
   ]
  },
  {
   "cell_type": "code",
   "execution_count": null,
   "metadata": {
    "scrolled": false
   },
   "outputs": [],
   "source": [
    "plot(normalized_df[\"CountClassCoupledModified\"], normalized_df[\"count_questions\"], \"CountClassCoupledModified\", \"CountClassCoupledModified\", \"\", \"\")"
   ]
  },
  {
   "cell_type": "code",
   "execution_count": null,
   "metadata": {
    "scrolled": true
   },
   "outputs": [],
   "source": [
    "plot(normalized_df[\"CountClassDerived\"], normalized_df[\"count_questions\"], \"CountClassDerived\", \"CountClassDerived\", \"\", \"\")"
   ]
  },
  {
   "cell_type": "code",
   "execution_count": null,
   "metadata": {
    "scrolled": false
   },
   "outputs": [],
   "source": [
    "plot(normalized_df[\"CountDeclClassMethod\"], normalized_df[\"count_questions\"], \"CountDeclClassMethod\", \"CountDeclClassMethod\", \"\", \"\")"
   ]
  },
  {
   "cell_type": "code",
   "execution_count": null,
   "metadata": {
    "scrolled": false
   },
   "outputs": [],
   "source": [
    "plot(normalized_df[\"CountDeclClassVariable\"], normalized_df[\"count_questions\"], \"CountDeclClassVariable\", \"CountDeclClassVariable\", \"\", \"\")"
   ]
  },
  {
   "cell_type": "code",
   "execution_count": null,
   "metadata": {
    "scrolled": false
   },
   "outputs": [],
   "source": [
    "plot(normalized_df[\"CountDeclInstanceMethod\"], normalized_df[\"count_questions\"], \"CountDeclInstanceMethod\", \"CountDeclInstanceMethod\", \"\", \"\")"
   ]
  },
  {
   "cell_type": "code",
   "execution_count": null,
   "metadata": {
    "scrolled": true
   },
   "outputs": [],
   "source": [
    "plot(normalized_df[\"CountDeclInstanceVariable\"], normalized_df[\"count_questions\"], \"CountDeclInstanceVariable\", \"CountDeclInstanceVariable\", \"\", \"\")"
   ]
  },
  {
   "cell_type": "code",
   "execution_count": null,
   "metadata": {
    "scrolled": false
   },
   "outputs": [],
   "source": [
    "plot(normalized_df[\"CountDeclMethod\"], normalized_df[\"count_questions\"], \"CountDeclMethod\", \"CountDeclMethod\", \"\", \"\")"
   ]
  },
  {
   "cell_type": "code",
   "execution_count": null,
   "metadata": {
    "scrolled": true
   },
   "outputs": [],
   "source": [
    "plot(normalized_df[\"CountDeclMethodAll\"], normalized_df[\"count_questions\"], \"CountDeclMethodAll\", \"CountDeclMethodAll\", \"\", \"\")"
   ]
  },
  {
   "cell_type": "code",
   "execution_count": null,
   "metadata": {
    "scrolled": false
   },
   "outputs": [],
   "source": [
    "plot(normalized_df[\"CountDeclMethodDefault\"], normalized_df[\"count_questions\"], \"CountDeclMethodDefault\", \"CountDeclMethodDefault\", \"\", \"\")"
   ]
  },
  {
   "cell_type": "code",
   "execution_count": null,
   "metadata": {
    "scrolled": true
   },
   "outputs": [],
   "source": [
    "plot(normalized_df[\"CountDeclMethodPrivate\"], normalized_df[\"count_questions\"], \"CountDeclMethodPrivate\", \"CountDeclMethodPrivate\", \"\", \"\")"
   ]
  },
  {
   "cell_type": "code",
   "execution_count": null,
   "metadata": {
    "scrolled": false
   },
   "outputs": [],
   "source": [
    "plot(normalized_df[\"CountDeclMethodProtected\"], normalized_df[\"count_questions\"], \"CountDeclMethodProtected\", \"CountDeclMethodProtected\", \"\", \"\")"
   ]
  },
  {
   "cell_type": "code",
   "execution_count": null,
   "metadata": {
    "scrolled": true
   },
   "outputs": [],
   "source": [
    "plot(normalized_df[\"CountDeclMethodPublic\"], normalized_df[\"count_questions\"], \"CountDeclMethodPublic\", \"CountDeclMethodPublic\", \"\", \"\")"
   ]
  },
  {
   "cell_type": "code",
   "execution_count": null,
   "metadata": {
    "scrolled": true
   },
   "outputs": [],
   "source": [
    "plot(normalized_df[\"CountLine\"], normalized_df[\"count_questions\"], \"CountLine\", \"CountLine\", \"\", \"\")"
   ]
  },
  {
   "cell_type": "code",
   "execution_count": null,
   "metadata": {
    "scrolled": false
   },
   "outputs": [],
   "source": [
    "plot(normalized_df[\"CountLineBlank\"], normalized_df[\"count_questions\"], \"CountLineBlank\", \"CountLineBlank\", \"\", \"\")"
   ]
  },
  {
   "cell_type": "code",
   "execution_count": null,
   "metadata": {
    "scrolled": true
   },
   "outputs": [],
   "source": [
    "plot(normalized_df[\"CountLineCode\"], normalized_df[\"count_questions\"], \"CountLineCode\", \"CountLineCode\", \"\", \"\")"
   ]
  },
  {
   "cell_type": "code",
   "execution_count": null,
   "metadata": {
    "scrolled": false
   },
   "outputs": [],
   "source": [
    "plot(normalized_df[\"CountLineCodeDecl\"], normalized_df[\"count_questions\"], \"CountLineCodeDecl\", \"CountLineCodeDecl\", \"\", \"\")"
   ]
  },
  {
   "cell_type": "code",
   "execution_count": null,
   "metadata": {
    "scrolled": true
   },
   "outputs": [],
   "source": [
    "plot(normalized_df[\"CountLineCodeExe\"], normalized_df[\"count_questions\"], \"CountLineCodeExe\", \"CountLineCodeExe\", \"\", \"\")"
   ]
  },
  {
   "cell_type": "code",
   "execution_count": null,
   "metadata": {
    "scrolled": false
   },
   "outputs": [],
   "source": [
    "plot(normalized_df[\"CountLineComment\"], normalized_df[\"count_questions\"], \"CountLineComment\", \"CountLineComment\", \"\", \"\")"
   ]
  },
  {
   "cell_type": "code",
   "execution_count": null,
   "metadata": {
    "scrolled": true
   },
   "outputs": [],
   "source": [
    "plot(normalized_df[\"CountStmt\"], normalized_df[\"count_questions\"], \"CountStmt\", \"CountStmt\", \"\", \"\")"
   ]
  },
  {
   "cell_type": "code",
   "execution_count": null,
   "metadata": {
    "scrolled": false
   },
   "outputs": [],
   "source": [
    "plot(normalized_df[\"CountStmtDecl\"], normalized_df[\"count_questions\"], \"CountStmtDecl\", \"CountStmtDecl\", \"\", \"\")"
   ]
  },
  {
   "cell_type": "code",
   "execution_count": null,
   "metadata": {
    "scrolled": true
   },
   "outputs": [],
   "source": [
    "plot(normalized_df[\"CountStmtExe\"], normalized_df[\"count_questions\"], \"CountStmtExe\", \"CountStmtExe\", \"\", \"\")"
   ]
  },
  {
   "cell_type": "code",
   "execution_count": null,
   "metadata": {
    "scrolled": true
   },
   "outputs": [],
   "source": [
    "plot(normalized_df[\"MaxCyclomatic\"], normalized_df[\"count_questions\"], \"MaxCyclomatic\", \"MaxCyclomatic\", \"\", \"\")"
   ]
  },
  {
   "cell_type": "code",
   "execution_count": null,
   "metadata": {
    "scrolled": false
   },
   "outputs": [],
   "source": [
    "plot(normalized_df[\"MaxCyclomaticModified\"], normalized_df[\"count_questions\"], \"MaxCyclomaticModified\", \"MaxCyclomaticModified\", \"\", \"\")"
   ]
  },
  {
   "cell_type": "code",
   "execution_count": null,
   "metadata": {
    "scrolled": true
   },
   "outputs": [],
   "source": [
    "plot(normalized_df[\"MaxCyclomaticStrict\"], normalized_df[\"count_questions\"], \"MaxCyclomaticStrict\", \"MaxCyclomaticStrict\", \"\", \"\")"
   ]
  },
  {
   "cell_type": "code",
   "execution_count": null,
   "metadata": {
    "scrolled": false
   },
   "outputs": [],
   "source": [
    "plot(normalized_df[\"MaxEssential\"], normalized_df[\"count_questions\"], \"MaxEssential\", \"MaxEssential\", \"\", \"\")"
   ]
  },
  {
   "cell_type": "code",
   "execution_count": null,
   "metadata": {
    "scrolled": true
   },
   "outputs": [],
   "source": [
    "plot(normalized_df[\"MaxInheritanceTree\"], normalized_df[\"count_questions\"], \"MaxInheritanceTree\", \"MaxInheritanceTree\", \"\", \"\")"
   ]
  },
  {
   "cell_type": "code",
   "execution_count": null,
   "metadata": {
    "scrolled": false
   },
   "outputs": [],
   "source": [
    "plot(normalized_df[\"MaxNesting\"], normalized_df[\"count_questions\"], \"MaxNesting\", \"MaxNesting\", \"\", \"\")"
   ]
  },
  {
   "cell_type": "code",
   "execution_count": null,
   "metadata": {
    "scrolled": true
   },
   "outputs": [],
   "source": [
    "plot(normalized_df[\"PercentLackOfCohesion\"], normalized_df[\"count_questions\"], \"PercentLackOfCohesion\", \"PercentLackOfCohesion\", \"\", \"\")"
   ]
  },
  {
   "cell_type": "code",
   "execution_count": null,
   "metadata": {
    "scrolled": false
   },
   "outputs": [],
   "source": [
    "plot(normalized_df[\"PercentLackOfCohesionModified\"], normalized_df[\"count_questions\"], \"PercentLackOfCohesionModified\", \"PercentLackOfCohesionModified\", \"\", \"\")"
   ]
  },
  {
   "cell_type": "code",
   "execution_count": null,
   "metadata": {
    "scrolled": true
   },
   "outputs": [],
   "source": [
    "plot(normalized_df[\"RatioCommentToCode\"], normalized_df[\"count_questions\"], \"RatioCommentToCode\", \"RatioCommentToCode\", \"\", \"\")"
   ]
  },
  {
   "cell_type": "code",
   "execution_count": null,
   "metadata": {
    "scrolled": false
   },
   "outputs": [],
   "source": [
    "plot(normalized_df[\"SumCyclomatic\"], normalized_df[\"count_questions\"], \"SumCyclomatic\", \"SumCyclomatic\", \"\", \"\")"
   ]
  },
  {
   "cell_type": "code",
   "execution_count": null,
   "metadata": {
    "scrolled": true
   },
   "outputs": [],
   "source": [
    "plot(normalized_df[\"SumCyclomaticModified\"], normalized_df[\"count_questions\"], \"SumCyclomaticModified\", \"SumCyclomaticModified\", \"\", \"\")"
   ]
  },
  {
   "cell_type": "code",
   "execution_count": null,
   "metadata": {
    "scrolled": false
   },
   "outputs": [],
   "source": [
    "plot(normalized_df[\"SumCyclomaticStrict\"], normalized_df[\"count_questions\"], \"SumCyclomaticStrict\", \"SumCyclomaticStrict\", \"\", \"\")"
   ]
  },
  {
   "cell_type": "code",
   "execution_count": null,
   "metadata": {
    "scrolled": false
   },
   "outputs": [],
   "source": [
    "plot(normalized_df[\"SumEssential\"], normalized_df[\"count_questions\"], \"SumEssential\", \"SumEssential\", \"\", \"\")"
   ]
  },
  {
   "cell_type": "code",
   "execution_count": null,
   "metadata": {},
   "outputs": [],
   "source": []
  },
  {
   "cell_type": "code",
   "execution_count": null,
   "metadata": {},
   "outputs": [],
   "source": []
  },
  {
   "cell_type": "code",
   "execution_count": null,
   "metadata": {},
   "outputs": [],
   "source": []
  }
 ],
 "metadata": {
  "kernelspec": {
   "display_name": "Python 3",
   "language": "python",
   "name": "python3"
  },
  "language_info": {
   "codemirror_mode": {
    "name": "ipython",
    "version": 3
   },
   "file_extension": ".py",
   "mimetype": "text/x-python",
   "name": "python",
   "nbconvert_exporter": "python",
   "pygments_lexer": "ipython3",
   "version": "3.8.3"
  }
 },
 "nbformat": 4,
 "nbformat_minor": 4
}
