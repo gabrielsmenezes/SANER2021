{
 "cells": [
  {
   "cell_type": "markdown",
   "metadata": {},
   "source": [
    "Loading libraries"
   ]
  },
  {
   "cell_type": "code",
   "execution_count": null,
   "metadata": {},
   "outputs": [],
   "source": [
    "pip install wget"
   ]
  },
  {
   "cell_type": "code",
   "execution_count": null,
   "metadata": {},
   "outputs": [],
   "source": [
    "pip install py7zr"
   ]
  },
  {
   "cell_type": "code",
   "execution_count": null,
   "metadata": {},
   "outputs": [],
   "source": [
    "import xml.etree.ElementTree as et\n",
    "import pandas as pd\n",
    "import wget"
   ]
  },
  {
   "cell_type": "code",
   "execution_count": null,
   "metadata": {},
   "outputs": [],
   "source": [
    "import py7zr"
   ]
  },
  {
   "cell_type": "markdown",
   "metadata": {},
   "source": [
    "Download Stack Overflow Posts from https://ia800107.us.archive.org/view_archive.php?archive=/27/items/stackexchange/stackoverflow.com-Posts.7z"
   ]
  },
  {
   "cell_type": "code",
   "execution_count": null,
   "metadata": {},
   "outputs": [],
   "source": [
    "wget.download(\"https://archive.org/download/stackexchange/stackoverflow.com-Posts.7z\")"
   ]
  },
  {
   "cell_type": "markdown",
   "metadata": {},
   "source": [
    "Unzipping posts"
   ]
  },
  {
   "cell_type": "code",
   "execution_count": null,
   "metadata": {},
   "outputs": [],
   "source": [
    "py7zr x stackoverflow.com-Posts.7z"
   ]
  },
  {
   "cell_type": "code",
   "execution_count": null,
   "metadata": {},
   "outputs": [],
   "source": [
    "postPath = \"Posts.xml\""
   ]
  },
  {
   "cell_type": "code",
   "execution_count": null,
   "metadata": {},
   "outputs": [],
   "source": [
    "androidSamples = []\n",
    "awsSamples = []\n",
    "azureSamples = []\n",
    "springSamples = []"
   ]
  },
  {
   "cell_type": "markdown",
   "metadata": {},
   "source": [
    "For each post in Posts, we try to find the github referrence in Post body."
   ]
  },
  {
   "cell_type": "code",
   "execution_count": null,
   "metadata": {},
   "outputs": [],
   "source": [
    "with open(postPath, encoding='utf-8') as posts:\n",
    "    for line in posts:\n",
    "        if \"<?xml\" in line or \"<posts>\" in line:\n",
    "            continue\n",
    "        parsed = et.fromstring(line)\n",
    "        if parsed.get(\"PostTypeId\") != \"1\":\n",
    "            continue\n",
    "        id = int(parsed.get(\"Id\"))\n",
    "        if id % 100000 == 0:\n",
    "            print(id)\n",
    "        if \"github.com/googlesamples\" in parsed.get(\"Body\"):\n",
    "            androidSamples.append(parsed)\n",
    "        if \"github.com/aws-samples\" in parsed.get(\"Body\"):\n",
    "            awsSamples.append(parsed)\n",
    "        if \"github.com/Azure-Samples\" in parsed.get(\"Body\"):\n",
    "            azureSamples.append(parsed)\n",
    "        if \"github.com/spring-guides\" in parsed.get(\"Body\"):\n",
    "            springSamples.append(parsed)"
   ]
  },
  {
   "cell_type": "markdown",
   "metadata": {},
   "source": [
    "Path of code samples by framework"
   ]
  },
  {
   "cell_type": "code",
   "execution_count": null,
   "metadata": {},
   "outputs": [],
   "source": [
    "androidSamplesPath = \"listOfSamples/googlesamples.txt\"\n",
    "awsSamplesPath = \"listOfSamples/awssamples.txt\"\n",
    "azureSamplesPath = \"listOfSamples/azuresamples.txt\"\n",
    "springSamplesPath = \"listOfSamples/springsamples.txt\""
   ]
  },
  {
   "cell_type": "markdown",
   "metadata": {},
   "source": [
    "Filtring only questions about the selected code samples"
   ]
  },
  {
   "cell_type": "code",
   "execution_count": null,
   "metadata": {},
   "outputs": [],
   "source": [
    "def filterSamples(framework, samplesPath, questions):\n",
    "    lines = []\n",
    "    with open(samplesPath) as file:\n",
    "        for line in file:\n",
    "            line = line.replace(\"\\n\", \"\")\n",
    "            for question in questions:\n",
    "                if line in question.get(\"Body\"):\n",
    "                    print(f\"{line} === {question.get('Body')}\")\n",
    "                    lines.append([framework, line, question.get(\"Id\"), question.get(\"CreationDate\"), question.get(\"OwnerUserId\"), question.get(\"PostTypeId\"), question.get(\"AcceptedAnswerId\")])\n",
    "    return lines"
   ]
  },
  {
   "cell_type": "code",
   "execution_count": null,
   "metadata": {},
   "outputs": [],
   "source": [
    "def createDataFrame(lines):\n",
    "    columns = [\"framework\", \"path\", \"id\", \"creationDate\", \"ownerUserId\", \"postTypeId\", \"acceptedAnswerId\"]\n",
    "    df = pd.DataFrame(lines, columns=columns)\n",
    "    return df"
   ]
  },
  {
   "cell_type": "markdown",
   "metadata": {},
   "source": [
    "Transforming data to DataFrame"
   ]
  },
  {
   "cell_type": "code",
   "execution_count": null,
   "metadata": {},
   "outputs": [],
   "source": [
    "androidDF = createDataFrame(filterSamples(\"android\", androidSamplesPath, androidSamples))"
   ]
  },
  {
   "cell_type": "code",
   "execution_count": null,
   "metadata": {},
   "outputs": [],
   "source": [
    "awsDF = createDataFrame(filterSamples(\"aws\", awsSamplesPath, awsSamples))"
   ]
  },
  {
   "cell_type": "code",
   "execution_count": null,
   "metadata": {},
   "outputs": [],
   "source": [
    "azureDF = createDataFrame(filterSamples(\"azure\", azureSamplesPath, azureSamples))"
   ]
  },
  {
   "cell_type": "code",
   "execution_count": null,
   "metadata": {},
   "outputs": [],
   "source": [
    "springDF = createDataFrame(filterSamples(\"spring\", springSamplesPath, springSamples))"
   ]
  },
  {
   "cell_type": "markdown",
   "metadata": {},
   "source": [
    "Saving questions as csv"
   ]
  },
  {
   "cell_type": "code",
   "execution_count": null,
   "metadata": {},
   "outputs": [],
   "source": [
    "androidDF.to_csv(\"questions/androidQuestions.csv\", index=False)"
   ]
  },
  {
   "cell_type": "code",
   "execution_count": null,
   "metadata": {},
   "outputs": [],
   "source": [
    "awsDF.to_csv(\"questions/awsQuestions.csv\", index=False)"
   ]
  },
  {
   "cell_type": "code",
   "execution_count": null,
   "metadata": {},
   "outputs": [],
   "source": [
    "azureDF.to_csv(\"questions/azureQuestions.csv\", index=False)"
   ]
  },
  {
   "cell_type": "code",
   "execution_count": null,
   "metadata": {},
   "outputs": [],
   "source": [
    "springDF.to_csv(\"questions/springQuestions.csv\", index=False)"
   ]
  },
  {
   "cell_type": "markdown",
   "metadata": {},
   "source": [
    "Saving code samples with have questions"
   ]
  },
  {
   "cell_type": "code",
   "execution_count": null,
   "metadata": {},
   "outputs": [],
   "source": [
    "androidDF[\"path\"].drop_duplicates().to_csv(\"samplesWithQuestions/androidSamples.csv\", index=False)"
   ]
  },
  {
   "cell_type": "code",
   "execution_count": null,
   "metadata": {},
   "outputs": [],
   "source": [
    "awsDF[\"path\"].drop_duplicates().to_csv(\"samplesWithQuestions/awsSamples.csv\", index=False)"
   ]
  },
  {
   "cell_type": "code",
   "execution_count": null,
   "metadata": {},
   "outputs": [],
   "source": [
    "azureDF[\"path\"].drop_duplicates().to_csv(\"samplesWithQuestions/azureSamples.csv\", index=False)"
   ]
  },
  {
   "cell_type": "code",
   "execution_count": null,
   "metadata": {},
   "outputs": [],
   "source": [
    "springDF[\"path\"].drop_duplicates().to_csv(\"samplesWithQuestions/springSamples.csv\", index=False)"
   ]
  }
 ],
 "metadata": {
  "kernelspec": {
   "display_name": "Python 3",
   "language": "python",
   "name": "python3"
  },
  "language_info": {
   "codemirror_mode": {
    "name": "ipython",
    "version": 3
   },
   "file_extension": ".py",
   "mimetype": "text/x-python",
   "name": "python",
   "nbconvert_exporter": "python",
   "pygments_lexer": "ipython3",
   "version": "3.8.6"
  }
 },
 "nbformat": 4,
 "nbformat_minor": 4
}
