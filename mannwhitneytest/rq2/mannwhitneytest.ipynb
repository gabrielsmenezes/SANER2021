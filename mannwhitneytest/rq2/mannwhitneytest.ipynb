{
 "cells": [
  {
   "cell_type": "code",
   "execution_count": 306,
   "metadata": {},
   "outputs": [],
   "source": [
    "from __future__ import division\n",
    "import pandas as pd\n",
    "from scipy.stats import wilcoxon"
   ]
  },
  {
   "cell_type": "markdown",
   "metadata": {},
   "source": [
    "# Métodos auxiliares"
   ]
  },
  {
   "cell_type": "code",
   "execution_count": 307,
   "metadata": {},
   "outputs": [],
   "source": [
    "def cliffsDelta(lst1, lst2, **dull):\n",
    "\n",
    "    \"\"\"Returns delta and true if there are more than 'dull' differences\"\"\"\n",
    "    if not dull:\n",
    "        dull = {'small': 0.147, 'medium': 0.33, 'large': 0.474} # effect sizes from (Hess and Kromrey, 2004)\n",
    "    m, n = len(lst1), len(lst2)\n",
    "    lst2 = sorted(lst2)\n",
    "    j = more = less = 0\n",
    "    for repeats, x in runs(sorted(lst1)):\n",
    "        while j <= (n - 1) and lst2[j] < x:\n",
    "            j += 1\n",
    "        more += j*repeats\n",
    "        while j <= (n - 1) and lst2[j] == x:\n",
    "            j += 1\n",
    "        less += (n - j)*repeats\n",
    "    d = (more - less) / (m*n)\n",
    "    size = lookup_size(d, dull)\n",
    "    return d, size"
   ]
  },
  {
   "cell_type": "code",
   "execution_count": 308,
   "metadata": {},
   "outputs": [],
   "source": [
    "def lookup_size(delta: float, dull: dict) -> str:\n",
    "    \"\"\"\n",
    "    :type delta: float\n",
    "    :type dull: dict, a dictionary of small, medium, large thresholds.\n",
    "    \"\"\"\n",
    "    delta = abs(delta)\n",
    "    if delta < dull['small']:\n",
    "        return 'negligible'\n",
    "    if dull['small'] <= delta < dull['medium']:\n",
    "        return 'small'\n",
    "    if dull['medium'] <= delta < dull['large']:\n",
    "        return 'medium'\n",
    "    if delta >= dull['large']:\n",
    "        return 'large'"
   ]
  },
  {
   "cell_type": "code",
   "execution_count": 309,
   "metadata": {},
   "outputs": [],
   "source": [
    "def runs(lst):\n",
    "    \"\"\"Iterator, chunks repeated values\"\"\"\n",
    "    for j, two in enumerate(lst):\n",
    "        if j == 0:\n",
    "            one, i = two, 0\n",
    "        if one != two:\n",
    "            yield j - i, one\n",
    "            i = j\n",
    "        one = two\n",
    "    yield j - i + 1, two"
   ]
  },
  {
   "cell_type": "code",
   "execution_count": 310,
   "metadata": {},
   "outputs": [],
   "source": [
    "def analyze(x, y):\n",
    "    rst = wilcoxon(x, y)\n",
    "    if rst.pvalue <= 0.05:\n",
    "        print(\"Diferenca significante\")\n",
    "        print(\"p-value %.16f\" % rst.pvalue)\n",
    "        print(\"effect size: \", end=\"\")\n",
    "        print(cliffsDelta(x, y))\n",
    "    else:\n",
    "        print(title)\n",
    "        print(\"Diferenca não significante\")\n",
    "    print(\"########\")\n"
   ]
  },
  {
   "cell_type": "markdown",
   "metadata": {},
   "source": [
    "# RQ2"
   ]
  },
  {
   "cell_type": "markdown",
   "metadata": {},
   "source": [
    "## Delay"
   ]
  },
  {
   "cell_type": "markdown",
   "metadata": {},
   "source": [
    "### Android"
   ]
  },
  {
   "cell_type": "code",
   "execution_count": 311,
   "metadata": {},
   "outputs": [],
   "source": [
    "samples = pd.read_csv(\"C:\\\\Users\\\\Gabriel\\\\Documents\\\\gabrielsmenezes\\\\ic\\\\frameworkCodeSamples\\\\Graficos\\\\BoxplotDelayAtualizarOsSamples\\\\usandoTodosOsPontosSemMedia\\\\android.csv\", usecols=[1])\n",
    "samples.dropna(inplace=True)"
   ]
  },
  {
   "cell_type": "code",
   "execution_count": 312,
   "metadata": {},
   "outputs": [],
   "source": [
    "general_projects = pd.read_csv(\"C:\\\\Users\\\\Gabriel\\\\Documents\\\\gabrielsmenezes\\\\ic2\\\\analiseDosProjetosGerais\\\\RQ2\\\\delay\\\\android.csv\", usecols=[4])"
   ]
  },
  {
   "cell_type": "code",
   "execution_count": 313,
   "metadata": {},
   "outputs": [],
   "source": [
    "general_projects = general_projects.append(general_projects, ignore_index=True)\n",
    "general_projects = general_projects.append(general_projects[:164], ignore_index=True)"
   ]
  },
  {
   "cell_type": "code",
   "execution_count": 314,
   "metadata": {},
   "outputs": [
    {
     "name": "stdout",
     "output_type": "stream",
     "text": [
      "Diferenca significante\n",
      "p-value 0.0000000000000000\n",
      "effect size: (-0.5633886255924171, 'large')\n",
      "########\n"
     ]
    }
   ],
   "source": [
    "analyze(samples[\"delay\"], general_projects[\"delay\"])"
   ]
  },
  {
   "cell_type": "markdown",
   "metadata": {},
   "source": [
    "### Spring"
   ]
  },
  {
   "cell_type": "code",
   "execution_count": 315,
   "metadata": {},
   "outputs": [],
   "source": [
    "samples = pd.read_csv(\"C:\\\\Users\\\\Gabriel\\\\Documents\\\\gabrielsmenezes\\\\ic\\\\frameworkCodeSamples\\\\Graficos\\\\BoxplotDelayAtualizarOsSamples\\\\usandoTodosOsPontosSemMedia\\\\spring.csv\", usecols=[1])\n",
    "samples.dropna(inplace=True)"
   ]
  },
  {
   "cell_type": "code",
   "execution_count": 316,
   "metadata": {},
   "outputs": [],
   "source": [
    "general_projects = pd.read_csv(\"C:\\\\Users\\\\Gabriel\\\\Documents\\\\gabrielsmenezes\\\\ic2\\\\analiseDosProjetosGerais\\\\RQ2\\\\delay\\\\spring.csv\", usecols=[4])"
   ]
  },
  {
   "cell_type": "code",
   "execution_count": 317,
   "metadata": {},
   "outputs": [],
   "source": [
    "general_projects = general_projects.append(general_projects, ignore_index=True)\n",
    "general_projects = general_projects.append(general_projects, ignore_index=True)\n",
    "general_projects = general_projects.append(general_projects, ignore_index=True)\n",
    "general_projects = general_projects.append(general_projects, ignore_index=True)"
   ]
  },
  {
   "cell_type": "code",
   "execution_count": 318,
   "metadata": {},
   "outputs": [],
   "source": [
    "general_projects = general_projects.append(general_projects[:164], ignore_index=True)"
   ]
  },
  {
   "cell_type": "code",
   "execution_count": 319,
   "metadata": {},
   "outputs": [
    {
     "name": "stdout",
     "output_type": "stream",
     "text": [
      "Diferenca significante\n",
      "p-value 0.0000000000000000\n",
      "effect size: (-0.5043995258140997, 'large')\n",
      "########\n"
     ]
    }
   ],
   "source": [
    "analyze(samples[\"delay\"], general_projects[\"delay\"])"
   ]
  },
  {
   "cell_type": "markdown",
   "metadata": {},
   "source": [
    "## Imports distinct"
   ]
  },
  {
   "cell_type": "markdown",
   "metadata": {},
   "source": [
    "### Android"
   ]
  },
  {
   "cell_type": "code",
   "execution_count": 320,
   "metadata": {
    "scrolled": true
   },
   "outputs": [],
   "source": [
    "samples = pd.read_csv(\"C:\\\\Users\\\\Gabriel\\\\Documents\\\\gabrielsmenezes\\\\ic\\\\frameworkCodeSamples\\\\Graficos\\\\boxplotNumeroDeImports\\\\importsRelativosAoNumeroDeJava\\\\android.csv\", usecols=[5])"
   ]
  },
  {
   "cell_type": "code",
   "execution_count": 321,
   "metadata": {
    "scrolled": true
   },
   "outputs": [],
   "source": [
    "general_projects = pd.read_csv(\"C:\\\\Users\\\\Gabriel\\\\Documents\\\\gabrielsmenezes\\\\ic2\\\\analiseDosProjetosGerais\\\\RQ4\\\\numeroDeImports\\\\android.csv\", usecols=[2])"
   ]
  },
  {
   "cell_type": "code",
   "execution_count": 322,
   "metadata": {
    "scrolled": true
   },
   "outputs": [
    {
     "name": "stdout",
     "output_type": "stream",
     "text": [
      "Diferenca significante\n",
      "p-value 0.0000000015835930\n",
      "effect size: (0.42842846074380164, 'medium')\n",
      "########\n"
     ]
    }
   ],
   "source": [
    "analyze(samples[\"apenas do framework distinto\"], general_projects[\"imports\"])"
   ]
  },
  {
   "cell_type": "markdown",
   "metadata": {},
   "source": [
    "### Spring"
   ]
  },
  {
   "cell_type": "code",
   "execution_count": 323,
   "metadata": {
    "scrolled": true
   },
   "outputs": [],
   "source": [
    "samples = pd.read_csv(\"C:\\\\Users\\\\Gabriel\\\\Documents\\\\gabrielsmenezes\\\\ic\\\\frameworkCodeSamples\\\\Graficos\\\\boxplotNumeroDeImports\\\\importsRelativosAoNumeroDeJava\\\\spring.csv\", usecols=[5])"
   ]
  },
  {
   "cell_type": "code",
   "execution_count": 324,
   "metadata": {
    "scrolled": true
   },
   "outputs": [],
   "source": [
    "general_projects = pd.read_csv(\"C:\\\\Users\\\\Gabriel\\\\Documents\\\\gabrielsmenezes\\\\ic2\\\\analiseDosProjetosGerais\\\\RQ4\\\\numeroDeImports\\\\spring.csv\", usecols=[2])"
   ]
  },
  {
   "cell_type": "code",
   "execution_count": 325,
   "metadata": {
    "scrolled": true
   },
   "outputs": [
    {
     "name": "stdout",
     "output_type": "stream",
     "text": [
      "Diferenca significante\n",
      "p-value 0.0000000001319190\n",
      "effect size: (0.8910433979686058, 'large')\n",
      "########\n"
     ]
    }
   ],
   "source": [
    "analyze(samples[\"apenas do framework distinto\"], general_projects[\"imports\"])"
   ]
  },
  {
   "cell_type": "markdown",
   "metadata": {},
   "source": [
    "## Contributors inside"
   ]
  },
  {
   "cell_type": "markdown",
   "metadata": {},
   "source": [
    "### Android"
   ]
  },
  {
   "cell_type": "code",
   "execution_count": 326,
   "metadata": {
    "scrolled": true
   },
   "outputs": [],
   "source": [
    "samples = pd.read_csv(\"C:\\\\Users\\\\Gabriel\\\\Documents\\\\gabrielsmenezes\\\\ic\\\\frameworkCodeSamples\\\\Graficos\\\\BoxplotRazaoDosMantenedoresEmComum\\\\novos\\\\comAnonimos\\\\android.csv\", usecols=[6], decimal=\",\")"
   ]
  },
  {
   "cell_type": "code",
   "execution_count": 327,
   "metadata": {
    "scrolled": true
   },
   "outputs": [],
   "source": [
    "general_projects = pd.read_csv(\"C:\\\\Users\\\\Gabriel\\\\Documents\\\\gabrielsmenezes\\\\ic2\\\\analiseDosProjetosGerais\\\\RQ4\\\\mantenedores\\\\android.csv\", usecols=[3,4])\n",
    "general_projects[\"common/sample\"] = general_projects[\"contribuidores_comum\"]/general_projects[\"contribuidores_do_projeto\"]"
   ]
  },
  {
   "cell_type": "code",
   "execution_count": 328,
   "metadata": {
    "scrolled": true
   },
   "outputs": [
    {
     "name": "stdout",
     "output_type": "stream",
     "text": [
      "Diferenca significante\n",
      "p-value 0.0000078644330038\n",
      "effect size: (0.1437887396694215, 'negligible')\n",
      "########\n"
     ]
    }
   ],
   "source": [
    "analyze(samples[\"common/sample\"], general_projects[\"common/sample\"])"
   ]
  },
  {
   "cell_type": "markdown",
   "metadata": {},
   "source": [
    "### Spring"
   ]
  },
  {
   "cell_type": "code",
   "execution_count": 329,
   "metadata": {
    "scrolled": true
   },
   "outputs": [],
   "source": [
    "samples = pd.read_csv(\"C:\\\\Users\\\\Gabriel\\\\Documents\\\\gabrielsmenezes\\\\ic\\\\frameworkCodeSamples\\\\Graficos\\\\BoxplotRazaoDosMantenedoresEmComum\\\\novos\\\\comAnonimos\\\\spring.csv\", usecols=[6], decimal=\",\")"
   ]
  },
  {
   "cell_type": "code",
   "execution_count": 330,
   "metadata": {
    "scrolled": true
   },
   "outputs": [],
   "source": [
    "general_projects = pd.read_csv(\"C:\\\\Users\\\\Gabriel\\\\Documents\\\\gabrielsmenezes\\\\ic2\\\\analiseDosProjetosGerais\\\\RQ4\\\\mantenedores\\\\spring.csv\", usecols=[3,4])\n",
    "general_projects[\"common/sample\"] = general_projects[\"contribuidores_comum\"]/general_projects[\"contribuidores_do_projeto\"]"
   ]
  },
  {
   "cell_type": "code",
   "execution_count": 331,
   "metadata": {
    "scrolled": true
   },
   "outputs": [
    {
     "name": "stdout",
     "output_type": "stream",
     "text": [
      "Diferenca significante\n",
      "p-value 0.0000000000610239\n",
      "effect size: (0.9778393351800554, 'large')\n",
      "########\n"
     ]
    }
   ],
   "source": [
    "analyze(samples[\"common/sample\"], general_projects[\"common/sample\"])"
   ]
  }
 ],
 "metadata": {
  "kernelspec": {
   "display_name": "Python 3",
   "language": "python",
   "name": "python3"
  },
  "language_info": {
   "codemirror_mode": {
    "name": "ipython",
    "version": 3
   },
   "file_extension": ".py",
   "mimetype": "text/x-python",
   "name": "python",
   "nbconvert_exporter": "python",
   "pygments_lexer": "ipython3",
   "version": "3.7.6"
  }
 },
 "nbformat": 4,
 "nbformat_minor": 4
}
