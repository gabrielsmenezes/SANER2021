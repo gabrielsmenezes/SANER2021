{
 "cells": [
  {
   "cell_type": "markdown",
   "metadata": {},
   "source": [
    "# Loading metrics"
   ]
  },
  {
   "cell_type": "code",
   "execution_count": 165,
   "metadata": {},
   "outputs": [],
   "source": [
    "import pandas as pd"
   ]
  },
  {
   "cell_type": "code",
   "execution_count": 166,
   "metadata": {},
   "outputs": [],
   "source": [
    "allMetricsAndQuestions = pd.read_csv(\"..\\\\..\\\\3-DataMerge\\\\metricsAndQuestions.csv\", index_col=[0,1])"
   ]
  },
  {
   "cell_type": "markdown",
   "metadata": {},
   "source": [
    "## Mann Kendall Test"
   ]
  },
  {
   "cell_type": "markdown",
   "metadata": {},
   "source": [
    "Null Hypothesis: There is no monotonic trend.\n",
    "\n",
    "Alternative Hypothesis: There is a trend."
   ]
  },
  {
   "cell_type": "markdown",
   "metadata": {},
   "source": [
    "If p-value < 0.05 then null Hypothesis is rejected."
   ]
  },
  {
   "cell_type": "code",
   "execution_count": 167,
   "metadata": {
    "scrolled": true
   },
   "outputs": [
    {
     "name": "stdout",
     "output_type": "stream",
     "text": [
      "Requirement already satisfied: pymannkendall in c:\\users\\dudur\\anaconda3\\lib\\site-packages (1.4.1)\n",
      "Requirement already satisfied: numpy in c:\\users\\dudur\\anaconda3\\lib\\site-packages (from pymannkendall) (1.18.5)\n",
      "Requirement already satisfied: scipy in c:\\users\\dudur\\anaconda3\\lib\\site-packages (from pymannkendall) (1.5.0)\n",
      "Note: you may need to restart the kernel to use updated packages.\n"
     ]
    }
   ],
   "source": [
    "pip install pymannkendall"
   ]
  },
  {
   "cell_type": "code",
   "execution_count": 168,
   "metadata": {},
   "outputs": [],
   "source": [
    "import pymannkendall as mk"
   ]
  },
  {
   "cell_type": "markdown",
   "metadata": {},
   "source": [
    "### MannKendallTest for Java files"
   ]
  },
  {
   "cell_type": "code",
   "execution_count": 169,
   "metadata": {
    "scrolled": true
   },
   "outputs": [
    {
     "name": "stdout",
     "output_type": "stream",
     "text": [
      "Trend exists? True. Trend is increasing. P-value: 0.00000000000110400578\n"
     ]
    }
   ],
   "source": [
    "result = mk.original_test(allMetricsAndQuestions[\"numberJavaFiles\"])\n",
    "print(f\"Trend exists? {result.h}. Trend is {result.trend}. P-value: {format(result.p, '.20f')}\")"
   ]
  },
  {
   "cell_type": "markdown",
   "metadata": {},
   "source": [
    "### MannKendallTest for LOC per file"
   ]
  },
  {
   "cell_type": "code",
   "execution_count": 170,
   "metadata": {},
   "outputs": [
    {
     "name": "stdout",
     "output_type": "stream",
     "text": [
      "Trend exists? True. Trend is increasing. P-value: 0.00000034793628089780\n"
     ]
    }
   ],
   "source": [
    "result = mk.original_test((allMetricsAndQuestions[\"CountLineCode\"]/allMetricsAndQuestions[\"numberJavaFiles\"]))\n",
    "print(f\"Trend exists? {result.h}. Trend is {result.trend}. P-value: {format(result.p, '.20f')}\")"
   ]
  },
  {
   "cell_type": "markdown",
   "metadata": {},
   "source": [
    "### MannKendallTest for cyclomatic complexity per method"
   ]
  },
  {
   "cell_type": "code",
   "execution_count": 171,
   "metadata": {
    "scrolled": true
   },
   "outputs": [
    {
     "name": "stdout",
     "output_type": "stream",
     "text": [
      "Trend exists? True. Trend is increasing. P-value: 0.00000290807819514072\n"
     ]
    }
   ],
   "source": [
    "result = mk.original_test((allMetricsAndQuestions[\"SumCyclomaticStrict\"]/allMetricsAndQuestions[\"CountDeclMethod\"]))\n",
    "print(f\"Trend exists? {result.h}. Trend is {result.trend}. P-value: {format(result.p, '.20f')}\")"
   ]
  },
  {
   "cell_type": "markdown",
   "metadata": {},
   "source": [
    "### MannKendallTest for readability per file"
   ]
  },
  {
   "cell_type": "code",
   "execution_count": 172,
   "metadata": {},
   "outputs": [
    {
     "name": "stdout",
     "output_type": "stream",
     "text": [
      "Trend exists? True. Trend is decreasing. P-value: 0.00000048361142401809\n"
     ]
    }
   ],
   "source": [
    "result = mk.original_test(allMetricsAndQuestions[\"readability\"])\n",
    "print(f\"Trend exists? {result.h}. Trend is {result.trend}. P-value: {format(result.p, '.20f')}\")"
   ]
  },
  {
   "cell_type": "code",
   "execution_count": 173,
   "metadata": {},
   "outputs": [],
   "source": [
    "def doMannKendallTest(data):\n",
    "    try:\n",
    "        result = mk.original_test(data)\n",
    "    except:\n",
    "        return None\n",
    "    return result"
   ]
  },
  {
   "cell_type": "code",
   "execution_count": 179,
   "metadata": {},
   "outputs": [],
   "source": [
    "def collectForAllMetric(data):\n",
    "    results = pd.DataFrame(index=data.columns, columns=[\"trend\", \"p\"])\n",
    "    for metric in data.columns:\n",
    "        result = doMannKendallTest(data[metric])\n",
    "        results.loc()[metric, \"trend\"] = result.trend\n",
    "        results.loc()[metric, \"p\"] = format(result.p, '.20f')            \n",
    "           \n",
    "    return results"
   ]
  },
  {
   "cell_type": "code",
   "execution_count": 180,
   "metadata": {
    "scrolled": true
   },
   "outputs": [],
   "source": [
    "results = collectForAllMetric(allMetricsAndQuestions)"
   ]
  },
  {
   "cell_type": "code",
   "execution_count": 182,
   "metadata": {},
   "outputs": [
    {
     "data": {
      "text/html": [
       "<div>\n",
       "<style scoped>\n",
       "    .dataframe tbody tr th:only-of-type {\n",
       "        vertical-align: middle;\n",
       "    }\n",
       "\n",
       "    .dataframe tbody tr th {\n",
       "        vertical-align: top;\n",
       "    }\n",
       "\n",
       "    .dataframe thead th {\n",
       "        text-align: right;\n",
       "    }\n",
       "</style>\n",
       "<table border=\"1\" class=\"dataframe\">\n",
       "  <thead>\n",
       "    <tr style=\"text-align: right;\">\n",
       "      <th></th>\n",
       "      <th>trend</th>\n",
       "      <th>p</th>\n",
       "    </tr>\n",
       "  </thead>\n",
       "  <tbody>\n",
       "    <tr>\n",
       "      <th>AvgCyclomatic</th>\n",
       "      <td>increasing</td>\n",
       "      <td>0.00000000001656230708</td>\n",
       "    </tr>\n",
       "    <tr>\n",
       "      <th>AvgCyclomaticModified</th>\n",
       "      <td>increasing</td>\n",
       "      <td>0.00000000001127031801</td>\n",
       "    </tr>\n",
       "    <tr>\n",
       "      <th>AvgCyclomaticStrict</th>\n",
       "      <td>increasing</td>\n",
       "      <td>0.00000000001822675344</td>\n",
       "    </tr>\n",
       "    <tr>\n",
       "      <th>AvgEssential</th>\n",
       "      <td>increasing</td>\n",
       "      <td>0.00000000000178013160</td>\n",
       "    </tr>\n",
       "    <tr>\n",
       "      <th>AvgLine</th>\n",
       "      <td>increasing</td>\n",
       "      <td>0.00000000001434097285</td>\n",
       "    </tr>\n",
       "    <tr>\n",
       "      <th>...</th>\n",
       "      <td>...</td>\n",
       "      <td>...</td>\n",
       "    </tr>\n",
       "    <tr>\n",
       "      <th>SumCyclomaticStrict</th>\n",
       "      <td>increasing</td>\n",
       "      <td>0.00000000001434097285</td>\n",
       "    </tr>\n",
       "    <tr>\n",
       "      <th>SumEssential</th>\n",
       "      <td>increasing</td>\n",
       "      <td>0.00000000000024980018</td>\n",
       "    </tr>\n",
       "    <tr>\n",
       "      <th>numberJavaFiles</th>\n",
       "      <td>increasing</td>\n",
       "      <td>0.00000000000110400578</td>\n",
       "    </tr>\n",
       "    <tr>\n",
       "      <th>readability</th>\n",
       "      <td>decreasing</td>\n",
       "      <td>0.00000048361142401809</td>\n",
       "    </tr>\n",
       "    <tr>\n",
       "      <th>questions</th>\n",
       "      <td>increasing</td>\n",
       "      <td>0.03555873256491803858</td>\n",
       "    </tr>\n",
       "  </tbody>\n",
       "</table>\n",
       "<p>63 rows × 2 columns</p>\n",
       "</div>"
      ],
      "text/plain": [
       "                            trend                       p\n",
       "AvgCyclomatic          increasing  0.00000000001656230708\n",
       "AvgCyclomaticModified  increasing  0.00000000001127031801\n",
       "AvgCyclomaticStrict    increasing  0.00000000001822675344\n",
       "AvgEssential           increasing  0.00000000000178013160\n",
       "AvgLine                increasing  0.00000000001434097285\n",
       "...                           ...                     ...\n",
       "SumCyclomaticStrict    increasing  0.00000000001434097285\n",
       "SumEssential           increasing  0.00000000000024980018\n",
       "numberJavaFiles        increasing  0.00000000000110400578\n",
       "readability            decreasing  0.00000048361142401809\n",
       "questions              increasing  0.03555873256491803858\n",
       "\n",
       "[63 rows x 2 columns]"
      ]
     },
     "execution_count": 182,
     "metadata": {},
     "output_type": "execute_result"
    }
   ],
   "source": [
    "results"
   ]
  },
  {
   "cell_type": "code",
   "execution_count": 183,
   "metadata": {},
   "outputs": [],
   "source": [
    "results.to_csv(\"trendTestResult.csv\", float_format=\"%.15f\")"
   ]
  }
 ],
 "metadata": {
  "kernelspec": {
   "display_name": "Python 3",
   "language": "python",
   "name": "python3"
  },
  "language_info": {
   "codemirror_mode": {
    "name": "ipython",
    "version": 3
   },
   "file_extension": ".py",
   "mimetype": "text/x-python",
   "name": "python",
   "nbconvert_exporter": "python",
   "pygments_lexer": "ipython3",
   "version": "3.8.3"
  }
 },
 "nbformat": 4,
 "nbformat_minor": 4
}
