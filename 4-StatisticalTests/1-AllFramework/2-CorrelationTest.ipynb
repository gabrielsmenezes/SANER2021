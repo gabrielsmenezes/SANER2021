{
 "cells": [
  {
   "cell_type": "code",
   "execution_count": 127,
   "metadata": {},
   "outputs": [],
   "source": [
    "import pandas as pd"
   ]
  },
  {
   "cell_type": "code",
   "execution_count": 128,
   "metadata": {},
   "outputs": [],
   "source": [
    "allMetricsAndQuestions = pd.read_csv(\"..\\\\..\\\\3-DataMerge\\\\1-AllFramework\\\\metricsAndQuestions.csv\", index_col=[0,1])"
   ]
  },
  {
   "cell_type": "code",
   "execution_count": 129,
   "metadata": {},
   "outputs": [],
   "source": [
    "AllMetricsAndQuestionsNormalized=(allMetricsAndQuestions-allMetricsAndQuestions.min())/(allMetricsAndQuestions.max()-allMetricsAndQuestions.min())"
   ]
  },
  {
   "cell_type": "code",
   "execution_count": 130,
   "metadata": {},
   "outputs": [],
   "source": [
    "allMetricsAndQuestions = AllMetricsAndQuestionsNormalized"
   ]
  },
  {
   "cell_type": "markdown",
   "metadata": {},
   "source": [
    "## Normality Test (Shapiro-Wilk)"
   ]
  },
  {
   "cell_type": "markdown",
   "metadata": {},
   "source": [
    "Null Hyphotesis: The population has normal distribution\n",
    "\n",
    "Alternative Hyphotesis: The population has not normal distribution"
   ]
  },
  {
   "cell_type": "markdown",
   "metadata": {},
   "source": [
    "If p-value < 0.05 then null hyphotesis is rejected"
   ]
  },
  {
   "cell_type": "code",
   "execution_count": 132,
   "metadata": {},
   "outputs": [],
   "source": [
    "from scipy import stats"
   ]
  },
  {
   "cell_type": "markdown",
   "metadata": {},
   "source": [
    "### Shapiro-Wilk test for Number of Java Files"
   ]
  },
  {
   "cell_type": "code",
   "execution_count": 133,
   "metadata": {
    "scrolled": false
   },
   "outputs": [
    {
     "name": "stdout",
     "output_type": "stream",
     "text": [
      "P-value: 0.00000003894368916235\n"
     ]
    }
   ],
   "source": [
    "result = stats.shapiro(allMetricsAndQuestions[\"numberJavaFiles\"])\n",
    "print(f\"P-value: {format(result.pvalue, '.20f')}\")"
   ]
  },
  {
   "cell_type": "markdown",
   "metadata": {},
   "source": [
    "### Shapiro-Wilk for Readability per Class"
   ]
  },
  {
   "cell_type": "code",
   "execution_count": 134,
   "metadata": {
    "scrolled": true
   },
   "outputs": [
    {
     "name": "stdout",
     "output_type": "stream",
     "text": [
      "P-value: 0.00000000004431466652\n"
     ]
    }
   ],
   "source": [
    "result = stats.shapiro(allMetricsAndQuestions[\"readability\"])\n",
    "print(f\"P-value: {format(result.pvalue, '.20f')}\")"
   ]
  },
  {
   "cell_type": "markdown",
   "metadata": {},
   "source": [
    "### Shapiro-Wilk for SO questions"
   ]
  },
  {
   "cell_type": "code",
   "execution_count": 135,
   "metadata": {
    "scrolled": true
   },
   "outputs": [
    {
     "name": "stdout",
     "output_type": "stream",
     "text": [
      "P-value: 0.00000042999246829822\n"
     ]
    }
   ],
   "source": [
    "result = stats.shapiro(allMetricsAndQuestions[\"questions\"])\n",
    "print(f\"P-value: {format(result.pvalue, '.20f')}\")"
   ]
  },
  {
   "cell_type": "markdown",
   "metadata": {},
   "source": [
    "### Shapiro-Wilk for Physical Lines per Class"
   ]
  },
  {
   "cell_type": "code",
   "execution_count": 136,
   "metadata": {
    "scrolled": false
   },
   "outputs": [
    {
     "name": "stdout",
     "output_type": "stream",
     "text": [
      "P-value: 0.00000154819258568750\n"
     ]
    }
   ],
   "source": [
    "result = stats.shapiro(allMetricsAndQuestions[\"CountLine\"])\n",
    "print(f\"P-value: {format(result.pvalue, '.20f')}\")"
   ]
  },
  {
   "cell_type": "markdown",
   "metadata": {},
   "source": [
    "### Shapiro-Wilk for LOC per Class"
   ]
  },
  {
   "cell_type": "code",
   "execution_count": 137,
   "metadata": {
    "scrolled": false
   },
   "outputs": [
    {
     "name": "stdout",
     "output_type": "stream",
     "text": [
      "P-value: 0.00000048571030220046\n"
     ]
    }
   ],
   "source": [
    "result = stats.shapiro(allMetricsAndQuestions[\"CountLineCode\"])\n",
    "print(f\"P-value: {format(result.pvalue, '.20f')}\")"
   ]
  },
  {
   "cell_type": "markdown",
   "metadata": {},
   "source": [
    "### Shapiro-Wilk for CLOC per Class"
   ]
  },
  {
   "cell_type": "code",
   "execution_count": 138,
   "metadata": {
    "scrolled": false
   },
   "outputs": [
    {
     "name": "stdout",
     "output_type": "stream",
     "text": [
      "P-value: 0.00000232594084081938\n"
     ]
    }
   ],
   "source": [
    "result = stats.shapiro(allMetricsAndQuestions[\"CountLineComment\"])\n",
    "print(f\"P-value: {format(result.pvalue, '.20f')}\")"
   ]
  },
  {
   "cell_type": "markdown",
   "metadata": {},
   "source": [
    "### Shapiro-Wilk for CBO per Class"
   ]
  },
  {
   "cell_type": "code",
   "execution_count": 139,
   "metadata": {
    "scrolled": false
   },
   "outputs": [
    {
     "name": "stdout",
     "output_type": "stream",
     "text": [
      "P-value: 0.00000000069187178209\n"
     ]
    }
   ],
   "source": [
    "result = stats.shapiro(allMetricsAndQuestions[\"CountClassCoupled\"])\n",
    "print(f\"P-value: {format(result.pvalue, '.20f')}\")"
   ]
  },
  {
   "cell_type": "markdown",
   "metadata": {},
   "source": [
    "### Shapiro-Wilk for NOC per Class"
   ]
  },
  {
   "cell_type": "code",
   "execution_count": 140,
   "metadata": {
    "scrolled": false
   },
   "outputs": [
    {
     "name": "stdout",
     "output_type": "stream",
     "text": [
      "P-value: 0.00000009637289366538\n"
     ]
    }
   ],
   "source": [
    "result = stats.shapiro(allMetricsAndQuestions[\"CountClassDerived\"])\n",
    "print(f\"P-value: {format(result.pvalue, '.20f')}\")"
   ]
  },
  {
   "cell_type": "markdown",
   "metadata": {},
   "source": [
    "### Shapiro-Wilk for RFC per Class"
   ]
  },
  {
   "cell_type": "code",
   "execution_count": 141,
   "metadata": {
    "scrolled": false
   },
   "outputs": [
    {
     "name": "stdout",
     "output_type": "stream",
     "text": [
      "P-value: 0.00000859434294397943\n"
     ]
    }
   ],
   "source": [
    "result = stats.shapiro(allMetricsAndQuestions[\"CountDeclMethodAll\"])\n",
    "print(f\"P-value: {format(result.pvalue, '.20f')}\")"
   ]
  },
  {
   "cell_type": "markdown",
   "metadata": {},
   "source": [
    "### Shapiro-Wilk for DIT per Class"
   ]
  },
  {
   "cell_type": "code",
   "execution_count": 142,
   "metadata": {
    "scrolled": false
   },
   "outputs": [
    {
     "name": "stdout",
     "output_type": "stream",
     "text": [
      "P-value: 0.00000001038734964709\n"
     ]
    }
   ],
   "source": [
    "result = stats.shapiro(allMetricsAndQuestions[\"MaxInheritanceTree\"])\n",
    "print(f\"P-value: {format(result.pvalue, '.20f')}\")"
   ]
  },
  {
   "cell_type": "markdown",
   "metadata": {},
   "source": [
    "### Shapiro-Wilk for LCOM per Class"
   ]
  },
  {
   "cell_type": "code",
   "execution_count": 143,
   "metadata": {
    "scrolled": false
   },
   "outputs": [
    {
     "name": "stdout",
     "output_type": "stream",
     "text": [
      "P-value: 0.00000000000005891454\n"
     ]
    }
   ],
   "source": [
    "result = stats.shapiro(allMetricsAndQuestions[\"PercentLackOfCohesion\"])\n",
    "print(f\"P-value: {format(result.pvalue, '.20f')}\")"
   ]
  },
  {
   "cell_type": "markdown",
   "metadata": {},
   "source": [
    "### Shapiro-Wilk for WMC per Class"
   ]
  },
  {
   "cell_type": "code",
   "execution_count": 144,
   "metadata": {
    "scrolled": false
   },
   "outputs": [
    {
     "name": "stdout",
     "output_type": "stream",
     "text": [
      "P-value: 0.00000240228791881236\n"
     ]
    }
   ],
   "source": [
    "result = stats.shapiro(allMetricsAndQuestions[\"SumCyclomatic\"])\n",
    "print(f\"P-value: {format(result.pvalue, '.20f')}\")"
   ]
  },
  {
   "cell_type": "markdown",
   "metadata": {},
   "source": [
    "### Shapiro-Wilk for Classes"
   ]
  },
  {
   "cell_type": "code",
   "execution_count": 145,
   "metadata": {},
   "outputs": [
    {
     "name": "stdout",
     "output_type": "stream",
     "text": [
      "P-value: 0.00000027215929776503\n"
     ]
    }
   ],
   "source": [
    "result = stats.shapiro(allMetricsAndQuestions[\"CountDeclClass\"])\n",
    "print(f\"P-value: {format(result.pvalue, '.20f')}\")"
   ]
  },
  {
   "cell_type": "code",
   "execution_count": 146,
   "metadata": {},
   "outputs": [
    {
     "name": "stdout",
     "output_type": "stream",
     "text": [
      "P-value: 0.00000042999246829822\n"
     ]
    }
   ],
   "source": [
    "result = stats.shapiro(allMetricsAndQuestions[\"questions\"])\n",
    "print(f\"P-value: {format(result.pvalue, '.20f')}\")"
   ]
  },
  {
   "cell_type": "markdown",
   "metadata": {},
   "source": [
    "## Correlation Test"
   ]
  },
  {
   "cell_type": "markdown",
   "metadata": {},
   "source": [
    "Null Hypothesis: there is no correlation between data\n",
    "\n",
    "Alternative Hypothesis: there is a correlation"
   ]
  },
  {
   "cell_type": "markdown",
   "metadata": {},
   "source": [
    "If p-value < 0.05 then null Hypothesis is rejected."
   ]
  },
  {
   "cell_type": "markdown",
   "metadata": {},
   "source": [
    "If the metric is normalized we will apply the Pearson Test, otherwise we will apply Spearman Test"
   ]
  },
  {
   "cell_type": "code",
   "execution_count": 151,
   "metadata": {},
   "outputs": [],
   "source": [
    "from scipy import stats"
   ]
  },
  {
   "cell_type": "markdown",
   "metadata": {},
   "source": [
    "### Correlation Test for SO questions and Java files"
   ]
  },
  {
   "cell_type": "code",
   "execution_count": 152,
   "metadata": {},
   "outputs": [
    {
     "name": "stdout",
     "output_type": "stream",
     "text": [
      "Correlation value: 0.8032848512373392. P-value: 0.000000000000000000002780754200\n"
     ]
    }
   ],
   "source": [
    "result = stats.spearmanr(allMetricsAndQuestions[\"questions\"], allMetricsAndQuestions[\"numberJavaFiles\"])\n",
    "print(f\"Correlation value: {result.correlation}. P-value: {format(result.pvalue, '.30f')}\")"
   ]
  },
  {
   "cell_type": "markdown",
   "metadata": {},
   "source": [
    "### Correlation test for questions and readability per Class"
   ]
  },
  {
   "cell_type": "code",
   "execution_count": 153,
   "metadata": {
    "scrolled": false
   },
   "outputs": [
    {
     "name": "stdout",
     "output_type": "stream",
     "text": [
      "Correlation value: -0.5699909071927088. P-value: 0.000000005536671318151473177450\n"
     ]
    }
   ],
   "source": [
    "result = stats.spearmanr(allMetricsAndQuestions[\"questions\"], allMetricsAndQuestions[\"readability\"])\n",
    "print(f\"Correlation value: {result[0]}. P-value: {format(result[1], '.30f')}\")"
   ]
  },
  {
   "cell_type": "markdown",
   "metadata": {},
   "source": [
    "### Correlation test for questions and Physical Lines per Class"
   ]
  },
  {
   "cell_type": "code",
   "execution_count": 154,
   "metadata": {
    "scrolled": true
   },
   "outputs": [
    {
     "name": "stdout",
     "output_type": "stream",
     "text": [
      "Correlation value: 0.881465489062139. P-value: 0.000000000000000000000000000004\n"
     ]
    }
   ],
   "source": [
    "result = stats.spearmanr(allMetricsAndQuestions[\"questions\"], allMetricsAndQuestions[\"CountLine\"])\n",
    "print(f\"Correlation value: {result[0]}. P-value: {format(result[1], '.30f')}\")"
   ]
  },
  {
   "cell_type": "markdown",
   "metadata": {},
   "source": [
    "### Correlation test for questions and LOC per Class"
   ]
  },
  {
   "cell_type": "code",
   "execution_count": 155,
   "metadata": {
    "scrolled": true
   },
   "outputs": [
    {
     "name": "stdout",
     "output_type": "stream",
     "text": [
      "Correlation value: 0.8999327653400493. P-value: 0.000000000000000000000000000000\n"
     ]
    }
   ],
   "source": [
    "result = stats.spearmanr(allMetricsAndQuestions[\"questions\"], allMetricsAndQuestions[\"CountLineCode\"])\n",
    "print(f\"Correlation value: {result[0]}. P-value: {format(result[1], '.30f')}\")"
   ]
  },
  {
   "cell_type": "markdown",
   "metadata": {},
   "source": [
    "### Correlation test for questions and CLOC per Class"
   ]
  },
  {
   "cell_type": "code",
   "execution_count": 156,
   "metadata": {
    "scrolled": true
   },
   "outputs": [
    {
     "name": "stdout",
     "output_type": "stream",
     "text": [
      "Correlation value: 0.8763521911808415. P-value: 0.000000000000000000000000000024\n"
     ]
    }
   ],
   "source": [
    "result = stats.spearmanr(allMetricsAndQuestions[\"questions\"], allMetricsAndQuestions[\"CountLineComment\"])\n",
    "print(f\"Correlation value: {result[0]}. P-value: {format(result[1], '.30f')}\")"
   ]
  },
  {
   "cell_type": "markdown",
   "metadata": {},
   "source": [
    "### Correlation test for questions and CBO per Class"
   ]
  },
  {
   "cell_type": "code",
   "execution_count": 157,
   "metadata": {
    "scrolled": true
   },
   "outputs": [
    {
     "name": "stdout",
     "output_type": "stream",
     "text": [
      "Correlation value: 0.1617695939512662. P-value: 0.129885944551246190759030696427\n"
     ]
    }
   ],
   "source": [
    "result = stats.spearmanr(allMetricsAndQuestions[\"questions\"], allMetricsAndQuestions[\"CountClassCoupled\"])\n",
    "print(f\"Correlation value: {result[0]}. P-value: {format(result[1], '.30f')}\")"
   ]
  },
  {
   "cell_type": "markdown",
   "metadata": {},
   "source": [
    "### Correlation test for questions and NOC per Class"
   ]
  },
  {
   "cell_type": "code",
   "execution_count": 158,
   "metadata": {
    "scrolled": true
   },
   "outputs": [
    {
     "name": "stdout",
     "output_type": "stream",
     "text": [
      "Correlation value: 0.7666288023191767. P-value: 0.000000000000000002013094108053\n"
     ]
    }
   ],
   "source": [
    "result = stats.spearmanr(allMetricsAndQuestions[\"questions\"], allMetricsAndQuestions[\"CountClassDerived\"])\n",
    "print(f\"Correlation value: {result[0]}. P-value: {format(result[1], '.30f')}\")"
   ]
  },
  {
   "cell_type": "markdown",
   "metadata": {},
   "source": [
    "### Correlation test for questions and RFC per Class"
   ]
  },
  {
   "cell_type": "code",
   "execution_count": 159,
   "metadata": {
    "scrolled": true
   },
   "outputs": [
    {
     "name": "stdout",
     "output_type": "stream",
     "text": [
      "Correlation value: 0.8574980465898855. P-value: 0.000000000000000000000000007683\n"
     ]
    }
   ],
   "source": [
    "result = stats.spearmanr(allMetricsAndQuestions[\"questions\"], allMetricsAndQuestions[\"CountDeclMethodAll\"])\n",
    "print(f\"Correlation value: {result[0]}. P-value: {format(result[1], '.30f')}\")"
   ]
  },
  {
   "cell_type": "markdown",
   "metadata": {},
   "source": [
    "### Correlation test for questions and DIT per Class"
   ]
  },
  {
   "cell_type": "code",
   "execution_count": 160,
   "metadata": {
    "scrolled": true
   },
   "outputs": [
    {
     "name": "stdout",
     "output_type": "stream",
     "text": [
      "Correlation value: 0.06435957758188544. P-value: 0.549035840715385470289788827358\n"
     ]
    }
   ],
   "source": [
    "result = stats.spearmanr(allMetricsAndQuestions[\"questions\"], allMetricsAndQuestions[\"MaxInheritanceTree\"])\n",
    "print(f\"Correlation value: {result[0]}. P-value: {format(result[1], '.30f')}\")"
   ]
  },
  {
   "cell_type": "markdown",
   "metadata": {},
   "source": [
    "### Correlation test for questions and LCOM per Class"
   ]
  },
  {
   "cell_type": "code",
   "execution_count": 161,
   "metadata": {
    "scrolled": true
   },
   "outputs": [
    {
     "name": "stdout",
     "output_type": "stream",
     "text": [
      "Correlation value: 0.28166760442877153. P-value: 0.007494035707930224443629185771\n"
     ]
    }
   ],
   "source": [
    "result = stats.spearmanr(allMetricsAndQuestions[\"questions\"], allMetricsAndQuestions[\"PercentLackOfCohesion\"])\n",
    "print(f\"Correlation value: {result[0]}. P-value: {format(result[1], '.30f')}\")"
   ]
  },
  {
   "cell_type": "markdown",
   "metadata": {},
   "source": [
    "### Correlation test for questions and WMC per Class"
   ]
  },
  {
   "cell_type": "code",
   "execution_count": 162,
   "metadata": {
    "scrolled": true
   },
   "outputs": [
    {
     "name": "stdout",
     "output_type": "stream",
     "text": [
      "Correlation value: 0.8853820160735905. P-value: 0.000000000000000000000000000001\n"
     ]
    }
   ],
   "source": [
    "result = stats.spearmanr(allMetricsAndQuestions[\"questions\"], allMetricsAndQuestions[\"SumCyclomatic\"])\n",
    "print(f\"Correlation value: {result[0]}. P-value: {format(result[1], '.30f')}\")"
   ]
  },
  {
   "cell_type": "markdown",
   "metadata": {},
   "source": [
    "### Correlation test for questions and Classes"
   ]
  },
  {
   "cell_type": "code",
   "execution_count": 163,
   "metadata": {
    "scrolled": true
   },
   "outputs": [
    {
     "name": "stdout",
     "output_type": "stream",
     "text": [
      "Correlation value: 0.9355130108332002. P-value: 0.000000000000000000000000000000\n"
     ]
    }
   ],
   "source": [
    "result = stats.spearmanr(allMetricsAndQuestions[\"questions\"], allMetricsAndQuestions[\"CountDeclClass\"])\n",
    "print(f\"Correlation value: {result[0]}. P-value: {format(result[1], '.30f')}\")"
   ]
  }
 ],
 "metadata": {
  "kernelspec": {
   "display_name": "Python 3",
   "language": "python",
   "name": "python3"
  },
  "language_info": {
   "codemirror_mode": {
    "name": "ipython",
    "version": 3
   },
   "file_extension": ".py",
   "mimetype": "text/x-python",
   "name": "python",
   "nbconvert_exporter": "python",
   "pygments_lexer": "ipython3",
   "version": "3.8.3"
  }
 },
 "nbformat": 4,
 "nbformat_minor": 4
}
