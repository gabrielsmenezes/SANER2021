{
 "cells": [
  {
   "cell_type": "code",
   "execution_count": 2,
   "metadata": {},
   "outputs": [],
   "source": [
    "import pandas as pd"
   ]
  },
  {
   "cell_type": "code",
   "execution_count": 3,
   "metadata": {},
   "outputs": [],
   "source": [
    "allMetricsAndQuestions = pd.read_csv(\"..\\\\..\\\\3-DataMerge\\\\1-AllFramework\\\\metricsAndQuestions.csv\", index_col=[0,1])"
   ]
  },
  {
   "cell_type": "code",
   "execution_count": 4,
   "metadata": {},
   "outputs": [],
   "source": [
    "AllMetricsAndQuestionsNormalized=(allMetricsAndQuestions-allMetricsAndQuestions.min())/(allMetricsAndQuestions.max()-allMetricsAndQuestions.min())"
   ]
  },
  {
   "cell_type": "code",
   "execution_count": 5,
   "metadata": {},
   "outputs": [],
   "source": [
    "allMetricsAndQuestions = AllMetricsAndQuestionsNormalized"
   ]
  },
  {
   "cell_type": "code",
   "execution_count": 57,
   "metadata": {},
   "outputs": [
    {
     "data": {
      "text/html": [
       "<div>\n",
       "<style scoped>\n",
       "    .dataframe tbody tr th:only-of-type {\n",
       "        vertical-align: middle;\n",
       "    }\n",
       "\n",
       "    .dataframe tbody tr th {\n",
       "        vertical-align: top;\n",
       "    }\n",
       "\n",
       "    .dataframe thead th {\n",
       "        text-align: right;\n",
       "    }\n",
       "</style>\n",
       "<table border=\"1\" class=\"dataframe\">\n",
       "  <thead>\n",
       "    <tr style=\"text-align: right;\">\n",
       "      <th></th>\n",
       "      <th></th>\n",
       "      <th>AvgCyclomatic</th>\n",
       "      <th>AvgCyclomaticModified</th>\n",
       "      <th>AvgCyclomaticStrict</th>\n",
       "      <th>AvgEssential</th>\n",
       "      <th>AvgLine</th>\n",
       "      <th>AvgLineBlank</th>\n",
       "      <th>AvgLineCode</th>\n",
       "      <th>AvgLineComment</th>\n",
       "      <th>CountClassBase</th>\n",
       "      <th>CountClassCoupled</th>\n",
       "      <th>...</th>\n",
       "      <th>PercentLackOfCohesion</th>\n",
       "      <th>PercentLackOfCohesionModified</th>\n",
       "      <th>RatioCommentToCode</th>\n",
       "      <th>SumCyclomatic</th>\n",
       "      <th>SumCyclomaticModified</th>\n",
       "      <th>SumCyclomaticStrict</th>\n",
       "      <th>SumEssential</th>\n",
       "      <th>numberJavaFiles</th>\n",
       "      <th>readability</th>\n",
       "      <th>questions</th>\n",
       "    </tr>\n",
       "  </thead>\n",
       "  <tbody>\n",
       "    <tr>\n",
       "      <th rowspan=\"5\" valign=\"top\">2013</th>\n",
       "      <th>4</th>\n",
       "      <td>0.085364</td>\n",
       "      <td>0.091769</td>\n",
       "      <td>0.073481</td>\n",
       "      <td>0.000000</td>\n",
       "      <td>0.054796</td>\n",
       "      <td>0.127703</td>\n",
       "      <td>0.055287</td>\n",
       "      <td>0.040532</td>\n",
       "      <td>0.000000</td>\n",
       "      <td>0.042588</td>\n",
       "      <td>...</td>\n",
       "      <td>0.000000</td>\n",
       "      <td>0.000000</td>\n",
       "      <td>0.031214</td>\n",
       "      <td>0.000000</td>\n",
       "      <td>0.000000</td>\n",
       "      <td>0.000000</td>\n",
       "      <td>0.000000</td>\n",
       "      <td>0.035814</td>\n",
       "      <td>0.715776</td>\n",
       "      <td>0.000000</td>\n",
       "    </tr>\n",
       "    <tr>\n",
       "      <th>5</th>\n",
       "      <td>0.164188</td>\n",
       "      <td>0.176508</td>\n",
       "      <td>0.148236</td>\n",
       "      <td>0.354717</td>\n",
       "      <td>0.289170</td>\n",
       "      <td>0.387866</td>\n",
       "      <td>0.340693</td>\n",
       "      <td>0.111701</td>\n",
       "      <td>0.088495</td>\n",
       "      <td>0.061560</td>\n",
       "      <td>...</td>\n",
       "      <td>0.095110</td>\n",
       "      <td>0.106367</td>\n",
       "      <td>0.051142</td>\n",
       "      <td>0.004528</td>\n",
       "      <td>0.004574</td>\n",
       "      <td>0.004217</td>\n",
       "      <td>0.013059</td>\n",
       "      <td>0.010902</td>\n",
       "      <td>0.534415</td>\n",
       "      <td>0.000000</td>\n",
       "    </tr>\n",
       "    <tr>\n",
       "      <th>6</th>\n",
       "      <td>0.123959</td>\n",
       "      <td>0.133260</td>\n",
       "      <td>0.110084</td>\n",
       "      <td>0.588822</td>\n",
       "      <td>0.137136</td>\n",
       "      <td>0.223244</td>\n",
       "      <td>0.165532</td>\n",
       "      <td>0.046240</td>\n",
       "      <td>0.098451</td>\n",
       "      <td>0.037462</td>\n",
       "      <td>...</td>\n",
       "      <td>0.201580</td>\n",
       "      <td>0.225439</td>\n",
       "      <td>0.025763</td>\n",
       "      <td>0.012414</td>\n",
       "      <td>0.012541</td>\n",
       "      <td>0.011561</td>\n",
       "      <td>0.041539</td>\n",
       "      <td>0.000615</td>\n",
       "      <td>0.589844</td>\n",
       "      <td>0.000000</td>\n",
       "    </tr>\n",
       "    <tr>\n",
       "      <th>7</th>\n",
       "      <td>0.026357</td>\n",
       "      <td>0.028334</td>\n",
       "      <td>0.035934</td>\n",
       "      <td>0.582312</td>\n",
       "      <td>0.087254</td>\n",
       "      <td>0.086592</td>\n",
       "      <td>0.114968</td>\n",
       "      <td>0.020116</td>\n",
       "      <td>0.077682</td>\n",
       "      <td>0.122383</td>\n",
       "      <td>...</td>\n",
       "      <td>0.386293</td>\n",
       "      <td>0.432016</td>\n",
       "      <td>0.012528</td>\n",
       "      <td>0.021037</td>\n",
       "      <td>0.021251</td>\n",
       "      <td>0.020162</td>\n",
       "      <td>0.064258</td>\n",
       "      <td>0.000000</td>\n",
       "      <td>0.598341</td>\n",
       "      <td>0.000000</td>\n",
       "    </tr>\n",
       "    <tr>\n",
       "      <th>8</th>\n",
       "      <td>0.030238</td>\n",
       "      <td>0.032507</td>\n",
       "      <td>0.052053</td>\n",
       "      <td>0.582705</td>\n",
       "      <td>0.080075</td>\n",
       "      <td>0.091898</td>\n",
       "      <td>0.105070</td>\n",
       "      <td>0.020072</td>\n",
       "      <td>0.074545</td>\n",
       "      <td>0.090997</td>\n",
       "      <td>...</td>\n",
       "      <td>0.379444</td>\n",
       "      <td>0.423932</td>\n",
       "      <td>0.009282</td>\n",
       "      <td>0.017676</td>\n",
       "      <td>0.017856</td>\n",
       "      <td>0.017417</td>\n",
       "      <td>0.055209</td>\n",
       "      <td>0.004088</td>\n",
       "      <td>0.739279</td>\n",
       "      <td>0.000000</td>\n",
       "    </tr>\n",
       "    <tr>\n",
       "      <th>...</th>\n",
       "      <th>...</th>\n",
       "      <td>...</td>\n",
       "      <td>...</td>\n",
       "      <td>...</td>\n",
       "      <td>...</td>\n",
       "      <td>...</td>\n",
       "      <td>...</td>\n",
       "      <td>...</td>\n",
       "      <td>...</td>\n",
       "      <td>...</td>\n",
       "      <td>...</td>\n",
       "      <td>...</td>\n",
       "      <td>...</td>\n",
       "      <td>...</td>\n",
       "      <td>...</td>\n",
       "      <td>...</td>\n",
       "      <td>...</td>\n",
       "      <td>...</td>\n",
       "      <td>...</td>\n",
       "      <td>...</td>\n",
       "      <td>...</td>\n",
       "      <td>...</td>\n",
       "    </tr>\n",
       "    <tr>\n",
       "      <th rowspan=\"5\" valign=\"top\">2020</th>\n",
       "      <th>5</th>\n",
       "      <td>0.385981</td>\n",
       "      <td>0.375307</td>\n",
       "      <td>0.417485</td>\n",
       "      <td>0.731306</td>\n",
       "      <td>0.354896</td>\n",
       "      <td>0.187146</td>\n",
       "      <td>0.388905</td>\n",
       "      <td>0.334565</td>\n",
       "      <td>0.473594</td>\n",
       "      <td>0.473855</td>\n",
       "      <td>...</td>\n",
       "      <td>0.573608</td>\n",
       "      <td>0.580009</td>\n",
       "      <td>0.322250</td>\n",
       "      <td>0.127473</td>\n",
       "      <td>0.119344</td>\n",
       "      <td>0.128805</td>\n",
       "      <td>0.278670</td>\n",
       "      <td>0.627559</td>\n",
       "      <td>0.428171</td>\n",
       "      <td>0.210526</td>\n",
       "    </tr>\n",
       "    <tr>\n",
       "      <th>6</th>\n",
       "      <td>0.569695</td>\n",
       "      <td>0.510417</td>\n",
       "      <td>0.640859</td>\n",
       "      <td>0.825163</td>\n",
       "      <td>0.491763</td>\n",
       "      <td>0.169283</td>\n",
       "      <td>0.526442</td>\n",
       "      <td>0.531053</td>\n",
       "      <td>0.683851</td>\n",
       "      <td>0.627239</td>\n",
       "      <td>...</td>\n",
       "      <td>0.848129</td>\n",
       "      <td>0.788415</td>\n",
       "      <td>0.428445</td>\n",
       "      <td>0.242752</td>\n",
       "      <td>0.217112</td>\n",
       "      <td>0.243814</td>\n",
       "      <td>0.462693</td>\n",
       "      <td>1.000000</td>\n",
       "      <td>0.039010</td>\n",
       "      <td>0.105263</td>\n",
       "    </tr>\n",
       "    <tr>\n",
       "      <th>7</th>\n",
       "      <td>0.229070</td>\n",
       "      <td>0.195980</td>\n",
       "      <td>0.278151</td>\n",
       "      <td>0.687806</td>\n",
       "      <td>0.290343</td>\n",
       "      <td>0.118944</td>\n",
       "      <td>0.299007</td>\n",
       "      <td>0.321248</td>\n",
       "      <td>0.487021</td>\n",
       "      <td>0.278475</td>\n",
       "      <td>...</td>\n",
       "      <td>0.680456</td>\n",
       "      <td>0.673394</td>\n",
       "      <td>0.380499</td>\n",
       "      <td>0.138130</td>\n",
       "      <td>0.127799</td>\n",
       "      <td>0.138366</td>\n",
       "      <td>0.299338</td>\n",
       "      <td>0.566898</td>\n",
       "      <td>0.352058</td>\n",
       "      <td>0.210526</td>\n",
       "    </tr>\n",
       "    <tr>\n",
       "      <th>8</th>\n",
       "      <td>0.159513</td>\n",
       "      <td>0.157962</td>\n",
       "      <td>0.176594</td>\n",
       "      <td>0.605854</td>\n",
       "      <td>0.212932</td>\n",
       "      <td>0.139903</td>\n",
       "      <td>0.230947</td>\n",
       "      <td>0.193293</td>\n",
       "      <td>0.286699</td>\n",
       "      <td>0.105949</td>\n",
       "      <td>...</td>\n",
       "      <td>0.472085</td>\n",
       "      <td>0.472492</td>\n",
       "      <td>0.203276</td>\n",
       "      <td>0.073185</td>\n",
       "      <td>0.070992</td>\n",
       "      <td>0.072143</td>\n",
       "      <td>0.168789</td>\n",
       "      <td>0.238181</td>\n",
       "      <td>0.580045</td>\n",
       "      <td>0.210526</td>\n",
       "    </tr>\n",
       "    <tr>\n",
       "      <th>9</th>\n",
       "      <td>0.809920</td>\n",
       "      <td>0.828081</td>\n",
       "      <td>0.964374</td>\n",
       "      <td>0.705412</td>\n",
       "      <td>0.949942</td>\n",
       "      <td>0.804363</td>\n",
       "      <td>0.993441</td>\n",
       "      <td>0.844980</td>\n",
       "      <td>0.303182</td>\n",
       "      <td>0.844076</td>\n",
       "      <td>...</td>\n",
       "      <td>0.824492</td>\n",
       "      <td>0.826960</td>\n",
       "      <td>0.353724</td>\n",
       "      <td>1.000000</td>\n",
       "      <td>1.000000</td>\n",
       "      <td>1.000000</td>\n",
       "      <td>1.000000</td>\n",
       "      <td>0.436378</td>\n",
       "      <td>0.223083</td>\n",
       "      <td>0.000000</td>\n",
       "    </tr>\n",
       "  </tbody>\n",
       "</table>\n",
       "<p>90 rows × 63 columns</p>\n",
       "</div>"
      ],
      "text/plain": [
       "        AvgCyclomatic  AvgCyclomaticModified  AvgCyclomaticStrict  \\\n",
       "2013 4       0.085364               0.091769             0.073481   \n",
       "     5       0.164188               0.176508             0.148236   \n",
       "     6       0.123959               0.133260             0.110084   \n",
       "     7       0.026357               0.028334             0.035934   \n",
       "     8       0.030238               0.032507             0.052053   \n",
       "...               ...                    ...                  ...   \n",
       "2020 5       0.385981               0.375307             0.417485   \n",
       "     6       0.569695               0.510417             0.640859   \n",
       "     7       0.229070               0.195980             0.278151   \n",
       "     8       0.159513               0.157962             0.176594   \n",
       "     9       0.809920               0.828081             0.964374   \n",
       "\n",
       "        AvgEssential   AvgLine  AvgLineBlank  AvgLineCode  AvgLineComment  \\\n",
       "2013 4      0.000000  0.054796      0.127703     0.055287        0.040532   \n",
       "     5      0.354717  0.289170      0.387866     0.340693        0.111701   \n",
       "     6      0.588822  0.137136      0.223244     0.165532        0.046240   \n",
       "     7      0.582312  0.087254      0.086592     0.114968        0.020116   \n",
       "     8      0.582705  0.080075      0.091898     0.105070        0.020072   \n",
       "...              ...       ...           ...          ...             ...   \n",
       "2020 5      0.731306  0.354896      0.187146     0.388905        0.334565   \n",
       "     6      0.825163  0.491763      0.169283     0.526442        0.531053   \n",
       "     7      0.687806  0.290343      0.118944     0.299007        0.321248   \n",
       "     8      0.605854  0.212932      0.139903     0.230947        0.193293   \n",
       "     9      0.705412  0.949942      0.804363     0.993441        0.844980   \n",
       "\n",
       "        CountClassBase  CountClassCoupled  ...  PercentLackOfCohesion  \\\n",
       "2013 4        0.000000           0.042588  ...               0.000000   \n",
       "     5        0.088495           0.061560  ...               0.095110   \n",
       "     6        0.098451           0.037462  ...               0.201580   \n",
       "     7        0.077682           0.122383  ...               0.386293   \n",
       "     8        0.074545           0.090997  ...               0.379444   \n",
       "...                ...                ...  ...                    ...   \n",
       "2020 5        0.473594           0.473855  ...               0.573608   \n",
       "     6        0.683851           0.627239  ...               0.848129   \n",
       "     7        0.487021           0.278475  ...               0.680456   \n",
       "     8        0.286699           0.105949  ...               0.472085   \n",
       "     9        0.303182           0.844076  ...               0.824492   \n",
       "\n",
       "        PercentLackOfCohesionModified  RatioCommentToCode  SumCyclomatic  \\\n",
       "2013 4                       0.000000            0.031214       0.000000   \n",
       "     5                       0.106367            0.051142       0.004528   \n",
       "     6                       0.225439            0.025763       0.012414   \n",
       "     7                       0.432016            0.012528       0.021037   \n",
       "     8                       0.423932            0.009282       0.017676   \n",
       "...                               ...                 ...            ...   \n",
       "2020 5                       0.580009            0.322250       0.127473   \n",
       "     6                       0.788415            0.428445       0.242752   \n",
       "     7                       0.673394            0.380499       0.138130   \n",
       "     8                       0.472492            0.203276       0.073185   \n",
       "     9                       0.826960            0.353724       1.000000   \n",
       "\n",
       "        SumCyclomaticModified  SumCyclomaticStrict  SumEssential  \\\n",
       "2013 4               0.000000             0.000000      0.000000   \n",
       "     5               0.004574             0.004217      0.013059   \n",
       "     6               0.012541             0.011561      0.041539   \n",
       "     7               0.021251             0.020162      0.064258   \n",
       "     8               0.017856             0.017417      0.055209   \n",
       "...                       ...                  ...           ...   \n",
       "2020 5               0.119344             0.128805      0.278670   \n",
       "     6               0.217112             0.243814      0.462693   \n",
       "     7               0.127799             0.138366      0.299338   \n",
       "     8               0.070992             0.072143      0.168789   \n",
       "     9               1.000000             1.000000      1.000000   \n",
       "\n",
       "        numberJavaFiles  readability  questions  \n",
       "2013 4         0.035814     0.715776   0.000000  \n",
       "     5         0.010902     0.534415   0.000000  \n",
       "     6         0.000615     0.589844   0.000000  \n",
       "     7         0.000000     0.598341   0.000000  \n",
       "     8         0.004088     0.739279   0.000000  \n",
       "...                 ...          ...        ...  \n",
       "2020 5         0.627559     0.428171   0.210526  \n",
       "     6         1.000000     0.039010   0.105263  \n",
       "     7         0.566898     0.352058   0.210526  \n",
       "     8         0.238181     0.580045   0.210526  \n",
       "     9         0.436378     0.223083   0.000000  \n",
       "\n",
       "[90 rows x 63 columns]"
      ]
     },
     "execution_count": 57,
     "metadata": {},
     "output_type": "execute_result"
    }
   ],
   "source": [
    "allMetricsAndQuestions"
   ]
  },
  {
   "cell_type": "markdown",
   "metadata": {},
   "source": [
    "## Normality Test (Shapiro-Wilk)"
   ]
  },
  {
   "cell_type": "markdown",
   "metadata": {},
   "source": [
    "Null Hyphotesis: The population has normal distribution\n",
    "\n",
    "Alternative Hyphotesis: The population has not normal distribution"
   ]
  },
  {
   "cell_type": "markdown",
   "metadata": {},
   "source": [
    "If p-value < 0.05 then null hyphotesis is rejected"
   ]
  },
  {
   "cell_type": "code",
   "execution_count": 6,
   "metadata": {},
   "outputs": [],
   "source": [
    "from scipy import stats"
   ]
  },
  {
   "cell_type": "markdown",
   "metadata": {},
   "source": [
    "### Shapiro-Wilk test for Number of Java Files"
   ]
  },
  {
   "cell_type": "code",
   "execution_count": 7,
   "metadata": {
    "scrolled": false
   },
   "outputs": [
    {
     "name": "stdout",
     "output_type": "stream",
     "text": [
      "P-value: 0.00000898350754141575\n"
     ]
    }
   ],
   "source": [
    "result = stats.shapiro(allMetricsAndQuestions[\"numberJavaFiles\"])\n",
    "print(f\"P-value: {format(result.pvalue, '.20f')}\")"
   ]
  },
  {
   "cell_type": "markdown",
   "metadata": {},
   "source": [
    "### Shapiro-Wilk for Readability per Class"
   ]
  },
  {
   "cell_type": "code",
   "execution_count": 9,
   "metadata": {
    "scrolled": true
   },
   "outputs": [
    {
     "name": "stdout",
     "output_type": "stream",
     "text": [
      "P-value: 0.00481174513697624207\n"
     ]
    }
   ],
   "source": [
    "result = stats.shapiro(allMetricsAndQuestions[\"readability\"])\n",
    "print(f\"P-value: {format(result.pvalue, '.20f')}\")"
   ]
  },
  {
   "cell_type": "markdown",
   "metadata": {},
   "source": [
    "### Shapiro-Wilk for SO questions"
   ]
  },
  {
   "cell_type": "code",
   "execution_count": 11,
   "metadata": {
    "scrolled": true
   },
   "outputs": [
    {
     "name": "stdout",
     "output_type": "stream",
     "text": [
      "P-value: 0.00065156060736626387\n"
     ]
    }
   ],
   "source": [
    "result = stats.shapiro(allMetricsAndQuestions[\"questions\"])\n",
    "print(f\"P-value: {format(result.pvalue, '.20f')}\")"
   ]
  },
  {
   "cell_type": "markdown",
   "metadata": {},
   "source": [
    "### Shapiro-Wilk for Physical Lines per Class"
   ]
  },
  {
   "cell_type": "code",
   "execution_count": 12,
   "metadata": {
    "scrolled": false
   },
   "outputs": [
    {
     "name": "stdout",
     "output_type": "stream",
     "text": [
      "P-value: 0.00000001707846131183\n"
     ]
    }
   ],
   "source": [
    "result = stats.shapiro(allMetricsAndQuestions[\"CountLine\"])\n",
    "print(f\"P-value: {format(result.pvalue, '.20f')}\")"
   ]
  },
  {
   "cell_type": "markdown",
   "metadata": {},
   "source": [
    "### Shapiro-Wilk for LOC per Class"
   ]
  },
  {
   "cell_type": "code",
   "execution_count": 13,
   "metadata": {
    "scrolled": false
   },
   "outputs": [
    {
     "name": "stdout",
     "output_type": "stream",
     "text": [
      "P-value: 0.00000000344698980470\n"
     ]
    }
   ],
   "source": [
    "result = stats.shapiro(allMetricsAndQuestions[\"CountLineCode\"])\n",
    "print(f\"P-value: {format(result.pvalue, '.20f')}\")"
   ]
  },
  {
   "cell_type": "markdown",
   "metadata": {},
   "source": [
    "### Shapiro-Wilk for CLOC per Class"
   ]
  },
  {
   "cell_type": "code",
   "execution_count": 14,
   "metadata": {
    "scrolled": false
   },
   "outputs": [
    {
     "name": "stdout",
     "output_type": "stream",
     "text": [
      "P-value: 0.00000452195217803819\n"
     ]
    }
   ],
   "source": [
    "result = stats.shapiro(allMetricsAndQuestions[\"CountLineComment\"])\n",
    "print(f\"P-value: {format(result.pvalue, '.20f')}\")"
   ]
  },
  {
   "cell_type": "markdown",
   "metadata": {},
   "source": [
    "### Shapiro-Wilk for CBO per Class"
   ]
  },
  {
   "cell_type": "code",
   "execution_count": 15,
   "metadata": {
    "scrolled": false
   },
   "outputs": [
    {
     "name": "stdout",
     "output_type": "stream",
     "text": [
      "P-value: 0.00116469955537468195\n"
     ]
    }
   ],
   "source": [
    "result = stats.shapiro(allMetricsAndQuestions[\"CountClassCoupled\"])\n",
    "print(f\"P-value: {format(result.pvalue, '.20f')}\")"
   ]
  },
  {
   "cell_type": "markdown",
   "metadata": {},
   "source": [
    "### Shapiro-Wilk for NOC per Class"
   ]
  },
  {
   "cell_type": "code",
   "execution_count": 16,
   "metadata": {
    "scrolled": false
   },
   "outputs": [
    {
     "name": "stdout",
     "output_type": "stream",
     "text": [
      "P-value: 0.00000000000000375353\n"
     ]
    }
   ],
   "source": [
    "result = stats.shapiro(allMetricsAndQuestions[\"CountClassDerived\"])\n",
    "print(f\"P-value: {format(result.pvalue, '.20f')}\")"
   ]
  },
  {
   "cell_type": "markdown",
   "metadata": {},
   "source": [
    "### Shapiro-Wilk for RFC per Class"
   ]
  },
  {
   "cell_type": "code",
   "execution_count": 17,
   "metadata": {
    "scrolled": false
   },
   "outputs": [
    {
     "name": "stdout",
     "output_type": "stream",
     "text": [
      "P-value: 0.00013171185855753720\n"
     ]
    }
   ],
   "source": [
    "result = stats.shapiro(allMetricsAndQuestions[\"CountDeclMethodAll\"])\n",
    "print(f\"P-value: {format(result.pvalue, '.20f')}\")"
   ]
  },
  {
   "cell_type": "markdown",
   "metadata": {},
   "source": [
    "### Shapiro-Wilk for DIT per Class"
   ]
  },
  {
   "cell_type": "code",
   "execution_count": 18,
   "metadata": {
    "scrolled": false
   },
   "outputs": [
    {
     "name": "stdout",
     "output_type": "stream",
     "text": [
      "P-value: 0.00606387527659535408\n"
     ]
    }
   ],
   "source": [
    "result = stats.shapiro(allMetricsAndQuestions[\"MaxInheritanceTree\"])\n",
    "print(f\"P-value: {format(result.pvalue, '.20f')}\")"
   ]
  },
  {
   "cell_type": "markdown",
   "metadata": {},
   "source": [
    "### Shapiro-Wilk for LCOM per Class"
   ]
  },
  {
   "cell_type": "code",
   "execution_count": 19,
   "metadata": {
    "scrolled": false
   },
   "outputs": [
    {
     "name": "stdout",
     "output_type": "stream",
     "text": [
      "P-value: 0.34207680821418762207\n"
     ]
    }
   ],
   "source": [
    "result = stats.shapiro(allMetricsAndQuestions[\"PercentLackOfCohesion\"])\n",
    "print(f\"P-value: {format(result.pvalue, '.20f')}\")"
   ]
  },
  {
   "cell_type": "markdown",
   "metadata": {},
   "source": [
    "### Shapiro-Wilk for WMC per Class"
   ]
  },
  {
   "cell_type": "code",
   "execution_count": 20,
   "metadata": {
    "scrolled": false
   },
   "outputs": [
    {
     "name": "stdout",
     "output_type": "stream",
     "text": [
      "P-value: 0.00000000161555158140\n"
     ]
    }
   ],
   "source": [
    "result = stats.shapiro(allMetricsAndQuestions[\"SumCyclomatic\"])\n",
    "print(f\"P-value: {format(result.pvalue, '.20f')}\")"
   ]
  },
  {
   "cell_type": "markdown",
   "metadata": {},
   "source": [
    "### Shapiro-Wilk for Classes"
   ]
  },
  {
   "cell_type": "code",
   "execution_count": 21,
   "metadata": {
    "scrolled": false
   },
   "outputs": [
    {
     "name": "stdout",
     "output_type": "stream",
     "text": [
      "P-value: 0.00001884437551780138\n"
     ]
    }
   ],
   "source": [
    "result = stats.shapiro(allMetricsAndQuestions[\"CountDeclClass\"])\n",
    "print(f\"P-value: {format(result.pvalue, '.20f')}\")"
   ]
  },
  {
   "cell_type": "code",
   "execution_count": 22,
   "metadata": {},
   "outputs": [],
   "source": [
    "# def doShapiroWilkTest(data):\n",
    "#     try:\n",
    "#         result = stats.shapiro(data)\n",
    "#         print(result)\n",
    "#     except:\n",
    "#         return None\n",
    "#     return result"
   ]
  },
  {
   "cell_type": "code",
   "execution_count": 23,
   "metadata": {},
   "outputs": [],
   "source": [
    "# def collectForAllMetric(data):\n",
    "#     results = pd.DataFrame(columns=data.columns, index=[\"p-value\"])\n",
    "#     for metric in data.columns:\n",
    "#         results[metric] = doShapiroWilkTest(data[metric]).pvalue\n",
    "#     return results"
   ]
  },
  {
   "cell_type": "code",
   "execution_count": 24,
   "metadata": {
    "scrolled": true
   },
   "outputs": [],
   "source": [
    "# shapiroWilkTestResult = collectForAllMetric(allMetricsAndQuestions)"
   ]
  },
  {
   "cell_type": "code",
   "execution_count": 25,
   "metadata": {
    "scrolled": true
   },
   "outputs": [],
   "source": [
    "# shapiroWilkTestResult"
   ]
  },
  {
   "cell_type": "markdown",
   "metadata": {},
   "source": [
    "## Correlation Test"
   ]
  },
  {
   "cell_type": "markdown",
   "metadata": {},
   "source": [
    "Null Hypothesis: there is no correlation between data\n",
    "\n",
    "Alternative Hypothesis: there is a correlation"
   ]
  },
  {
   "cell_type": "markdown",
   "metadata": {},
   "source": [
    "If p-value < 0.05 then null Hypothesis is rejected."
   ]
  },
  {
   "cell_type": "markdown",
   "metadata": {},
   "source": [
    "If the metric is normalized we will apply the Pearson Test, otherwise we will apply Spearman Test"
   ]
  },
  {
   "cell_type": "code",
   "execution_count": 26,
   "metadata": {},
   "outputs": [],
   "source": [
    "from scipy import stats"
   ]
  },
  {
   "cell_type": "markdown",
   "metadata": {},
   "source": [
    "### Correlation Test for SO questions and Java files"
   ]
  },
  {
   "cell_type": "code",
   "execution_count": 27,
   "metadata": {},
   "outputs": [
    {
     "name": "stdout",
     "output_type": "stream",
     "text": [
      "Correlation value: 0.47530930859123954. P-value: 0.000002202266\n"
     ]
    }
   ],
   "source": [
    "result = stats.spearmanr(allMetricsAndQuestions[\"questions\"], allMetricsAndQuestions[\"numberJavaFiles\"])\n",
    "print(f\"Correlation value: {result.correlation}. P-value: {format(result.pvalue, '.12f')}\")"
   ]
  },
  {
   "cell_type": "markdown",
   "metadata": {},
   "source": [
    "### Correlation test for questions and readability per Class"
   ]
  },
  {
   "cell_type": "code",
   "execution_count": 28,
   "metadata": {
    "scrolled": false
   },
   "outputs": [
    {
     "name": "stdout",
     "output_type": "stream",
     "text": [
      "Correlation value: -0.5379814798874306. P-value: 0.000000045437\n"
     ]
    }
   ],
   "source": [
    "result = stats.spearmanr(allMetricsAndQuestions[\"questions\"], allMetricsAndQuestions[\"readability\"])\n",
    "print(f\"Correlation value: {result[0]}. P-value: {format(result[1], '.12f')}\")"
   ]
  },
  {
   "cell_type": "markdown",
   "metadata": {},
   "source": [
    "### Correlation test for questions and Physical Lines per Class"
   ]
  },
  {
   "cell_type": "code",
   "execution_count": 41,
   "metadata": {
    "scrolled": true
   },
   "outputs": [
    {
     "name": "stdout",
     "output_type": "stream",
     "text": [
      "Correlation value: 0.4937102933759144. P-value: 0.000000762767\n"
     ]
    }
   ],
   "source": [
    "result = stats.spearmanr(allMetricsAndQuestions[\"questions\"], allMetricsAndQuestions[\"CountLine\"])\n",
    "print(f\"Correlation value: {result[0]}. P-value: {format(result[1], '.12f')}\")"
   ]
  },
  {
   "cell_type": "markdown",
   "metadata": {},
   "source": [
    "### Correlation test for questions and LOC per Class"
   ]
  },
  {
   "cell_type": "code",
   "execution_count": 43,
   "metadata": {
    "scrolled": true
   },
   "outputs": [
    {
     "name": "stdout",
     "output_type": "stream",
     "text": [
      "Correlation value: 0.49988517581485775. P-value: 0.000000526932\n"
     ]
    }
   ],
   "source": [
    "result = stats.spearmanr(allMetricsAndQuestions[\"questions\"], allMetricsAndQuestions[\"CountLineCode\"])\n",
    "print(f\"Correlation value: {result[0]}. P-value: {format(result[1], '.12f')}\")"
   ]
  },
  {
   "cell_type": "markdown",
   "metadata": {},
   "source": [
    "### Correlation test for questions and CLOC per Class"
   ]
  },
  {
   "cell_type": "code",
   "execution_count": 44,
   "metadata": {
    "scrolled": true
   },
   "outputs": [
    {
     "name": "stdout",
     "output_type": "stream",
     "text": [
      "Correlation value: 0.4692498445156409. P-value: 0.000003081350\n"
     ]
    }
   ],
   "source": [
    "result = stats.spearmanr(allMetricsAndQuestions[\"questions\"], allMetricsAndQuestions[\"CountLineComment\"])\n",
    "print(f\"Correlation value: {result[0]}. P-value: {format(result[1], '.12f')}\")"
   ]
  },
  {
   "cell_type": "markdown",
   "metadata": {},
   "source": [
    "### Correlation test for questions and CBO per Class"
   ]
  },
  {
   "cell_type": "code",
   "execution_count": 45,
   "metadata": {
    "scrolled": true
   },
   "outputs": [
    {
     "name": "stdout",
     "output_type": "stream",
     "text": [
      "Correlation value: 0.4177650102950788. P-value: 0.000041879278\n"
     ]
    }
   ],
   "source": [
    "result = stats.spearmanr(allMetricsAndQuestions[\"questions\"], allMetricsAndQuestions[\"CountClassCoupled\"])\n",
    "print(f\"Correlation value: {result[0]}. P-value: {format(result[1], '.12f')}\")"
   ]
  },
  {
   "cell_type": "markdown",
   "metadata": {},
   "source": [
    "### Correlation test for questions and NOC per Class"
   ]
  },
  {
   "cell_type": "code",
   "execution_count": 47,
   "metadata": {
    "scrolled": true
   },
   "outputs": [
    {
     "name": "stdout",
     "output_type": "stream",
     "text": [
      "Correlation value: 0.5802328581862862. P-value: 0.000000002051\n"
     ]
    }
   ],
   "source": [
    "result = stats.spearmanr(allMetricsAndQuestions[\"questions\"], allMetricsAndQuestions[\"CountClassDerived\"])\n",
    "print(f\"Correlation value: {result[0]}. P-value: {format(result[1], '.12f')}\")"
   ]
  },
  {
   "cell_type": "markdown",
   "metadata": {},
   "source": [
    "### Correlation test for questions and RFC per Class"
   ]
  },
  {
   "cell_type": "code",
   "execution_count": 49,
   "metadata": {
    "scrolled": true
   },
   "outputs": [
    {
     "name": "stdout",
     "output_type": "stream",
     "text": [
      "Correlation value: 0.5019132413422009. P-value: 0.000000465911\n"
     ]
    }
   ],
   "source": [
    "result = stats.spearmanr(allMetricsAndQuestions[\"questions\"], allMetricsAndQuestions[\"CountDeclMethodAll\"])\n",
    "print(f\"Correlation value: {result[0]}. P-value: {format(result[1], '.12f')}\")"
   ]
  },
  {
   "cell_type": "markdown",
   "metadata": {},
   "source": [
    "### Correlation test for questions and DIT per Class"
   ]
  },
  {
   "cell_type": "code",
   "execution_count": 51,
   "metadata": {
    "scrolled": true
   },
   "outputs": [
    {
     "name": "stdout",
     "output_type": "stream",
     "text": [
      "Correlation value: 0.6221461992721734. P-value: 0.000000000059\n"
     ]
    }
   ],
   "source": [
    "result = stats.spearmanr(allMetricsAndQuestions[\"questions\"], allMetricsAndQuestions[\"MaxInheritanceTree\"])\n",
    "print(f\"Correlation value: {result[0]}. P-value: {format(result[1], '.12f')}\")"
   ]
  },
  {
   "cell_type": "markdown",
   "metadata": {},
   "source": [
    "### Correlation test for questions and LCOM per Class"
   ]
  },
  {
   "cell_type": "code",
   "execution_count": 53,
   "metadata": {
    "scrolled": true
   },
   "outputs": [
    {
     "name": "stdout",
     "output_type": "stream",
     "text": [
      "Correlation value: 0.45918358279777105. P-value: 0.000005308783\n"
     ]
    }
   ],
   "source": [
    "result = stats.pearsonr(allMetricsAndQuestions[\"questions\"], allMetricsAndQuestions[\"PercentLackOfCohesion\"])\n",
    "print(f\"Correlation value: {result[0]}. P-value: {format(result[1], '.12f')}\")"
   ]
  },
  {
   "cell_type": "markdown",
   "metadata": {},
   "source": [
    "### Correlation test for questions and WMC per Class"
   ]
  },
  {
   "cell_type": "code",
   "execution_count": 54,
   "metadata": {
    "scrolled": true
   },
   "outputs": [
    {
     "name": "stdout",
     "output_type": "stream",
     "text": [
      "Correlation value: 0.5000005941782024. P-value: 0.000000523265\n"
     ]
    }
   ],
   "source": [
    "result = stats.spearmanr(allMetricsAndQuestions[\"questions\"], allMetricsAndQuestions[\"SumCyclomatic\"])\n",
    "print(f\"Correlation value: {result[0]}. P-value: {format(result[1], '.12f')}\")"
   ]
  },
  {
   "cell_type": "markdown",
   "metadata": {},
   "source": [
    "### Correlation test for questions and Classes"
   ]
  },
  {
   "cell_type": "code",
   "execution_count": 55,
   "metadata": {
    "scrolled": true
   },
   "outputs": [
    {
     "name": "stdout",
     "output_type": "stream",
     "text": [
      "Correlation value: 0.5163900017731547. P-value: 0.000000189042\n"
     ]
    }
   ],
   "source": [
    "result = stats.spearmanr(allMetricsAndQuestions[\"questions\"], allMetricsAndQuestions[\"CountDeclClass\"])\n",
    "print(f\"Correlation value: {result[0]}. P-value: {format(result[1], '.12f')}\")"
   ]
  },
  {
   "cell_type": "code",
   "execution_count": 56,
   "metadata": {},
   "outputs": [],
   "source": [
    "# def doSpearmanCorrelationTest(data1, data2):\n",
    "#     try:\n",
    "#         result = stats.spearmanr(data1, data2)\n",
    "#     except:\n",
    "#         return None\n",
    "#     return result"
   ]
  },
  {
   "cell_type": "code",
   "execution_count": 40,
   "metadata": {},
   "outputs": [],
   "source": [
    "# def doPearsonCorrelationTest(data1, data2):\n",
    "#     try:\n",
    "#         result = stats.pearsonr(data1, data2)\n",
    "#     except:\n",
    "#         return None\n",
    "#     return result"
   ]
  },
  {
   "cell_type": "code",
   "execution_count": 37,
   "metadata": {},
   "outputs": [],
   "source": [
    "# def collectCorrelationTestAllMetric(data, shapiroWilkTestResult):\n",
    "#     results = pd.DataFrame(index=data.columns, columns=[\"correlation\", \"pvalue\"])\n",
    "#     for metric in data.columns:\n",
    "#         # if shapiroWilkTestResult < 0.05 has no normal distribution then perform spearman test\n",
    "#         if (shapiroWilkTestResult[metric] < 0.05).bool():\n",
    "#             result = doSpearmanCorrelationTest(data[metric], data[\"questions\"])\n",
    "#             results.loc()[metric, \"correlation\"] = result.correlation\n",
    "#             results.loc()[metric, \"pvalue\"] = format(result.pvalue, '.20f')\n",
    "#         else:\n",
    "#             result = doPearsonCorrelationTest(data[metric], data[\"questions\"])\n",
    "#             results.loc()[metric, \"correlation\"] = result[0]\n",
    "#             results.loc()[metric, \"pvalue\"] = format(result[1], '.20f')\n",
    "#     return results"
   ]
  },
  {
   "cell_type": "code",
   "execution_count": 195,
   "metadata": {},
   "outputs": [],
   "source": [
    "# results = collectCorrelationTestAllMetric(allMetricsAndQuestions, shapiroWilkTestResult)"
   ]
  },
  {
   "cell_type": "code",
   "execution_count": 196,
   "metadata": {},
   "outputs": [],
   "source": [
    "# results.to_csv(\"correlationTestResult.csv\",  float_format=\"%.15f\")"
   ]
  }
 ],
 "metadata": {
  "kernelspec": {
   "display_name": "Python 3",
   "language": "python",
   "name": "python3"
  },
  "language_info": {
   "codemirror_mode": {
    "name": "ipython",
    "version": 3
   },
   "file_extension": ".py",
   "mimetype": "text/x-python",
   "name": "python",
   "nbconvert_exporter": "python",
   "pygments_lexer": "ipython3",
   "version": "3.8.3"
  }
 },
 "nbformat": 4,
 "nbformat_minor": 4
}
