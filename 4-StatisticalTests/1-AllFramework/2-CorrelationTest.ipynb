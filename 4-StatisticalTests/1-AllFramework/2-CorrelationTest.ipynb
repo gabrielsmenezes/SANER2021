{
 "cells": [
  {
   "cell_type": "code",
   "execution_count": 1,
   "metadata": {},
   "outputs": [],
   "source": [
    "import pandas as pd"
   ]
  },
  {
   "cell_type": "code",
   "execution_count": 2,
   "metadata": {},
   "outputs": [],
   "source": [
    "allMetricsAndQuestions = pd.read_csv(\"..\\\\..\\\\3-DataMerge\\\\1-AllFramework\\\\metricsAndQuestions.csv\", index_col=[0,1])"
   ]
  },
  {
   "cell_type": "code",
   "execution_count": 3,
   "metadata": {},
   "outputs": [],
   "source": [
    "AllMetricsAndQuestionsNormalized=(allMetricsAndQuestions-allMetricsAndQuestions.min())/(allMetricsAndQuestions.max()-allMetricsAndQuestions.min())"
   ]
  },
  {
   "cell_type": "code",
   "execution_count": 4,
   "metadata": {},
   "outputs": [],
   "source": [
    "allMetricsAndQuestions = AllMetricsAndQuestionsNormalized"
   ]
  },
  {
   "cell_type": "code",
   "execution_count": 5,
   "metadata": {},
   "outputs": [
    {
     "data": {
      "text/html": [
       "<div>\n",
       "<style scoped>\n",
       "    .dataframe tbody tr th:only-of-type {\n",
       "        vertical-align: middle;\n",
       "    }\n",
       "\n",
       "    .dataframe tbody tr th {\n",
       "        vertical-align: top;\n",
       "    }\n",
       "\n",
       "    .dataframe thead th {\n",
       "        text-align: right;\n",
       "    }\n",
       "</style>\n",
       "<table border=\"1\" class=\"dataframe\">\n",
       "  <thead>\n",
       "    <tr style=\"text-align: right;\">\n",
       "      <th></th>\n",
       "      <th></th>\n",
       "      <th>AvgCyclomatic</th>\n",
       "      <th>AvgCyclomaticModified</th>\n",
       "      <th>AvgCyclomaticStrict</th>\n",
       "      <th>AvgEssential</th>\n",
       "      <th>AvgLine</th>\n",
       "      <th>AvgLineBlank</th>\n",
       "      <th>AvgLineCode</th>\n",
       "      <th>AvgLineComment</th>\n",
       "      <th>CountClassBase</th>\n",
       "      <th>CountClassCoupled</th>\n",
       "      <th>...</th>\n",
       "      <th>PercentLackOfCohesion</th>\n",
       "      <th>PercentLackOfCohesionModified</th>\n",
       "      <th>RatioCommentToCode</th>\n",
       "      <th>SumCyclomatic</th>\n",
       "      <th>SumCyclomaticModified</th>\n",
       "      <th>SumCyclomaticStrict</th>\n",
       "      <th>SumEssential</th>\n",
       "      <th>numberJavaFiles</th>\n",
       "      <th>readability</th>\n",
       "      <th>questions</th>\n",
       "    </tr>\n",
       "  </thead>\n",
       "  <tbody>\n",
       "    <tr>\n",
       "      <th rowspan=\"5\" valign=\"top\">2013</th>\n",
       "      <th>4</th>\n",
       "      <td>0.580719</td>\n",
       "      <td>0.600498</td>\n",
       "      <td>0.549028</td>\n",
       "      <td>0.000000</td>\n",
       "      <td>0.406088</td>\n",
       "      <td>0.533440</td>\n",
       "      <td>0.464433</td>\n",
       "      <td>0.222508</td>\n",
       "      <td>0.000000</td>\n",
       "      <td>0.177361</td>\n",
       "      <td>...</td>\n",
       "      <td>0.000000</td>\n",
       "      <td>0.000000</td>\n",
       "      <td>0.000000</td>\n",
       "      <td>0.000000</td>\n",
       "      <td>0.000000</td>\n",
       "      <td>0.000000</td>\n",
       "      <td>0.000000</td>\n",
       "      <td>0.059574</td>\n",
       "      <td>0.820167</td>\n",
       "      <td>0.000000</td>\n",
       "    </tr>\n",
       "    <tr>\n",
       "      <th>5</th>\n",
       "      <td>0.000000</td>\n",
       "      <td>0.000000</td>\n",
       "      <td>0.000000</td>\n",
       "      <td>0.015322</td>\n",
       "      <td>0.000000</td>\n",
       "      <td>0.065914</td>\n",
       "      <td>0.022743</td>\n",
       "      <td>0.000000</td>\n",
       "      <td>0.104075</td>\n",
       "      <td>0.000000</td>\n",
       "      <td>...</td>\n",
       "      <td>0.136339</td>\n",
       "      <td>0.152344</td>\n",
       "      <td>0.010121</td>\n",
       "      <td>0.000708</td>\n",
       "      <td>0.000715</td>\n",
       "      <td>0.000663</td>\n",
       "      <td>0.055101</td>\n",
       "      <td>0.098478</td>\n",
       "      <td>1.000000</td>\n",
       "      <td>0.000000</td>\n",
       "    </tr>\n",
       "    <tr>\n",
       "      <th>6</th>\n",
       "      <td>0.871115</td>\n",
       "      <td>0.900784</td>\n",
       "      <td>0.823576</td>\n",
       "      <td>0.331067</td>\n",
       "      <td>0.197629</td>\n",
       "      <td>0.442868</td>\n",
       "      <td>0.110317</td>\n",
       "      <td>0.263570</td>\n",
       "      <td>0.765533</td>\n",
       "      <td>0.854926</td>\n",
       "      <td>...</td>\n",
       "      <td>0.697996</td>\n",
       "      <td>0.779932</td>\n",
       "      <td>0.435142</td>\n",
       "      <td>0.340177</td>\n",
       "      <td>0.343562</td>\n",
       "      <td>0.318584</td>\n",
       "      <td>0.487992</td>\n",
       "      <td>0.002898</td>\n",
       "      <td>0.285109</td>\n",
       "      <td>0.000000</td>\n",
       "    </tr>\n",
       "    <tr>\n",
       "      <th>7</th>\n",
       "      <td>0.822265</td>\n",
       "      <td>0.850270</td>\n",
       "      <td>0.797723</td>\n",
       "      <td>0.359879</td>\n",
       "      <td>0.160855</td>\n",
       "      <td>0.382268</td>\n",
       "      <td>0.067946</td>\n",
       "      <td>0.254170</td>\n",
       "      <td>0.777132</td>\n",
       "      <td>0.890602</td>\n",
       "      <td>...</td>\n",
       "      <td>0.778602</td>\n",
       "      <td>0.870000</td>\n",
       "      <td>0.429080</td>\n",
       "      <td>0.348507</td>\n",
       "      <td>0.351975</td>\n",
       "      <td>0.327594</td>\n",
       "      <td>0.505233</td>\n",
       "      <td>0.001943</td>\n",
       "      <td>0.520749</td>\n",
       "      <td>0.000000</td>\n",
       "    </tr>\n",
       "    <tr>\n",
       "      <th>8</th>\n",
       "      <td>0.825103</td>\n",
       "      <td>0.853205</td>\n",
       "      <td>0.799482</td>\n",
       "      <td>0.359879</td>\n",
       "      <td>0.159011</td>\n",
       "      <td>0.380244</td>\n",
       "      <td>0.066111</td>\n",
       "      <td>0.253185</td>\n",
       "      <td>0.772255</td>\n",
       "      <td>0.882015</td>\n",
       "      <td>...</td>\n",
       "      <td>0.775614</td>\n",
       "      <td>0.865381</td>\n",
       "      <td>0.432124</td>\n",
       "      <td>0.348634</td>\n",
       "      <td>0.352103</td>\n",
       "      <td>0.327658</td>\n",
       "      <td>0.506790</td>\n",
       "      <td>0.007177</td>\n",
       "      <td>0.535740</td>\n",
       "      <td>0.000000</td>\n",
       "    </tr>\n",
       "    <tr>\n",
       "      <th>...</th>\n",
       "      <th>...</th>\n",
       "      <td>...</td>\n",
       "      <td>...</td>\n",
       "      <td>...</td>\n",
       "      <td>...</td>\n",
       "      <td>...</td>\n",
       "      <td>...</td>\n",
       "      <td>...</td>\n",
       "      <td>...</td>\n",
       "      <td>...</td>\n",
       "      <td>...</td>\n",
       "      <td>...</td>\n",
       "      <td>...</td>\n",
       "      <td>...</td>\n",
       "      <td>...</td>\n",
       "      <td>...</td>\n",
       "      <td>...</td>\n",
       "      <td>...</td>\n",
       "      <td>...</td>\n",
       "      <td>...</td>\n",
       "      <td>...</td>\n",
       "      <td>...</td>\n",
       "    </tr>\n",
       "    <tr>\n",
       "      <th rowspan=\"5\" valign=\"top\">2020</th>\n",
       "      <th>4</th>\n",
       "      <td>0.570984</td>\n",
       "      <td>0.543832</td>\n",
       "      <td>0.652318</td>\n",
       "      <td>0.929376</td>\n",
       "      <td>0.482163</td>\n",
       "      <td>0.305502</td>\n",
       "      <td>0.455203</td>\n",
       "      <td>0.619481</td>\n",
       "      <td>0.419453</td>\n",
       "      <td>0.825674</td>\n",
       "      <td>...</td>\n",
       "      <td>0.848159</td>\n",
       "      <td>0.827535</td>\n",
       "      <td>0.785309</td>\n",
       "      <td>0.834321</td>\n",
       "      <td>0.830834</td>\n",
       "      <td>0.833507</td>\n",
       "      <td>0.889853</td>\n",
       "      <td>0.799390</td>\n",
       "      <td>0.116510</td>\n",
       "      <td>0.978412</td>\n",
       "    </tr>\n",
       "    <tr>\n",
       "      <th>5</th>\n",
       "      <td>0.585639</td>\n",
       "      <td>0.558988</td>\n",
       "      <td>0.666099</td>\n",
       "      <td>0.929114</td>\n",
       "      <td>0.487463</td>\n",
       "      <td>0.306668</td>\n",
       "      <td>0.462791</td>\n",
       "      <td>0.620821</td>\n",
       "      <td>0.419368</td>\n",
       "      <td>0.834145</td>\n",
       "      <td>...</td>\n",
       "      <td>0.846145</td>\n",
       "      <td>0.825259</td>\n",
       "      <td>0.788204</td>\n",
       "      <td>0.836380</td>\n",
       "      <td>0.832907</td>\n",
       "      <td>0.835666</td>\n",
       "      <td>0.892648</td>\n",
       "      <td>0.807098</td>\n",
       "      <td>0.110924</td>\n",
       "      <td>0.984580</td>\n",
       "    </tr>\n",
       "    <tr>\n",
       "      <th>6</th>\n",
       "      <td>0.583070</td>\n",
       "      <td>0.556809</td>\n",
       "      <td>0.663394</td>\n",
       "      <td>0.921522</td>\n",
       "      <td>0.490364</td>\n",
       "      <td>0.304986</td>\n",
       "      <td>0.466913</td>\n",
       "      <td>0.625171</td>\n",
       "      <td>0.408952</td>\n",
       "      <td>0.835108</td>\n",
       "      <td>...</td>\n",
       "      <td>0.855986</td>\n",
       "      <td>0.835117</td>\n",
       "      <td>0.786963</td>\n",
       "      <td>0.838744</td>\n",
       "      <td>0.835389</td>\n",
       "      <td>0.837760</td>\n",
       "      <td>0.897685</td>\n",
       "      <td>0.798430</td>\n",
       "      <td>0.105389</td>\n",
       "      <td>0.987664</td>\n",
       "    </tr>\n",
       "    <tr>\n",
       "      <th>7</th>\n",
       "      <td>0.582781</td>\n",
       "      <td>0.556629</td>\n",
       "      <td>0.663110</td>\n",
       "      <td>0.921202</td>\n",
       "      <td>0.489951</td>\n",
       "      <td>0.304689</td>\n",
       "      <td>0.466557</td>\n",
       "      <td>0.625086</td>\n",
       "      <td>0.408802</td>\n",
       "      <td>0.835118</td>\n",
       "      <td>...</td>\n",
       "      <td>0.855340</td>\n",
       "      <td>0.834526</td>\n",
       "      <td>0.786443</td>\n",
       "      <td>0.838671</td>\n",
       "      <td>0.835325</td>\n",
       "      <td>0.837685</td>\n",
       "      <td>0.897541</td>\n",
       "      <td>0.799246</td>\n",
       "      <td>0.094044</td>\n",
       "      <td>0.993832</td>\n",
       "    </tr>\n",
       "    <tr>\n",
       "      <th>8</th>\n",
       "      <td>0.628723</td>\n",
       "      <td>0.604135</td>\n",
       "      <td>0.709850</td>\n",
       "      <td>0.921206</td>\n",
       "      <td>0.504968</td>\n",
       "      <td>0.306443</td>\n",
       "      <td>0.489230</td>\n",
       "      <td>0.626346</td>\n",
       "      <td>0.407933</td>\n",
       "      <td>0.858548</td>\n",
       "      <td>...</td>\n",
       "      <td>0.850374</td>\n",
       "      <td>0.828970</td>\n",
       "      <td>0.790507</td>\n",
       "      <td>0.842217</td>\n",
       "      <td>0.838907</td>\n",
       "      <td>0.841700</td>\n",
       "      <td>0.896507</td>\n",
       "      <td>0.801706</td>\n",
       "      <td>0.121618</td>\n",
       "      <td>1.000000</td>\n",
       "    </tr>\n",
       "  </tbody>\n",
       "</table>\n",
       "<p>89 rows × 49 columns</p>\n",
       "</div>"
      ],
      "text/plain": [
       "        AvgCyclomatic  AvgCyclomaticModified  AvgCyclomaticStrict  \\\n",
       "2013 4       0.580719               0.600498             0.549028   \n",
       "     5       0.000000               0.000000             0.000000   \n",
       "     6       0.871115               0.900784             0.823576   \n",
       "     7       0.822265               0.850270             0.797723   \n",
       "     8       0.825103               0.853205             0.799482   \n",
       "...               ...                    ...                  ...   \n",
       "2020 4       0.570984               0.543832             0.652318   \n",
       "     5       0.585639               0.558988             0.666099   \n",
       "     6       0.583070               0.556809             0.663394   \n",
       "     7       0.582781               0.556629             0.663110   \n",
       "     8       0.628723               0.604135             0.709850   \n",
       "\n",
       "        AvgEssential   AvgLine  AvgLineBlank  AvgLineCode  AvgLineComment  \\\n",
       "2013 4      0.000000  0.406088      0.533440     0.464433        0.222508   \n",
       "     5      0.015322  0.000000      0.065914     0.022743        0.000000   \n",
       "     6      0.331067  0.197629      0.442868     0.110317        0.263570   \n",
       "     7      0.359879  0.160855      0.382268     0.067946        0.254170   \n",
       "     8      0.359879  0.159011      0.380244     0.066111        0.253185   \n",
       "...              ...       ...           ...          ...             ...   \n",
       "2020 4      0.929376  0.482163      0.305502     0.455203        0.619481   \n",
       "     5      0.929114  0.487463      0.306668     0.462791        0.620821   \n",
       "     6      0.921522  0.490364      0.304986     0.466913        0.625171   \n",
       "     7      0.921202  0.489951      0.304689     0.466557        0.625086   \n",
       "     8      0.921206  0.504968      0.306443     0.489230        0.626346   \n",
       "\n",
       "        CountClassBase  CountClassCoupled  ...  PercentLackOfCohesion  \\\n",
       "2013 4        0.000000           0.177361  ...               0.000000   \n",
       "     5        0.104075           0.000000  ...               0.136339   \n",
       "     6        0.765533           0.854926  ...               0.697996   \n",
       "     7        0.777132           0.890602  ...               0.778602   \n",
       "     8        0.772255           0.882015  ...               0.775614   \n",
       "...                ...                ...  ...                    ...   \n",
       "2020 4        0.419453           0.825674  ...               0.848159   \n",
       "     5        0.419368           0.834145  ...               0.846145   \n",
       "     6        0.408952           0.835108  ...               0.855986   \n",
       "     7        0.408802           0.835118  ...               0.855340   \n",
       "     8        0.407933           0.858548  ...               0.850374   \n",
       "\n",
       "        PercentLackOfCohesionModified  RatioCommentToCode  SumCyclomatic  \\\n",
       "2013 4                       0.000000            0.000000       0.000000   \n",
       "     5                       0.152344            0.010121       0.000708   \n",
       "     6                       0.779932            0.435142       0.340177   \n",
       "     7                       0.870000            0.429080       0.348507   \n",
       "     8                       0.865381            0.432124       0.348634   \n",
       "...                               ...                 ...            ...   \n",
       "2020 4                       0.827535            0.785309       0.834321   \n",
       "     5                       0.825259            0.788204       0.836380   \n",
       "     6                       0.835117            0.786963       0.838744   \n",
       "     7                       0.834526            0.786443       0.838671   \n",
       "     8                       0.828970            0.790507       0.842217   \n",
       "\n",
       "        SumCyclomaticModified  SumCyclomaticStrict  SumEssential  \\\n",
       "2013 4               0.000000             0.000000      0.000000   \n",
       "     5               0.000715             0.000663      0.055101   \n",
       "     6               0.343562             0.318584      0.487992   \n",
       "     7               0.351975             0.327594      0.505233   \n",
       "     8               0.352103             0.327658      0.506790   \n",
       "...                       ...                  ...           ...   \n",
       "2020 4               0.830834             0.833507      0.889853   \n",
       "     5               0.832907             0.835666      0.892648   \n",
       "     6               0.835389             0.837760      0.897685   \n",
       "     7               0.835325             0.837685      0.897541   \n",
       "     8               0.838907             0.841700      0.896507   \n",
       "\n",
       "        numberJavaFiles  readability  questions  \n",
       "2013 4         0.059574     0.820167   0.000000  \n",
       "     5         0.098478     1.000000   0.000000  \n",
       "     6         0.002898     0.285109   0.000000  \n",
       "     7         0.001943     0.520749   0.000000  \n",
       "     8         0.007177     0.535740   0.000000  \n",
       "...                 ...          ...        ...  \n",
       "2020 4         0.799390     0.116510   0.978412  \n",
       "     5         0.807098     0.110924   0.984580  \n",
       "     6         0.798430     0.105389   0.987664  \n",
       "     7         0.799246     0.094044   0.993832  \n",
       "     8         0.801706     0.121618   1.000000  \n",
       "\n",
       "[89 rows x 49 columns]"
      ]
     },
     "execution_count": 5,
     "metadata": {},
     "output_type": "execute_result"
    }
   ],
   "source": [
    "allMetricsAndQuestions"
   ]
  },
  {
   "cell_type": "markdown",
   "metadata": {},
   "source": [
    "## Normality Test (Shapiro-Wilk)"
   ]
  },
  {
   "cell_type": "markdown",
   "metadata": {},
   "source": [
    "Null Hyphotesis: The population has normal distribution\n",
    "\n",
    "Alternative Hyphotesis: The population has not normal distribution"
   ]
  },
  {
   "cell_type": "markdown",
   "metadata": {},
   "source": [
    "If p-value < 0.05 then null hyphotesis is rejected"
   ]
  },
  {
   "cell_type": "code",
   "execution_count": 6,
   "metadata": {},
   "outputs": [],
   "source": [
    "from scipy import stats"
   ]
  },
  {
   "cell_type": "markdown",
   "metadata": {},
   "source": [
    "### Shapiro-Wilk test for Number of Java Files"
   ]
  },
  {
   "cell_type": "code",
   "execution_count": 7,
   "metadata": {
    "scrolled": false
   },
   "outputs": [
    {
     "name": "stdout",
     "output_type": "stream",
     "text": [
      "P-value: 0.00000003894368916235\n"
     ]
    }
   ],
   "source": [
    "result = stats.shapiro(allMetricsAndQuestions[\"numberJavaFiles\"])\n",
    "print(f\"P-value: {format(result.pvalue, '.20f')}\")"
   ]
  },
  {
   "cell_type": "markdown",
   "metadata": {},
   "source": [
    "### Shapiro-Wilk for Readability per Class"
   ]
  },
  {
   "cell_type": "code",
   "execution_count": 8,
   "metadata": {
    "scrolled": true
   },
   "outputs": [
    {
     "name": "stdout",
     "output_type": "stream",
     "text": [
      "P-value: 0.00000000004431466652\n"
     ]
    }
   ],
   "source": [
    "result = stats.shapiro(allMetricsAndQuestions[\"readability\"])\n",
    "print(f\"P-value: {format(result.pvalue, '.20f')}\")"
   ]
  },
  {
   "cell_type": "markdown",
   "metadata": {},
   "source": [
    "### Shapiro-Wilk for SO questions"
   ]
  },
  {
   "cell_type": "code",
   "execution_count": 9,
   "metadata": {
    "scrolled": true
   },
   "outputs": [
    {
     "name": "stdout",
     "output_type": "stream",
     "text": [
      "P-value: 0.00000043151860040780\n"
     ]
    }
   ],
   "source": [
    "result = stats.shapiro(allMetricsAndQuestions[\"questions\"])\n",
    "print(f\"P-value: {format(result.pvalue, '.20f')}\")"
   ]
  },
  {
   "cell_type": "markdown",
   "metadata": {},
   "source": [
    "### Shapiro-Wilk for Physical Lines per Class"
   ]
  },
  {
   "cell_type": "code",
   "execution_count": 10,
   "metadata": {
    "scrolled": false
   },
   "outputs": [
    {
     "name": "stdout",
     "output_type": "stream",
     "text": [
      "P-value: 0.00000154819258568750\n"
     ]
    }
   ],
   "source": [
    "result = stats.shapiro(allMetricsAndQuestions[\"CountLine\"])\n",
    "print(f\"P-value: {format(result.pvalue, '.20f')}\")"
   ]
  },
  {
   "cell_type": "markdown",
   "metadata": {},
   "source": [
    "### Shapiro-Wilk for LOC per Class"
   ]
  },
  {
   "cell_type": "code",
   "execution_count": 11,
   "metadata": {
    "scrolled": false
   },
   "outputs": [
    {
     "name": "stdout",
     "output_type": "stream",
     "text": [
      "P-value: 0.00000048571030220046\n"
     ]
    }
   ],
   "source": [
    "result = stats.shapiro(allMetricsAndQuestions[\"CountLineCode\"])\n",
    "print(f\"P-value: {format(result.pvalue, '.20f')}\")"
   ]
  },
  {
   "cell_type": "markdown",
   "metadata": {},
   "source": [
    "### Shapiro-Wilk for CLOC per Class"
   ]
  },
  {
   "cell_type": "code",
   "execution_count": 12,
   "metadata": {
    "scrolled": false
   },
   "outputs": [
    {
     "name": "stdout",
     "output_type": "stream",
     "text": [
      "P-value: 0.00000232594084081938\n"
     ]
    }
   ],
   "source": [
    "result = stats.shapiro(allMetricsAndQuestions[\"CountLineComment\"])\n",
    "print(f\"P-value: {format(result.pvalue, '.20f')}\")"
   ]
  },
  {
   "cell_type": "markdown",
   "metadata": {},
   "source": [
    "### Shapiro-Wilk for CBO per Class"
   ]
  },
  {
   "cell_type": "code",
   "execution_count": 13,
   "metadata": {
    "scrolled": false
   },
   "outputs": [
    {
     "name": "stdout",
     "output_type": "stream",
     "text": [
      "P-value: 0.00000000069187178209\n"
     ]
    }
   ],
   "source": [
    "result = stats.shapiro(allMetricsAndQuestions[\"CountClassCoupled\"])\n",
    "print(f\"P-value: {format(result.pvalue, '.20f')}\")"
   ]
  },
  {
   "cell_type": "markdown",
   "metadata": {},
   "source": [
    "### Shapiro-Wilk for NOC per Class"
   ]
  },
  {
   "cell_type": "code",
   "execution_count": 14,
   "metadata": {
    "scrolled": false
   },
   "outputs": [
    {
     "name": "stdout",
     "output_type": "stream",
     "text": [
      "P-value: 0.00000009637289366538\n"
     ]
    }
   ],
   "source": [
    "result = stats.shapiro(allMetricsAndQuestions[\"CountClassDerived\"])\n",
    "print(f\"P-value: {format(result.pvalue, '.20f')}\")"
   ]
  },
  {
   "cell_type": "markdown",
   "metadata": {},
   "source": [
    "### Shapiro-Wilk for RFC per Class"
   ]
  },
  {
   "cell_type": "code",
   "execution_count": 15,
   "metadata": {
    "scrolled": false
   },
   "outputs": [
    {
     "name": "stdout",
     "output_type": "stream",
     "text": [
      "P-value: 0.00000859434294397943\n"
     ]
    }
   ],
   "source": [
    "result = stats.shapiro(allMetricsAndQuestions[\"CountDeclMethodAll\"])\n",
    "print(f\"P-value: {format(result.pvalue, '.20f')}\")"
   ]
  },
  {
   "cell_type": "markdown",
   "metadata": {},
   "source": [
    "### Shapiro-Wilk for DIT per Class"
   ]
  },
  {
   "cell_type": "code",
   "execution_count": 16,
   "metadata": {
    "scrolled": false
   },
   "outputs": [
    {
     "name": "stdout",
     "output_type": "stream",
     "text": [
      "P-value: 0.00000001038734964709\n"
     ]
    }
   ],
   "source": [
    "result = stats.shapiro(allMetricsAndQuestions[\"MaxInheritanceTree\"])\n",
    "print(f\"P-value: {format(result.pvalue, '.20f')}\")"
   ]
  },
  {
   "cell_type": "markdown",
   "metadata": {},
   "source": [
    "### Shapiro-Wilk for LCOM per Class"
   ]
  },
  {
   "cell_type": "code",
   "execution_count": 17,
   "metadata": {
    "scrolled": false
   },
   "outputs": [
    {
     "name": "stdout",
     "output_type": "stream",
     "text": [
      "P-value: 0.00000000000005891454\n"
     ]
    }
   ],
   "source": [
    "result = stats.shapiro(allMetricsAndQuestions[\"PercentLackOfCohesion\"])\n",
    "print(f\"P-value: {format(result.pvalue, '.20f')}\")"
   ]
  },
  {
   "cell_type": "markdown",
   "metadata": {},
   "source": [
    "### Shapiro-Wilk for WMC per Class"
   ]
  },
  {
   "cell_type": "code",
   "execution_count": 18,
   "metadata": {
    "scrolled": false
   },
   "outputs": [
    {
     "name": "stdout",
     "output_type": "stream",
     "text": [
      "P-value: 0.00000240228791881236\n"
     ]
    }
   ],
   "source": [
    "result = stats.shapiro(allMetricsAndQuestions[\"SumCyclomatic\"])\n",
    "print(f\"P-value: {format(result.pvalue, '.20f')}\")"
   ]
  },
  {
   "cell_type": "markdown",
   "metadata": {},
   "source": [
    "### Shapiro-Wilk for Classes"
   ]
  },
  {
   "cell_type": "code",
   "execution_count": 19,
   "metadata": {},
   "outputs": [
    {
     "name": "stdout",
     "output_type": "stream",
     "text": [
      "P-value: 0.00000027215929776503\n"
     ]
    }
   ],
   "source": [
    "result = stats.shapiro(allMetricsAndQuestions[\"CountDeclClass\"])\n",
    "print(f\"P-value: {format(result.pvalue, '.20f')}\")"
   ]
  },
  {
   "cell_type": "code",
   "execution_count": 20,
   "metadata": {},
   "outputs": [
    {
     "name": "stdout",
     "output_type": "stream",
     "text": [
      "P-value: 0.00000043151860040780\n"
     ]
    }
   ],
   "source": [
    "result = stats.shapiro(allMetricsAndQuestions[\"questions\"])\n",
    "print(f\"P-value: {format(result.pvalue, '.20f')}\")"
   ]
  },
  {
   "cell_type": "code",
   "execution_count": 21,
   "metadata": {},
   "outputs": [],
   "source": [
    "# def doShapiroWilkTest(data):\n",
    "#     try:\n",
    "#         result = stats.shapiro(data)\n",
    "#         print(result)\n",
    "#     except:\n",
    "#         return None\n",
    "#     return result"
   ]
  },
  {
   "cell_type": "code",
   "execution_count": 22,
   "metadata": {},
   "outputs": [],
   "source": [
    "# def collectForAllMetric(data):\n",
    "#     results = pd.DataFrame(columns=data.columns, index=[\"p-value\"])\n",
    "#     for metric in data.columns:\n",
    "#         results[metric] = doShapiroWilkTest(data[metric]).pvalue\n",
    "#     return results"
   ]
  },
  {
   "cell_type": "code",
   "execution_count": 23,
   "metadata": {
    "scrolled": true
   },
   "outputs": [],
   "source": [
    "# shapiroWilkTestResult = collectForAllMetric(allMetricsAndQuestions)"
   ]
  },
  {
   "cell_type": "code",
   "execution_count": 24,
   "metadata": {
    "scrolled": true
   },
   "outputs": [],
   "source": [
    "# shapiroWilkTestResult"
   ]
  },
  {
   "cell_type": "markdown",
   "metadata": {},
   "source": [
    "## Correlation Test"
   ]
  },
  {
   "cell_type": "markdown",
   "metadata": {},
   "source": [
    "Null Hypothesis: there is no correlation between data\n",
    "\n",
    "Alternative Hypothesis: there is a correlation"
   ]
  },
  {
   "cell_type": "markdown",
   "metadata": {},
   "source": [
    "If p-value < 0.05 then null Hypothesis is rejected."
   ]
  },
  {
   "cell_type": "markdown",
   "metadata": {},
   "source": [
    "If the metric is normalized we will apply the Pearson Test, otherwise we will apply Spearman Test"
   ]
  },
  {
   "cell_type": "code",
   "execution_count": 25,
   "metadata": {},
   "outputs": [],
   "source": [
    "from scipy import stats"
   ]
  },
  {
   "cell_type": "markdown",
   "metadata": {},
   "source": [
    "### Correlation Test for SO questions and Java files"
   ]
  },
  {
   "cell_type": "code",
   "execution_count": 26,
   "metadata": {},
   "outputs": [
    {
     "name": "stdout",
     "output_type": "stream",
     "text": [
      "Correlation value: 0.8043231150406351. P-value: 0.000000000000000000002262140030\n"
     ]
    }
   ],
   "source": [
    "result = stats.spearmanr(allMetricsAndQuestions[\"questions\"], allMetricsAndQuestions[\"numberJavaFiles\"])\n",
    "print(f\"Correlation value: {result.correlation}. P-value: {format(result.pvalue, '.30f')}\")"
   ]
  },
  {
   "cell_type": "markdown",
   "metadata": {},
   "source": [
    "### Correlation test for questions and readability per Class"
   ]
  },
  {
   "cell_type": "code",
   "execution_count": 27,
   "metadata": {
    "scrolled": false
   },
   "outputs": [
    {
     "name": "stdout",
     "output_type": "stream",
     "text": [
      "Correlation value: -0.5696474938891235. P-value: 0.000000005681234372707813436310\n"
     ]
    }
   ],
   "source": [
    "result = stats.spearmanr(allMetricsAndQuestions[\"questions\"], allMetricsAndQuestions[\"readability\"])\n",
    "print(f\"Correlation value: {result[0]}. P-value: {format(result[1], '.30f')}\")"
   ]
  },
  {
   "cell_type": "markdown",
   "metadata": {},
   "source": [
    "### Correlation test for questions and Physical Lines per Class"
   ]
  },
  {
   "cell_type": "code",
   "execution_count": 28,
   "metadata": {
    "scrolled": true
   },
   "outputs": [
    {
     "name": "stdout",
     "output_type": "stream",
     "text": [
      "Correlation value: 0.8815875788994513. P-value: 0.000000000000000000000000000004\n"
     ]
    }
   ],
   "source": [
    "result = stats.spearmanr(allMetricsAndQuestions[\"questions\"], allMetricsAndQuestions[\"CountLine\"])\n",
    "print(f\"Correlation value: {result[0]}. P-value: {format(result[1], '.30f')}\")"
   ]
  },
  {
   "cell_type": "markdown",
   "metadata": {},
   "source": [
    "### Correlation test for questions and LOC per Class"
   ]
  },
  {
   "cell_type": "code",
   "execution_count": 29,
   "metadata": {
    "scrolled": true
   },
   "outputs": [
    {
     "name": "stdout",
     "output_type": "stream",
     "text": [
      "Correlation value: 0.9003578078871866. P-value: 0.000000000000000000000000000000\n"
     ]
    }
   ],
   "source": [
    "result = stats.spearmanr(allMetricsAndQuestions[\"questions\"], allMetricsAndQuestions[\"CountLineCode\"])\n",
    "print(f\"Correlation value: {result[0]}. P-value: {format(result[1], '.30f')}\")"
   ]
  },
  {
   "cell_type": "markdown",
   "metadata": {},
   "source": [
    "### Correlation test for questions and CLOC per Class"
   ]
  },
  {
   "cell_type": "code",
   "execution_count": 30,
   "metadata": {
    "scrolled": true
   },
   "outputs": [
    {
     "name": "stdout",
     "output_type": "stream",
     "text": [
      "Correlation value: 0.8764644136016269. P-value: 0.000000000000000000000000000023\n"
     ]
    }
   ],
   "source": [
    "result = stats.spearmanr(allMetricsAndQuestions[\"questions\"], allMetricsAndQuestions[\"CountLineComment\"])\n",
    "print(f\"Correlation value: {result[0]}. P-value: {format(result[1], '.30f')}\")"
   ]
  },
  {
   "cell_type": "markdown",
   "metadata": {},
   "source": [
    "### Correlation test for questions and CBO per Class"
   ]
  },
  {
   "cell_type": "code",
   "execution_count": 31,
   "metadata": {
    "scrolled": true
   },
   "outputs": [
    {
     "name": "stdout",
     "output_type": "stream",
     "text": [
      "Correlation value: 0.16073924769261028. P-value: 0.132381320695872439774376516652\n"
     ]
    }
   ],
   "source": [
    "result = stats.spearmanr(allMetricsAndQuestions[\"questions\"], allMetricsAndQuestions[\"CountClassCoupled\"])\n",
    "print(f\"Correlation value: {result[0]}. P-value: {format(result[1], '.30f')}\")"
   ]
  },
  {
   "cell_type": "markdown",
   "metadata": {},
   "source": [
    "### Correlation test for questions and NOC per Class"
   ]
  },
  {
   "cell_type": "code",
   "execution_count": 32,
   "metadata": {
    "scrolled": true
   },
   "outputs": [
    {
     "name": "stdout",
     "output_type": "stream",
     "text": [
      "Correlation value: 0.7669678705683396. P-value: 0.000000000000000001904743620642\n"
     ]
    }
   ],
   "source": [
    "result = stats.spearmanr(allMetricsAndQuestions[\"questions\"], allMetricsAndQuestions[\"CountClassDerived\"])\n",
    "print(f\"Correlation value: {result[0]}. P-value: {format(result[1], '.30f')}\")"
   ]
  },
  {
   "cell_type": "markdown",
   "metadata": {},
   "source": [
    "### Correlation test for questions and RFC per Class"
   ]
  },
  {
   "cell_type": "code",
   "execution_count": 33,
   "metadata": {
    "scrolled": true
   },
   "outputs": [
    {
     "name": "stdout",
     "output_type": "stream",
     "text": [
      "Correlation value: 0.8575371584541863. P-value: 0.000000000000000000000000007599\n"
     ]
    }
   ],
   "source": [
    "result = stats.spearmanr(allMetricsAndQuestions[\"questions\"], allMetricsAndQuestions[\"CountDeclMethodAll\"])\n",
    "print(f\"Correlation value: {result[0]}. P-value: {format(result[1], '.30f')}\")"
   ]
  },
  {
   "cell_type": "markdown",
   "metadata": {},
   "source": [
    "### Correlation test for questions and DIT per Class"
   ]
  },
  {
   "cell_type": "code",
   "execution_count": 34,
   "metadata": {
    "scrolled": true
   },
   "outputs": [
    {
     "name": "stdout",
     "output_type": "stream",
     "text": [
      "Correlation value: 0.06374635111986268. P-value: 0.552856948679788962053294198995\n"
     ]
    }
   ],
   "source": [
    "result = stats.spearmanr(allMetricsAndQuestions[\"questions\"], allMetricsAndQuestions[\"MaxInheritanceTree\"])\n",
    "print(f\"Correlation value: {result[0]}. P-value: {format(result[1], '.30f')}\")"
   ]
  },
  {
   "cell_type": "markdown",
   "metadata": {},
   "source": [
    "### Correlation test for questions and LCOM per Class"
   ]
  },
  {
   "cell_type": "code",
   "execution_count": 35,
   "metadata": {
    "scrolled": true
   },
   "outputs": [
    {
     "name": "stdout",
     "output_type": "stream",
     "text": [
      "Correlation value: 0.2817079296608295. P-value: 0.007485121403471673567908695190\n"
     ]
    }
   ],
   "source": [
    "result = stats.spearmanr(allMetricsAndQuestions[\"questions\"], allMetricsAndQuestions[\"PercentLackOfCohesion\"])\n",
    "print(f\"Correlation value: {result[0]}. P-value: {format(result[1], '.30f')}\")"
   ]
  },
  {
   "cell_type": "markdown",
   "metadata": {},
   "source": [
    "### Correlation test for questions and WMC per Class"
   ]
  },
  {
   "cell_type": "code",
   "execution_count": 36,
   "metadata": {
    "scrolled": true
   },
   "outputs": [
    {
     "name": "stdout",
     "output_type": "stream",
     "text": [
      "Correlation value: 0.8854199759250779. P-value: 0.000000000000000000000000000001\n"
     ]
    }
   ],
   "source": [
    "result = stats.spearmanr(allMetricsAndQuestions[\"questions\"], allMetricsAndQuestions[\"SumCyclomatic\"])\n",
    "print(f\"Correlation value: {result[0]}. P-value: {format(result[1], '.30f')}\")"
   ]
  },
  {
   "cell_type": "markdown",
   "metadata": {},
   "source": [
    "### Correlation test for questions and Classes"
   ]
  },
  {
   "cell_type": "code",
   "execution_count": 37,
   "metadata": {
    "scrolled": true
   },
   "outputs": [
    {
     "name": "stdout",
     "output_type": "stream",
     "text": [
      "Correlation value: 0.9365095417425389. P-value: 0.000000000000000000000000000000\n"
     ]
    }
   ],
   "source": [
    "result = stats.spearmanr(allMetricsAndQuestions[\"questions\"], allMetricsAndQuestions[\"CountDeclClass\"])\n",
    "print(f\"Correlation value: {result[0]}. P-value: {format(result[1], '.30f')}\")"
   ]
  },
  {
   "cell_type": "code",
   "execution_count": 38,
   "metadata": {},
   "outputs": [],
   "source": [
    "# def doSpearmanCorrelationTest(data1, data2):\n",
    "#     try:\n",
    "#         result = stats.spearmanr(data1, data2)\n",
    "#     except:\n",
    "#         return None\n",
    "#     return result"
   ]
  },
  {
   "cell_type": "code",
   "execution_count": 39,
   "metadata": {},
   "outputs": [],
   "source": [
    "# def doPearsonCorrelationTest(data1, data2):\n",
    "#     try:\n",
    "#         result = stats.pearsonr(data1, data2)\n",
    "#     except:\n",
    "#         return None\n",
    "#     return result"
   ]
  },
  {
   "cell_type": "code",
   "execution_count": 40,
   "metadata": {},
   "outputs": [],
   "source": [
    "# def collectCorrelationTestAllMetric(data, shapiroWilkTestResult):\n",
    "#     results = pd.DataFrame(index=data.columns, columns=[\"correlation\", \"pvalue\"])\n",
    "#     for metric in data.columns:\n",
    "#         # if shapiroWilkTestResult < 0.05 has no normal distribution then perform spearman test\n",
    "#         if (shapiroWilkTestResult[metric] < 0.05).bool():\n",
    "#             result = doSpearmanCorrelationTest(data[metric], data[\"questions\"])\n",
    "#             results.loc()[metric, \"correlation\"] = result.correlation\n",
    "#             results.loc()[metric, \"pvalue\"] = format(result.pvalue, '.20f')\n",
    "#         else:\n",
    "#             result = doPearsonCorrelationTest(data[metric], data[\"questions\"])\n",
    "#             results.loc()[metric, \"correlation\"] = result[0]\n",
    "#             results.loc()[metric, \"pvalue\"] = format(result[1], '.20f')\n",
    "#     return results"
   ]
  },
  {
   "cell_type": "code",
   "execution_count": 41,
   "metadata": {},
   "outputs": [],
   "source": [
    "# results = collectCorrelationTestAllMetric(allMetricsAndQuestions, shapiroWilkTestResult)"
   ]
  },
  {
   "cell_type": "code",
   "execution_count": 42,
   "metadata": {},
   "outputs": [],
   "source": [
    "# results.to_csv(\"correlationTestResult.csv\",  float_format=\"%.15f\")"
   ]
  }
 ],
 "metadata": {
  "kernelspec": {
   "display_name": "Python 3",
   "language": "python",
   "name": "python3"
  },
  "language_info": {
   "codemirror_mode": {
    "name": "ipython",
    "version": 3
   },
   "file_extension": ".py",
   "mimetype": "text/x-python",
   "name": "python",
   "nbconvert_exporter": "python",
   "pygments_lexer": "ipython3",
   "version": "3.8.3"
  }
 },
 "nbformat": 4,
 "nbformat_minor": 4
}
