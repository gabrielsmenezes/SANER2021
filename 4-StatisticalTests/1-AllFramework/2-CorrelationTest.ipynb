{
 "cells": [
  {
   "cell_type": "code",
   "execution_count": 120,
   "metadata": {},
   "outputs": [],
   "source": [
    "import pandas as pd"
   ]
  },
  {
   "cell_type": "code",
   "execution_count": 121,
   "metadata": {},
   "outputs": [],
   "source": [
    "allMetricsAndQuestions = pd.read_csv(\"..\\\\..\\\\3-DataMerge\\\\metricsAndQuestions.csv\", index_col=[0,1])"
   ]
  },
  {
   "cell_type": "markdown",
   "metadata": {},
   "source": [
    "## Normality Test (Shapiro-Wilk)"
   ]
  },
  {
   "cell_type": "markdown",
   "metadata": {},
   "source": [
    "Null Hyphotesis: The population has normal distribution\n",
    "\n",
    "Alternative Hyphotesis: The population has not normal distribution"
   ]
  },
  {
   "cell_type": "markdown",
   "metadata": {},
   "source": [
    "If p-value < 0.05 then null hyphotesis is rejected"
   ]
  },
  {
   "cell_type": "code",
   "execution_count": 122,
   "metadata": {},
   "outputs": [],
   "source": [
    "from scipy import stats"
   ]
  },
  {
   "cell_type": "markdown",
   "metadata": {},
   "source": [
    "### Teste de normalidade (Shapiro-Wilk) para número de arquivos Java"
   ]
  },
  {
   "cell_type": "code",
   "execution_count": 123,
   "metadata": {
    "scrolled": false
   },
   "outputs": [
    {
     "name": "stdout",
     "output_type": "stream",
     "text": [
      "P-value: 0.00000003\n"
     ]
    }
   ],
   "source": [
    "result = stats.shapiro(allMetricsAndQuestions[\"numberJavaFiles\"])\n",
    "print(f\"P-value: {format(result.pvalue, '.8f')}\")"
   ]
  },
  {
   "cell_type": "markdown",
   "metadata": {},
   "source": [
    "### Teste de normalidade (Shapiro-Wilk) para número linhas de código por arquivo Java"
   ]
  },
  {
   "cell_type": "code",
   "execution_count": 124,
   "metadata": {
    "scrolled": false
   },
   "outputs": [
    {
     "name": "stdout",
     "output_type": "stream",
     "text": [
      "P-value: 0.00000004\n"
     ]
    }
   ],
   "source": [
    "result = stats.shapiro(allMetricsAndQuestions[\"CountLineCode\"]/allMetricsAndQuestions[\"numberJavaFiles\"])\n",
    "print(f\"P-value: {format(result.pvalue, '.8f')}\")"
   ]
  },
  {
   "cell_type": "markdown",
   "metadata": {},
   "source": [
    "### Teste de normalidade (Shapiro-Wilk) para complexidade por método"
   ]
  },
  {
   "cell_type": "code",
   "execution_count": 125,
   "metadata": {
    "scrolled": true
   },
   "outputs": [
    {
     "name": "stdout",
     "output_type": "stream",
     "text": [
      "P-value: 0.00000005\n"
     ]
    }
   ],
   "source": [
    "result = stats.shapiro(allMetricsAndQuestions[\"SumCyclomaticStrict\"]/allMetricsAndQuestions[\"numberJavaFiles\"])\n",
    "print(f\"P-value: {format(result.pvalue, '.8f')}\")"
   ]
  },
  {
   "cell_type": "markdown",
   "metadata": {},
   "source": [
    "### Teste de normalidade (Shapiro-Wilk) para readability por arquivo Java"
   ]
  },
  {
   "cell_type": "code",
   "execution_count": 126,
   "metadata": {
    "scrolled": true
   },
   "outputs": [
    {
     "name": "stdout",
     "output_type": "stream",
     "text": [
      "P-value: 0.08588956\n"
     ]
    }
   ],
   "source": [
    "result = stats.shapiro(allMetricsAndQuestions[\"readability\"])\n",
    "print(f\"P-value: {format(result.pvalue, '.8f')}\")"
   ]
  },
  {
   "cell_type": "markdown",
   "metadata": {},
   "source": [
    "### Teste de normalidade (Shapiro-Wilk) para número de perguntas no SO"
   ]
  },
  {
   "cell_type": "code",
   "execution_count": 127,
   "metadata": {
    "scrolled": false
   },
   "outputs": [
    {
     "name": "stdout",
     "output_type": "stream",
     "text": [
      "P-value: 0.00065156\n"
     ]
    }
   ],
   "source": [
    "result = stats.shapiro(allMetricsAndQuestions[\"questions\"])\n",
    "print(f\"P-value: {format(result.pvalue, '.8f')}\")"
   ]
  },
  {
   "cell_type": "code",
   "execution_count": 128,
   "metadata": {},
   "outputs": [],
   "source": [
    "def doShapiroWilkTest(data):\n",
    "    try:\n",
    "        result = stats.shapiro(data)\n",
    "        print(result)\n",
    "    except:\n",
    "        return None\n",
    "    return result"
   ]
  },
  {
   "cell_type": "code",
   "execution_count": 129,
   "metadata": {},
   "outputs": [],
   "source": [
    "def collectForAllMetric(data):\n",
    "    results = pd.DataFrame(columns=data.columns, index=[\"p-value\"])\n",
    "    for metric in data.columns:\n",
    "        results[metric] = doShapiroWilkTest(data[metric]).pvalue\n",
    "    return results"
   ]
  },
  {
   "cell_type": "code",
   "execution_count": 130,
   "metadata": {
    "scrolled": true
   },
   "outputs": [
    {
     "name": "stdout",
     "output_type": "stream",
     "text": [
      "ShapiroResult(statistic=0.8483318090438843, pvalue=3.6970416061876676e-08)\n",
      "ShapiroResult(statistic=0.847240149974823, pvalue=3.385576974324067e-08)\n",
      "ShapiroResult(statistic=0.8485153317451477, pvalue=3.752288435521223e-08)\n",
      "ShapiroResult(statistic=0.8350939750671387, pvalue=1.3041470126040622e-08)\n",
      "ShapiroResult(statistic=0.8558728694915771, pvalue=6.864380708293538e-08)\n",
      "ShapiroResult(statistic=0.6761287450790405, pvalue=8.657849827689579e-13)\n",
      "ShapiroResult(statistic=0.8536858558654785, pvalue=5.7252304230814843e-08)\n",
      "ShapiroResult(statistic=0.8702070713043213, pvalue=2.3545734961771814e-07)\n",
      "ShapiroResult(statistic=0.8470012545585632, pvalue=3.321166630598782e-08)\n",
      "ShapiroResult(statistic=0.8243333697319031, pvalue=5.806938929708849e-09)\n",
      "ShapiroResult(statistic=0.8083282709121704, pvalue=1.8439879623244337e-09)\n",
      "ShapiroResult(statistic=0.30626749992370605, pvalue=1.2226191640701013e-18)\n",
      "ShapiroResult(statistic=1.0, pvalue=1.0)\n",
      "ShapiroResult(statistic=0.8512204885482788, pvalue=4.6753619642458943e-08)\n",
      "ShapiroResult(statistic=0.8198598027229309, pvalue=4.186722968313461e-09)\n",
      "ShapiroResult(statistic=1.0, pvalue=1.0)\n",
      "ShapiroResult(statistic=1.0, pvalue=1.0)\n",
      "ShapiroResult(statistic=1.0, pvalue=1.0)\n",
      "ShapiroResult(statistic=0.8290875554084778, pvalue=8.269301687846564e-09)\n",
      "ShapiroResult(statistic=0.8250511288642883, pvalue=6.122862217239344e-09)\n",
      "ShapiroResult(statistic=0.8367408514022827, pvalue=1.480341182968914e-08)\n",
      "ShapiroResult(statistic=0.8374056816101074, pvalue=1.55839696702742e-08)\n",
      "ShapiroResult(statistic=0.2784905433654785, pvalue=5.662730615003534e-19)\n",
      "ShapiroResult(statistic=0.827302873134613, pvalue=7.236422128187314e-09)\n",
      "ShapiroResult(statistic=0.8201489448547363, pvalue=4.275527043517968e-09)\n",
      "ShapiroResult(statistic=0.8435769081115723, pvalue=2.5269208947520383e-08)\n",
      "ShapiroResult(statistic=1.0, pvalue=1.0)\n",
      "ShapiroResult(statistic=0.8536641597747803, pvalue=5.714978001947202e-08)\n",
      "ShapiroResult(statistic=0.8542340993881226, pvalue=5.990761309249137e-08)\n",
      "ShapiroResult(statistic=0.8514602780342102, pvalue=4.7679456827154354e-08)\n",
      "ShapiroResult(statistic=0.8364289999008179, pvalue=1.4451469354526125e-08)\n",
      "ShapiroResult(statistic=0.8555855751037598, pvalue=6.702045141082635e-08)\n",
      "ShapiroResult(statistic=0.7597749829292297, pvalue=7.995615974865089e-11)\n",
      "ShapiroResult(statistic=1.0, pvalue=1.0)\n",
      "ShapiroResult(statistic=1.0, pvalue=1.0)\n",
      "ShapiroResult(statistic=1.0, pvalue=1.0)\n",
      "ShapiroResult(statistic=0.8460477590560913, pvalue=3.0766358349865186e-08)\n",
      "ShapiroResult(statistic=0.8485916256904602, pvalue=3.7755096826685985e-08)\n",
      "ShapiroResult(statistic=0.8349183797836304, pvalue=1.2866988363668952e-08)\n",
      "ShapiroResult(statistic=0.848466694355011, pvalue=3.737570608564056e-08)\n",
      "ShapiroResult(statistic=1.0, pvalue=1.0)\n",
      "ShapiroResult(statistic=1.0, pvalue=1.0)\n",
      "ShapiroResult(statistic=1.0, pvalue=1.0)\n",
      "ShapiroResult(statistic=1.0, pvalue=1.0)\n",
      "ShapiroResult(statistic=1.0, pvalue=1.0)\n",
      "ShapiroResult(statistic=0.837070107460022, pvalue=1.5184733470618994e-08)\n",
      "ShapiroResult(statistic=0.8439637422561646, pvalue=2.605673898870009e-08)\n",
      "ShapiroResult(statistic=0.8384469151496887, pvalue=1.689446449404386e-08)\n",
      "ShapiroResult(statistic=0.792171061038971, pvalue=6.15667072878523e-10)\n",
      "ShapiroResult(statistic=1.0, pvalue=1.0)\n",
      "ShapiroResult(statistic=0.8351263999938965, pvalue=1.3073894855608614e-08)\n",
      "ShapiroResult(statistic=0.8496536612510681, pvalue=4.114918539244172e-08)\n",
      "ShapiroResult(statistic=1.0, pvalue=1.0)\n",
      "ShapiroResult(statistic=0.8491593599319458, pvalue=3.953126537226126e-08)\n",
      "ShapiroResult(statistic=0.8501150608062744, pvalue=4.272217069001272e-08)\n",
      "ShapiroResult(statistic=0.8407362103462219, pvalue=2.019945455344896e-08)\n",
      "ShapiroResult(statistic=0.841032087802887, pvalue=2.0673677880722607e-08)\n",
      "ShapiroResult(statistic=0.8429441452026367, pvalue=2.4034505941017414e-08)\n",
      "ShapiroResult(statistic=0.8411582112312317, pvalue=2.0879376450011478e-08)\n",
      "ShapiroResult(statistic=0.8224877119064331, pvalue=5.070575070931227e-09)\n",
      "ShapiroResult(statistic=0.8440560698509216, pvalue=2.6248502038583865e-08)\n",
      "ShapiroResult(statistic=0.9754340648651123, pvalue=0.08588956296443939)\n",
      "ShapiroResult(statistic=0.9431959986686707, pvalue=0.0006515606073662639)\n"
     ]
    },
    {
     "name": "stderr",
     "output_type": "stream",
     "text": [
      "C:\\Users\\dudur\\anaconda3\\lib\\site-packages\\scipy\\stats\\morestats.py:1678: UserWarning: Input data for shapiro has range zero. The results may not be accurate.\n",
      "  warnings.warn(\"Input data for shapiro has range zero. The results \"\n"
     ]
    }
   ],
   "source": [
    "shapiroWilkTestResult = collectForAllMetric(allMetricsAndQuestions)"
   ]
  },
  {
   "cell_type": "code",
   "execution_count": 131,
   "metadata": {
    "scrolled": true
   },
   "outputs": [
    {
     "data": {
      "text/html": [
       "<div>\n",
       "<style scoped>\n",
       "    .dataframe tbody tr th:only-of-type {\n",
       "        vertical-align: middle;\n",
       "    }\n",
       "\n",
       "    .dataframe tbody tr th {\n",
       "        vertical-align: top;\n",
       "    }\n",
       "\n",
       "    .dataframe thead th {\n",
       "        text-align: right;\n",
       "    }\n",
       "</style>\n",
       "<table border=\"1\" class=\"dataframe\">\n",
       "  <thead>\n",
       "    <tr style=\"text-align: right;\">\n",
       "      <th></th>\n",
       "      <th>AvgCyclomatic</th>\n",
       "      <th>AvgCyclomaticModified</th>\n",
       "      <th>AvgCyclomaticStrict</th>\n",
       "      <th>AvgEssential</th>\n",
       "      <th>AvgLine</th>\n",
       "      <th>AvgLineBlank</th>\n",
       "      <th>AvgLineCode</th>\n",
       "      <th>AvgLineComment</th>\n",
       "      <th>CountClassBase</th>\n",
       "      <th>CountClassCoupled</th>\n",
       "      <th>...</th>\n",
       "      <th>PercentLackOfCohesion</th>\n",
       "      <th>PercentLackOfCohesionModified</th>\n",
       "      <th>RatioCommentToCode</th>\n",
       "      <th>SumCyclomatic</th>\n",
       "      <th>SumCyclomaticModified</th>\n",
       "      <th>SumCyclomaticStrict</th>\n",
       "      <th>SumEssential</th>\n",
       "      <th>numberJavaFiles</th>\n",
       "      <th>readability</th>\n",
       "      <th>questions</th>\n",
       "    </tr>\n",
       "  </thead>\n",
       "  <tbody>\n",
       "    <tr>\n",
       "      <th>p-value</th>\n",
       "      <td>3.697042e-08</td>\n",
       "      <td>3.385577e-08</td>\n",
       "      <td>3.752288e-08</td>\n",
       "      <td>1.304147e-08</td>\n",
       "      <td>6.864381e-08</td>\n",
       "      <td>8.657850e-13</td>\n",
       "      <td>5.725230e-08</td>\n",
       "      <td>2.354573e-07</td>\n",
       "      <td>3.321167e-08</td>\n",
       "      <td>5.806939e-09</td>\n",
       "      <td>...</td>\n",
       "      <td>3.953127e-08</td>\n",
       "      <td>4.272217e-08</td>\n",
       "      <td>2.019945e-08</td>\n",
       "      <td>2.067368e-08</td>\n",
       "      <td>2.403451e-08</td>\n",
       "      <td>2.087938e-08</td>\n",
       "      <td>5.070575e-09</td>\n",
       "      <td>2.624850e-08</td>\n",
       "      <td>0.08589</td>\n",
       "      <td>0.000652</td>\n",
       "    </tr>\n",
       "  </tbody>\n",
       "</table>\n",
       "<p>1 rows × 63 columns</p>\n",
       "</div>"
      ],
      "text/plain": [
       "         AvgCyclomatic  AvgCyclomaticModified  AvgCyclomaticStrict  \\\n",
       "p-value   3.697042e-08           3.385577e-08         3.752288e-08   \n",
       "\n",
       "         AvgEssential       AvgLine  AvgLineBlank   AvgLineCode  \\\n",
       "p-value  1.304147e-08  6.864381e-08  8.657850e-13  5.725230e-08   \n",
       "\n",
       "         AvgLineComment  CountClassBase  CountClassCoupled  ...  \\\n",
       "p-value    2.354573e-07    3.321167e-08       5.806939e-09  ...   \n",
       "\n",
       "         PercentLackOfCohesion  PercentLackOfCohesionModified  \\\n",
       "p-value           3.953127e-08                   4.272217e-08   \n",
       "\n",
       "         RatioCommentToCode  SumCyclomatic  SumCyclomaticModified  \\\n",
       "p-value        2.019945e-08   2.067368e-08           2.403451e-08   \n",
       "\n",
       "         SumCyclomaticStrict  SumEssential  numberJavaFiles  readability  \\\n",
       "p-value         2.087938e-08  5.070575e-09     2.624850e-08      0.08589   \n",
       "\n",
       "         questions  \n",
       "p-value   0.000652  \n",
       "\n",
       "[1 rows x 63 columns]"
      ]
     },
     "execution_count": 131,
     "metadata": {},
     "output_type": "execute_result"
    }
   ],
   "source": [
    "shapiroWilkTestResult"
   ]
  },
  {
   "cell_type": "markdown",
   "metadata": {},
   "source": [
    "## Correlation Test"
   ]
  },
  {
   "cell_type": "markdown",
   "metadata": {},
   "source": [
    "Null Hypothesis: there is no correlation between data\n",
    "\n",
    "Alternative Hypothesis: there is a correlation"
   ]
  },
  {
   "cell_type": "markdown",
   "metadata": {},
   "source": [
    "If p-value < 0.05 then null Hypothesis is rejected."
   ]
  },
  {
   "cell_type": "markdown",
   "metadata": {},
   "source": [
    "If the metric is normalized we will apply the Pearson Test, otherwise we will apply Spearman Test"
   ]
  },
  {
   "cell_type": "code",
   "execution_count": 141,
   "metadata": {},
   "outputs": [],
   "source": [
    "from scipy import stats"
   ]
  },
  {
   "cell_type": "markdown",
   "metadata": {},
   "source": [
    "### Correlation Test for SO questions and Java files"
   ]
  },
  {
   "cell_type": "code",
   "execution_count": 142,
   "metadata": {},
   "outputs": [
    {
     "name": "stdout",
     "output_type": "stream",
     "text": [
      "Correlation value: 0.4969090308743256. P-value: 0.000000630334\n"
     ]
    }
   ],
   "source": [
    "result = stats.spearmanr(allMetricsAndQuestions[\"questions\"], allMetricsAndQuestions[\"numberJavaFiles\"])\n",
    "print(f\"Correlation value: {result.correlation}. P-value: {format(result.pvalue, '.12f')}\")"
   ]
  },
  {
   "cell_type": "markdown",
   "metadata": {},
   "source": [
    "### Teste de correlação (Spearman) para questões do SO e número linhas de código por arquivo Java"
   ]
  },
  {
   "cell_type": "code",
   "execution_count": 143,
   "metadata": {},
   "outputs": [
    {
     "name": "stdout",
     "output_type": "stream",
     "text": [
      "Correlation value: 0.6052291648733595. P-value: 0.000000000264\n"
     ]
    }
   ],
   "source": [
    "result = stats.spearmanr(allMetricsAndQuestions[\"questions\"], allMetricsAndQuestions[\"CountLineCode\"]/allMetricsAndQuestions[\"numberJavaFiles\"])\n",
    "print(f\"Correlation value: {result.correlation}. P-value: {format(result.pvalue, '.12f')}\")"
   ]
  },
  {
   "cell_type": "markdown",
   "metadata": {},
   "source": [
    "### Teste de correlação (Spearman) para questões do SO e complexidade por método"
   ]
  },
  {
   "cell_type": "code",
   "execution_count": 144,
   "metadata": {},
   "outputs": [
    {
     "name": "stdout",
     "output_type": "stream",
     "text": [
      "Correlation value: 0.546423508749217. P-value: 0.000000025312\n"
     ]
    }
   ],
   "source": [
    "result = stats.spearmanr(allMetricsAndQuestions[\"questions\"], allMetricsAndQuestions[\"SumCyclomaticStrict\"]/allMetricsAndQuestions[\"CountDeclMethod\"])\n",
    "print(f\"Correlation value: {result.correlation}. P-value: {format(result.pvalue, '.12f')}\")"
   ]
  },
  {
   "cell_type": "markdown",
   "metadata": {},
   "source": [
    "### Teste de correlação (Spearman) para questões do SO e readability por arquivo Java"
   ]
  },
  {
   "cell_type": "code",
   "execution_count": 147,
   "metadata": {
    "scrolled": true
   },
   "outputs": [
    {
     "name": "stdout",
     "output_type": "stream",
     "text": [
      "(-0.4912687209565791, 8.811405465477696e-07)\n",
      "Correlation value: -0.4912687209565791. P-value: 0.000000881141\n"
     ]
    }
   ],
   "source": [
    "result = stats.pearsonr(allMetricsAndQuestions[\"questions\"], allMetricsAndQuestions[\"readability\"])\n",
    "print(f\"Correlation value: {result[0]}. P-value: {format(result[1], '.12f')}\")"
   ]
  },
  {
   "cell_type": "code",
   "execution_count": 137,
   "metadata": {},
   "outputs": [],
   "source": [
    "def doSpearmanCorrelationTest(data1, data2):\n",
    "    try:\n",
    "        result = stats.spearmanr(data1, data2)\n",
    "    except:\n",
    "        return None\n",
    "    return result"
   ]
  },
  {
   "cell_type": "code",
   "execution_count": 138,
   "metadata": {},
   "outputs": [],
   "source": [
    "def doPearsonCorrelationTest(data1, data2):\n",
    "    try:\n",
    "        result = stats.pearsonr(data1, data2)\n",
    "    except:\n",
    "        return None\n",
    "    return result"
   ]
  },
  {
   "cell_type": "code",
   "execution_count": 156,
   "metadata": {},
   "outputs": [],
   "source": [
    "def collectCorrelationTestAllMetric(data, shapiroWilkTestResult):\n",
    "    results = pd.DataFrame(index=data.columns, columns=[\"correlation\", \"pvalue\"])\n",
    "    for metric in data.columns:\n",
    "        # if shapiroWilkTestResult < 0.05 has no normal distribution then perform spearman test\n",
    "        if (shapiroWilkTestResult[metric] < 0.05).bool():\n",
    "            result = doSpearmanCorrelationTest(data[metric], data[\"questions\"])\n",
    "            results.loc()[metric, \"correlation\"] = result.correlation\n",
    "            results.loc()[metric, \"pvalue\"] = format(result.pvalue, '.20f')\n",
    "        else:\n",
    "            result = doPearsonCorrelationTest(data[metric], data[\"questions\"])\n",
    "            results.loc()[metric, \"correlation\"] = result[0]\n",
    "            results.loc()[metric, \"pvalue\"] = format(result[1], '.20f')\n",
    "    return results"
   ]
  },
  {
   "cell_type": "code",
   "execution_count": 158,
   "metadata": {},
   "outputs": [],
   "source": [
    "results = collectCorrelationTestAllMetric(allMetricsAndQuestions, shapiroWilkTestResult)"
   ]
  },
  {
   "cell_type": "code",
   "execution_count": 159,
   "metadata": {},
   "outputs": [],
   "source": [
    "results.to_csv(\"correlationTestResult.csv\",  float_format=\"%.15f\")"
   ]
  }
 ],
 "metadata": {
  "kernelspec": {
   "display_name": "Python 3",
   "language": "python",
   "name": "python3"
  },
  "language_info": {
   "codemirror_mode": {
    "name": "ipython",
    "version": 3
   },
   "file_extension": ".py",
   "mimetype": "text/x-python",
   "name": "python",
   "nbconvert_exporter": "python",
   "pygments_lexer": "ipython3",
   "version": "3.8.3"
  }
 },
 "nbformat": 4,
 "nbformat_minor": 4
}
