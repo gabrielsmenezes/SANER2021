{
 "cells": [
  {
   "cell_type": "markdown",
   "metadata": {},
   "source": [
    "# Loading metrics"
   ]
  },
  {
   "cell_type": "code",
   "execution_count": 58,
   "metadata": {},
   "outputs": [],
   "source": [
    "import pandas as pd"
   ]
  },
  {
   "cell_type": "code",
   "execution_count": 59,
   "metadata": {},
   "outputs": [],
   "source": [
    "allMetricsAndQuestions = pd.read_csv(\"..\\\\..\\\\3-DataMerge\\\\1-AllFramework\\\\metricsAndQuestions.csv\", index_col=[0,1])"
   ]
  },
  {
   "cell_type": "markdown",
   "metadata": {},
   "source": [
    "## Mann Kendall Test"
   ]
  },
  {
   "cell_type": "markdown",
   "metadata": {},
   "source": [
    "Null Hypothesis: There is no monotonic trend.\n",
    "\n",
    "Alternative Hypothesis: There is a trend."
   ]
  },
  {
   "cell_type": "markdown",
   "metadata": {},
   "source": [
    "If p-value < 0.05 then null Hypothesis is rejected."
   ]
  },
  {
   "cell_type": "code",
   "execution_count": 60,
   "metadata": {
    "scrolled": true
   },
   "outputs": [
    {
     "name": "stdout",
     "output_type": "stream",
     "text": [
      "Requirement already satisfied: pymannkendall in c:\\users\\dudur\\anaconda3\\lib\\site-packages (1.4.1)\n",
      "Requirement already satisfied: numpy in c:\\users\\dudur\\anaconda3\\lib\\site-packages (from pymannkendall) (1.18.5)\n",
      "Requirement already satisfied: scipy in c:\\users\\dudur\\anaconda3\\lib\\site-packages (from pymannkendall) (1.5.0)\n",
      "Note: you may need to restart the kernel to use updated packages.\n"
     ]
    }
   ],
   "source": [
    "pip install pymannkendall"
   ]
  },
  {
   "cell_type": "code",
   "execution_count": 61,
   "metadata": {},
   "outputs": [],
   "source": [
    "import pymannkendall as mk"
   ]
  },
  {
   "cell_type": "code",
   "execution_count": 62,
   "metadata": {},
   "outputs": [],
   "source": [
    "AllMetricsAndQuestionsNormalized=(allMetricsAndQuestions-allMetricsAndQuestions.min())/(allMetricsAndQuestions.max()-allMetricsAndQuestions.min())"
   ]
  },
  {
   "cell_type": "code",
   "execution_count": 63,
   "metadata": {},
   "outputs": [],
   "source": [
    "allMetricsAndQuestions = AllMetricsAndQuestionsNormalized"
   ]
  },
  {
   "cell_type": "code",
   "execution_count": 79,
   "metadata": {},
   "outputs": [
    {
     "data": {
      "text/html": [
       "<div>\n",
       "<style scoped>\n",
       "    .dataframe tbody tr th:only-of-type {\n",
       "        vertical-align: middle;\n",
       "    }\n",
       "\n",
       "    .dataframe tbody tr th {\n",
       "        vertical-align: top;\n",
       "    }\n",
       "\n",
       "    .dataframe thead th {\n",
       "        text-align: right;\n",
       "    }\n",
       "</style>\n",
       "<table border=\"1\" class=\"dataframe\">\n",
       "  <thead>\n",
       "    <tr style=\"text-align: right;\">\n",
       "      <th></th>\n",
       "      <th></th>\n",
       "      <th>AvgCyclomatic</th>\n",
       "      <th>AvgCyclomaticModified</th>\n",
       "      <th>AvgCyclomaticStrict</th>\n",
       "      <th>AvgEssential</th>\n",
       "      <th>AvgLine</th>\n",
       "      <th>AvgLineBlank</th>\n",
       "      <th>AvgLineCode</th>\n",
       "      <th>AvgLineComment</th>\n",
       "      <th>CountClassBase</th>\n",
       "      <th>CountClassCoupled</th>\n",
       "      <th>...</th>\n",
       "      <th>PercentLackOfCohesion</th>\n",
       "      <th>PercentLackOfCohesionModified</th>\n",
       "      <th>RatioCommentToCode</th>\n",
       "      <th>SumCyclomatic</th>\n",
       "      <th>SumCyclomaticModified</th>\n",
       "      <th>SumCyclomaticStrict</th>\n",
       "      <th>SumEssential</th>\n",
       "      <th>numberJavaFiles</th>\n",
       "      <th>readability</th>\n",
       "      <th>questions</th>\n",
       "    </tr>\n",
       "  </thead>\n",
       "  <tbody>\n",
       "    <tr>\n",
       "      <th rowspan=\"5\" valign=\"top\">2013</th>\n",
       "      <th>4</th>\n",
       "      <td>0.085364</td>\n",
       "      <td>0.091769</td>\n",
       "      <td>0.073481</td>\n",
       "      <td>0.000000</td>\n",
       "      <td>0.054796</td>\n",
       "      <td>0.127703</td>\n",
       "      <td>0.055287</td>\n",
       "      <td>0.040532</td>\n",
       "      <td>0.000000</td>\n",
       "      <td>0.042588</td>\n",
       "      <td>...</td>\n",
       "      <td>0.000000</td>\n",
       "      <td>0.000000</td>\n",
       "      <td>0.031214</td>\n",
       "      <td>0.000000</td>\n",
       "      <td>0.000000</td>\n",
       "      <td>0.000000</td>\n",
       "      <td>0.000000</td>\n",
       "      <td>0.035814</td>\n",
       "      <td>0.715776</td>\n",
       "      <td>0.000000</td>\n",
       "    </tr>\n",
       "    <tr>\n",
       "      <th>5</th>\n",
       "      <td>0.164188</td>\n",
       "      <td>0.176508</td>\n",
       "      <td>0.148236</td>\n",
       "      <td>0.354717</td>\n",
       "      <td>0.289170</td>\n",
       "      <td>0.387866</td>\n",
       "      <td>0.340693</td>\n",
       "      <td>0.111701</td>\n",
       "      <td>0.088495</td>\n",
       "      <td>0.061560</td>\n",
       "      <td>...</td>\n",
       "      <td>0.095110</td>\n",
       "      <td>0.106367</td>\n",
       "      <td>0.051142</td>\n",
       "      <td>0.004528</td>\n",
       "      <td>0.004574</td>\n",
       "      <td>0.004217</td>\n",
       "      <td>0.013059</td>\n",
       "      <td>0.010902</td>\n",
       "      <td>0.534415</td>\n",
       "      <td>0.000000</td>\n",
       "    </tr>\n",
       "    <tr>\n",
       "      <th>6</th>\n",
       "      <td>0.123959</td>\n",
       "      <td>0.133260</td>\n",
       "      <td>0.110084</td>\n",
       "      <td>0.588822</td>\n",
       "      <td>0.137136</td>\n",
       "      <td>0.223244</td>\n",
       "      <td>0.165532</td>\n",
       "      <td>0.046240</td>\n",
       "      <td>0.098451</td>\n",
       "      <td>0.037462</td>\n",
       "      <td>...</td>\n",
       "      <td>0.201580</td>\n",
       "      <td>0.225439</td>\n",
       "      <td>0.025763</td>\n",
       "      <td>0.012414</td>\n",
       "      <td>0.012541</td>\n",
       "      <td>0.011561</td>\n",
       "      <td>0.041539</td>\n",
       "      <td>0.000615</td>\n",
       "      <td>0.589844</td>\n",
       "      <td>0.000000</td>\n",
       "    </tr>\n",
       "    <tr>\n",
       "      <th>7</th>\n",
       "      <td>0.026357</td>\n",
       "      <td>0.028334</td>\n",
       "      <td>0.035934</td>\n",
       "      <td>0.582312</td>\n",
       "      <td>0.087254</td>\n",
       "      <td>0.086592</td>\n",
       "      <td>0.114968</td>\n",
       "      <td>0.020116</td>\n",
       "      <td>0.077682</td>\n",
       "      <td>0.122383</td>\n",
       "      <td>...</td>\n",
       "      <td>0.386293</td>\n",
       "      <td>0.432016</td>\n",
       "      <td>0.012528</td>\n",
       "      <td>0.021037</td>\n",
       "      <td>0.021251</td>\n",
       "      <td>0.020162</td>\n",
       "      <td>0.064258</td>\n",
       "      <td>0.000000</td>\n",
       "      <td>0.598341</td>\n",
       "      <td>0.000000</td>\n",
       "    </tr>\n",
       "    <tr>\n",
       "      <th>8</th>\n",
       "      <td>0.030238</td>\n",
       "      <td>0.032507</td>\n",
       "      <td>0.052053</td>\n",
       "      <td>0.582705</td>\n",
       "      <td>0.080075</td>\n",
       "      <td>0.091898</td>\n",
       "      <td>0.105070</td>\n",
       "      <td>0.020072</td>\n",
       "      <td>0.074545</td>\n",
       "      <td>0.090997</td>\n",
       "      <td>...</td>\n",
       "      <td>0.379444</td>\n",
       "      <td>0.423932</td>\n",
       "      <td>0.009282</td>\n",
       "      <td>0.017676</td>\n",
       "      <td>0.017856</td>\n",
       "      <td>0.017417</td>\n",
       "      <td>0.055209</td>\n",
       "      <td>0.004088</td>\n",
       "      <td>0.739279</td>\n",
       "      <td>0.000000</td>\n",
       "    </tr>\n",
       "    <tr>\n",
       "      <th>...</th>\n",
       "      <th>...</th>\n",
       "      <td>...</td>\n",
       "      <td>...</td>\n",
       "      <td>...</td>\n",
       "      <td>...</td>\n",
       "      <td>...</td>\n",
       "      <td>...</td>\n",
       "      <td>...</td>\n",
       "      <td>...</td>\n",
       "      <td>...</td>\n",
       "      <td>...</td>\n",
       "      <td>...</td>\n",
       "      <td>...</td>\n",
       "      <td>...</td>\n",
       "      <td>...</td>\n",
       "      <td>...</td>\n",
       "      <td>...</td>\n",
       "      <td>...</td>\n",
       "      <td>...</td>\n",
       "      <td>...</td>\n",
       "      <td>...</td>\n",
       "      <td>...</td>\n",
       "    </tr>\n",
       "    <tr>\n",
       "      <th rowspan=\"5\" valign=\"top\">2020</th>\n",
       "      <th>5</th>\n",
       "      <td>0.385981</td>\n",
       "      <td>0.375307</td>\n",
       "      <td>0.417485</td>\n",
       "      <td>0.731306</td>\n",
       "      <td>0.354896</td>\n",
       "      <td>0.187146</td>\n",
       "      <td>0.388905</td>\n",
       "      <td>0.334565</td>\n",
       "      <td>0.473594</td>\n",
       "      <td>0.473855</td>\n",
       "      <td>...</td>\n",
       "      <td>0.573608</td>\n",
       "      <td>0.580009</td>\n",
       "      <td>0.322250</td>\n",
       "      <td>0.127473</td>\n",
       "      <td>0.119344</td>\n",
       "      <td>0.128805</td>\n",
       "      <td>0.278670</td>\n",
       "      <td>0.627559</td>\n",
       "      <td>0.428171</td>\n",
       "      <td>0.210526</td>\n",
       "    </tr>\n",
       "    <tr>\n",
       "      <th>6</th>\n",
       "      <td>0.569695</td>\n",
       "      <td>0.510417</td>\n",
       "      <td>0.640859</td>\n",
       "      <td>0.825163</td>\n",
       "      <td>0.491763</td>\n",
       "      <td>0.169283</td>\n",
       "      <td>0.526442</td>\n",
       "      <td>0.531053</td>\n",
       "      <td>0.683851</td>\n",
       "      <td>0.627239</td>\n",
       "      <td>...</td>\n",
       "      <td>0.848129</td>\n",
       "      <td>0.788415</td>\n",
       "      <td>0.428445</td>\n",
       "      <td>0.242752</td>\n",
       "      <td>0.217112</td>\n",
       "      <td>0.243814</td>\n",
       "      <td>0.462693</td>\n",
       "      <td>1.000000</td>\n",
       "      <td>0.039010</td>\n",
       "      <td>0.105263</td>\n",
       "    </tr>\n",
       "    <tr>\n",
       "      <th>7</th>\n",
       "      <td>0.229070</td>\n",
       "      <td>0.195980</td>\n",
       "      <td>0.278151</td>\n",
       "      <td>0.687806</td>\n",
       "      <td>0.290343</td>\n",
       "      <td>0.118944</td>\n",
       "      <td>0.299007</td>\n",
       "      <td>0.321248</td>\n",
       "      <td>0.487021</td>\n",
       "      <td>0.278475</td>\n",
       "      <td>...</td>\n",
       "      <td>0.680456</td>\n",
       "      <td>0.673394</td>\n",
       "      <td>0.380499</td>\n",
       "      <td>0.138130</td>\n",
       "      <td>0.127799</td>\n",
       "      <td>0.138366</td>\n",
       "      <td>0.299338</td>\n",
       "      <td>0.566898</td>\n",
       "      <td>0.352058</td>\n",
       "      <td>0.210526</td>\n",
       "    </tr>\n",
       "    <tr>\n",
       "      <th>8</th>\n",
       "      <td>0.159513</td>\n",
       "      <td>0.157962</td>\n",
       "      <td>0.176594</td>\n",
       "      <td>0.605854</td>\n",
       "      <td>0.212932</td>\n",
       "      <td>0.139903</td>\n",
       "      <td>0.230947</td>\n",
       "      <td>0.193293</td>\n",
       "      <td>0.286699</td>\n",
       "      <td>0.105949</td>\n",
       "      <td>...</td>\n",
       "      <td>0.472085</td>\n",
       "      <td>0.472492</td>\n",
       "      <td>0.203276</td>\n",
       "      <td>0.073185</td>\n",
       "      <td>0.070992</td>\n",
       "      <td>0.072143</td>\n",
       "      <td>0.168789</td>\n",
       "      <td>0.238181</td>\n",
       "      <td>0.580045</td>\n",
       "      <td>0.210526</td>\n",
       "    </tr>\n",
       "    <tr>\n",
       "      <th>9</th>\n",
       "      <td>0.809920</td>\n",
       "      <td>0.828081</td>\n",
       "      <td>0.964374</td>\n",
       "      <td>0.705412</td>\n",
       "      <td>0.949942</td>\n",
       "      <td>0.804363</td>\n",
       "      <td>0.993441</td>\n",
       "      <td>0.844980</td>\n",
       "      <td>0.303182</td>\n",
       "      <td>0.844076</td>\n",
       "      <td>...</td>\n",
       "      <td>0.824492</td>\n",
       "      <td>0.826960</td>\n",
       "      <td>0.353724</td>\n",
       "      <td>1.000000</td>\n",
       "      <td>1.000000</td>\n",
       "      <td>1.000000</td>\n",
       "      <td>1.000000</td>\n",
       "      <td>0.436378</td>\n",
       "      <td>0.223083</td>\n",
       "      <td>0.000000</td>\n",
       "    </tr>\n",
       "  </tbody>\n",
       "</table>\n",
       "<p>90 rows × 63 columns</p>\n",
       "</div>"
      ],
      "text/plain": [
       "        AvgCyclomatic  AvgCyclomaticModified  AvgCyclomaticStrict  \\\n",
       "2013 4       0.085364               0.091769             0.073481   \n",
       "     5       0.164188               0.176508             0.148236   \n",
       "     6       0.123959               0.133260             0.110084   \n",
       "     7       0.026357               0.028334             0.035934   \n",
       "     8       0.030238               0.032507             0.052053   \n",
       "...               ...                    ...                  ...   \n",
       "2020 5       0.385981               0.375307             0.417485   \n",
       "     6       0.569695               0.510417             0.640859   \n",
       "     7       0.229070               0.195980             0.278151   \n",
       "     8       0.159513               0.157962             0.176594   \n",
       "     9       0.809920               0.828081             0.964374   \n",
       "\n",
       "        AvgEssential   AvgLine  AvgLineBlank  AvgLineCode  AvgLineComment  \\\n",
       "2013 4      0.000000  0.054796      0.127703     0.055287        0.040532   \n",
       "     5      0.354717  0.289170      0.387866     0.340693        0.111701   \n",
       "     6      0.588822  0.137136      0.223244     0.165532        0.046240   \n",
       "     7      0.582312  0.087254      0.086592     0.114968        0.020116   \n",
       "     8      0.582705  0.080075      0.091898     0.105070        0.020072   \n",
       "...              ...       ...           ...          ...             ...   \n",
       "2020 5      0.731306  0.354896      0.187146     0.388905        0.334565   \n",
       "     6      0.825163  0.491763      0.169283     0.526442        0.531053   \n",
       "     7      0.687806  0.290343      0.118944     0.299007        0.321248   \n",
       "     8      0.605854  0.212932      0.139903     0.230947        0.193293   \n",
       "     9      0.705412  0.949942      0.804363     0.993441        0.844980   \n",
       "\n",
       "        CountClassBase  CountClassCoupled  ...  PercentLackOfCohesion  \\\n",
       "2013 4        0.000000           0.042588  ...               0.000000   \n",
       "     5        0.088495           0.061560  ...               0.095110   \n",
       "     6        0.098451           0.037462  ...               0.201580   \n",
       "     7        0.077682           0.122383  ...               0.386293   \n",
       "     8        0.074545           0.090997  ...               0.379444   \n",
       "...                ...                ...  ...                    ...   \n",
       "2020 5        0.473594           0.473855  ...               0.573608   \n",
       "     6        0.683851           0.627239  ...               0.848129   \n",
       "     7        0.487021           0.278475  ...               0.680456   \n",
       "     8        0.286699           0.105949  ...               0.472085   \n",
       "     9        0.303182           0.844076  ...               0.824492   \n",
       "\n",
       "        PercentLackOfCohesionModified  RatioCommentToCode  SumCyclomatic  \\\n",
       "2013 4                       0.000000            0.031214       0.000000   \n",
       "     5                       0.106367            0.051142       0.004528   \n",
       "     6                       0.225439            0.025763       0.012414   \n",
       "     7                       0.432016            0.012528       0.021037   \n",
       "     8                       0.423932            0.009282       0.017676   \n",
       "...                               ...                 ...            ...   \n",
       "2020 5                       0.580009            0.322250       0.127473   \n",
       "     6                       0.788415            0.428445       0.242752   \n",
       "     7                       0.673394            0.380499       0.138130   \n",
       "     8                       0.472492            0.203276       0.073185   \n",
       "     9                       0.826960            0.353724       1.000000   \n",
       "\n",
       "        SumCyclomaticModified  SumCyclomaticStrict  SumEssential  \\\n",
       "2013 4               0.000000             0.000000      0.000000   \n",
       "     5               0.004574             0.004217      0.013059   \n",
       "     6               0.012541             0.011561      0.041539   \n",
       "     7               0.021251             0.020162      0.064258   \n",
       "     8               0.017856             0.017417      0.055209   \n",
       "...                       ...                  ...           ...   \n",
       "2020 5               0.119344             0.128805      0.278670   \n",
       "     6               0.217112             0.243814      0.462693   \n",
       "     7               0.127799             0.138366      0.299338   \n",
       "     8               0.070992             0.072143      0.168789   \n",
       "     9               1.000000             1.000000      1.000000   \n",
       "\n",
       "        numberJavaFiles  readability  questions  \n",
       "2013 4         0.035814     0.715776   0.000000  \n",
       "     5         0.010902     0.534415   0.000000  \n",
       "     6         0.000615     0.589844   0.000000  \n",
       "     7         0.000000     0.598341   0.000000  \n",
       "     8         0.004088     0.739279   0.000000  \n",
       "...                 ...          ...        ...  \n",
       "2020 5         0.627559     0.428171   0.210526  \n",
       "     6         1.000000     0.039010   0.105263  \n",
       "     7         0.566898     0.352058   0.210526  \n",
       "     8         0.238181     0.580045   0.210526  \n",
       "     9         0.436378     0.223083   0.000000  \n",
       "\n",
       "[90 rows x 63 columns]"
      ]
     },
     "execution_count": 79,
     "metadata": {},
     "output_type": "execute_result"
    }
   ],
   "source": [
    "AllMetricsAndQuestionsNormalized"
   ]
  },
  {
   "cell_type": "markdown",
   "metadata": {},
   "source": [
    "### MannKendallTest for Number of Java Files"
   ]
  },
  {
   "cell_type": "code",
   "execution_count": 81,
   "metadata": {
    "scrolled": true
   },
   "outputs": [
    {
     "name": "stdout",
     "output_type": "stream",
     "text": [
      "Trend exists? True. Trend is increasing. P-value: 0.00000000000000066613\n"
     ]
    },
    {
     "data": {
      "text/plain": [
       "Mann_Kendall_Test(trend='increasing', h=True, p=6.661338147750939e-16, z=8.057901607592605, Tau=0.5775280898876405, s=2313.0, var_s=82325.0, slope=0.005973057789361247, intercept=-0.027837256896199175)"
      ]
     },
     "execution_count": 81,
     "metadata": {},
     "output_type": "execute_result"
    }
   ],
   "source": [
    "result = mk.original_test(allMetricsAndQuestions[\"numberJavaFiles\"])\n",
    "print(f\"Trend exists? {result.h}. Trend is {result.trend}. P-value: {format(result.p, '.20f')}\")\n",
    "result"
   ]
  },
  {
   "cell_type": "markdown",
   "metadata": {},
   "source": [
    "### MannKendallTest for readability per Class"
   ]
  },
  {
   "cell_type": "code",
   "execution_count": 82,
   "metadata": {},
   "outputs": [
    {
     "name": "stdout",
     "output_type": "stream",
     "text": [
      "Trend exists? True. Trend is decreasing. P-value: 0.00023284494833664127\n"
     ]
    },
    {
     "data": {
      "text/plain": [
       "Mann_Kendall_Test(trend='decreasing', h=True, p=0.00023284494833664127, z=-3.6804256477585597, Tau=-0.2639200998751561, s=-1057.0, var_s=82325.0, slope=-0.003606832241998061, intercept=0.47893848013105045)"
      ]
     },
     "execution_count": 82,
     "metadata": {},
     "output_type": "execute_result"
    }
   ],
   "source": [
    "result = mk.original_test(allMetricsAndQuestions[\"readability\"])\n",
    "print(f\"Trend exists? {result.h}. Trend is {result.trend}. P-value: {format(result.p, '.20f')}\")\n",
    "result"
   ]
  },
  {
   "cell_type": "markdown",
   "metadata": {},
   "source": [
    "### MannKendallTest for Physical Lines per Class"
   ]
  },
  {
   "cell_type": "code",
   "execution_count": 83,
   "metadata": {},
   "outputs": [
    {
     "name": "stdout",
     "output_type": "stream",
     "text": [
      "Trend exists? True. Trend is increasing. P-value: 0.00000000009889755681\n"
     ]
    },
    {
     "data": {
      "text/plain": [
       "Mann_Kendall_Test(trend='increasing', h=True, p=9.889755681058432e-11, z=6.468626896060499, Tau=0.46367041198501874, s=1857.0, var_s=82325.0, slope=0.0035803767541874986, intercept=0.009418417197444684)"
      ]
     },
     "execution_count": 83,
     "metadata": {},
     "output_type": "execute_result"
    }
   ],
   "source": [
    "result = mk.original_test(allMetricsAndQuestions[\"CountLine\"])\n",
    "print(f\"Trend exists? {result.h}. Trend is {result.trend}. P-value: {format(result.p, '.20f')}\")\n",
    "result"
   ]
  },
  {
   "cell_type": "markdown",
   "metadata": {},
   "source": [
    "### MannKendallTest for LOC per Class"
   ]
  },
  {
   "cell_type": "code",
   "execution_count": 84,
   "metadata": {},
   "outputs": [
    {
     "name": "stdout",
     "output_type": "stream",
     "text": [
      "Trend exists? True. Trend is increasing. P-value: 0.00000000002206190786\n"
     ]
    },
    {
     "data": {
      "text/plain": [
       "Mann_Kendall_Test(trend='increasing', h=True, p=2.206190785614126e-11, z=6.691682995924654, Tau=0.4796504369538077, s=1921.0, var_s=82325.0, slope=0.0034811861178788667, intercept=-0.00528112545491638)"
      ]
     },
     "execution_count": 84,
     "metadata": {},
     "output_type": "execute_result"
    }
   ],
   "source": [
    "result = mk.original_test(allMetricsAndQuestions[\"CountLineCode\"])\n",
    "print(f\"Trend exists? {result.h}. Trend is {result.trend}. P-value: {format(result.p, '.20f')}\")\n",
    "result"
   ]
  },
  {
   "cell_type": "markdown",
   "metadata": {},
   "source": [
    "### MannKendallTest for CLOC per Class"
   ]
  },
  {
   "cell_type": "code",
   "execution_count": 85,
   "metadata": {},
   "outputs": [
    {
     "name": "stdout",
     "output_type": "stream",
     "text": [
      "Trend exists? True. Trend is increasing. P-value: 0.00000010069544598146\n"
     ]
    },
    {
     "data": {
      "text/plain": [
       "Mann_Kendall_Test(trend='increasing', h=True, p=1.0069544598145796e-07, z=5.325464384256704, Tau=0.38177278401997505, s=1529.0, var_s=82325.0, slope=0.003444296557706873, intercept=0.06526430582051643)"
      ]
     },
     "execution_count": 85,
     "metadata": {},
     "output_type": "execute_result"
    }
   ],
   "source": [
    "result = mk.original_test(allMetricsAndQuestions[\"CountLineComment\"])\n",
    "print(f\"Trend exists? {result.h}. Trend is {result.trend}. P-value: {format(result.p, '.20f')}\")\n",
    "result"
   ]
  },
  {
   "cell_type": "markdown",
   "metadata": {},
   "source": [
    "### MannKendallTest for CBO per Class"
   ]
  },
  {
   "cell_type": "code",
   "execution_count": 86,
   "metadata": {},
   "outputs": [
    {
     "name": "stdout",
     "output_type": "stream",
     "text": [
      "Trend exists? True. Trend is increasing. P-value: 0.00000000000002065015\n"
     ]
    },
    {
     "data": {
      "text/plain": [
       "Mann_Kendall_Test(trend='increasing', h=True, p=2.0650148258027912e-14, z=7.646641923468068, Tau=0.5480649188514357, s=2195.0, var_s=82325.0, slope=0.006388581551204738, intercept=0.040633523837387)"
      ]
     },
     "execution_count": 86,
     "metadata": {},
     "output_type": "execute_result"
    }
   ],
   "source": [
    "result = mk.original_test(allMetricsAndQuestions[\"CountClassCoupled\"])\n",
    "print(f\"Trend exists? {result.h}. Trend is {result.trend}. P-value: {format(result.p, '.20f')}\")\n",
    "result"
   ]
  },
  {
   "cell_type": "markdown",
   "metadata": {},
   "source": [
    "### MannKendallTest for NOC per Class"
   ]
  },
  {
   "cell_type": "code",
   "execution_count": 87,
   "metadata": {
    "scrolled": true
   },
   "outputs": [
    {
     "name": "stdout",
     "output_type": "stream",
     "text": [
      "Trend exists? True. Trend is increasing. P-value: 0.00524429257077496658\n"
     ]
    },
    {
     "data": {
      "text/plain": [
       "Mann_Kendall_Test(trend='increasing', h=True, p=0.005244292570774967, z=2.791632225492218, Tau=0.199250936329588, s=798.0, var_s=81508.0, slope=0.0004504079119970557, intercept=0.029370206841159152)"
      ]
     },
     "execution_count": 87,
     "metadata": {},
     "output_type": "execute_result"
    }
   ],
   "source": [
    "result = mk.original_test(allMetricsAndQuestions[\"CountClassDerived\"])\n",
    "print(f\"Trend exists? {result.h}. Trend is {result.trend}. P-value: {format(result.p, '.20f')}\")\n",
    "result"
   ]
  },
  {
   "cell_type": "markdown",
   "metadata": {},
   "source": [
    "### MannKendallTest for RFC per Class"
   ]
  },
  {
   "cell_type": "code",
   "execution_count": 88,
   "metadata": {},
   "outputs": [
    {
     "name": "stdout",
     "output_type": "stream",
     "text": [
      "Trend exists? True. Trend is increasing. P-value: 0.00000000001578670528\n"
     ]
    },
    {
     "data": {
      "text/plain": [
       "Mann_Kendall_Test(trend='increasing', h=True, p=1.578670527635495e-11, z=6.740476517769938, Tau=0.48314606741573035, s=1935.0, var_s=82325.0, slope=0.004472655499461274, intercept=0.07347948093739698)"
      ]
     },
     "execution_count": 88,
     "metadata": {},
     "output_type": "execute_result"
    }
   ],
   "source": [
    "result = mk.original_test(allMetricsAndQuestions[\"CountDeclMethodAll\"])\n",
    "print(f\"Trend exists? {result.h}. Trend is {result.trend}. P-value: {format(result.p, '.20f')}\")\n",
    "result"
   ]
  },
  {
   "cell_type": "markdown",
   "metadata": {},
   "source": [
    "### MannKendallTest for DIT per Class"
   ]
  },
  {
   "cell_type": "code",
   "execution_count": 89,
   "metadata": {},
   "outputs": [
    {
     "name": "stdout",
     "output_type": "stream",
     "text": [
      "Trend exists? False. Trend is no trend. P-value: 0.12175436448175536164\n"
     ]
    },
    {
     "data": {
      "text/plain": [
       "Mann_Kendall_Test(trend='no trend', h=False, p=0.12175436448175536, z=1.5474516928075763, Tau=0.1111111111111111, s=445.0, var_s=82325.0, slope=0.0020931604974786435, intercept=0.3395131954549036)"
      ]
     },
     "execution_count": 89,
     "metadata": {},
     "output_type": "execute_result"
    }
   ],
   "source": [
    "result = mk.original_test(allMetricsAndQuestions[\"MaxInheritanceTree\"])\n",
    "print(f\"Trend exists? {result.h}. Trend is {result.trend}. P-value: {format(result.p, '.20f')}\")\n",
    "result"
   ]
  },
  {
   "cell_type": "markdown",
   "metadata": {},
   "source": [
    "### MannKendallTest for LCOM per Class"
   ]
  },
  {
   "cell_type": "code",
   "execution_count": 90,
   "metadata": {},
   "outputs": [
    {
     "name": "stdout",
     "output_type": "stream",
     "text": [
      "Trend exists? True. Trend is increasing. P-value: 0.00000199546416479457\n"
     ]
    },
    {
     "data": {
      "text/plain": [
       "Mann_Kendall_Test(trend='increasing', h=True, p=1.9954641647945692e-06, z=4.753883128354806, Tau=0.3408239700374532, s=1365.0, var_s=82325.0, slope=0.004025110074921221, intercept=0.40787838515717567)"
      ]
     },
     "execution_count": 90,
     "metadata": {},
     "output_type": "execute_result"
    }
   ],
   "source": [
    "result = mk.original_test(allMetricsAndQuestions[\"PercentLackOfCohesion\"])\n",
    "print(f\"Trend exists? {result.h}. Trend is {result.trend}. P-value: {format(result.p, '.20f')}\")\n",
    "result"
   ]
  },
  {
   "cell_type": "markdown",
   "metadata": {},
   "source": [
    "### MannKendallTest for WMC per Class"
   ]
  },
  {
   "cell_type": "code",
   "execution_count": 91,
   "metadata": {},
   "outputs": [
    {
     "name": "stdout",
     "output_type": "stream",
     "text": [
      "Trend exists? True. Trend is increasing. P-value: 0.00000000001241229342\n"
     ]
    },
    {
     "data": {
      "text/plain": [
       "Mann_Kendall_Test(trend='increasing', h=True, p=1.241229341530925e-11, z=6.775329033373712, Tau=0.48564294631710364, s=1945.0, var_s=82325.0, slope=0.003304568718210237, intercept=0.0001438295996980532)"
      ]
     },
     "execution_count": 91,
     "metadata": {},
     "output_type": "execute_result"
    }
   ],
   "source": [
    "result = mk.original_test(allMetricsAndQuestions[\"SumCyclomatic\"])\n",
    "print(f\"Trend exists? {result.h}. Trend is {result.trend}. P-value: {format(result.p, '.20f')}\")\n",
    "result"
   ]
  },
  {
   "cell_type": "markdown",
   "metadata": {},
   "source": [
    "### MannKendallTest for Classes"
   ]
  },
  {
   "cell_type": "code",
   "execution_count": 92,
   "metadata": {
    "scrolled": true
   },
   "outputs": [
    {
     "name": "stdout",
     "output_type": "stream",
     "text": [
      "Trend exists? True. Trend is increasing. P-value: 0.00000000000182587279\n"
     ]
    },
    {
     "data": {
      "text/plain": [
       "Mann_Kendall_Test(trend='increasing', h=True, p=1.8258727862985324e-12, z=7.047178655083151, Tau=0.5051186017478152, s=2023.0, var_s=82325.0, slope=0.005699666916186933, intercept=0.0029421891307095938)"
      ]
     },
     "execution_count": 92,
     "metadata": {},
     "output_type": "execute_result"
    }
   ],
   "source": [
    "result = mk.original_test(allMetricsAndQuestions[\"CountDeclClass\"])\n",
    "print(f\"Trend exists? {result.h}. Trend is {result.trend}. P-value: {format(result.p, '.20f')}\")\n",
    "result"
   ]
  },
  {
   "cell_type": "markdown",
   "metadata": {},
   "source": [
    "### MannKendallTest for Questions"
   ]
  },
  {
   "cell_type": "code",
   "execution_count": 93,
   "metadata": {},
   "outputs": [
    {
     "name": "stdout",
     "output_type": "stream",
     "text": [
      "Trend exists? True. Trend is increasing. P-value: 0.03555873256491803858\n"
     ]
    },
    {
     "data": {
      "text/plain": [
       "Mann_Kendall_Test(trend='increasing', h=True, p=0.03555873256491804, z=2.10193771110013, Tau=0.15056179775280898, s=603.0, var_s=82026.33333333333, slope=0.002288329519450801, intercept=0.3192219679633867)"
      ]
     },
     "execution_count": 93,
     "metadata": {},
     "output_type": "execute_result"
    }
   ],
   "source": [
    "result = mk.original_test(allMetricsAndQuestions[\"questions\"])\n",
    "print(f\"Trend exists? {result.h}. Trend is {result.trend}. P-value: {format(result.p, '.20f')}\")\n",
    "result"
   ]
  },
  {
   "cell_type": "code",
   "execution_count": 53,
   "metadata": {},
   "outputs": [],
   "source": [
    "# def doMannKendallTest(data):\n",
    "#     try:\n",
    "#         result = mk.original_test(data)\n",
    "#     except:\n",
    "#         return None\n",
    "#     return result"
   ]
  },
  {
   "cell_type": "code",
   "execution_count": 54,
   "metadata": {},
   "outputs": [],
   "source": [
    "# def collectForAllMetric(data):\n",
    "#     results = pd.DataFrame(index=data.columns, columns=[\"trend\", \"p\"])\n",
    "#     for metric in data.columns:\n",
    "#         result = doMannKendallTest(data[metric])\n",
    "#         results.loc()[metric, \"trend\"] = result.trend\n",
    "#         results.loc()[metric, \"p\"] = format(result.p, '.20f')            \n",
    "           \n",
    "#     return results"
   ]
  },
  {
   "cell_type": "code",
   "execution_count": 55,
   "metadata": {
    "scrolled": true
   },
   "outputs": [],
   "source": [
    "# results = collectForAllMetric(allMetricsAndQuestions)"
   ]
  },
  {
   "cell_type": "code",
   "execution_count": 56,
   "metadata": {},
   "outputs": [],
   "source": [
    "# results"
   ]
  },
  {
   "cell_type": "code",
   "execution_count": 57,
   "metadata": {},
   "outputs": [],
   "source": [
    "# results.to_csv(\"trendTestResult.csv\", float_format=\"%.15f\")"
   ]
  }
 ],
 "metadata": {
  "kernelspec": {
   "display_name": "Python 3",
   "language": "python",
   "name": "python3"
  },
  "language_info": {
   "codemirror_mode": {
    "name": "ipython",
    "version": 3
   },
   "file_extension": ".py",
   "mimetype": "text/x-python",
   "name": "python",
   "nbconvert_exporter": "python",
   "pygments_lexer": "ipython3",
   "version": "3.8.3"
  }
 },
 "nbformat": 4,
 "nbformat_minor": 4
}
