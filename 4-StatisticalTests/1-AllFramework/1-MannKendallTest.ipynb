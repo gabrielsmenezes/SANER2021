{
 "cells": [
  {
   "cell_type": "markdown",
   "metadata": {},
   "source": [
    "# Loading metrics"
   ]
  },
  {
   "cell_type": "code",
   "execution_count": 33,
   "metadata": {},
   "outputs": [],
   "source": [
    "import pandas as pd"
   ]
  },
  {
   "cell_type": "code",
   "execution_count": 34,
   "metadata": {},
   "outputs": [],
   "source": [
    "allMetricsAndQuestions = pd.read_csv(\"..\\\\..\\\\3-DataMerge\\\\1-AllFramework\\\\metricsAndQuestions.csv\", index_col=[0,1])"
   ]
  },
  {
   "cell_type": "markdown",
   "metadata": {},
   "source": [
    "## Mann Kendall Test"
   ]
  },
  {
   "cell_type": "markdown",
   "metadata": {},
   "source": [
    "Null Hypothesis: There is no monotonic trend.\n",
    "\n",
    "Alternative Hypothesis: There is a trend."
   ]
  },
  {
   "cell_type": "markdown",
   "metadata": {},
   "source": [
    "If p-value < 0.05 then null Hypothesis is rejected."
   ]
  },
  {
   "cell_type": "code",
   "execution_count": 35,
   "metadata": {
    "scrolled": true
   },
   "outputs": [
    {
     "name": "stdout",
     "output_type": "stream",
     "text": [
      "Requirement already satisfied: pymannkendall in c:\\users\\dudur\\anaconda3\\lib\\site-packages (1.4.1)\n",
      "Requirement already satisfied: numpy in c:\\users\\dudur\\anaconda3\\lib\\site-packages (from pymannkendall) (1.18.5)\n",
      "Requirement already satisfied: scipy in c:\\users\\dudur\\anaconda3\\lib\\site-packages (from pymannkendall) (1.5.0)\n",
      "Note: you may need to restart the kernel to use updated packages.\n"
     ]
    }
   ],
   "source": [
    "pip install pymannkendall"
   ]
  },
  {
   "cell_type": "code",
   "execution_count": 36,
   "metadata": {},
   "outputs": [],
   "source": [
    "import pymannkendall as mk"
   ]
  },
  {
   "cell_type": "code",
   "execution_count": 37,
   "metadata": {},
   "outputs": [],
   "source": [
    "AllMetricsAndQuestionsNormalized=(allMetricsAndQuestions-allMetricsAndQuestions.min())/(allMetricsAndQuestions.max()-allMetricsAndQuestions.min())"
   ]
  },
  {
   "cell_type": "code",
   "execution_count": 38,
   "metadata": {},
   "outputs": [],
   "source": [
    "allMetricsAndQuestions = AllMetricsAndQuestionsNormalized"
   ]
  },
  {
   "cell_type": "code",
   "execution_count": 39,
   "metadata": {},
   "outputs": [
    {
     "data": {
      "text/html": [
       "<div>\n",
       "<style scoped>\n",
       "    .dataframe tbody tr th:only-of-type {\n",
       "        vertical-align: middle;\n",
       "    }\n",
       "\n",
       "    .dataframe tbody tr th {\n",
       "        vertical-align: top;\n",
       "    }\n",
       "\n",
       "    .dataframe thead th {\n",
       "        text-align: right;\n",
       "    }\n",
       "</style>\n",
       "<table border=\"1\" class=\"dataframe\">\n",
       "  <thead>\n",
       "    <tr style=\"text-align: right;\">\n",
       "      <th></th>\n",
       "      <th></th>\n",
       "      <th>AvgCyclomatic</th>\n",
       "      <th>AvgCyclomaticModified</th>\n",
       "      <th>AvgCyclomaticStrict</th>\n",
       "      <th>AvgEssential</th>\n",
       "      <th>AvgLine</th>\n",
       "      <th>AvgLineBlank</th>\n",
       "      <th>AvgLineCode</th>\n",
       "      <th>AvgLineComment</th>\n",
       "      <th>CountClassBase</th>\n",
       "      <th>CountClassCoupled</th>\n",
       "      <th>...</th>\n",
       "      <th>PercentLackOfCohesion</th>\n",
       "      <th>PercentLackOfCohesionModified</th>\n",
       "      <th>RatioCommentToCode</th>\n",
       "      <th>SumCyclomatic</th>\n",
       "      <th>SumCyclomaticModified</th>\n",
       "      <th>SumCyclomaticStrict</th>\n",
       "      <th>SumEssential</th>\n",
       "      <th>numberJavaFiles</th>\n",
       "      <th>readability</th>\n",
       "      <th>questions</th>\n",
       "    </tr>\n",
       "  </thead>\n",
       "  <tbody>\n",
       "    <tr>\n",
       "      <th rowspan=\"5\" valign=\"top\">2013</th>\n",
       "      <th>4</th>\n",
       "      <td>0.580719</td>\n",
       "      <td>0.600498</td>\n",
       "      <td>0.549028</td>\n",
       "      <td>0.000000</td>\n",
       "      <td>0.406088</td>\n",
       "      <td>0.533440</td>\n",
       "      <td>0.464433</td>\n",
       "      <td>0.222508</td>\n",
       "      <td>0.000000</td>\n",
       "      <td>0.177361</td>\n",
       "      <td>...</td>\n",
       "      <td>0.000000</td>\n",
       "      <td>0.000000</td>\n",
       "      <td>0.000000</td>\n",
       "      <td>0.000000</td>\n",
       "      <td>0.000000</td>\n",
       "      <td>0.000000</td>\n",
       "      <td>0.000000</td>\n",
       "      <td>0.059574</td>\n",
       "      <td>0.820167</td>\n",
       "      <td>0.000000</td>\n",
       "    </tr>\n",
       "    <tr>\n",
       "      <th>5</th>\n",
       "      <td>0.000000</td>\n",
       "      <td>0.000000</td>\n",
       "      <td>0.000000</td>\n",
       "      <td>0.015322</td>\n",
       "      <td>0.000000</td>\n",
       "      <td>0.065914</td>\n",
       "      <td>0.022743</td>\n",
       "      <td>0.000000</td>\n",
       "      <td>0.104075</td>\n",
       "      <td>0.000000</td>\n",
       "      <td>...</td>\n",
       "      <td>0.136339</td>\n",
       "      <td>0.152344</td>\n",
       "      <td>0.010121</td>\n",
       "      <td>0.000708</td>\n",
       "      <td>0.000715</td>\n",
       "      <td>0.000663</td>\n",
       "      <td>0.055101</td>\n",
       "      <td>0.098478</td>\n",
       "      <td>1.000000</td>\n",
       "      <td>0.000000</td>\n",
       "    </tr>\n",
       "    <tr>\n",
       "      <th>6</th>\n",
       "      <td>0.871115</td>\n",
       "      <td>0.900784</td>\n",
       "      <td>0.823576</td>\n",
       "      <td>0.331067</td>\n",
       "      <td>0.197629</td>\n",
       "      <td>0.442868</td>\n",
       "      <td>0.110317</td>\n",
       "      <td>0.263570</td>\n",
       "      <td>0.765533</td>\n",
       "      <td>0.854926</td>\n",
       "      <td>...</td>\n",
       "      <td>0.697996</td>\n",
       "      <td>0.779932</td>\n",
       "      <td>0.435142</td>\n",
       "      <td>0.340177</td>\n",
       "      <td>0.343562</td>\n",
       "      <td>0.318584</td>\n",
       "      <td>0.487992</td>\n",
       "      <td>0.002898</td>\n",
       "      <td>0.285109</td>\n",
       "      <td>0.000000</td>\n",
       "    </tr>\n",
       "    <tr>\n",
       "      <th>7</th>\n",
       "      <td>0.822265</td>\n",
       "      <td>0.850270</td>\n",
       "      <td>0.797723</td>\n",
       "      <td>0.359879</td>\n",
       "      <td>0.160855</td>\n",
       "      <td>0.382268</td>\n",
       "      <td>0.067946</td>\n",
       "      <td>0.254170</td>\n",
       "      <td>0.777132</td>\n",
       "      <td>0.890602</td>\n",
       "      <td>...</td>\n",
       "      <td>0.778602</td>\n",
       "      <td>0.870000</td>\n",
       "      <td>0.429080</td>\n",
       "      <td>0.348507</td>\n",
       "      <td>0.351975</td>\n",
       "      <td>0.327594</td>\n",
       "      <td>0.505233</td>\n",
       "      <td>0.001943</td>\n",
       "      <td>0.520749</td>\n",
       "      <td>0.000000</td>\n",
       "    </tr>\n",
       "    <tr>\n",
       "      <th>8</th>\n",
       "      <td>0.825103</td>\n",
       "      <td>0.853205</td>\n",
       "      <td>0.799482</td>\n",
       "      <td>0.359879</td>\n",
       "      <td>0.159011</td>\n",
       "      <td>0.380244</td>\n",
       "      <td>0.066111</td>\n",
       "      <td>0.253185</td>\n",
       "      <td>0.772255</td>\n",
       "      <td>0.882015</td>\n",
       "      <td>...</td>\n",
       "      <td>0.775614</td>\n",
       "      <td>0.865381</td>\n",
       "      <td>0.432124</td>\n",
       "      <td>0.348634</td>\n",
       "      <td>0.352103</td>\n",
       "      <td>0.327658</td>\n",
       "      <td>0.506790</td>\n",
       "      <td>0.007177</td>\n",
       "      <td>0.535740</td>\n",
       "      <td>0.000000</td>\n",
       "    </tr>\n",
       "    <tr>\n",
       "      <th>...</th>\n",
       "      <th>...</th>\n",
       "      <td>...</td>\n",
       "      <td>...</td>\n",
       "      <td>...</td>\n",
       "      <td>...</td>\n",
       "      <td>...</td>\n",
       "      <td>...</td>\n",
       "      <td>...</td>\n",
       "      <td>...</td>\n",
       "      <td>...</td>\n",
       "      <td>...</td>\n",
       "      <td>...</td>\n",
       "      <td>...</td>\n",
       "      <td>...</td>\n",
       "      <td>...</td>\n",
       "      <td>...</td>\n",
       "      <td>...</td>\n",
       "      <td>...</td>\n",
       "      <td>...</td>\n",
       "      <td>...</td>\n",
       "      <td>...</td>\n",
       "      <td>...</td>\n",
       "    </tr>\n",
       "    <tr>\n",
       "      <th rowspan=\"5\" valign=\"top\">2020</th>\n",
       "      <th>5</th>\n",
       "      <td>0.585639</td>\n",
       "      <td>0.558988</td>\n",
       "      <td>0.666099</td>\n",
       "      <td>0.929114</td>\n",
       "      <td>0.487463</td>\n",
       "      <td>0.306668</td>\n",
       "      <td>0.462791</td>\n",
       "      <td>0.620821</td>\n",
       "      <td>0.419368</td>\n",
       "      <td>0.834145</td>\n",
       "      <td>...</td>\n",
       "      <td>0.846145</td>\n",
       "      <td>0.825259</td>\n",
       "      <td>0.788204</td>\n",
       "      <td>0.836380</td>\n",
       "      <td>0.832907</td>\n",
       "      <td>0.835666</td>\n",
       "      <td>0.892648</td>\n",
       "      <td>0.807098</td>\n",
       "      <td>0.110924</td>\n",
       "      <td>0.984580</td>\n",
       "    </tr>\n",
       "    <tr>\n",
       "      <th>6</th>\n",
       "      <td>0.583070</td>\n",
       "      <td>0.556809</td>\n",
       "      <td>0.663394</td>\n",
       "      <td>0.921522</td>\n",
       "      <td>0.490364</td>\n",
       "      <td>0.304986</td>\n",
       "      <td>0.466913</td>\n",
       "      <td>0.625171</td>\n",
       "      <td>0.408952</td>\n",
       "      <td>0.835108</td>\n",
       "      <td>...</td>\n",
       "      <td>0.855986</td>\n",
       "      <td>0.835117</td>\n",
       "      <td>0.786963</td>\n",
       "      <td>0.838744</td>\n",
       "      <td>0.835389</td>\n",
       "      <td>0.837760</td>\n",
       "      <td>0.897685</td>\n",
       "      <td>0.798430</td>\n",
       "      <td>0.105389</td>\n",
       "      <td>0.987664</td>\n",
       "    </tr>\n",
       "    <tr>\n",
       "      <th>7</th>\n",
       "      <td>0.582781</td>\n",
       "      <td>0.556629</td>\n",
       "      <td>0.663110</td>\n",
       "      <td>0.921202</td>\n",
       "      <td>0.489951</td>\n",
       "      <td>0.304689</td>\n",
       "      <td>0.466557</td>\n",
       "      <td>0.625086</td>\n",
       "      <td>0.408802</td>\n",
       "      <td>0.835118</td>\n",
       "      <td>...</td>\n",
       "      <td>0.855340</td>\n",
       "      <td>0.834526</td>\n",
       "      <td>0.786443</td>\n",
       "      <td>0.838671</td>\n",
       "      <td>0.835325</td>\n",
       "      <td>0.837685</td>\n",
       "      <td>0.897541</td>\n",
       "      <td>0.799246</td>\n",
       "      <td>0.094044</td>\n",
       "      <td>0.993832</td>\n",
       "    </tr>\n",
       "    <tr>\n",
       "      <th>8</th>\n",
       "      <td>0.628723</td>\n",
       "      <td>0.604135</td>\n",
       "      <td>0.709850</td>\n",
       "      <td>0.921206</td>\n",
       "      <td>0.504968</td>\n",
       "      <td>0.306443</td>\n",
       "      <td>0.489230</td>\n",
       "      <td>0.626346</td>\n",
       "      <td>0.407933</td>\n",
       "      <td>0.858548</td>\n",
       "      <td>...</td>\n",
       "      <td>0.850374</td>\n",
       "      <td>0.828970</td>\n",
       "      <td>0.790507</td>\n",
       "      <td>0.842217</td>\n",
       "      <td>0.838907</td>\n",
       "      <td>0.841700</td>\n",
       "      <td>0.896507</td>\n",
       "      <td>0.801706</td>\n",
       "      <td>0.121618</td>\n",
       "      <td>1.000000</td>\n",
       "    </tr>\n",
       "    <tr>\n",
       "      <th>9</th>\n",
       "      <td>0.629182</td>\n",
       "      <td>0.604607</td>\n",
       "      <td>0.710301</td>\n",
       "      <td>0.923094</td>\n",
       "      <td>0.505033</td>\n",
       "      <td>0.306441</td>\n",
       "      <td>0.489349</td>\n",
       "      <td>0.626345</td>\n",
       "      <td>0.407522</td>\n",
       "      <td>0.858593</td>\n",
       "      <td>...</td>\n",
       "      <td>0.849745</td>\n",
       "      <td>0.828269</td>\n",
       "      <td>0.790446</td>\n",
       "      <td>0.842220</td>\n",
       "      <td>0.838908</td>\n",
       "      <td>0.841704</td>\n",
       "      <td>0.896501</td>\n",
       "      <td>0.802111</td>\n",
       "      <td>0.121184</td>\n",
       "      <td>0.000000</td>\n",
       "    </tr>\n",
       "  </tbody>\n",
       "</table>\n",
       "<p>90 rows × 49 columns</p>\n",
       "</div>"
      ],
      "text/plain": [
       "        AvgCyclomatic  AvgCyclomaticModified  AvgCyclomaticStrict  \\\n",
       "2013 4       0.580719               0.600498             0.549028   \n",
       "     5       0.000000               0.000000             0.000000   \n",
       "     6       0.871115               0.900784             0.823576   \n",
       "     7       0.822265               0.850270             0.797723   \n",
       "     8       0.825103               0.853205             0.799482   \n",
       "...               ...                    ...                  ...   \n",
       "2020 5       0.585639               0.558988             0.666099   \n",
       "     6       0.583070               0.556809             0.663394   \n",
       "     7       0.582781               0.556629             0.663110   \n",
       "     8       0.628723               0.604135             0.709850   \n",
       "     9       0.629182               0.604607             0.710301   \n",
       "\n",
       "        AvgEssential   AvgLine  AvgLineBlank  AvgLineCode  AvgLineComment  \\\n",
       "2013 4      0.000000  0.406088      0.533440     0.464433        0.222508   \n",
       "     5      0.015322  0.000000      0.065914     0.022743        0.000000   \n",
       "     6      0.331067  0.197629      0.442868     0.110317        0.263570   \n",
       "     7      0.359879  0.160855      0.382268     0.067946        0.254170   \n",
       "     8      0.359879  0.159011      0.380244     0.066111        0.253185   \n",
       "...              ...       ...           ...          ...             ...   \n",
       "2020 5      0.929114  0.487463      0.306668     0.462791        0.620821   \n",
       "     6      0.921522  0.490364      0.304986     0.466913        0.625171   \n",
       "     7      0.921202  0.489951      0.304689     0.466557        0.625086   \n",
       "     8      0.921206  0.504968      0.306443     0.489230        0.626346   \n",
       "     9      0.923094  0.505033      0.306441     0.489349        0.626345   \n",
       "\n",
       "        CountClassBase  CountClassCoupled  ...  PercentLackOfCohesion  \\\n",
       "2013 4        0.000000           0.177361  ...               0.000000   \n",
       "     5        0.104075           0.000000  ...               0.136339   \n",
       "     6        0.765533           0.854926  ...               0.697996   \n",
       "     7        0.777132           0.890602  ...               0.778602   \n",
       "     8        0.772255           0.882015  ...               0.775614   \n",
       "...                ...                ...  ...                    ...   \n",
       "2020 5        0.419368           0.834145  ...               0.846145   \n",
       "     6        0.408952           0.835108  ...               0.855986   \n",
       "     7        0.408802           0.835118  ...               0.855340   \n",
       "     8        0.407933           0.858548  ...               0.850374   \n",
       "     9        0.407522           0.858593  ...               0.849745   \n",
       "\n",
       "        PercentLackOfCohesionModified  RatioCommentToCode  SumCyclomatic  \\\n",
       "2013 4                       0.000000            0.000000       0.000000   \n",
       "     5                       0.152344            0.010121       0.000708   \n",
       "     6                       0.779932            0.435142       0.340177   \n",
       "     7                       0.870000            0.429080       0.348507   \n",
       "     8                       0.865381            0.432124       0.348634   \n",
       "...                               ...                 ...            ...   \n",
       "2020 5                       0.825259            0.788204       0.836380   \n",
       "     6                       0.835117            0.786963       0.838744   \n",
       "     7                       0.834526            0.786443       0.838671   \n",
       "     8                       0.828970            0.790507       0.842217   \n",
       "     9                       0.828269            0.790446       0.842220   \n",
       "\n",
       "        SumCyclomaticModified  SumCyclomaticStrict  SumEssential  \\\n",
       "2013 4               0.000000             0.000000      0.000000   \n",
       "     5               0.000715             0.000663      0.055101   \n",
       "     6               0.343562             0.318584      0.487992   \n",
       "     7               0.351975             0.327594      0.505233   \n",
       "     8               0.352103             0.327658      0.506790   \n",
       "...                       ...                  ...           ...   \n",
       "2020 5               0.832907             0.835666      0.892648   \n",
       "     6               0.835389             0.837760      0.897685   \n",
       "     7               0.835325             0.837685      0.897541   \n",
       "     8               0.838907             0.841700      0.896507   \n",
       "     9               0.838908             0.841704      0.896501   \n",
       "\n",
       "        numberJavaFiles  readability  questions  \n",
       "2013 4         0.059574     0.820167   0.000000  \n",
       "     5         0.098478     1.000000   0.000000  \n",
       "     6         0.002898     0.285109   0.000000  \n",
       "     7         0.001943     0.520749   0.000000  \n",
       "     8         0.007177     0.535740   0.000000  \n",
       "...                 ...          ...        ...  \n",
       "2020 5         0.807098     0.110924   0.984580  \n",
       "     6         0.798430     0.105389   0.987664  \n",
       "     7         0.799246     0.094044   0.993832  \n",
       "     8         0.801706     0.121618   1.000000  \n",
       "     9         0.802111     0.121184   0.000000  \n",
       "\n",
       "[90 rows x 49 columns]"
      ]
     },
     "execution_count": 39,
     "metadata": {},
     "output_type": "execute_result"
    }
   ],
   "source": [
    "AllMetricsAndQuestionsNormalized"
   ]
  },
  {
   "cell_type": "markdown",
   "metadata": {},
   "source": [
    "### MannKendallTest for Number of Java Files"
   ]
  },
  {
   "cell_type": "code",
   "execution_count": 58,
   "metadata": {
    "scrolled": true
   },
   "outputs": [
    {
     "name": "stdout",
     "output_type": "stream",
     "text": [
      "Trend exists? True. Trend is increasing. P-value: 0.000000000000000000000000000000\n"
     ]
    },
    {
     "data": {
      "text/plain": [
       "Mann_Kendall_Test(trend='increasing', h=True, p=0.0, z=8.80742683190142, Tau=0.6312109862671661, s=2528.0, var_s=82321.33333333333, slope=0.010040580340878388, intercept=0.24129966712134943)"
      ]
     },
     "execution_count": 58,
     "metadata": {},
     "output_type": "execute_result"
    }
   ],
   "source": [
    "result = mk.original_test(allMetricsAndQuestions[\"numberJavaFiles\"])\n",
    "print(f\"Trend exists? {result.h}. Trend is {result.trend}. P-value: {format(result.p, '.30f')}\")\n",
    "result"
   ]
  },
  {
   "cell_type": "markdown",
   "metadata": {},
   "source": [
    "### MannKendallTest for readability per Class"
   ]
  },
  {
   "cell_type": "code",
   "execution_count": 59,
   "metadata": {},
   "outputs": [
    {
     "name": "stdout",
     "output_type": "stream",
     "text": [
      "Trend exists? True. Trend is decreasing. P-value: 0.000006485344743234477959958895\n"
     ]
    },
    {
     "data": {
      "text/plain": [
       "Mann_Kendall_Test(trend='decreasing', h=True, p=6.485344743234478e-06, z=-4.509915519128387, Tau=-0.3233458177278402, s=-1295.0, var_s=82325.0, slope=-0.0022656386223948023, intercept=0.208010929733242)"
      ]
     },
     "execution_count": 59,
     "metadata": {},
     "output_type": "execute_result"
    }
   ],
   "source": [
    "result = mk.original_test(allMetricsAndQuestions[\"readability\"])\n",
    "print(f\"Trend exists? {result.h}. Trend is {result.trend}. P-value: {format(result.p, '.30f')}\")\n",
    "result"
   ]
  },
  {
   "cell_type": "markdown",
   "metadata": {},
   "source": [
    "### MannKendallTest for Physical Lines per Class"
   ]
  },
  {
   "cell_type": "code",
   "execution_count": 60,
   "metadata": {},
   "outputs": [
    {
     "name": "stdout",
     "output_type": "stream",
     "text": [
      "Trend exists? True. Trend is increasing. P-value: 0.000000000000000000000000000000\n"
     ]
    },
    {
     "data": {
      "text/plain": [
       "Mann_Kendall_Test(trend='increasing', h=True, p=0.0, z=9.521707262951121, Tau=0.6823970037453183, s=2733.0, var_s=82325.0, slope=0.008997868732515481, intercept=0.23769097628984637)"
      ]
     },
     "execution_count": 60,
     "metadata": {},
     "output_type": "execute_result"
    }
   ],
   "source": [
    "result = mk.original_test(allMetricsAndQuestions[\"CountLine\"])\n",
    "print(f\"Trend exists? {result.h}. Trend is {result.trend}. P-value: {format(result.p, '.30f')}\")\n",
    "result"
   ]
  },
  {
   "cell_type": "markdown",
   "metadata": {},
   "source": [
    "### MannKendallTest for LOC per Class"
   ]
  },
  {
   "cell_type": "code",
   "execution_count": 61,
   "metadata": {},
   "outputs": [
    {
     "name": "stdout",
     "output_type": "stream",
     "text": [
      "Trend exists? True. Trend is increasing. P-value: 0.000000000000000000000000000000\n"
     ]
    },
    {
     "data": {
      "text/plain": [
       "Mann_Kendall_Test(trend='increasing', h=True, p=0.0, z=9.898114431471884, Tau=0.7093632958801498, s=2841.0, var_s=82325.0, slope=0.010063690353728684, intercept=0.15490270961662883)"
      ]
     },
     "execution_count": 61,
     "metadata": {},
     "output_type": "execute_result"
    }
   ],
   "source": [
    "result = mk.original_test(allMetricsAndQuestions[\"CountLineCode\"])\n",
    "print(f\"Trend exists? {result.h}. Trend is {result.trend}. P-value: {format(result.p, '.30f')}\")\n",
    "result"
   ]
  },
  {
   "cell_type": "markdown",
   "metadata": {},
   "source": [
    "### MannKendallTest for CLOC per Class"
   ]
  },
  {
   "cell_type": "code",
   "execution_count": 62,
   "metadata": {},
   "outputs": [
    {
     "name": "stdout",
     "output_type": "stream",
     "text": [
      "Trend exists? True. Trend is increasing. P-value: 0.000000000000000000000000000000\n"
     ]
    },
    {
     "data": {
      "text/plain": [
       "Mann_Kendall_Test(trend='increasing', h=True, p=0.0, z=9.21157582065387, Tau=0.6601747815230962, s=2644.0, var_s=82324.0, slope=0.007082269884068481, intercept=0.47720830479574555)"
      ]
     },
     "execution_count": 62,
     "metadata": {},
     "output_type": "execute_result"
    }
   ],
   "source": [
    "result = mk.original_test(allMetricsAndQuestions[\"CountLineComment\"])\n",
    "print(f\"Trend exists? {result.h}. Trend is {result.trend}. P-value: {format(result.p, '.30f')}\")\n",
    "result"
   ]
  },
  {
   "cell_type": "markdown",
   "metadata": {},
   "source": [
    "### MannKendallTest for CBO per Class"
   ]
  },
  {
   "cell_type": "code",
   "execution_count": 63,
   "metadata": {},
   "outputs": [
    {
     "name": "stdout",
     "output_type": "stream",
     "text": [
      "Trend exists? True. Trend is increasing. P-value: 0.013603814096897259844354266534\n"
     ]
    },
    {
     "data": {
      "text/plain": [
       "Mann_Kendall_Test(trend='increasing', h=True, p=0.01360381409689726, z=2.467558104747216, Tau=0.1770287141073658, s=709.0, var_s=82325.0, slope=0.001647617408431144, intercept=0.7338786559947545)"
      ]
     },
     "execution_count": 63,
     "metadata": {},
     "output_type": "execute_result"
    }
   ],
   "source": [
    "result = mk.original_test(allMetricsAndQuestions[\"CountClassCoupled\"])\n",
    "print(f\"Trend exists? {result.h}. Trend is {result.trend}. P-value: {format(result.p, '.30f')}\")\n",
    "result"
   ]
  },
  {
   "cell_type": "markdown",
   "metadata": {},
   "source": [
    "### MannKendallTest for NOC per Class"
   ]
  },
  {
   "cell_type": "code",
   "execution_count": 64,
   "metadata": {
    "scrolled": true
   },
   "outputs": [
    {
     "name": "stdout",
     "output_type": "stream",
     "text": [
      "Trend exists? True. Trend is increasing. P-value: 0.000000000340933947740040821373\n"
     ]
    },
    {
     "data": {
      "text/plain": [
       "Mann_Kendall_Test(trend='increasing', h=True, p=3.409339477400408e-10, z=6.278919516716778, Tau=0.44893882646691635, s=1798.0, var_s=81908.0, slope=0.007350563188981601, intercept=-0.14381637155193716)"
      ]
     },
     "execution_count": 64,
     "metadata": {},
     "output_type": "execute_result"
    }
   ],
   "source": [
    "result = mk.original_test(allMetricsAndQuestions[\"CountClassDerived\"])\n",
    "print(f\"Trend exists? {result.h}. Trend is {result.trend}. P-value: {format(result.p, '.30f')}\")\n",
    "result"
   ]
  },
  {
   "cell_type": "markdown",
   "metadata": {},
   "source": [
    "### MannKendallTest for RFC per Class"
   ]
  },
  {
   "cell_type": "code",
   "execution_count": 65,
   "metadata": {},
   "outputs": [
    {
     "name": "stdout",
     "output_type": "stream",
     "text": [
      "Trend exists? True. Trend is increasing. P-value: 0.000000000000000000000000000000\n"
     ]
    },
    {
     "data": {
      "text/plain": [
       "Mann_Kendall_Test(trend='increasing', h=True, p=0.0, z=8.68524688846054, Tau=0.6224719101123596, s=2493.0, var_s=82325.0, slope=0.00735951728688442, intercept=0.2437152014931399)"
      ]
     },
     "execution_count": 65,
     "metadata": {},
     "output_type": "execute_result"
    }
   ],
   "source": [
    "result = mk.original_test(allMetricsAndQuestions[\"CountDeclMethodAll\"])\n",
    "print(f\"Trend exists? {result.h}. Trend is {result.trend}. P-value: {format(result.p, '.30f')}\")\n",
    "result"
   ]
  },
  {
   "cell_type": "markdown",
   "metadata": {},
   "source": [
    "### MannKendallTest for DIT per Class"
   ]
  },
  {
   "cell_type": "code",
   "execution_count": 66,
   "metadata": {},
   "outputs": [
    {
     "name": "stdout",
     "output_type": "stream",
     "text": [
      "Trend exists? False. Trend is no trend. P-value: 0.919491608661179737893576202623\n"
     ]
    },
    {
     "data": {
      "text/plain": [
       "Mann_Kendall_Test(trend='no trend', h=False, p=0.9194916086611797, z=0.10107413688576544, Tau=0.00749063670411985, s=30.0, var_s=82322.0, slope=3.1392934504807325e-05, intercept=0.5887923014547195)"
      ]
     },
     "execution_count": 66,
     "metadata": {},
     "output_type": "execute_result"
    }
   ],
   "source": [
    "result = mk.original_test(allMetricsAndQuestions[\"MaxInheritanceTree\"])\n",
    "print(f\"Trend exists? {result.h}. Trend is {result.trend}. P-value: {format(result.p, '.30f')}\")\n",
    "result"
   ]
  },
  {
   "cell_type": "markdown",
   "metadata": {},
   "source": [
    "### MannKendallTest for LCOM per Class"
   ]
  },
  {
   "cell_type": "code",
   "execution_count": 67,
   "metadata": {},
   "outputs": [
    {
     "name": "stdout",
     "output_type": "stream",
     "text": [
      "Trend exists? True. Trend is increasing. P-value: 0.000644687166480917284161478165\n"
     ]
    },
    {
     "data": {
      "text/plain": [
       "Mann_Kendall_Test(trend='increasing', h=True, p=0.0006446871664809173, z=3.4120820009156785, Tau=0.24469413233458176, s=980.0, var_s=82324.0, slope=0.001084187200259525, intercept=0.7755675672687024)"
      ]
     },
     "execution_count": 67,
     "metadata": {},
     "output_type": "execute_result"
    }
   ],
   "source": [
    "result = mk.original_test(allMetricsAndQuestions[\"PercentLackOfCohesion\"])\n",
    "print(f\"Trend exists? {result.h}. Trend is {result.trend}. P-value: {format(result.p, '.30f')}\")\n",
    "result"
   ]
  },
  {
   "cell_type": "markdown",
   "metadata": {},
   "source": [
    "### MannKendallTest for WMC per Class"
   ]
  },
  {
   "cell_type": "code",
   "execution_count": 68,
   "metadata": {},
   "outputs": [
    {
     "name": "stdout",
     "output_type": "stream",
     "text": [
      "Trend exists? True. Trend is increasing. P-value: 0.000000000000000000000000000000\n"
     ]
    },
    {
     "data": {
      "text/plain": [
       "Mann_Kendall_Test(trend='increasing', h=True, p=0.0, z=9.465943237985083, Tau=0.6784019975031211, s=2717.0, var_s=82325.0, slope=0.008537399855142604, intercept=0.19382966450389627)"
      ]
     },
     "execution_count": 68,
     "metadata": {},
     "output_type": "execute_result"
    }
   ],
   "source": [
    "result = mk.original_test(allMetricsAndQuestions[\"SumCyclomatic\"])\n",
    "print(f\"Trend exists? {result.h}. Trend is {result.trend}. P-value: {format(result.p, '.30f')}\")\n",
    "result"
   ]
  },
  {
   "cell_type": "markdown",
   "metadata": {},
   "source": [
    "### MannKendallTest for Classes"
   ]
  },
  {
   "cell_type": "code",
   "execution_count": 69,
   "metadata": {
    "scrolled": true
   },
   "outputs": [
    {
     "name": "stdout",
     "output_type": "stream",
     "text": [
      "Trend exists? True. Trend is increasing. P-value: 0.000000000000000000000000000000\n"
     ]
    },
    {
     "data": {
      "text/plain": [
       "Mann_Kendall_Test(trend='increasing', h=True, p=0.0, z=11.194763995315068, Tau=0.802247191011236, s=3213.0, var_s=82323.0, slope=0.010979788210054742, intercept=0.1254651898812394)"
      ]
     },
     "execution_count": 69,
     "metadata": {},
     "output_type": "execute_result"
    }
   ],
   "source": [
    "result = mk.original_test(allMetricsAndQuestions[\"CountDeclClass\"])\n",
    "print(f\"Trend exists? {result.h}. Trend is {result.trend}. P-value: {format(result.p, '.30f')}\")\n",
    "result"
   ]
  },
  {
   "cell_type": "markdown",
   "metadata": {},
   "source": [
    "### MannKendallTest for Questions"
   ]
  },
  {
   "cell_type": "code",
   "execution_count": 70,
   "metadata": {},
   "outputs": [
    {
     "name": "stdout",
     "output_type": "stream",
     "text": [
      "Trend exists? True. Trend is increasing. P-value: 0.000000000000000000000000000000\n"
     ]
    },
    {
     "data": {
      "text/plain": [
       "Mann_Kendall_Test(trend='increasing', h=True, p=0.0, z=13.22960671816343, Tau=0.9473158551810237, s=3794.0, var_s=82200.0, slope=0.01430816677539885, intercept=-0.2088028586679319)"
      ]
     },
     "execution_count": 70,
     "metadata": {},
     "output_type": "execute_result"
    }
   ],
   "source": [
    "result = mk.original_test(allMetricsAndQuestions[\"questions\"])\n",
    "print(f\"Trend exists? {result.h}. Trend is {result.trend}. P-value: {format(result.p, '.30f')}\")\n",
    "result"
   ]
  },
  {
   "cell_type": "code",
   "execution_count": 53,
   "metadata": {},
   "outputs": [],
   "source": [
    "# def doMannKendallTest(data):\n",
    "#     try:\n",
    "#         result = mk.original_test(data)\n",
    "#     except:\n",
    "#         return None\n",
    "#     return result"
   ]
  },
  {
   "cell_type": "code",
   "execution_count": 54,
   "metadata": {},
   "outputs": [],
   "source": [
    "# def collectForAllMetric(data):\n",
    "#     results = pd.DataFrame(index=data.columns, columns=[\"trend\", \"p\"])\n",
    "#     for metric in data.columns:\n",
    "#         result = doMannKendallTest(data[metric])\n",
    "#         results.loc()[metric, \"trend\"] = result.trend\n",
    "#         results.loc()[metric, \"p\"] = format(result.p, '.20f')            \n",
    "           \n",
    "#     return results"
   ]
  },
  {
   "cell_type": "code",
   "execution_count": 55,
   "metadata": {
    "scrolled": true
   },
   "outputs": [],
   "source": [
    "# results = collectForAllMetric(allMetricsAndQuestions)"
   ]
  },
  {
   "cell_type": "code",
   "execution_count": 56,
   "metadata": {},
   "outputs": [],
   "source": [
    "# results"
   ]
  },
  {
   "cell_type": "code",
   "execution_count": 57,
   "metadata": {},
   "outputs": [],
   "source": [
    "# results.to_csv(\"trendTestResult.csv\", float_format=\"%.15f\")"
   ]
  }
 ],
 "metadata": {
  "kernelspec": {
   "display_name": "Python 3",
   "language": "python",
   "name": "python3"
  },
  "language_info": {
   "codemirror_mode": {
    "name": "ipython",
    "version": 3
   },
   "file_extension": ".py",
   "mimetype": "text/x-python",
   "name": "python",
   "nbconvert_exporter": "python",
   "pygments_lexer": "ipython3",
   "version": "3.8.3"
  }
 },
 "nbformat": 4,
 "nbformat_minor": 4
}
