{
 "cells": [
  {
   "cell_type": "markdown",
   "metadata": {},
   "source": [
    "Loading metrics"
   ]
  },
  {
   "cell_type": "code",
   "execution_count": 1,
   "metadata": {},
   "outputs": [],
   "source": [
    "import pandas as pd"
   ]
  },
  {
   "cell_type": "code",
   "execution_count": 2,
   "metadata": {},
   "outputs": [],
   "source": [
    "allMetricsAndQuestions = pd.read_csv(\"../../3-DataMerge/1-AllFramework/metricsAndQuestions.csv\", index_col=[0,1])"
   ]
  },
  {
   "cell_type": "markdown",
   "metadata": {},
   "source": [
    "## Mann Kendall Test"
   ]
  },
  {
   "cell_type": "markdown",
   "metadata": {},
   "source": [
    "Null Hypothesis: There is no monotonic trend.\n",
    "\n",
    "Alternative Hypothesis: There is a trend."
   ]
  },
  {
   "cell_type": "markdown",
   "metadata": {},
   "source": [
    "If p-value < 0.05 then null Hypothesis is rejected."
   ]
  },
  {
   "cell_type": "code",
   "execution_count": 3,
   "metadata": {
    "scrolled": true
   },
   "outputs": [
    {
     "name": "stdout",
     "output_type": "stream",
     "text": [
      "Collecting pymannkendall\n",
      "  Downloading pymannkendall-1.4.1-py3-none-any.whl (12 kB)\n",
      "Requirement already satisfied: scipy in /opt/conda/lib/python3.8/site-packages (from pymannkendall) (1.5.3)\n",
      "Requirement already satisfied: numpy in /opt/conda/lib/python3.8/site-packages (from pymannkendall) (1.19.5)\n",
      "Installing collected packages: pymannkendall\n",
      "Successfully installed pymannkendall-1.4.1\n",
      "Note: you may need to restart the kernel to use updated packages.\n"
     ]
    }
   ],
   "source": [
    "pip install pymannkendall"
   ]
  },
  {
   "cell_type": "code",
   "execution_count": 4,
   "metadata": {},
   "outputs": [],
   "source": [
    "import pymannkendall as mk"
   ]
  },
  {
   "cell_type": "code",
   "execution_count": 5,
   "metadata": {},
   "outputs": [],
   "source": [
    "AllMetricsAndQuestionsNormalized=(allMetricsAndQuestions-allMetricsAndQuestions.min())/(allMetricsAndQuestions.max()-allMetricsAndQuestions.min())"
   ]
  },
  {
   "cell_type": "code",
   "execution_count": 6,
   "metadata": {},
   "outputs": [],
   "source": [
    "allMetricsAndQuestions = AllMetricsAndQuestionsNormalized"
   ]
  },
  {
   "cell_type": "markdown",
   "metadata": {},
   "source": [
    "### MannKendallTest for Number of Java Files"
   ]
  },
  {
   "cell_type": "code",
   "execution_count": 7,
   "metadata": {
    "scrolled": true
   },
   "outputs": [
    {
     "name": "stdout",
     "output_type": "stream",
     "text": [
      "Trend exists? True. Trend is increasing. P-value: 0.000000000000000000000000000000\n"
     ]
    },
    {
     "data": {
      "text/plain": [
       "Mann_Kendall_Test(trend='increasing', h=True, p=0.0, z=8.774755180063789, Tau=0.6325331971399387, s=2477.0, var_s=79621.66666666667, slope=0.010162198656885928, intercept=0.22446857930521635)"
      ]
     },
     "execution_count": 7,
     "metadata": {},
     "output_type": "execute_result"
    }
   ],
   "source": [
    "result = mk.original_test(allMetricsAndQuestions[\"numberJavaFiles\"])\n",
    "print(f\"Trend exists? {result.h}. Trend is {result.trend}. P-value: {format(result.p, '.30f')}\")\n",
    "result"
   ]
  },
  {
   "cell_type": "markdown",
   "metadata": {},
   "source": [
    "### MannKendallTest for readability per Class"
   ]
  },
  {
   "cell_type": "code",
   "execution_count": 8,
   "metadata": {},
   "outputs": [
    {
     "name": "stdout",
     "output_type": "stream",
     "text": [
      "Trend exists? True. Trend is decreasing. P-value: 0.000003502864970972296987383743\n"
     ]
    },
    {
     "data": {
      "text/plain": [
       "Mann_Kendall_Test(trend='decreasing', h=True, p=3.502864970972297e-06, z=-4.638889363778712, Tau=-0.3345250255362615, s=-1310.0, var_s=79625.33333333333, slope=-0.002381533065597144, intercept=0.21194857668859046)"
      ]
     },
     "execution_count": 8,
     "metadata": {},
     "output_type": "execute_result"
    }
   ],
   "source": [
    "result = mk.original_test(allMetricsAndQuestions[\"readability\"])\n",
    "print(f\"Trend exists? {result.h}. Trend is {result.trend}. P-value: {format(result.p, '.30f')}\")\n",
    "result"
   ]
  },
  {
   "cell_type": "markdown",
   "metadata": {},
   "source": [
    "### MannKendallTest for Physical Lines per Class"
   ]
  },
  {
   "cell_type": "code",
   "execution_count": 9,
   "metadata": {},
   "outputs": [
    {
     "name": "stdout",
     "output_type": "stream",
     "text": [
      "Trend exists? True. Trend is increasing. P-value: 0.000000000000000000000000000000\n"
     ]
    },
    {
     "data": {
      "text/plain": [
       "Mann_Kendall_Test(trend='increasing', h=True, p=0.0, z=9.56482994105328, Tau=0.6894790602655771, s=2700.0, var_s=79625.33333333333, slope=0.009210276900742007, intercept=0.23267099972314337)"
      ]
     },
     "execution_count": 9,
     "metadata": {},
     "output_type": "execute_result"
    }
   ],
   "source": [
    "result = mk.original_test(allMetricsAndQuestions[\"CountLine\"])\n",
    "print(f\"Trend exists? {result.h}. Trend is {result.trend}. P-value: {format(result.p, '.30f')}\")\n",
    "result"
   ]
  },
  {
   "cell_type": "markdown",
   "metadata": {},
   "source": [
    "### MannKendallTest for LOC per Class"
   ]
  },
  {
   "cell_type": "code",
   "execution_count": 10,
   "metadata": {},
   "outputs": [
    {
     "name": "stdout",
     "output_type": "stream",
     "text": [
      "Trend exists? True. Trend is increasing. P-value: 0.000000000000000000000000000000\n"
     ]
    },
    {
     "data": {
      "text/plain": [
       "Mann_Kendall_Test(trend='increasing', h=True, p=0.0, z=9.947564892381086, Tau=0.7170582226762002, s=2808.0, var_s=79625.33333333333, slope=0.010239977537737387, intercept=0.15201335736721266)"
      ]
     },
     "execution_count": 10,
     "metadata": {},
     "output_type": "execute_result"
    }
   ],
   "source": [
    "result = mk.original_test(allMetricsAndQuestions[\"CountLineCode\"])\n",
    "print(f\"Trend exists? {result.h}. Trend is {result.trend}. P-value: {format(result.p, '.30f')}\")\n",
    "result"
   ]
  },
  {
   "cell_type": "markdown",
   "metadata": {},
   "source": [
    "### MannKendallTest for CLOC per Class"
   ]
  },
  {
   "cell_type": "code",
   "execution_count": 11,
   "metadata": {},
   "outputs": [
    {
     "name": "stdout",
     "output_type": "stream",
     "text": [
      "Trend exists? True. Trend is increasing. P-value: 0.000000000000000000000000000000\n"
     ]
    },
    {
     "data": {
      "text/plain": [
       "Mann_Kendall_Test(trend='increasing', h=True, p=0.0, z=9.242398343115704, Tau=0.666241062308478, s=2609.0, var_s=79624.33333333333, slope=0.00725872221624169, intercept=0.4718912166290354)"
      ]
     },
     "execution_count": 11,
     "metadata": {},
     "output_type": "execute_result"
    }
   ],
   "source": [
    "result = mk.original_test(allMetricsAndQuestions[\"CountLineComment\"])\n",
    "print(f\"Trend exists? {result.h}. Trend is {result.trend}. P-value: {format(result.p, '.30f')}\")\n",
    "result"
   ]
  },
  {
   "cell_type": "markdown",
   "metadata": {},
   "source": [
    "### MannKendallTest for CBO per Class"
   ]
  },
  {
   "cell_type": "code",
   "execution_count": 12,
   "metadata": {},
   "outputs": [
    {
     "name": "stdout",
     "output_type": "stream",
     "text": [
      "Trend exists? True. Trend is increasing. P-value: 0.021052521487113562415061096544\n"
     ]
    },
    {
     "data": {
      "text/plain": [
       "Mann_Kendall_Test(trend='increasing', h=True, p=0.021052521487113562, z=2.307041234392621, Tau=0.16649642492339123, s=652.0, var_s=79625.33333333333, slope=0.0015977607364708784, intercept=0.7366393246829313)"
      ]
     },
     "execution_count": 12,
     "metadata": {},
     "output_type": "execute_result"
    }
   ],
   "source": [
    "result = mk.original_test(allMetricsAndQuestions[\"CountClassCoupled\"])\n",
    "print(f\"Trend exists? {result.h}. Trend is {result.trend}. P-value: {format(result.p, '.30f')}\")\n",
    "result"
   ]
  },
  {
   "cell_type": "markdown",
   "metadata": {},
   "source": [
    "### MannKendallTest for NOC per Class"
   ]
  },
  {
   "cell_type": "code",
   "execution_count": 13,
   "metadata": {
    "scrolled": true
   },
   "outputs": [
    {
     "name": "stdout",
     "output_type": "stream",
     "text": [
      "Trend exists? True. Trend is increasing. P-value: 0.000000000231509700299170617654\n"
     ]
    },
    {
     "data": {
      "text/plain": [
       "Mann_Kendall_Test(trend='increasing', h=True, p=2.3150970029917062e-10, z=6.338834492624149, Tau=0.4558222676200204, s=1785.0, var_s=79208.33333333333, slope=0.0074472732158763055, intercept=-0.14499199720232003)"
      ]
     },
     "execution_count": 13,
     "metadata": {},
     "output_type": "execute_result"
    }
   ],
   "source": [
    "result = mk.original_test(allMetricsAndQuestions[\"CountClassDerived\"])\n",
    "print(f\"Trend exists? {result.h}. Trend is {result.trend}. P-value: {format(result.p, '.30f')}\")\n",
    "result"
   ]
  },
  {
   "cell_type": "markdown",
   "metadata": {},
   "source": [
    "### MannKendallTest for RFC per Class"
   ]
  },
  {
   "cell_type": "code",
   "execution_count": 14,
   "metadata": {},
   "outputs": [
    {
     "name": "stdout",
     "output_type": "stream",
     "text": [
      "Trend exists? True. Trend is increasing. P-value: 0.000000000000000000000000000000\n"
     ]
    },
    {
     "data": {
      "text/plain": [
       "Mann_Kendall_Test(trend='increasing', h=True, p=0.0, z=8.749746248410725, Tau=0.6307456588355465, s=2470.0, var_s=79625.33333333333, slope=0.007520734062125339, intercept=0.22657237817332065)"
      ]
     },
     "execution_count": 14,
     "metadata": {},
     "output_type": "execute_result"
    }
   ],
   "source": [
    "result = mk.original_test(allMetricsAndQuestions[\"CountDeclMethodAll\"])\n",
    "print(f\"Trend exists? {result.h}. Trend is {result.trend}. P-value: {format(result.p, '.30f')}\")\n",
    "result"
   ]
  },
  {
   "cell_type": "markdown",
   "metadata": {},
   "source": [
    "### MannKendallTest for DIT per Class"
   ]
  },
  {
   "cell_type": "code",
   "execution_count": 15,
   "metadata": {},
   "outputs": [
    {
     "name": "stdout",
     "output_type": "stream",
     "text": [
      "Trend exists? False. Trend is no trend. P-value: 0.926585511975314357613342508557\n"
     ]
    },
    {
     "data": {
      "text/plain": [
       "Mann_Kendall_Test(trend='no trend', h=False, p=0.9265855119753144, z=0.09214163149122725, Tau=0.006894790602655771, s=27.0, var_s=79622.33333333333, slope=3.208736295786966e-05, intercept=0.5886988258454502)"
      ]
     },
     "execution_count": 15,
     "metadata": {},
     "output_type": "execute_result"
    }
   ],
   "source": [
    "result = mk.original_test(allMetricsAndQuestions[\"MaxInheritanceTree\"])\n",
    "print(f\"Trend exists? {result.h}. Trend is {result.trend}. P-value: {format(result.p, '.30f')}\")\n",
    "result"
   ]
  },
  {
   "cell_type": "markdown",
   "metadata": {},
   "source": [
    "### MannKendallTest for LCOM per Class"
   ]
  },
  {
   "cell_type": "code",
   "execution_count": 16,
   "metadata": {},
   "outputs": [
    {
     "name": "stdout",
     "output_type": "stream",
     "text": [
      "Trend exists? True. Trend is increasing. P-value: 0.000864623448110446446435162215\n"
     ]
    },
    {
     "data": {
      "text/plain": [
       "Mann_Kendall_Test(trend='increasing', h=True, p=0.0008646234481104464, z=3.331232531644464, Tau=0.24029622063329928, s=941.0, var_s=79624.33333333333, slope=0.001093205925652155, intercept=0.7721929350400264)"
      ]
     },
     "execution_count": 16,
     "metadata": {},
     "output_type": "execute_result"
    }
   ],
   "source": [
    "result = mk.original_test(allMetricsAndQuestions[\"PercentLackOfCohesion\"])\n",
    "print(f\"Trend exists? {result.h}. Trend is {result.trend}. P-value: {format(result.p, '.30f')}\")\n",
    "result"
   ]
  },
  {
   "cell_type": "markdown",
   "metadata": {},
   "source": [
    "### MannKendallTest for WMC per Class"
   ]
  },
  {
   "cell_type": "code",
   "execution_count": 17,
   "metadata": {},
   "outputs": [
    {
     "name": "stdout",
     "output_type": "stream",
     "text": [
      "Trend exists? True. Trend is increasing. P-value: 0.000000000000000000000000000000\n"
     ]
    },
    {
     "data": {
      "text/plain": [
       "Mann_Kendall_Test(trend='increasing', h=True, p=0.0, z=9.493953098214796, Tau=0.6843718079673136, s=2680.0, var_s=79625.33333333333, slope=0.008707799683392399, intercept=0.19043611098423996)"
      ]
     },
     "execution_count": 17,
     "metadata": {},
     "output_type": "execute_result"
    }
   ],
   "source": [
    "result = mk.original_test(allMetricsAndQuestions[\"SumCyclomatic\"])\n",
    "print(f\"Trend exists? {result.h}. Trend is {result.trend}. P-value: {format(result.p, '.30f')}\")\n",
    "result"
   ]
  },
  {
   "cell_type": "markdown",
   "metadata": {},
   "source": [
    "### MannKendallTest for Classes"
   ]
  },
  {
   "cell_type": "code",
   "execution_count": 18,
   "metadata": {
    "scrolled": true
   },
   "outputs": [
    {
     "name": "stdout",
     "output_type": "stream",
     "text": [
      "Trend exists? True. Trend is increasing. P-value: 0.000000000000000000000000000000\n"
     ]
    },
    {
     "data": {
      "text/plain": [
       "Mann_Kendall_Test(trend='increasing', h=True, p=0.0, z=11.081733552135884, Tau=0.7987742594484167, s=3128.0, var_s=79623.33333333333, slope=0.011093614437311144, intercept=0.10249278771827208)"
      ]
     },
     "execution_count": 18,
     "metadata": {},
     "output_type": "execute_result"
    }
   ],
   "source": [
    "result = mk.original_test(allMetricsAndQuestions[\"CountDeclClass\"])\n",
    "print(f\"Trend exists? {result.h}. Trend is {result.trend}. P-value: {format(result.p, '.30f')}\")\n",
    "result"
   ]
  },
  {
   "cell_type": "markdown",
   "metadata": {},
   "source": [
    "### MannKendallTest for Questions"
   ]
  },
  {
   "cell_type": "code",
   "execution_count": 19,
   "metadata": {},
   "outputs": [
    {
     "name": "stdout",
     "output_type": "stream",
     "text": [
      "Trend exists? True. Trend is increasing. P-value: 0.000000000000000000000000000000\n"
     ]
    },
    {
     "data": {
      "text/plain": [
       "Mann_Kendall_Test(trend='increasing', h=True, p=0.0, z=13.796648279144593, Tau=0.9941266598569969, s=3893.0, var_s=79579.0, slope=0.014409475621656795, intercept=-0.19916727430740933)"
      ]
     },
     "execution_count": 19,
     "metadata": {},
     "output_type": "execute_result"
    }
   ],
   "source": [
    "result = mk.original_test(allMetricsAndQuestions[\"questions\"])\n",
    "print(f\"Trend exists? {result.h}. Trend is {result.trend}. P-value: {format(result.p, '.30f')}\")\n",
    "result"
   ]
  }
 ],
 "metadata": {
  "kernelspec": {
   "display_name": "Python 3",
   "language": "python",
   "name": "python3"
  },
  "language_info": {
   "codemirror_mode": {
    "name": "ipython",
    "version": 3
   },
   "file_extension": ".py",
   "mimetype": "text/x-python",
   "name": "python",
   "nbconvert_exporter": "python",
   "pygments_lexer": "ipython3",
   "version": "3.8.6"
  }
 },
 "nbformat": 4,
 "nbformat_minor": 4
}
