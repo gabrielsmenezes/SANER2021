{
 "cells": [
  {
   "cell_type": "code",
   "execution_count": 255,
   "metadata": {},
   "outputs": [],
   "source": [
    "import pandas as pd"
   ]
  },
  {
   "cell_type": "code",
   "execution_count": 256,
   "metadata": {},
   "outputs": [],
   "source": [
    "android = pd.read_csv(\"..\\\\..\\\\3-DataMerge\\\\2-SeparetedFramework\\\\android.csv\", index_col=[0,1])\n",
    "aws = pd.read_csv(\"..\\\\..\\\\3-DataMerge\\\\2-SeparetedFramework\\\\aws.csv\", index_col=[0,1])\n",
    "azure = pd.read_csv(\"..\\\\..\\\\3-DataMerge\\\\2-SeparetedFramework\\\\azure.csv\", index_col=[0,1])\n",
    "spring = pd.read_csv(\"..\\\\..\\\\3-DataMerge\\\\2-SeparetedFramework\\\\spring.csv\", index_col=[0,1])"
   ]
  },
  {
   "cell_type": "code",
   "execution_count": 257,
   "metadata": {},
   "outputs": [],
   "source": [
    "allMetricsAndQuestions = android"
   ]
  },
  {
   "cell_type": "code",
   "execution_count": 258,
   "metadata": {},
   "outputs": [],
   "source": [
    "allMetricsAndQuestions.fillna(0,inplace=True)"
   ]
  },
  {
   "cell_type": "markdown",
   "metadata": {},
   "source": [
    "## Normality Test (Shapiro-Wilk)"
   ]
  },
  {
   "cell_type": "markdown",
   "metadata": {},
   "source": [
    "Null Hyphotesis: The population has normal distribution\n",
    "\n",
    "Alternative Hyphotesis: The population has not normal distribution"
   ]
  },
  {
   "cell_type": "markdown",
   "metadata": {},
   "source": [
    "If p-value < 0.05 then null hyphotesis is rejected"
   ]
  },
  {
   "cell_type": "code",
   "execution_count": 259,
   "metadata": {},
   "outputs": [],
   "source": [
    "from scipy import stats"
   ]
  },
  {
   "cell_type": "markdown",
   "metadata": {},
   "source": [
    "### Shapiro-Wilk test for Number of Java Files"
   ]
  },
  {
   "cell_type": "code",
   "execution_count": 260,
   "metadata": {
    "scrolled": false
   },
   "outputs": [
    {
     "name": "stdout",
     "output_type": "stream",
     "text": [
      "P-value: 0.00114312476944178343\n"
     ]
    }
   ],
   "source": [
    "result = stats.shapiro(allMetricsAndQuestions[\"numberJavaFiles\"])\n",
    "print(f\"P-value: {format(result.pvalue, '.20f')}\")"
   ]
  },
  {
   "cell_type": "markdown",
   "metadata": {},
   "source": [
    "### Shapiro-Wilk for Readability per Class"
   ]
  },
  {
   "cell_type": "code",
   "execution_count": 261,
   "metadata": {
    "scrolled": true
   },
   "outputs": [
    {
     "name": "stdout",
     "output_type": "stream",
     "text": [
      "P-value: 0.00000000151738688281\n"
     ]
    }
   ],
   "source": [
    "result = stats.shapiro(allMetricsAndQuestions[\"readability\"])\n",
    "print(f\"P-value: {format(result.pvalue, '.20f')}\")"
   ]
  },
  {
   "cell_type": "markdown",
   "metadata": {},
   "source": [
    "### Shapiro-Wilk for Physical Lines per Class"
   ]
  },
  {
   "cell_type": "code",
   "execution_count": 262,
   "metadata": {
    "scrolled": false
   },
   "outputs": [
    {
     "name": "stdout",
     "output_type": "stream",
     "text": [
      "P-value: 0.00000008115531358044\n"
     ]
    }
   ],
   "source": [
    "result = stats.shapiro(allMetricsAndQuestions[\"CountLine\"])\n",
    "print(f\"P-value: {format(result.pvalue, '.20f')}\")"
   ]
  },
  {
   "cell_type": "markdown",
   "metadata": {},
   "source": [
    "### Shapiro-Wilk for LOC per Class"
   ]
  },
  {
   "cell_type": "code",
   "execution_count": 263,
   "metadata": {
    "scrolled": false
   },
   "outputs": [
    {
     "name": "stdout",
     "output_type": "stream",
     "text": [
      "P-value: 0.00000612912572250934\n"
     ]
    }
   ],
   "source": [
    "result = stats.shapiro(allMetricsAndQuestions[\"CountLineCode\"])\n",
    "print(f\"P-value: {format(result.pvalue, '.20f')}\")"
   ]
  },
  {
   "cell_type": "markdown",
   "metadata": {},
   "source": [
    "### Shapiro-Wilk for CLOC per Class"
   ]
  },
  {
   "cell_type": "code",
   "execution_count": 264,
   "metadata": {
    "scrolled": false
   },
   "outputs": [
    {
     "name": "stdout",
     "output_type": "stream",
     "text": [
      "P-value: 0.83004325628280639648\n"
     ]
    }
   ],
   "source": [
    "result = stats.shapiro(allMetricsAndQuestions[\"CountLineComment\"])\n",
    "print(f\"P-value: {format(result.pvalue, '.20f')}\")"
   ]
  },
  {
   "cell_type": "markdown",
   "metadata": {},
   "source": [
    "### Shapiro-Wilk for CBO per Class"
   ]
  },
  {
   "cell_type": "code",
   "execution_count": 265,
   "metadata": {
    "scrolled": false
   },
   "outputs": [
    {
     "name": "stdout",
     "output_type": "stream",
     "text": [
      "P-value: 0.00000023211151756186\n"
     ]
    }
   ],
   "source": [
    "result = stats.shapiro(allMetricsAndQuestions[\"CountClassCoupled\"])\n",
    "print(f\"P-value: {format(result.pvalue, '.20f')}\")"
   ]
  },
  {
   "cell_type": "markdown",
   "metadata": {},
   "source": [
    "### Shapiro-Wilk for NOC per Class"
   ]
  },
  {
   "cell_type": "code",
   "execution_count": 266,
   "metadata": {
    "scrolled": false
   },
   "outputs": [
    {
     "name": "stdout",
     "output_type": "stream",
     "text": [
      "P-value: 0.00000000041694120378\n"
     ]
    }
   ],
   "source": [
    "result = stats.shapiro(allMetricsAndQuestions[\"CountClassDerived\"])\n",
    "print(f\"P-value: {format(result.pvalue, '.20f')}\")"
   ]
  },
  {
   "cell_type": "markdown",
   "metadata": {},
   "source": [
    "### Shapiro-Wilk for RFC per Class"
   ]
  },
  {
   "cell_type": "code",
   "execution_count": 267,
   "metadata": {
    "scrolled": false
   },
   "outputs": [
    {
     "name": "stdout",
     "output_type": "stream",
     "text": [
      "P-value: 0.00000000000010491690\n"
     ]
    }
   ],
   "source": [
    "result = stats.shapiro(allMetricsAndQuestions[\"CountDeclMethodAll\"])\n",
    "print(f\"P-value: {format(result.pvalue, '.20f')}\")"
   ]
  },
  {
   "cell_type": "markdown",
   "metadata": {},
   "source": [
    "### Shapiro-Wilk for DIT per Class"
   ]
  },
  {
   "cell_type": "code",
   "execution_count": 268,
   "metadata": {
    "scrolled": false
   },
   "outputs": [
    {
     "name": "stdout",
     "output_type": "stream",
     "text": [
      "P-value: 0.00000000000001101175\n"
     ]
    }
   ],
   "source": [
    "result = stats.shapiro(allMetricsAndQuestions[\"MaxInheritanceTree\"])\n",
    "print(f\"P-value: {format(result.pvalue, '.20f')}\")"
   ]
  },
  {
   "cell_type": "markdown",
   "metadata": {},
   "source": [
    "### Shapiro-Wilk for LCOM per Class"
   ]
  },
  {
   "cell_type": "code",
   "execution_count": 269,
   "metadata": {
    "scrolled": false
   },
   "outputs": [
    {
     "name": "stdout",
     "output_type": "stream",
     "text": [
      "P-value: 0.00000000001460563094\n"
     ]
    }
   ],
   "source": [
    "result = stats.shapiro(allMetricsAndQuestions[\"PercentLackOfCohesion\"])\n",
    "print(f\"P-value: {format(result.pvalue, '.20f')}\")"
   ]
  },
  {
   "cell_type": "markdown",
   "metadata": {},
   "source": [
    "### Shapiro-Wilk for WMC per Class"
   ]
  },
  {
   "cell_type": "code",
   "execution_count": 270,
   "metadata": {
    "scrolled": false
   },
   "outputs": [
    {
     "name": "stdout",
     "output_type": "stream",
     "text": [
      "P-value: 0.00091477757086977363\n"
     ]
    }
   ],
   "source": [
    "result = stats.shapiro(allMetricsAndQuestions[\"SumCyclomatic\"])\n",
    "print(f\"P-value: {format(result.pvalue, '.20f')}\")"
   ]
  },
  {
   "cell_type": "markdown",
   "metadata": {},
   "source": [
    "### Shapiro-Wilk for Classes"
   ]
  },
  {
   "cell_type": "code",
   "execution_count": 271,
   "metadata": {
    "scrolled": false
   },
   "outputs": [
    {
     "name": "stdout",
     "output_type": "stream",
     "text": [
      "P-value: 0.00359457312151789665\n"
     ]
    }
   ],
   "source": [
    "result = stats.shapiro(allMetricsAndQuestions[\"CountDeclClass\"])\n",
    "print(f\"P-value: {format(result.pvalue, '.20f')}\")"
   ]
  },
  {
   "cell_type": "code",
   "execution_count": 272,
   "metadata": {},
   "outputs": [],
   "source": [
    "def doShapiroWilkTest(data):\n",
    "    try:\n",
    "        result = stats.shapiro(data)\n",
    "        print(result)\n",
    "    except:\n",
    "        return None\n",
    "    return result"
   ]
  },
  {
   "cell_type": "code",
   "execution_count": 273,
   "metadata": {},
   "outputs": [],
   "source": [
    "def collectForAllMetric(data):\n",
    "    results = pd.DataFrame(columns=data.columns, index=[\"p-value\"])\n",
    "    for metric in data.columns:\n",
    "        results[metric] = doShapiroWilkTest(data[metric]).pvalue\n",
    "    return results"
   ]
  },
  {
   "cell_type": "code",
   "execution_count": 274,
   "metadata": {
    "scrolled": true
   },
   "outputs": [
    {
     "name": "stdout",
     "output_type": "stream",
     "text": [
      "ShapiroResult(statistic=0.664408802986145, pvalue=5.596421763509607e-12)\n",
      "ShapiroResult(statistic=0.6316801905632019, pvalue=1.3384072496125388e-12)\n",
      "ShapiroResult(statistic=0.7024220824241638, pvalue=3.3455783282621e-11)\n",
      "ShapiroResult(statistic=0.318486750125885, pvalue=3.7412482441989434e-17)\n",
      "ShapiroResult(statistic=0.7035397291183472, pvalue=3.534306181052216e-11)\n",
      "ShapiroResult(statistic=0.9723702669143677, pvalue=0.09162089228630066)\n",
      "ShapiroResult(statistic=0.7116594314575195, pvalue=5.288129309444223e-11)\n",
      "ShapiroResult(statistic=0.9758767485618591, pvalue=0.15054254233837128)\n",
      "ShapiroResult(statistic=0.5520886182785034, pvalue=5.790950130448586e-14)\n",
      "ShapiroResult(statistic=0.8492513298988342, pvalue=2.3211151756186155e-07)\n",
      "ShapiroResult(statistic=0.9586361050605774, pvalue=0.013445878401398659)\n",
      "ShapiroResult(statistic=0.7509334683418274, pvalue=4.169412037846598e-10)\n",
      "ShapiroResult(statistic=0.9486019015312195, pvalue=0.0035945731215178967)\n",
      "ShapiroResult(statistic=0.8697986602783203, pvalue=1.1782822184613906e-06)\n",
      "ShapiroResult(statistic=0.8993515968322754, pvalue=1.6103062080219388e-05)\n",
      "ShapiroResult(statistic=1.0, pvalue=1.0)\n",
      "ShapiroResult(statistic=1.0, pvalue=1.0)\n",
      "ShapiroResult(statistic=1.0, pvalue=1.0)\n",
      "ShapiroResult(statistic=0.8507039546966553, pvalue=2.592078942598164e-07)\n",
      "ShapiroResult(statistic=0.8791574239730835, pvalue=2.593574436104973e-06)\n",
      "ShapiroResult(statistic=0.8234707713127136, pvalue=3.6079470078220766e-08)\n",
      "ShapiroResult(statistic=0.5680040717124939, pvalue=1.0491689575497024e-13)\n",
      "ShapiroResult(statistic=0.9005655646324158, pvalue=1.807925582397729e-05)\n",
      "ShapiroResult(statistic=0.9793687462806702, pvalue=0.24439691007137299)\n",
      "ShapiroResult(statistic=0.9345877766609192, pvalue=0.0006519736489281058)\n",
      "ShapiroResult(statistic=0.8446998000144958, pvalue=1.648945868737428e-07)\n",
      "ShapiroResult(statistic=1.0, pvalue=1.0)\n",
      "ShapiroResult(statistic=0.8350015878677368, pvalue=8.115531358043881e-08)\n",
      "ShapiroResult(statistic=0.8338980078697205, pvalue=7.498633181057812e-08)\n",
      "ShapiroResult(statistic=0.8889175653457642, pvalue=6.129125722509343e-06)\n",
      "ShapiroResult(statistic=0.8870364427566528, pvalue=5.176701051823329e-06)\n",
      "ShapiroResult(statistic=0.9161199331283569, pvalue=8.535836241208017e-05)\n",
      "ShapiroResult(statistic=0.9902846217155457, pvalue=0.8300432562828064)\n",
      "ShapiroResult(statistic=1.0, pvalue=1.0)\n",
      "ShapiroResult(statistic=1.0, pvalue=1.0)\n",
      "ShapiroResult(statistic=1.0, pvalue=1.0)\n",
      "ShapiroResult(statistic=0.9097541570663452, pvalue=4.450423875823617e-05)\n",
      "ShapiroResult(statistic=0.8865480422973633, pvalue=4.955840267939493e-06)\n",
      "ShapiroResult(statistic=0.8119159936904907, pvalue=1.653702774717658e-08)\n",
      "ShapiroResult(statistic=0.9166914820671082, pvalue=9.060353477252647e-05)\n",
      "ShapiroResult(statistic=1.0, pvalue=1.0)\n",
      "ShapiroResult(statistic=1.0, pvalue=1.0)\n",
      "ShapiroResult(statistic=1.0, pvalue=1.0)\n",
      "ShapiroResult(statistic=1.0, pvalue=1.0)\n",
      "ShapiroResult(statistic=1.0, pvalue=1.0)\n",
      "ShapiroResult(statistic=0.8968294262886047, pvalue=1.2690071343968157e-05)\n",
      "ShapiroResult(statistic=0.8361932039260864, pvalue=8.841908538670396e-08)\n",
      "ShapiroResult(statistic=0.9072368741035461, pvalue=3.461680898908526e-05)\n",
      "ShapiroResult(statistic=0.9158707857131958, pvalue=8.317333413287997e-05)\n",
      "ShapiroResult(statistic=1.0, pvalue=1.0)\n",
      "ShapiroResult(statistic=0.5054097175598145, pvalue=1.1011749339792914e-14)\n",
      "ShapiroResult(statistic=0.8764771223068237, pvalue=2.0619559109036345e-06)\n",
      "ShapiroResult(statistic=1.0, pvalue=1.0)\n",
      "ShapiroResult(statistic=0.6851910352706909, pvalue=1.4605630940800474e-11)\n",
      "ShapiroResult(statistic=0.6567559242248535, pvalue=3.971759119508755e-12)\n",
      "ShapiroResult(statistic=0.9832621812820435, pvalue=0.40711578726768494)\n",
      "ShapiroResult(statistic=0.9374698400497437, pvalue=0.0009147775708697736)\n",
      "ShapiroResult(statistic=0.9210811853408813, pvalue=0.0001441912172595039)\n",
      "ShapiroResult(statistic=0.9434980154037476, pvalue=0.0018960980232805014)\n",
      "ShapiroResult(statistic=0.8995175957679749, pvalue=1.6359257642761804e-05)\n",
      "ShapiroResult(statistic=0.9393377304077148, pvalue=0.0011431247694417834)\n",
      "ShapiroResult(statistic=0.7736015319824219, pvalue=1.5173868828100012e-09)\n",
      "ShapiroResult(statistic=0.9525783061981201, pvalue=0.0060041118413209915)\n"
     ]
    },
    {
     "name": "stderr",
     "output_type": "stream",
     "text": [
      "C:\\Users\\dudur\\anaconda3\\lib\\site-packages\\scipy\\stats\\morestats.py:1678: UserWarning: Input data for shapiro has range zero. The results may not be accurate.\n",
      "  warnings.warn(\"Input data for shapiro has range zero. The results \"\n"
     ]
    }
   ],
   "source": [
    "shapiroWilkTestResult = collectForAllMetric(allMetricsAndQuestions)"
   ]
  },
  {
   "cell_type": "code",
   "execution_count": 275,
   "metadata": {
    "scrolled": true
   },
   "outputs": [
    {
     "data": {
      "text/html": [
       "<div>\n",
       "<style scoped>\n",
       "    .dataframe tbody tr th:only-of-type {\n",
       "        vertical-align: middle;\n",
       "    }\n",
       "\n",
       "    .dataframe tbody tr th {\n",
       "        vertical-align: top;\n",
       "    }\n",
       "\n",
       "    .dataframe thead th {\n",
       "        text-align: right;\n",
       "    }\n",
       "</style>\n",
       "<table border=\"1\" class=\"dataframe\">\n",
       "  <thead>\n",
       "    <tr style=\"text-align: right;\">\n",
       "      <th></th>\n",
       "      <th>AvgCyclomatic</th>\n",
       "      <th>AvgCyclomaticModified</th>\n",
       "      <th>AvgCyclomaticStrict</th>\n",
       "      <th>AvgEssential</th>\n",
       "      <th>AvgLine</th>\n",
       "      <th>AvgLineBlank</th>\n",
       "      <th>AvgLineCode</th>\n",
       "      <th>AvgLineComment</th>\n",
       "      <th>CountClassBase</th>\n",
       "      <th>CountClassCoupled</th>\n",
       "      <th>...</th>\n",
       "      <th>PercentLackOfCohesion</th>\n",
       "      <th>PercentLackOfCohesionModified</th>\n",
       "      <th>RatioCommentToCode</th>\n",
       "      <th>SumCyclomatic</th>\n",
       "      <th>SumCyclomaticModified</th>\n",
       "      <th>SumCyclomaticStrict</th>\n",
       "      <th>SumEssential</th>\n",
       "      <th>numberJavaFiles</th>\n",
       "      <th>readability</th>\n",
       "      <th>questions</th>\n",
       "    </tr>\n",
       "  </thead>\n",
       "  <tbody>\n",
       "    <tr>\n",
       "      <th>p-value</th>\n",
       "      <td>5.596422e-12</td>\n",
       "      <td>1.338407e-12</td>\n",
       "      <td>3.345578e-11</td>\n",
       "      <td>3.741248e-17</td>\n",
       "      <td>3.534306e-11</td>\n",
       "      <td>0.091621</td>\n",
       "      <td>5.288129e-11</td>\n",
       "      <td>0.150543</td>\n",
       "      <td>5.790950e-14</td>\n",
       "      <td>2.321115e-07</td>\n",
       "      <td>...</td>\n",
       "      <td>1.460563e-11</td>\n",
       "      <td>3.971759e-12</td>\n",
       "      <td>0.407116</td>\n",
       "      <td>0.000915</td>\n",
       "      <td>0.000144</td>\n",
       "      <td>0.001896</td>\n",
       "      <td>0.000016</td>\n",
       "      <td>0.001143</td>\n",
       "      <td>1.517387e-09</td>\n",
       "      <td>0.006004</td>\n",
       "    </tr>\n",
       "  </tbody>\n",
       "</table>\n",
       "<p>1 rows × 63 columns</p>\n",
       "</div>"
      ],
      "text/plain": [
       "         AvgCyclomatic  AvgCyclomaticModified  AvgCyclomaticStrict  \\\n",
       "p-value   5.596422e-12           1.338407e-12         3.345578e-11   \n",
       "\n",
       "         AvgEssential       AvgLine  AvgLineBlank   AvgLineCode  \\\n",
       "p-value  3.741248e-17  3.534306e-11      0.091621  5.288129e-11   \n",
       "\n",
       "         AvgLineComment  CountClassBase  CountClassCoupled  ...  \\\n",
       "p-value        0.150543    5.790950e-14       2.321115e-07  ...   \n",
       "\n",
       "         PercentLackOfCohesion  PercentLackOfCohesionModified  \\\n",
       "p-value           1.460563e-11                   3.971759e-12   \n",
       "\n",
       "         RatioCommentToCode  SumCyclomatic  SumCyclomaticModified  \\\n",
       "p-value            0.407116       0.000915               0.000144   \n",
       "\n",
       "         SumCyclomaticStrict  SumEssential  numberJavaFiles   readability  \\\n",
       "p-value             0.001896      0.000016         0.001143  1.517387e-09   \n",
       "\n",
       "         questions  \n",
       "p-value   0.006004  \n",
       "\n",
       "[1 rows x 63 columns]"
      ]
     },
     "execution_count": 275,
     "metadata": {},
     "output_type": "execute_result"
    }
   ],
   "source": [
    "shapiroWilkTestResult"
   ]
  },
  {
   "cell_type": "markdown",
   "metadata": {},
   "source": [
    "## Correlation Test"
   ]
  },
  {
   "cell_type": "markdown",
   "metadata": {},
   "source": [
    "Null Hypothesis: there is no correlation between data\n",
    "\n",
    "Alternative Hypothesis: there is a correlation"
   ]
  },
  {
   "cell_type": "markdown",
   "metadata": {},
   "source": [
    "If p-value < 0.05 then null Hypothesis is rejected."
   ]
  },
  {
   "cell_type": "markdown",
   "metadata": {},
   "source": [
    "If the metric is normalized we will apply the Pearson Test (pearsonr), otherwise we will apply Spearman Test (spearmanr)"
   ]
  },
  {
   "cell_type": "code",
   "execution_count": 276,
   "metadata": {},
   "outputs": [],
   "source": [
    "from scipy import stats"
   ]
  },
  {
   "cell_type": "markdown",
   "metadata": {},
   "source": [
    "### Correlation Test for SO questions and Java files"
   ]
  },
  {
   "cell_type": "code",
   "execution_count": 277,
   "metadata": {},
   "outputs": [
    {
     "name": "stdout",
     "output_type": "stream",
     "text": [
      "Correlation value: -0.06260821865559832. P-value: 0.588555776376\n"
     ]
    }
   ],
   "source": [
    "result = stats.spearmanr(allMetricsAndQuestions[\"questions\"], allMetricsAndQuestions[\"numberJavaFiles\"])\n",
    "print(f\"Correlation value: {result.correlation}. P-value: {format(result.pvalue, '.12f')}\")"
   ]
  },
  {
   "cell_type": "markdown",
   "metadata": {},
   "source": [
    "### Correlation test for questions and readability per Class"
   ]
  },
  {
   "cell_type": "code",
   "execution_count": 278,
   "metadata": {
    "scrolled": false
   },
   "outputs": [
    {
     "name": "stdout",
     "output_type": "stream",
     "text": [
      "Correlation value: -0.1486698419032244. P-value: 0.196905175544\n"
     ]
    }
   ],
   "source": [
    "result = stats.spearmanr(allMetricsAndQuestions[\"questions\"], allMetricsAndQuestions[\"readability\"])\n",
    "print(f\"Correlation value: {result[0]}. P-value: {format(result[1], '.12f')}\")"
   ]
  },
  {
   "cell_type": "markdown",
   "metadata": {},
   "source": [
    "### Correlation test for questions and Physical Lines per Class"
   ]
  },
  {
   "cell_type": "code",
   "execution_count": 279,
   "metadata": {
    "scrolled": true
   },
   "outputs": [
    {
     "name": "stdout",
     "output_type": "stream",
     "text": [
      "Correlation value: 0.40495948703260554. P-value: 0.000258991420\n"
     ]
    }
   ],
   "source": [
    "result = stats.spearmanr(allMetricsAndQuestions[\"questions\"], allMetricsAndQuestions[\"CountLine\"])\n",
    "print(f\"Correlation value: {result[0]}. P-value: {format(result[1], '.12f')}\")"
   ]
  },
  {
   "cell_type": "markdown",
   "metadata": {},
   "source": [
    "### Correlation test for questions and LOC per Class"
   ]
  },
  {
   "cell_type": "code",
   "execution_count": 280,
   "metadata": {
    "scrolled": true
   },
   "outputs": [
    {
     "name": "stdout",
     "output_type": "stream",
     "text": [
      "Correlation value: 0.37559666680543724. P-value: 0.000762435112\n"
     ]
    }
   ],
   "source": [
    "result = stats.spearmanr(allMetricsAndQuestions[\"questions\"], allMetricsAndQuestions[\"CountLineCode\"])\n",
    "print(f\"Correlation value: {result[0]}. P-value: {format(result[1], '.12f')}\")"
   ]
  },
  {
   "cell_type": "markdown",
   "metadata": {},
   "source": [
    "### Correlation test for questions and CLOC per Class"
   ]
  },
  {
   "cell_type": "code",
   "execution_count": 281,
   "metadata": {
    "scrolled": true
   },
   "outputs": [
    {
     "name": "stdout",
     "output_type": "stream",
     "text": [
      "Correlation value: 0.19643038505981136. P-value: 0.086859646367\n"
     ]
    }
   ],
   "source": [
    "result = stats.pearsonr(allMetricsAndQuestions[\"questions\"], allMetricsAndQuestions[\"CountLineComment\"])\n",
    "print(f\"Correlation value: {result[0]}. P-value: {format(result[1], '.12f')}\")"
   ]
  },
  {
   "cell_type": "markdown",
   "metadata": {},
   "source": [
    "### Correlation test for questions and CBO per Class"
   ]
  },
  {
   "cell_type": "code",
   "execution_count": 282,
   "metadata": {
    "scrolled": true
   },
   "outputs": [
    {
     "name": "stdout",
     "output_type": "stream",
     "text": [
      "Correlation value: 0.11341076732295367. P-value: 0.326064852535\n"
     ]
    }
   ],
   "source": [
    "result = stats.spearmanr(allMetricsAndQuestions[\"questions\"], allMetricsAndQuestions[\"CountClassCoupled\"])\n",
    "print(f\"Correlation value: {result[0]}. P-value: {format(result[1], '.12f')}\")"
   ]
  },
  {
   "cell_type": "markdown",
   "metadata": {},
   "source": [
    "### Correlation test for questions and NOC per Class"
   ]
  },
  {
   "cell_type": "code",
   "execution_count": 283,
   "metadata": {
    "scrolled": true
   },
   "outputs": [
    {
     "name": "stdout",
     "output_type": "stream",
     "text": [
      "Correlation value: 0.3032817760660703. P-value: 0.007335359190\n"
     ]
    }
   ],
   "source": [
    "result = stats.spearmanr(allMetricsAndQuestions[\"questions\"], allMetricsAndQuestions[\"CountClassDerived\"])\n",
    "print(f\"Correlation value: {result[0]}. P-value: {format(result[1], '.12f')}\")"
   ]
  },
  {
   "cell_type": "markdown",
   "metadata": {},
   "source": [
    "### Correlation test for questions and RFC per Class"
   ]
  },
  {
   "cell_type": "code",
   "execution_count": 284,
   "metadata": {
    "scrolled": true
   },
   "outputs": [
    {
     "name": "stdout",
     "output_type": "stream",
     "text": [
      "Correlation value: 0.29089065560774313. P-value: 0.010271158886\n"
     ]
    }
   ],
   "source": [
    "result = stats.spearmanr(allMetricsAndQuestions[\"questions\"], allMetricsAndQuestions[\"CountDeclMethodAll\"])\n",
    "print(f\"Correlation value: {result[0]}. P-value: {format(result[1], '.12f')}\")"
   ]
  },
  {
   "cell_type": "markdown",
   "metadata": {},
   "source": [
    "### Correlation test for questions and DIT per Class"
   ]
  },
  {
   "cell_type": "code",
   "execution_count": 285,
   "metadata": {
    "scrolled": true
   },
   "outputs": [
    {
     "name": "stdout",
     "output_type": "stream",
     "text": [
      "Correlation value: 0.4577493892877253. P-value: 0.000028428254\n"
     ]
    }
   ],
   "source": [
    "result = stats.spearmanr(allMetricsAndQuestions[\"questions\"], allMetricsAndQuestions[\"MaxInheritanceTree\"])\n",
    "print(f\"Correlation value: {result[0]}. P-value: {format(result[1], '.12f')}\")"
   ]
  },
  {
   "cell_type": "markdown",
   "metadata": {},
   "source": [
    "### Correlation test for questions and LCOM per Class"
   ]
  },
  {
   "cell_type": "code",
   "execution_count": 286,
   "metadata": {
    "scrolled": true
   },
   "outputs": [
    {
     "name": "stdout",
     "output_type": "stream",
     "text": [
      "Correlation value: -0.00823896255589753. P-value: 0.943306006032\n"
     ]
    }
   ],
   "source": [
    "result = stats.spearmanr(allMetricsAndQuestions[\"questions\"], allMetricsAndQuestions[\"PercentLackOfCohesion\"])\n",
    "print(f\"Correlation value: {result[0]}. P-value: {format(result[1], '.12f')}\")"
   ]
  },
  {
   "cell_type": "markdown",
   "metadata": {},
   "source": [
    "### Correlation test for questions and WMC per Class"
   ]
  },
  {
   "cell_type": "code",
   "execution_count": 287,
   "metadata": {
    "scrolled": true
   },
   "outputs": [
    {
     "name": "stdout",
     "output_type": "stream",
     "text": [
      "Correlation value: 0.3149758017376033. P-value: 0.005269338365\n"
     ]
    }
   ],
   "source": [
    "result = stats.spearmanr(allMetricsAndQuestions[\"questions\"], allMetricsAndQuestions[\"SumCyclomatic\"])\n",
    "print(f\"Correlation value: {result[0]}. P-value: {format(result[1], '.12f')}\")"
   ]
  },
  {
   "cell_type": "markdown",
   "metadata": {},
   "source": [
    "### Correlation test for questions and Classes"
   ]
  },
  {
   "cell_type": "code",
   "execution_count": 288,
   "metadata": {
    "scrolled": true
   },
   "outputs": [
    {
     "name": "stdout",
     "output_type": "stream",
     "text": [
      "Correlation value: -0.01643844126568053. P-value: 0.887161409919\n"
     ]
    }
   ],
   "source": [
    "result = stats.spearmanr(allMetricsAndQuestions[\"questions\"], allMetricsAndQuestions[\"CountDeclClass\"])\n",
    "print(f\"Correlation value: {result[0]}. P-value: {format(result[1], '.12f')}\")"
   ]
  },
  {
   "cell_type": "code",
   "execution_count": 289,
   "metadata": {},
   "outputs": [],
   "source": [
    "def doSpearmanCorrelationTest(data1, data2):\n",
    "    try:\n",
    "        result = stats.spearmanr(data1, data2)\n",
    "    except:\n",
    "        return None\n",
    "    return result"
   ]
  },
  {
   "cell_type": "code",
   "execution_count": 290,
   "metadata": {},
   "outputs": [],
   "source": [
    "def doPearsonCorrelationTest(data1, data2):\n",
    "    try:\n",
    "        result = stats.pearsonr(data1, data2)\n",
    "    except:\n",
    "        return None\n",
    "    return result"
   ]
  },
  {
   "cell_type": "code",
   "execution_count": 291,
   "metadata": {},
   "outputs": [],
   "source": [
    "def collectCorrelationTestAllMetric(data, shapiroWilkTestResult):\n",
    "    results = pd.DataFrame(index=data.columns, columns=[\"correlation\", \"pvalue\"])\n",
    "    for metric in data.columns:\n",
    "        # if shapiroWilkTestResult < 0.05 has no normal distribution then perform spearman test\n",
    "        if (shapiroWilkTestResult[metric] < 0.05).bool():\n",
    "            result = doSpearmanCorrelationTest(data[metric], data[\"questions\"])\n",
    "            results.loc()[metric, \"correlation\"] = result.correlation\n",
    "            results.loc()[metric, \"pvalue\"] = format(result.pvalue, '.20f')\n",
    "        else:\n",
    "            result = doPearsonCorrelationTest(data[metric], data[\"questions\"])\n",
    "            results.loc()[metric, \"correlation\"] = result[0]\n",
    "            results.loc()[metric, \"pvalue\"] = format(result[1], '.20f')\n",
    "    return results"
   ]
  },
  {
   "cell_type": "code",
   "execution_count": 292,
   "metadata": {},
   "outputs": [
    {
     "name": "stderr",
     "output_type": "stream",
     "text": [
      "C:\\Users\\dudur\\anaconda3\\lib\\site-packages\\scipy\\stats\\stats.py:3845: PearsonRConstantInputWarning: An input array is constant; the correlation coefficent is not defined.\n",
      "  warnings.warn(PearsonRConstantInputWarning())\n"
     ]
    }
   ],
   "source": [
    "results = collectCorrelationTestAllMetric(allMetricsAndQuestions, shapiroWilkTestResult)"
   ]
  },
  {
   "cell_type": "code",
   "execution_count": 293,
   "metadata": {},
   "outputs": [],
   "source": [
    "results.to_csv(\"correlationTestResult.csv\",  float_format=\"%.15f\")"
   ]
  }
 ],
 "metadata": {
  "kernelspec": {
   "display_name": "Python 3",
   "language": "python",
   "name": "python3"
  },
  "language_info": {
   "codemirror_mode": {
    "name": "ipython",
    "version": 3
   },
   "file_extension": ".py",
   "mimetype": "text/x-python",
   "name": "python",
   "nbconvert_exporter": "python",
   "pygments_lexer": "ipython3",
   "version": "3.8.3"
  }
 },
 "nbformat": 4,
 "nbformat_minor": 4
}
