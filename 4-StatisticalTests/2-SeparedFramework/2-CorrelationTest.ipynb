{
 "cells": [
  {
   "cell_type": "markdown",
   "metadata": {},
   "source": [
    "# Loading metrics"
   ]
  },
  {
   "cell_type": "code",
   "execution_count": 8,
   "metadata": {},
   "outputs": [],
   "source": [
    "import pandas as pd"
   ]
  },
  {
   "cell_type": "code",
   "execution_count": 9,
   "metadata": {},
   "outputs": [],
   "source": [
    "android = pd.read_csv(\"../../3-DataMerge/2-SeparetedFramework/android.csv\", index_col=[0,1])\n",
    "aws = pd.read_csv(\"../../3-DataMerge/2-SeparetedFramework/aws.csv\", index_col=[0,1])\n",
    "azure = pd.read_csv(\"../../3-DataMerge/2-SeparetedFramework/azure.csv\", index_col=[0,1])\n",
    "spring = pd.read_csv(\"../../3-DataMerge/2-SeparetedFramework/spring.csv\", index_col=[0,1])"
   ]
  },
  {
   "cell_type": "markdown",
   "metadata": {},
   "source": [
    "Select the framework by changing below atributtion (android or aws or azure or spring)"
   ]
  },
  {
   "cell_type": "code",
   "execution_count": 10,
   "metadata": {},
   "outputs": [],
   "source": [
    "allMetricsAndQuestions = spring"
   ]
  },
  {
   "cell_type": "code",
   "execution_count": 11,
   "metadata": {},
   "outputs": [],
   "source": [
    "AllMetricsAndQuestionsNormalized=(allMetricsAndQuestions-allMetricsAndQuestions.min())/(allMetricsAndQuestions.max()-allMetricsAndQuestions.min())"
   ]
  },
  {
   "cell_type": "code",
   "execution_count": 12,
   "metadata": {},
   "outputs": [],
   "source": [
    "allMetricsAndQuestions = AllMetricsAndQuestionsNormalized"
   ]
  },
  {
   "cell_type": "markdown",
   "metadata": {},
   "source": [
    "## Normality Test (Shapiro-Wilk)"
   ]
  },
  {
   "cell_type": "markdown",
   "metadata": {},
   "source": [
    "Null Hyphotesis: The population has normal distribution\n",
    "\n",
    "Alternative Hyphotesis: The population has not normal distribution"
   ]
  },
  {
   "cell_type": "markdown",
   "metadata": {},
   "source": [
    "If p-value < 0.05 then null hyphotesis is rejected"
   ]
  },
  {
   "cell_type": "code",
   "execution_count": 13,
   "metadata": {},
   "outputs": [],
   "source": [
    "from scipy import stats"
   ]
  },
  {
   "cell_type": "markdown",
   "metadata": {},
   "source": [
    "### Shapiro-Wilk test for Number of Java Files"
   ]
  },
  {
   "cell_type": "code",
   "execution_count": 14,
   "metadata": {
    "scrolled": false
   },
   "outputs": [
    {
     "name": "stdout",
     "output_type": "stream",
     "text": [
      "P-value: 0.00000156769704062754\n"
     ]
    }
   ],
   "source": [
    "result = stats.shapiro(allMetricsAndQuestions[\"numberJavaFiles\"])\n",
    "print(f\"P-value: {format(result.pvalue, '.20f')}\")"
   ]
  },
  {
   "cell_type": "markdown",
   "metadata": {},
   "source": [
    "### Shapiro-Wilk for Readability per Class"
   ]
  },
  {
   "cell_type": "code",
   "execution_count": 15,
   "metadata": {
    "scrolled": true
   },
   "outputs": [
    {
     "name": "stdout",
     "output_type": "stream",
     "text": [
      "P-value: 0.00000002313039360047\n"
     ]
    }
   ],
   "source": [
    "result = stats.shapiro(allMetricsAndQuestions[\"readability\"])\n",
    "print(f\"P-value: {format(result.pvalue, '.20f')}\")"
   ]
  },
  {
   "cell_type": "markdown",
   "metadata": {},
   "source": [
    "### Shapiro-Wilk for Physical Lines per Class"
   ]
  },
  {
   "cell_type": "code",
   "execution_count": 39,
   "metadata": {
    "scrolled": false
   },
   "outputs": [
    {
     "name": "stdout",
     "output_type": "stream",
     "text": [
      "P-value: 0.00000755298424337525\n"
     ]
    }
   ],
   "source": [
    "result = stats.shapiro(allMetricsAndQuestions[\"CountLine\"])\n",
    "print(f\"P-value: {format(result.pvalue, '.20f')}\")"
   ]
  },
  {
   "cell_type": "markdown",
   "metadata": {},
   "source": [
    "### Shapiro-Wilk for LOC per Class"
   ]
  },
  {
   "cell_type": "code",
   "execution_count": 40,
   "metadata": {
    "scrolled": false
   },
   "outputs": [
    {
     "name": "stdout",
     "output_type": "stream",
     "text": [
      "P-value: 0.00000132286743337318\n"
     ]
    }
   ],
   "source": [
    "result = stats.shapiro(allMetricsAndQuestions[\"CountLineCode\"])\n",
    "print(f\"P-value: {format(result.pvalue, '.20f')}\")"
   ]
  },
  {
   "cell_type": "markdown",
   "metadata": {},
   "source": [
    "### Shapiro-Wilk for CLOC per Class"
   ]
  },
  {
   "cell_type": "code",
   "execution_count": 41,
   "metadata": {
    "scrolled": false
   },
   "outputs": [
    {
     "name": "stdout",
     "output_type": "stream",
     "text": [
      "P-value: 0.00001207736204378307\n"
     ]
    }
   ],
   "source": [
    "result = stats.shapiro(allMetricsAndQuestions[\"CountLineComment\"])\n",
    "print(f\"P-value: {format(result.pvalue, '.20f')}\")"
   ]
  },
  {
   "cell_type": "markdown",
   "metadata": {},
   "source": [
    "### Shapiro-Wilk for CBO per Class"
   ]
  },
  {
   "cell_type": "code",
   "execution_count": 42,
   "metadata": {
    "scrolled": false
   },
   "outputs": [
    {
     "name": "stdout",
     "output_type": "stream",
     "text": [
      "P-value: 0.00007502763764932752\n"
     ]
    }
   ],
   "source": [
    "result = stats.shapiro(allMetricsAndQuestions[\"CountClassCoupled\"])\n",
    "print(f\"P-value: {format(result.pvalue, '.20f')}\")"
   ]
  },
  {
   "cell_type": "markdown",
   "metadata": {},
   "source": [
    "### Shapiro-Wilk for NOC per Class"
   ]
  },
  {
   "cell_type": "code",
   "execution_count": 43,
   "metadata": {
    "scrolled": false
   },
   "outputs": [
    {
     "name": "stdout",
     "output_type": "stream",
     "text": [
      "P-value: 0.00000000000087276231\n"
     ]
    }
   ],
   "source": [
    "result = stats.shapiro(allMetricsAndQuestions[\"CountClassDerived\"])\n",
    "print(f\"P-value: {format(result.pvalue, '.20f')}\")"
   ]
  },
  {
   "cell_type": "markdown",
   "metadata": {},
   "source": [
    "### Shapiro-Wilk for RFC per Class"
   ]
  },
  {
   "cell_type": "code",
   "execution_count": 44,
   "metadata": {
    "scrolled": false
   },
   "outputs": [
    {
     "name": "stdout",
     "output_type": "stream",
     "text": [
      "P-value: 0.00000086140494204301\n"
     ]
    }
   ],
   "source": [
    "result = stats.shapiro(allMetricsAndQuestions[\"CountDeclMethodAll\"])\n",
    "print(f\"P-value: {format(result.pvalue, '.20f')}\")"
   ]
  },
  {
   "cell_type": "markdown",
   "metadata": {},
   "source": [
    "### Shapiro-Wilk for DIT per Class"
   ]
  },
  {
   "cell_type": "code",
   "execution_count": 45,
   "metadata": {
    "scrolled": false
   },
   "outputs": [
    {
     "name": "stdout",
     "output_type": "stream",
     "text": [
      "P-value: 0.00000849850312079070\n"
     ]
    }
   ],
   "source": [
    "result = stats.shapiro(allMetricsAndQuestions[\"MaxInheritanceTree\"])\n",
    "print(f\"P-value: {format(result.pvalue, '.20f')}\")"
   ]
  },
  {
   "cell_type": "markdown",
   "metadata": {},
   "source": [
    "### Shapiro-Wilk for LCOM per Class"
   ]
  },
  {
   "cell_type": "code",
   "execution_count": 46,
   "metadata": {
    "scrolled": false
   },
   "outputs": [
    {
     "name": "stdout",
     "output_type": "stream",
     "text": [
      "P-value: 0.00000000000068095844\n"
     ]
    }
   ],
   "source": [
    "result = stats.shapiro(allMetricsAndQuestions[\"PercentLackOfCohesion\"])\n",
    "print(f\"P-value: {format(result.pvalue, '.20f')}\")"
   ]
  },
  {
   "cell_type": "markdown",
   "metadata": {},
   "source": [
    "### Shapiro-Wilk for WMC per Class"
   ]
  },
  {
   "cell_type": "code",
   "execution_count": 47,
   "metadata": {
    "scrolled": false
   },
   "outputs": [
    {
     "name": "stdout",
     "output_type": "stream",
     "text": [
      "P-value: 0.00003498363730614074\n"
     ]
    }
   ],
   "source": [
    "result = stats.shapiro(allMetricsAndQuestions[\"SumCyclomatic\"])\n",
    "print(f\"P-value: {format(result.pvalue, '.20f')}\")"
   ]
  },
  {
   "cell_type": "markdown",
   "metadata": {},
   "source": [
    "### Shapiro-Wilk for Classes"
   ]
  },
  {
   "cell_type": "code",
   "execution_count": 48,
   "metadata": {
    "scrolled": false
   },
   "outputs": [
    {
     "name": "stdout",
     "output_type": "stream",
     "text": [
      "P-value: 0.00002716184098972008\n"
     ]
    }
   ],
   "source": [
    "result = stats.shapiro(allMetricsAndQuestions[\"CountDeclClass\"])\n",
    "print(f\"P-value: {format(result.pvalue, '.20f')}\")"
   ]
  },
  {
   "cell_type": "markdown",
   "metadata": {},
   "source": [
    "## Correlation Test"
   ]
  },
  {
   "cell_type": "markdown",
   "metadata": {},
   "source": [
    "Null Hypothesis: there is no correlation between data\n",
    "\n",
    "Alternative Hypothesis: there is a correlation"
   ]
  },
  {
   "cell_type": "markdown",
   "metadata": {},
   "source": [
    "If p-value < 0.05 then null Hypothesis is rejected."
   ]
  },
  {
   "cell_type": "markdown",
   "metadata": {},
   "source": [
    "If the metric is normalized we will apply the Pearson Test (pearsonr), otherwise we will apply Spearman Test (spearmanr)"
   ]
  },
  {
   "cell_type": "code",
   "execution_count": 49,
   "metadata": {},
   "outputs": [],
   "source": [
    "from scipy import stats"
   ]
  },
  {
   "cell_type": "markdown",
   "metadata": {},
   "source": [
    "### Correlation Test for SO questions and Java files"
   ]
  },
  {
   "cell_type": "code",
   "execution_count": 50,
   "metadata": {},
   "outputs": [
    {
     "name": "stdout",
     "output_type": "stream",
     "text": [
      "Correlation value: 0.9659720873242046. P-value: 0.000000000000000000000000000000\n"
     ]
    }
   ],
   "source": [
    "result = stats.spearmanr(allMetricsAndQuestions[\"questions\"], allMetricsAndQuestions[\"numberJavaFiles\"])\n",
    "print(f\"Correlation value: {result.correlation}. P-value: {format(result.pvalue, '.30f')}\")"
   ]
  },
  {
   "cell_type": "markdown",
   "metadata": {},
   "source": [
    "### Correlation test for questions and readability per Class"
   ]
  },
  {
   "cell_type": "code",
   "execution_count": 51,
   "metadata": {
    "scrolled": false
   },
   "outputs": [
    {
     "name": "stdout",
     "output_type": "stream",
     "text": [
      "Correlation value: -0.5113893073761469. P-value: 0.000000303454615806645403381845\n"
     ]
    }
   ],
   "source": [
    "result = stats.spearmanr(allMetricsAndQuestions[\"questions\"], allMetricsAndQuestions[\"readability\"])\n",
    "print(f\"Correlation value: {result[0]}. P-value: {format(result[1], '.30f')}\")"
   ]
  },
  {
   "cell_type": "markdown",
   "metadata": {},
   "source": [
    "### Correlation test for questions and Physical Lines per Class"
   ]
  },
  {
   "cell_type": "code",
   "execution_count": 52,
   "metadata": {
    "scrolled": true
   },
   "outputs": [
    {
     "name": "stdout",
     "output_type": "stream",
     "text": [
      "Correlation value: 0.6540353284649056. P-value: 0.000000000003661054183422393006\n"
     ]
    }
   ],
   "source": [
    "result = stats.spearmanr(allMetricsAndQuestions[\"questions\"], allMetricsAndQuestions[\"CountLine\"])\n",
    "print(f\"Correlation value: {result[0]}. P-value: {format(result[1], '.30f')}\")"
   ]
  },
  {
   "cell_type": "markdown",
   "metadata": {},
   "source": [
    "### Correlation test for questions and LOC per Class"
   ]
  },
  {
   "cell_type": "code",
   "execution_count": 53,
   "metadata": {
    "scrolled": true
   },
   "outputs": [
    {
     "name": "stdout",
     "output_type": "stream",
     "text": [
      "Correlation value: 0.5760075214897877. P-value: 0.000000003507783146068216398879\n"
     ]
    }
   ],
   "source": [
    "result = stats.spearmanr(allMetricsAndQuestions[\"questions\"], allMetricsAndQuestions[\"CountLineCode\"])\n",
    "print(f\"Correlation value: {result[0]}. P-value: {format(result[1], '.30f')}\")"
   ]
  },
  {
   "cell_type": "markdown",
   "metadata": {},
   "source": [
    "### Correlation test for questions and CLOC per Class"
   ]
  },
  {
   "cell_type": "code",
   "execution_count": 54,
   "metadata": {
    "scrolled": true
   },
   "outputs": [
    {
     "name": "stdout",
     "output_type": "stream",
     "text": [
      "Correlation value: 0.7595282819536902. P-value: 0.000000000000000006279135897202\n"
     ]
    }
   ],
   "source": [
    "result = stats.spearmanr(allMetricsAndQuestions[\"questions\"], allMetricsAndQuestions[\"CountLineComment\"])\n",
    "print(f\"Correlation value: {result[0]}. P-value: {format(result[1], '.30f')}\")"
   ]
  },
  {
   "cell_type": "markdown",
   "metadata": {},
   "source": [
    "### Correlation test for questions and CBO per Class"
   ]
  },
  {
   "cell_type": "code",
   "execution_count": 55,
   "metadata": {
    "scrolled": true
   },
   "outputs": [
    {
     "name": "stdout",
     "output_type": "stream",
     "text": [
      "Correlation value: -0.8876142438221943. P-value: 0.000000000000000000000000000000\n"
     ]
    }
   ],
   "source": [
    "result = stats.spearmanr(allMetricsAndQuestions[\"questions\"], allMetricsAndQuestions[\"CountClassCoupled\"])\n",
    "print(f\"Correlation value: {result[0]}. P-value: {format(result[1], '.30f')}\")"
   ]
  },
  {
   "cell_type": "markdown",
   "metadata": {},
   "source": [
    "### Correlation test for questions and NOC per Class"
   ]
  },
  {
   "cell_type": "code",
   "execution_count": 56,
   "metadata": {
    "scrolled": true
   },
   "outputs": [
    {
     "name": "stdout",
     "output_type": "stream",
     "text": [
      "Correlation value: 0.6597056403888263. P-value: 0.000000000002053494837381007497\n"
     ]
    }
   ],
   "source": [
    "result = stats.spearmanr(allMetricsAndQuestions[\"questions\"], allMetricsAndQuestions[\"CountClassDerived\"])\n",
    "print(f\"Correlation value: {result[0]}. P-value: {format(result[1], '.30f')}\")"
   ]
  },
  {
   "cell_type": "markdown",
   "metadata": {},
   "source": [
    "### Correlation test for questions and RFC per Class"
   ]
  },
  {
   "cell_type": "code",
   "execution_count": 57,
   "metadata": {
    "scrolled": true
   },
   "outputs": [
    {
     "name": "stdout",
     "output_type": "stream",
     "text": [
      "Correlation value: 0.7670635619120643. P-value: 0.000000000000000001875202460244\n"
     ]
    }
   ],
   "source": [
    "result = stats.spearmanr(allMetricsAndQuestions[\"questions\"], allMetricsAndQuestions[\"CountDeclMethodAll\"])\n",
    "print(f\"Correlation value: {result[0]}. P-value: {format(result[1], '.30f')}\")"
   ]
  },
  {
   "cell_type": "markdown",
   "metadata": {},
   "source": [
    "### Correlation test for questions and DIT per Class"
   ]
  },
  {
   "cell_type": "code",
   "execution_count": 58,
   "metadata": {
    "scrolled": true
   },
   "outputs": [
    {
     "name": "stdout",
     "output_type": "stream",
     "text": [
      "Correlation value: -0.7131470246244201. P-value: 0.000000000000004481318236410620\n"
     ]
    }
   ],
   "source": [
    "result = stats.spearmanr(allMetricsAndQuestions[\"questions\"], allMetricsAndQuestions[\"MaxInheritanceTree\"])\n",
    "print(f\"Correlation value: {result[0]}. P-value: {format(result[1], '.30f')}\")"
   ]
  },
  {
   "cell_type": "markdown",
   "metadata": {},
   "source": [
    "### Correlation test for questions and LCOM per Class"
   ]
  },
  {
   "cell_type": "code",
   "execution_count": 59,
   "metadata": {
    "scrolled": true
   },
   "outputs": [
    {
     "name": "stdout",
     "output_type": "stream",
     "text": [
      "Correlation value: -0.5292477079580888. P-value: 0.000000096999593849552196291885\n"
     ]
    }
   ],
   "source": [
    "result = stats.spearmanr(allMetricsAndQuestions[\"questions\"], allMetricsAndQuestions[\"PercentLackOfCohesion\"])\n",
    "print(f\"Correlation value: {result[0]}. P-value: {format(result[1], '.30f')}\")"
   ]
  },
  {
   "cell_type": "markdown",
   "metadata": {},
   "source": [
    "### Correlation test for questions and WMC per Class"
   ]
  },
  {
   "cell_type": "code",
   "execution_count": 60,
   "metadata": {
    "scrolled": true
   },
   "outputs": [
    {
     "name": "stdout",
     "output_type": "stream",
     "text": [
      "Correlation value: 0.6696926471162243. P-value: 0.000000000000719248339979435758\n"
     ]
    }
   ],
   "source": [
    "result = stats.spearmanr(allMetricsAndQuestions[\"questions\"], allMetricsAndQuestions[\"SumCyclomatic\"])\n",
    "print(f\"Correlation value: {result[0]}. P-value: {format(result[1], '.30f')}\")"
   ]
  },
  {
   "cell_type": "markdown",
   "metadata": {},
   "source": [
    "### Correlation test for questions and Classes"
   ]
  },
  {
   "cell_type": "code",
   "execution_count": 61,
   "metadata": {
    "scrolled": true
   },
   "outputs": [
    {
     "name": "stdout",
     "output_type": "stream",
     "text": [
      "Correlation value: 0.9602845035814414. P-value: 0.000000000000000000000000000000\n"
     ]
    }
   ],
   "source": [
    "result = stats.spearmanr(allMetricsAndQuestions[\"questions\"], allMetricsAndQuestions[\"CountDeclClass\"])\n",
    "print(f\"Correlation value: {result[0]}. P-value: {format(result[1], '.30f')}\")"
   ]
  },
  {
   "cell_type": "code",
   "execution_count": null,
   "metadata": {},
   "outputs": [],
   "source": []
  }
 ],
 "metadata": {
  "kernelspec": {
   "display_name": "Python 3",
   "language": "python",
   "name": "python3"
  },
  "language_info": {
   "codemirror_mode": {
    "name": "ipython",
    "version": 3
   },
   "file_extension": ".py",
   "mimetype": "text/x-python",
   "name": "python",
   "nbconvert_exporter": "python",
   "pygments_lexer": "ipython3",
   "version": "3.8.6"
  }
 },
 "nbformat": 4,
 "nbformat_minor": 4
}
