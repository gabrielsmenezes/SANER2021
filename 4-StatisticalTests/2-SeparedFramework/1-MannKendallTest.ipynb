{
 "cells": [
  {
   "cell_type": "markdown",
   "metadata": {},
   "source": [
    "# Loading metrics"
   ]
  },
  {
   "cell_type": "code",
   "execution_count": 93,
   "metadata": {},
   "outputs": [],
   "source": [
    "import pandas as pd"
   ]
  },
  {
   "cell_type": "code",
   "execution_count": 94,
   "metadata": {},
   "outputs": [],
   "source": [
    "android = pd.read_csv(\"..\\\\..\\\\3-DataMerge\\\\2-SeparetedFramework\\\\android.csv\", index_col=[0,1])\n",
    "aws = pd.read_csv(\"..\\\\..\\\\3-DataMerge\\\\2-SeparetedFramework\\\\aws.csv\", index_col=[0,1])\n",
    "azure = pd.read_csv(\"..\\\\..\\\\3-DataMerge\\\\2-SeparetedFramework\\\\azure.csv\", index_col=[0,1])\n",
    "spring = pd.read_csv(\"..\\\\..\\\\3-DataMerge\\\\2-SeparetedFramework\\\\spring.csv\", index_col=[0,1])"
   ]
  },
  {
   "cell_type": "code",
   "execution_count": 95,
   "metadata": {},
   "outputs": [],
   "source": [
    "allMetricsAndQuestions = spring"
   ]
  },
  {
   "cell_type": "code",
   "execution_count": 96,
   "metadata": {},
   "outputs": [],
   "source": [
    "allMetricsAndQuestions.fillna(0,inplace=True)"
   ]
  },
  {
   "cell_type": "markdown",
   "metadata": {},
   "source": [
    "## Mann Kendall Test"
   ]
  },
  {
   "cell_type": "markdown",
   "metadata": {},
   "source": [
    "Null Hypothesis: There is no monotonic trend.\n",
    "\n",
    "Alternative Hypothesis: There is a trend."
   ]
  },
  {
   "cell_type": "markdown",
   "metadata": {},
   "source": [
    "If p-value < 0.05 then null Hypothesis is rejected."
   ]
  },
  {
   "cell_type": "code",
   "execution_count": 97,
   "metadata": {
    "scrolled": true
   },
   "outputs": [
    {
     "name": "stdout",
     "output_type": "stream",
     "text": [
      "Requirement already satisfied: pymannkendall in c:\\users\\dudur\\anaconda3\\lib\\site-packages (1.4.1)\n",
      "Requirement already satisfied: scipy in c:\\users\\dudur\\anaconda3\\lib\\site-packages (from pymannkendall) (1.5.0)\n",
      "Requirement already satisfied: numpy in c:\\users\\dudur\\anaconda3\\lib\\site-packages (from pymannkendall) (1.18.5)\n",
      "Note: you may need to restart the kernel to use updated packages.\n"
     ]
    }
   ],
   "source": [
    "pip install pymannkendall"
   ]
  },
  {
   "cell_type": "code",
   "execution_count": 98,
   "metadata": {},
   "outputs": [],
   "source": [
    "import pymannkendall as mk"
   ]
  },
  {
   "cell_type": "markdown",
   "metadata": {},
   "source": [
    "### MannKendallTest for Number of Java Files"
   ]
  },
  {
   "cell_type": "code",
   "execution_count": 99,
   "metadata": {
    "scrolled": true
   },
   "outputs": [
    {
     "name": "stdout",
     "output_type": "stream",
     "text": [
      "Trend exists? True. Trend is increasing. P-value: 0.00000000000000000000\n"
     ]
    }
   ],
   "source": [
    "result = mk.original_test(allMetricsAndQuestions[\"numberJavaFiles\"])\n",
    "print(f\"Trend exists? {result.h}. Trend is {result.trend}. P-value: {format(result.p, '.20f')}\")"
   ]
  },
  {
   "cell_type": "markdown",
   "metadata": {},
   "source": [
    "### MannKendallTest for readability per Class"
   ]
  },
  {
   "cell_type": "code",
   "execution_count": 100,
   "metadata": {},
   "outputs": [
    {
     "name": "stdout",
     "output_type": "stream",
     "text": [
      "Trend exists? True. Trend is decreasing. P-value: 0.00019839016490852401\n"
     ]
    }
   ],
   "source": [
    "result = mk.original_test(allMetricsAndQuestions[\"readability\"])\n",
    "print(f\"Trend exists? {result.h}. Trend is {result.trend}. P-value: {format(result.p, '.20f')}\")"
   ]
  },
  {
   "cell_type": "markdown",
   "metadata": {},
   "source": [
    "### MannKendallTest for Physical Lines per Class"
   ]
  },
  {
   "cell_type": "code",
   "execution_count": 101,
   "metadata": {},
   "outputs": [
    {
     "name": "stdout",
     "output_type": "stream",
     "text": [
      "Trend exists? True. Trend is increasing. P-value: 0.00000003502644374542\n"
     ]
    }
   ],
   "source": [
    "result = mk.original_test(allMetricsAndQuestions[\"CountLine\"])\n",
    "print(f\"Trend exists? {result.h}. Trend is {result.trend}. P-value: {format(result.p, '.20f')}\")"
   ]
  },
  {
   "cell_type": "markdown",
   "metadata": {},
   "source": [
    "### MannKendallTest for LOC per Class"
   ]
  },
  {
   "cell_type": "code",
   "execution_count": 102,
   "metadata": {},
   "outputs": [
    {
     "name": "stdout",
     "output_type": "stream",
     "text": [
      "Trend exists? True. Trend is increasing. P-value: 0.00000344281375208588\n"
     ]
    }
   ],
   "source": [
    "result = mk.original_test(allMetricsAndQuestions[\"CountLineCode\"])\n",
    "print(f\"Trend exists? {result.h}. Trend is {result.trend}. P-value: {format(result.p, '.20f')}\")"
   ]
  },
  {
   "cell_type": "markdown",
   "metadata": {},
   "source": [
    "### MannKendallTest for CLOC per Class"
   ]
  },
  {
   "cell_type": "code",
   "execution_count": 103,
   "metadata": {},
   "outputs": [
    {
     "name": "stdout",
     "output_type": "stream",
     "text": [
      "Trend exists? True. Trend is increasing. P-value: 0.00000000004148481558\n"
     ]
    }
   ],
   "source": [
    "result = mk.original_test(allMetricsAndQuestions[\"CountLineComment\"])\n",
    "print(f\"Trend exists? {result.h}. Trend is {result.trend}. P-value: {format(result.p, '.20f')}\")"
   ]
  },
  {
   "cell_type": "markdown",
   "metadata": {},
   "source": [
    "### MannKendallTest for CBO per Class"
   ]
  },
  {
   "cell_type": "code",
   "execution_count": 104,
   "metadata": {},
   "outputs": [
    {
     "name": "stdout",
     "output_type": "stream",
     "text": [
      "Trend exists? True. Trend is decreasing. P-value: 0.00000120329515529427\n"
     ]
    }
   ],
   "source": [
    "result = mk.original_test(allMetricsAndQuestions[\"CountClassCoupled\"])\n",
    "print(f\"Trend exists? {result.h}. Trend is {result.trend}. P-value: {format(result.p, '.20f')}\")"
   ]
  },
  {
   "cell_type": "markdown",
   "metadata": {},
   "source": [
    "### MannKendallTest for NOC per Class"
   ]
  },
  {
   "cell_type": "code",
   "execution_count": 105,
   "metadata": {
    "scrolled": true
   },
   "outputs": [
    {
     "name": "stdout",
     "output_type": "stream",
     "text": [
      "Trend exists? True. Trend is increasing. P-value: 0.00001093341082047949\n"
     ]
    }
   ],
   "source": [
    "result = mk.original_test(allMetricsAndQuestions[\"CountClassDerived\"])\n",
    "print(f\"Trend exists? {result.h}. Trend is {result.trend}. P-value: {format(result.p, '.20f')}\")"
   ]
  },
  {
   "cell_type": "markdown",
   "metadata": {},
   "source": [
    "### MannKendallTest for RFC per Class"
   ]
  },
  {
   "cell_type": "code",
   "execution_count": 106,
   "metadata": {},
   "outputs": [
    {
     "name": "stdout",
     "output_type": "stream",
     "text": [
      "Trend exists? True. Trend is increasing. P-value: 0.00000006375481720333\n"
     ]
    }
   ],
   "source": [
    "result = mk.original_test(allMetricsAndQuestions[\"CountDeclMethodAll\"])\n",
    "print(f\"Trend exists? {result.h}. Trend is {result.trend}. P-value: {format(result.p, '.20f')}\")"
   ]
  },
  {
   "cell_type": "markdown",
   "metadata": {},
   "source": [
    "### MannKendallTest for DIT per Class"
   ]
  },
  {
   "cell_type": "code",
   "execution_count": 107,
   "metadata": {},
   "outputs": [
    {
     "name": "stdout",
     "output_type": "stream",
     "text": [
      "Trend exists? True. Trend is decreasing. P-value: 0.00400644265780814024\n"
     ]
    }
   ],
   "source": [
    "result = mk.original_test(allMetricsAndQuestions[\"MaxInheritanceTree\"])\n",
    "print(f\"Trend exists? {result.h}. Trend is {result.trend}. P-value: {format(result.p, '.20f')}\")"
   ]
  },
  {
   "cell_type": "markdown",
   "metadata": {},
   "source": [
    "### MannKendallTest for LCOM per Class"
   ]
  },
  {
   "cell_type": "code",
   "execution_count": 108,
   "metadata": {},
   "outputs": [
    {
     "name": "stdout",
     "output_type": "stream",
     "text": [
      "Trend exists? False. Trend is no trend. P-value: 0.49176159489220561127\n"
     ]
    }
   ],
   "source": [
    "result = mk.original_test(allMetricsAndQuestions[\"PercentLackOfCohesion\"])\n",
    "print(f\"Trend exists? {result.h}. Trend is {result.trend}. P-value: {format(result.p, '.20f')}\")"
   ]
  },
  {
   "cell_type": "markdown",
   "metadata": {},
   "source": [
    "### MannKendallTest for WMC per Class"
   ]
  },
  {
   "cell_type": "code",
   "execution_count": 109,
   "metadata": {},
   "outputs": [
    {
     "name": "stdout",
     "output_type": "stream",
     "text": [
      "Trend exists? True. Trend is increasing. P-value: 0.00000004638500628040\n"
     ]
    }
   ],
   "source": [
    "result = mk.original_test(allMetricsAndQuestions[\"SumCyclomatic\"])\n",
    "print(f\"Trend exists? {result.h}. Trend is {result.trend}. P-value: {format(result.p, '.20f')}\")"
   ]
  },
  {
   "cell_type": "markdown",
   "metadata": {},
   "source": [
    "### MannKendallTest for Classes"
   ]
  },
  {
   "cell_type": "code",
   "execution_count": 110,
   "metadata": {},
   "outputs": [
    {
     "name": "stdout",
     "output_type": "stream",
     "text": [
      "Trend exists? True. Trend is increasing. P-value: 0.00000000000000754952\n"
     ]
    }
   ],
   "source": [
    "result = mk.original_test(allMetricsAndQuestions[\"CountDeclClass\"])\n",
    "print(f\"Trend exists? {result.h}. Trend is {result.trend}. P-value: {format(result.p, '.20f')}\")"
   ]
  },
  {
   "cell_type": "markdown",
   "metadata": {},
   "source": [
    "### MannKendallTest for Questions"
   ]
  },
  {
   "cell_type": "code",
   "execution_count": 111,
   "metadata": {},
   "outputs": [
    {
     "name": "stdout",
     "output_type": "stream",
     "text": [
      "Trend exists? False. Trend is no trend. P-value: 0.05825747769003242205\n"
     ]
    }
   ],
   "source": [
    "result = mk.original_test(allMetricsAndQuestions[\"questions\"])\n",
    "print(f\"Trend exists? {result.h}. Trend is {result.trend}. P-value: {format(result.p, '.20f')}\")"
   ]
  },
  {
   "cell_type": "code",
   "execution_count": 112,
   "metadata": {},
   "outputs": [],
   "source": [
    "# def doMannKendallTest(data):\n",
    "#     try:\n",
    "#         result = mk.original_test(data)\n",
    "#     except:\n",
    "#         return None\n",
    "#     return result"
   ]
  },
  {
   "cell_type": "code",
   "execution_count": 113,
   "metadata": {},
   "outputs": [],
   "source": [
    "# def collectForAllMetric(data):\n",
    "#     results = pd.DataFrame(index=data.columns, columns=[\"trend\", \"p\"])\n",
    "#     for metric in data.columns:\n",
    "#         result = doMannKendallTest(data[metric])\n",
    "#         results.loc()[metric, \"trend\"] = result.trend\n",
    "#         results.loc()[metric, \"p\"] = format(result.p, '.20f')            \n",
    "           \n",
    "#     return results"
   ]
  },
  {
   "cell_type": "code",
   "execution_count": 114,
   "metadata": {
    "scrolled": true
   },
   "outputs": [],
   "source": [
    "# results = collectForAllMetric(allMetricsAndQuestions)"
   ]
  },
  {
   "cell_type": "code",
   "execution_count": 115,
   "metadata": {},
   "outputs": [],
   "source": [
    "# results"
   ]
  },
  {
   "cell_type": "code",
   "execution_count": 116,
   "metadata": {},
   "outputs": [],
   "source": [
    "# results.to_csv(\"trendTestResult.csv\", float_format=\"%.15f\")"
   ]
  }
 ],
 "metadata": {
  "kernelspec": {
   "display_name": "Python 3",
   "language": "python",
   "name": "python3"
  },
  "language_info": {
   "codemirror_mode": {
    "name": "ipython",
    "version": 3
   },
   "file_extension": ".py",
   "mimetype": "text/x-python",
   "name": "python",
   "nbconvert_exporter": "python",
   "pygments_lexer": "ipython3",
   "version": "3.8.3"
  }
 },
 "nbformat": 4,
 "nbformat_minor": 4
}
