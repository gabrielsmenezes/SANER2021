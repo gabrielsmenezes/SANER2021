{
 "cells": [
  {
   "cell_type": "markdown",
   "metadata": {},
   "source": [
    "# Loading metrics"
   ]
  },
  {
   "cell_type": "code",
   "execution_count": 3,
   "metadata": {},
   "outputs": [],
   "source": [
    "import pandas as pd"
   ]
  },
  {
   "cell_type": "code",
   "execution_count": 4,
   "metadata": {},
   "outputs": [],
   "source": [
    "android = pd.read_csv(\"../../3-DataMerge/2-SeparetedFramework/android.csv\", index_col=[0,1])\n",
    "aws = pd.read_csv(\"../../3-DataMerge/2-SeparetedFramework/aws.csv\", index_col=[0,1])\n",
    "azure = pd.read_csv(\"../../3-DataMerge/2-SeparetedFramework/azure.csv\", index_col=[0,1])\n",
    "spring = pd.read_csv(\"../../3-DataMerge/2-SeparetedFramework/spring.csv\", index_col=[0,1])"
   ]
  },
  {
   "cell_type": "markdown",
   "metadata": {},
   "source": [
    "Select the framework by changing below atributtion (android or aws or azure or spring)"
   ]
  },
  {
   "cell_type": "code",
   "execution_count": 13,
   "metadata": {},
   "outputs": [],
   "source": [
    "allMetricsAndQuestions = aws"
   ]
  },
  {
   "cell_type": "code",
   "execution_count": 14,
   "metadata": {},
   "outputs": [],
   "source": [
    "AllMetricsAndQuestionsNormalized=(allMetricsAndQuestions-allMetricsAndQuestions.min())/(allMetricsAndQuestions.max()-allMetricsAndQuestions.min())"
   ]
  },
  {
   "cell_type": "code",
   "execution_count": 15,
   "metadata": {},
   "outputs": [],
   "source": [
    "allMetricsAndQuestions = AllMetricsAndQuestionsNormalized"
   ]
  },
  {
   "cell_type": "markdown",
   "metadata": {},
   "source": [
    "## Mann Kendall Test"
   ]
  },
  {
   "cell_type": "markdown",
   "metadata": {},
   "source": [
    "Null Hypothesis: There is no monotonic trend.\n",
    "\n",
    "Alternative Hypothesis: There is a trend."
   ]
  },
  {
   "cell_type": "markdown",
   "metadata": {},
   "source": [
    "If p-value < 0.05 then null Hypothesis is rejected."
   ]
  },
  {
   "cell_type": "code",
   "execution_count": 16,
   "metadata": {
    "scrolled": true
   },
   "outputs": [
    {
     "name": "stdout",
     "output_type": "stream",
     "text": [
      "Requirement already satisfied: pymannkendall in /opt/conda/lib/python3.8/site-packages (1.4.1)\n",
      "Requirement already satisfied: numpy in /opt/conda/lib/python3.8/site-packages (from pymannkendall) (1.19.5)\n",
      "Requirement already satisfied: scipy in /opt/conda/lib/python3.8/site-packages (from pymannkendall) (1.5.3)\n",
      "Note: you may need to restart the kernel to use updated packages.\n"
     ]
    }
   ],
   "source": [
    "pip install pymannkendall"
   ]
  },
  {
   "cell_type": "code",
   "execution_count": 17,
   "metadata": {},
   "outputs": [],
   "source": [
    "import pymannkendall as mk"
   ]
  },
  {
   "cell_type": "markdown",
   "metadata": {},
   "source": [
    "### MannKendallTest for Number of Java Files"
   ]
  },
  {
   "cell_type": "code",
   "execution_count": 18,
   "metadata": {
    "scrolled": true
   },
   "outputs": [
    {
     "name": "stdout",
     "output_type": "stream",
     "text": [
      "Trend exists? True. Trend is increasing. P-value: 0.000202856495429948324726865394\n"
     ]
    }
   ],
   "source": [
    "result = mk.original_test(allMetricsAndQuestions[\"numberJavaFiles\"])\n",
    "print(f\"Trend exists? {result.h}. Trend is {result.trend}. P-value: {format(result.p, '.30f')}\")"
   ]
  },
  {
   "cell_type": "markdown",
   "metadata": {},
   "source": [
    "### MannKendallTest for readability per Class"
   ]
  },
  {
   "cell_type": "code",
   "execution_count": 19,
   "metadata": {},
   "outputs": [
    {
     "name": "stdout",
     "output_type": "stream",
     "text": [
      "Trend exists? True. Trend is increasing. P-value: 0.000000000000000000000000000000\n"
     ]
    }
   ],
   "source": [
    "result = mk.original_test(allMetricsAndQuestions[\"readability\"])\n",
    "print(f\"Trend exists? {result.h}. Trend is {result.trend}. P-value: {format(result.p, '.30f')}\")"
   ]
  },
  {
   "cell_type": "markdown",
   "metadata": {},
   "source": [
    "### MannKendallTest for Physical Lines per Class"
   ]
  },
  {
   "cell_type": "code",
   "execution_count": 20,
   "metadata": {},
   "outputs": [
    {
     "name": "stdout",
     "output_type": "stream",
     "text": [
      "Trend exists? True. Trend is decreasing. P-value: 0.000019433713140948327691148734\n"
     ]
    }
   ],
   "source": [
    "result = mk.original_test(allMetricsAndQuestions[\"CountLine\"])\n",
    "print(f\"Trend exists? {result.h}. Trend is {result.trend}. P-value: {format(result.p, '.30f')}\")"
   ]
  },
  {
   "cell_type": "markdown",
   "metadata": {},
   "source": [
    "### MannKendallTest for LOC per Class"
   ]
  },
  {
   "cell_type": "code",
   "execution_count": 21,
   "metadata": {},
   "outputs": [
    {
     "name": "stdout",
     "output_type": "stream",
     "text": [
      "Trend exists? True. Trend is decreasing. P-value: 0.000102602923501171616749161331\n"
     ]
    }
   ],
   "source": [
    "result = mk.original_test(allMetricsAndQuestions[\"CountLineCode\"])\n",
    "print(f\"Trend exists? {result.h}. Trend is {result.trend}. P-value: {format(result.p, '.30f')}\")"
   ]
  },
  {
   "cell_type": "markdown",
   "metadata": {},
   "source": [
    "### MannKendallTest for CLOC per Class"
   ]
  },
  {
   "cell_type": "code",
   "execution_count": 22,
   "metadata": {},
   "outputs": [
    {
     "name": "stdout",
     "output_type": "stream",
     "text": [
      "Trend exists? False. Trend is no trend. P-value: 0.167473193471494141704170033336\n"
     ]
    }
   ],
   "source": [
    "result = mk.original_test(allMetricsAndQuestions[\"CountLineComment\"])\n",
    "print(f\"Trend exists? {result.h}. Trend is {result.trend}. P-value: {format(result.p, '.30f')}\")"
   ]
  },
  {
   "cell_type": "markdown",
   "metadata": {},
   "source": [
    "### MannKendallTest for CBO per Class"
   ]
  },
  {
   "cell_type": "code",
   "execution_count": 23,
   "metadata": {},
   "outputs": [
    {
     "name": "stdout",
     "output_type": "stream",
     "text": [
      "Trend exists? True. Trend is decreasing. P-value: 0.006526000108493912321705465729\n"
     ]
    }
   ],
   "source": [
    "result = mk.original_test(allMetricsAndQuestions[\"CountClassCoupled\"])\n",
    "print(f\"Trend exists? {result.h}. Trend is {result.trend}. P-value: {format(result.p, '.30f')}\")"
   ]
  },
  {
   "cell_type": "markdown",
   "metadata": {},
   "source": [
    "### MannKendallTest for NOC per Class"
   ]
  },
  {
   "cell_type": "code",
   "execution_count": 24,
   "metadata": {
    "scrolled": true
   },
   "outputs": [
    {
     "name": "stdout",
     "output_type": "stream",
     "text": [
      "Trend exists? True. Trend is increasing. P-value: 0.00000000790750620538\n"
     ]
    }
   ],
   "source": [
    "result = mk.original_test(allMetricsAndQuestions[\"CountClassDerived\"])\n",
    "print(f\"Trend exists? {result.h}. Trend is {result.trend}. P-value: {format(result.p, '.20f')}\")"
   ]
  },
  {
   "cell_type": "markdown",
   "metadata": {},
   "source": [
    "### MannKendallTest for RFC per Class"
   ]
  },
  {
   "cell_type": "code",
   "execution_count": 25,
   "metadata": {
    "scrolled": true
   },
   "outputs": [
    {
     "name": "stdout",
     "output_type": "stream",
     "text": [
      "Trend exists? False. Trend is no trend. P-value: 0.63381708923554969104\n"
     ]
    }
   ],
   "source": [
    "result = mk.original_test(allMetricsAndQuestions[\"CountDeclMethodAll\"])\n",
    "print(f\"Trend exists? {result.h}. Trend is {result.trend}. P-value: {format(result.p, '.20f')}\")"
   ]
  },
  {
   "cell_type": "markdown",
   "metadata": {},
   "source": [
    "### MannKendallTest for DIT per Class"
   ]
  },
  {
   "cell_type": "code",
   "execution_count": 26,
   "metadata": {},
   "outputs": [
    {
     "name": "stdout",
     "output_type": "stream",
     "text": [
      "Trend exists? True. Trend is decreasing. P-value: 0.00821164309044664087\n"
     ]
    }
   ],
   "source": [
    "result = mk.original_test(allMetricsAndQuestions[\"MaxInheritanceTree\"])\n",
    "print(f\"Trend exists? {result.h}. Trend is {result.trend}. P-value: {format(result.p, '.20f')}\")"
   ]
  },
  {
   "cell_type": "markdown",
   "metadata": {},
   "source": [
    "### MannKendallTest for LCOM per Class"
   ]
  },
  {
   "cell_type": "code",
   "execution_count": 27,
   "metadata": {},
   "outputs": [
    {
     "name": "stdout",
     "output_type": "stream",
     "text": [
      "Trend exists? True. Trend is decreasing. P-value: 0.00008375844475372318\n"
     ]
    }
   ],
   "source": [
    "result = mk.original_test(allMetricsAndQuestions[\"PercentLackOfCohesion\"])\n",
    "print(f\"Trend exists? {result.h}. Trend is {result.trend}. P-value: {format(result.p, '.20f')}\")"
   ]
  },
  {
   "cell_type": "markdown",
   "metadata": {},
   "source": [
    "### MannKendallTest for WMC per Class"
   ]
  },
  {
   "cell_type": "code",
   "execution_count": 28,
   "metadata": {},
   "outputs": [
    {
     "name": "stdout",
     "output_type": "stream",
     "text": [
      "Trend exists? True. Trend is decreasing. P-value: 0.00013686997774819964\n"
     ]
    }
   ],
   "source": [
    "result = mk.original_test(allMetricsAndQuestions[\"SumCyclomatic\"])\n",
    "print(f\"Trend exists? {result.h}. Trend is {result.trend}. P-value: {format(result.p, '.20f')}\")"
   ]
  },
  {
   "cell_type": "markdown",
   "metadata": {},
   "source": [
    "### MannKendallTest for Classes"
   ]
  },
  {
   "cell_type": "code",
   "execution_count": 29,
   "metadata": {},
   "outputs": [
    {
     "name": "stdout",
     "output_type": "stream",
     "text": [
      "Trend exists? True. Trend is increasing. P-value: 0.00036230291343630761\n"
     ]
    }
   ],
   "source": [
    "result = mk.original_test(allMetricsAndQuestions[\"CountDeclClass\"])\n",
    "print(f\"Trend exists? {result.h}. Trend is {result.trend}. P-value: {format(result.p, '.20f')}\")"
   ]
  },
  {
   "cell_type": "markdown",
   "metadata": {},
   "source": [
    "### MannKendallTest for Questions"
   ]
  },
  {
   "cell_type": "code",
   "execution_count": 30,
   "metadata": {},
   "outputs": [
    {
     "name": "stdout",
     "output_type": "stream",
     "text": [
      "Trend exists? True. Trend is increasing. P-value: 0.00000000000000000000\n"
     ]
    }
   ],
   "source": [
    "result = mk.original_test(allMetricsAndQuestions[\"questions\"])\n",
    "print(f\"Trend exists? {result.h}. Trend is {result.trend}. P-value: {format(result.p, '.20f')}\")"
   ]
  }
 ],
 "metadata": {
  "kernelspec": {
   "display_name": "Python 3",
   "language": "python",
   "name": "python3"
  },
  "language_info": {
   "codemirror_mode": {
    "name": "ipython",
    "version": 3
   },
   "file_extension": ".py",
   "mimetype": "text/x-python",
   "name": "python",
   "nbconvert_exporter": "python",
   "pygments_lexer": "ipython3",
   "version": "3.8.6"
  }
 },
 "nbformat": 4,
 "nbformat_minor": 4
}
