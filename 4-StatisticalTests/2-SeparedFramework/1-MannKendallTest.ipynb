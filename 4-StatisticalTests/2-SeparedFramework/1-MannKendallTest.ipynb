{
 "cells": [
  {
   "cell_type": "markdown",
   "metadata": {},
   "source": [
    "# Loading metrics"
   ]
  },
  {
   "cell_type": "code",
   "execution_count": 403,
   "metadata": {},
   "outputs": [],
   "source": [
    "import pandas as pd"
   ]
  },
  {
   "cell_type": "code",
   "execution_count": 404,
   "metadata": {},
   "outputs": [],
   "source": [
    "android = pd.read_csv(\"..\\\\..\\\\3-DataMerge\\\\2-SeparetedFramework\\\\android.csv\", index_col=[0,1])\n",
    "aws = pd.read_csv(\"..\\\\..\\\\3-DataMerge\\\\2-SeparetedFramework\\\\aws.csv\", index_col=[0,1])\n",
    "azure = pd.read_csv(\"..\\\\..\\\\3-DataMerge\\\\2-SeparetedFramework\\\\azure.csv\", index_col=[0,1])\n",
    "spring = pd.read_csv(\"..\\\\..\\\\3-DataMerge\\\\2-SeparetedFramework\\\\spring.csv\", index_col=[0,1])"
   ]
  },
  {
   "cell_type": "markdown",
   "metadata": {},
   "source": [
    "Select the framework by changing below atributtion (android or aws or azure or spring)"
   ]
  },
  {
   "cell_type": "code",
   "execution_count": 405,
   "metadata": {},
   "outputs": [],
   "source": [
    "allMetricsAndQuestions = spring"
   ]
  },
  {
   "cell_type": "code",
   "execution_count": 407,
   "metadata": {},
   "outputs": [],
   "source": [
    "AllMetricsAndQuestionsNormalized=(allMetricsAndQuestions-allMetricsAndQuestions.min())/(allMetricsAndQuestions.max()-allMetricsAndQuestions.min())"
   ]
  },
  {
   "cell_type": "code",
   "execution_count": 408,
   "metadata": {},
   "outputs": [],
   "source": [
    "allMetricsAndQuestions = AllMetricsAndQuestionsNormalized"
   ]
  },
  {
   "cell_type": "markdown",
   "metadata": {},
   "source": [
    "## Mann Kendall Test"
   ]
  },
  {
   "cell_type": "markdown",
   "metadata": {},
   "source": [
    "Null Hypothesis: There is no monotonic trend.\n",
    "\n",
    "Alternative Hypothesis: There is a trend."
   ]
  },
  {
   "cell_type": "markdown",
   "metadata": {},
   "source": [
    "If p-value < 0.05 then null Hypothesis is rejected."
   ]
  },
  {
   "cell_type": "code",
   "execution_count": 409,
   "metadata": {
    "scrolled": true
   },
   "outputs": [
    {
     "name": "stdout",
     "output_type": "stream",
     "text": [
      "Requirement already satisfied: pymannkendall in c:\\users\\dudur\\anaconda3\\lib\\site-packages (1.4.1)\n",
      "Requirement already satisfied: scipy in c:\\users\\dudur\\anaconda3\\lib\\site-packages (from pymannkendall) (1.5.0)\n",
      "Requirement already satisfied: numpy in c:\\users\\dudur\\anaconda3\\lib\\site-packages (from pymannkendall) (1.18.5)\n",
      "Note: you may need to restart the kernel to use updated packages.\n"
     ]
    }
   ],
   "source": [
    "pip install pymannkendall"
   ]
  },
  {
   "cell_type": "code",
   "execution_count": 410,
   "metadata": {},
   "outputs": [],
   "source": [
    "import pymannkendall as mk"
   ]
  },
  {
   "cell_type": "markdown",
   "metadata": {},
   "source": [
    "### MannKendallTest for Number of Java Files"
   ]
  },
  {
   "cell_type": "code",
   "execution_count": 411,
   "metadata": {
    "scrolled": true
   },
   "outputs": [
    {
     "name": "stdout",
     "output_type": "stream",
     "text": [
      "Trend exists? True. Trend is increasing. P-value: 0.000000000000000000000000000000\n"
     ]
    }
   ],
   "source": [
    "result = mk.original_test(allMetricsAndQuestions[\"numberJavaFiles\"])\n",
    "print(f\"Trend exists? {result.h}. Trend is {result.trend}. P-value: {format(result.p, '.30f')}\")"
   ]
  },
  {
   "cell_type": "markdown",
   "metadata": {},
   "source": [
    "### MannKendallTest for readability per Class"
   ]
  },
  {
   "cell_type": "code",
   "execution_count": 412,
   "metadata": {},
   "outputs": [
    {
     "name": "stdout",
     "output_type": "stream",
     "text": [
      "Trend exists? True. Trend is decreasing. P-value: 0.000005822211815109668009426969\n"
     ]
    }
   ],
   "source": [
    "result = mk.original_test(allMetricsAndQuestions[\"readability\"])\n",
    "print(f\"Trend exists? {result.h}. Trend is {result.trend}. P-value: {format(result.p, '.30f')}\")"
   ]
  },
  {
   "cell_type": "markdown",
   "metadata": {},
   "source": [
    "### MannKendallTest for Physical Lines per Class"
   ]
  },
  {
   "cell_type": "code",
   "execution_count": 413,
   "metadata": {},
   "outputs": [
    {
     "name": "stdout",
     "output_type": "stream",
     "text": [
      "Trend exists? True. Trend is increasing. P-value: 0.000000000022673862787314646994\n"
     ]
    }
   ],
   "source": [
    "result = mk.original_test(allMetricsAndQuestions[\"CountLine\"])\n",
    "print(f\"Trend exists? {result.h}. Trend is {result.trend}. P-value: {format(result.p, '.30f')}\")"
   ]
  },
  {
   "cell_type": "markdown",
   "metadata": {},
   "source": [
    "### MannKendallTest for LOC per Class"
   ]
  },
  {
   "cell_type": "code",
   "execution_count": 414,
   "metadata": {},
   "outputs": [
    {
     "name": "stdout",
     "output_type": "stream",
     "text": [
      "Trend exists? True. Trend is increasing. P-value: 0.000000037136328900899684413162\n"
     ]
    }
   ],
   "source": [
    "result = mk.original_test(allMetricsAndQuestions[\"CountLineCode\"])\n",
    "print(f\"Trend exists? {result.h}. Trend is {result.trend}. P-value: {format(result.p, '.30f')}\")"
   ]
  },
  {
   "cell_type": "markdown",
   "metadata": {},
   "source": [
    "### MannKendallTest for CLOC per Class"
   ]
  },
  {
   "cell_type": "code",
   "execution_count": 415,
   "metadata": {},
   "outputs": [
    {
     "name": "stdout",
     "output_type": "stream",
     "text": [
      "Trend exists? True. Trend is increasing. P-value: 0.000000000000000666133814775094\n"
     ]
    }
   ],
   "source": [
    "result = mk.original_test(allMetricsAndQuestions[\"CountLineComment\"])\n",
    "print(f\"Trend exists? {result.h}. Trend is {result.trend}. P-value: {format(result.p, '.30f')}\")"
   ]
  },
  {
   "cell_type": "markdown",
   "metadata": {},
   "source": [
    "### MannKendallTest for CBO per Class"
   ]
  },
  {
   "cell_type": "code",
   "execution_count": 416,
   "metadata": {},
   "outputs": [
    {
     "name": "stdout",
     "output_type": "stream",
     "text": [
      "Trend exists? True. Trend is decreasing. P-value: 0.000000000000000000000000000000\n"
     ]
    }
   ],
   "source": [
    "result = mk.original_test(allMetricsAndQuestions[\"CountClassCoupled\"])\n",
    "print(f\"Trend exists? {result.h}. Trend is {result.trend}. P-value: {format(result.p, '.30f')}\")"
   ]
  },
  {
   "cell_type": "markdown",
   "metadata": {},
   "source": [
    "### MannKendallTest for NOC per Class"
   ]
  },
  {
   "cell_type": "code",
   "execution_count": 417,
   "metadata": {
    "scrolled": true
   },
   "outputs": [
    {
     "name": "stdout",
     "output_type": "stream",
     "text": [
      "Trend exists? True. Trend is increasing. P-value: 0.00000163620868165459\n"
     ]
    }
   ],
   "source": [
    "result = mk.original_test(allMetricsAndQuestions[\"CountClassDerived\"])\n",
    "print(f\"Trend exists? {result.h}. Trend is {result.trend}. P-value: {format(result.p, '.20f')}\")"
   ]
  },
  {
   "cell_type": "markdown",
   "metadata": {},
   "source": [
    "### MannKendallTest for RFC per Class"
   ]
  },
  {
   "cell_type": "code",
   "execution_count": 418,
   "metadata": {},
   "outputs": [
    {
     "name": "stdout",
     "output_type": "stream",
     "text": [
      "Trend exists? True. Trend is increasing. P-value: 0.00000000000000199840\n"
     ]
    }
   ],
   "source": [
    "result = mk.original_test(allMetricsAndQuestions[\"CountDeclMethodAll\"])\n",
    "print(f\"Trend exists? {result.h}. Trend is {result.trend}. P-value: {format(result.p, '.20f')}\")"
   ]
  },
  {
   "cell_type": "markdown",
   "metadata": {},
   "source": [
    "### MannKendallTest for DIT per Class"
   ]
  },
  {
   "cell_type": "code",
   "execution_count": 419,
   "metadata": {},
   "outputs": [
    {
     "name": "stdout",
     "output_type": "stream",
     "text": [
      "Trend exists? True. Trend is decreasing. P-value: 0.00000000000000022204\n"
     ]
    }
   ],
   "source": [
    "result = mk.original_test(allMetricsAndQuestions[\"MaxInheritanceTree\"])\n",
    "print(f\"Trend exists? {result.h}. Trend is {result.trend}. P-value: {format(result.p, '.20f')}\")"
   ]
  },
  {
   "cell_type": "markdown",
   "metadata": {},
   "source": [
    "### MannKendallTest for LCOM per Class"
   ]
  },
  {
   "cell_type": "code",
   "execution_count": 420,
   "metadata": {},
   "outputs": [
    {
     "name": "stdout",
     "output_type": "stream",
     "text": [
      "Trend exists? True. Trend is decreasing. P-value: 0.00000000316072923390\n"
     ]
    }
   ],
   "source": [
    "result = mk.original_test(allMetricsAndQuestions[\"PercentLackOfCohesion\"])\n",
    "print(f\"Trend exists? {result.h}. Trend is {result.trend}. P-value: {format(result.p, '.20f')}\")"
   ]
  },
  {
   "cell_type": "markdown",
   "metadata": {},
   "source": [
    "### MannKendallTest for WMC per Class"
   ]
  },
  {
   "cell_type": "code",
   "execution_count": 421,
   "metadata": {},
   "outputs": [
    {
     "name": "stdout",
     "output_type": "stream",
     "text": [
      "Trend exists? True. Trend is increasing. P-value: 0.00000000000035216274\n"
     ]
    }
   ],
   "source": [
    "result = mk.original_test(allMetricsAndQuestions[\"SumCyclomatic\"])\n",
    "print(f\"Trend exists? {result.h}. Trend is {result.trend}. P-value: {format(result.p, '.20f')}\")"
   ]
  },
  {
   "cell_type": "markdown",
   "metadata": {},
   "source": [
    "### MannKendallTest for Classes"
   ]
  },
  {
   "cell_type": "code",
   "execution_count": 422,
   "metadata": {},
   "outputs": [
    {
     "name": "stdout",
     "output_type": "stream",
     "text": [
      "Trend exists? True. Trend is increasing. P-value: 0.00000000000000000000\n"
     ]
    }
   ],
   "source": [
    "result = mk.original_test(allMetricsAndQuestions[\"CountDeclClass\"])\n",
    "print(f\"Trend exists? {result.h}. Trend is {result.trend}. P-value: {format(result.p, '.20f')}\")"
   ]
  },
  {
   "cell_type": "markdown",
   "metadata": {},
   "source": [
    "### MannKendallTest for Questions"
   ]
  },
  {
   "cell_type": "code",
   "execution_count": 423,
   "metadata": {},
   "outputs": [
    {
     "name": "stdout",
     "output_type": "stream",
     "text": [
      "Trend exists? True. Trend is increasing. P-value: 0.00000000000000000000\n"
     ]
    }
   ],
   "source": [
    "result = mk.original_test(allMetricsAndQuestions[\"questions\"])\n",
    "print(f\"Trend exists? {result.h}. Trend is {result.trend}. P-value: {format(result.p, '.20f')}\")"
   ]
  }
 ],
 "metadata": {
  "kernelspec": {
   "display_name": "Python 3",
   "language": "python",
   "name": "python3"
  },
  "language_info": {
   "codemirror_mode": {
    "name": "ipython",
    "version": 3
   },
   "file_extension": ".py",
   "mimetype": "text/x-python",
   "name": "python",
   "nbconvert_exporter": "python",
   "pygments_lexer": "ipython3",
   "version": "3.8.3"
  }
 },
 "nbformat": 4,
 "nbformat_minor": 4
}
