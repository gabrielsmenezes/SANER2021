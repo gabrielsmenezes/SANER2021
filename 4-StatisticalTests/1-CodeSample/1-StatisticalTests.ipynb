{
 "cells": [
  {
   "cell_type": "code",
   "execution_count": 277,
   "id": "municipal-qatar",
   "metadata": {
    "scrolled": true
   },
   "outputs": [
    {
     "data": {
      "text/plain": [
       "'/home/jovyan/work/SANER2021'"
      ]
     },
     "execution_count": 277,
     "metadata": {},
     "output_type": "execute_result"
    }
   ],
   "source": [
    "import os\n",
    "os.getcwd()"
   ]
  },
  {
   "cell_type": "code",
   "execution_count": 278,
   "id": "crude-aluminum",
   "metadata": {},
   "outputs": [],
   "source": [
    "os.chdir(\"/home/jovyan/work/SANER2021\")"
   ]
  },
  {
   "cell_type": "code",
   "execution_count": 279,
   "id": "bottom-emperor",
   "metadata": {},
   "outputs": [],
   "source": [
    "import pandas as pd"
   ]
  },
  {
   "cell_type": "markdown",
   "id": "numerous-bearing",
   "metadata": {},
   "source": [
    "## Loading metrics"
   ]
  },
  {
   "cell_type": "code",
   "execution_count": 280,
   "id": "prompt-indianapolis",
   "metadata": {},
   "outputs": [],
   "source": [
    "androidListSamples = pd.read_csv(\"1-GettingQuestions/samplesWithQuestions/androidSamples.csv\", index_col=0, skiprows=0)\n",
    "awsListSamples = pd.read_csv(\"1-GettingQuestions/samplesWithQuestions/awsSamples.csv\", index_col=0, skiprows=0)\n",
    "azureListSamples = pd.read_csv(\"1-GettingQuestions/samplesWithQuestions/azureSamples.csv\", index_col=0, skiprows=0)\n",
    "springListSamples = pd.read_csv(\"1-GettingQuestions/samplesWithQuestions/springSamples.csv\", index_col=0, skiprows=0)"
   ]
  },
  {
   "cell_type": "code",
   "execution_count": 281,
   "id": "electronic-kazakhstan",
   "metadata": {},
   "outputs": [],
   "source": [
    "def loadMetrics(listSamples):\n",
    "    metrics = dict()\n",
    "    for sample in listSamples.index.values:\n",
    "        metrics[sample] = pd.read_csv(f\"3-DataMerge/1-CodeSampleAgregation/{sample}.csv\", index_col=[0,1], na_filter=False)\n",
    "    return metrics"
   ]
  },
  {
   "cell_type": "code",
   "execution_count": 282,
   "id": "massive-advertising",
   "metadata": {},
   "outputs": [],
   "source": [
    "androidMetrics = loadMetrics(androidListSamples)\n",
    "awsMetrics = loadMetrics(awsListSamples)\n",
    "azureMetrics = loadMetrics(azureListSamples)\n",
    "springMetrics = loadMetrics(springListSamples)"
   ]
  },
  {
   "cell_type": "markdown",
   "id": "electric-holly",
   "metadata": {},
   "source": [
    "## Mann Kendall Test"
   ]
  },
  {
   "cell_type": "markdown",
   "id": "humanitarian-accordance",
   "metadata": {},
   "source": [
    "Null Hypothesis: There is no monotonic trend.\n",
    "\n",
    "Alternative Hypothesis: There is a trend."
   ]
  },
  {
   "cell_type": "markdown",
   "id": "devoted-intervention",
   "metadata": {},
   "source": [
    "If p-value < 0.05 then null Hypothesis is rejected."
   ]
  },
  {
   "cell_type": "code",
   "execution_count": 283,
   "id": "intellectual-phenomenon",
   "metadata": {
    "scrolled": true
   },
   "outputs": [
    {
     "name": "stdout",
     "output_type": "stream",
     "text": [
      "Requirement already satisfied: pymannkendall in /opt/conda/lib/python3.8/site-packages (1.4.1)\n",
      "Requirement already satisfied: numpy in /opt/conda/lib/python3.8/site-packages (from pymannkendall) (1.19.5)\n",
      "Requirement already satisfied: scipy in /opt/conda/lib/python3.8/site-packages (from pymannkendall) (1.5.3)\n",
      "Note: you may need to restart the kernel to use updated packages.\n"
     ]
    }
   ],
   "source": [
    "pip install pymannkendall"
   ]
  },
  {
   "cell_type": "code",
   "execution_count": 284,
   "id": "demographic-practitioner",
   "metadata": {},
   "outputs": [],
   "source": [
    "import pymannkendall as mk"
   ]
  },
  {
   "cell_type": "markdown",
   "id": "moving-calendar",
   "metadata": {},
   "source": [
    "## Normalize metrics"
   ]
  },
  {
   "cell_type": "code",
   "execution_count": 285,
   "id": "mounted-collection",
   "metadata": {},
   "outputs": [],
   "source": [
    "def normalize(metrics):\n",
    "    return (metrics-metrics.min())/(metrics.max()-metrics.min())"
   ]
  },
  {
   "cell_type": "code",
   "execution_count": 286,
   "id": "independent-things",
   "metadata": {
    "scrolled": true
   },
   "outputs": [],
   "source": [
    "def normalizeMetrics(metrics, listSamples):\n",
    "    for sample in listSamples.index.values:\n",
    "        metrics[sample] = normalize(metrics[sample])\n",
    "        metrics[sample].fillna(0, inplace=True)\n",
    "    return metrics"
   ]
  },
  {
   "cell_type": "code",
   "execution_count": 287,
   "id": "human-cemetery",
   "metadata": {},
   "outputs": [],
   "source": [
    "androidNormalizedMetrics = normalizeMetrics(androidMetrics, androidListSamples)\n",
    "awsNormalizedMetrics = normalizeMetrics(awsMetrics, awsListSamples)\n",
    "azureNormalizedMetrics = normalizeMetrics(azureMetrics, azureListSamples)\n",
    "springNormalizedMetrics = normalizeMetrics(springMetrics, springListSamples)"
   ]
  },
  {
   "cell_type": "code",
   "execution_count": 288,
   "id": "artistic-blogger",
   "metadata": {},
   "outputs": [],
   "source": [
    "def extractMannKendallTest(metrics, listSamples):\n",
    "    result = pd.DataFrame(index=listSamples.index)\n",
    "    for sample in listSamples.index.values:\n",
    "        sampleMetric = metrics[sample]\n",
    "        for metric in sampleMetric.columns.values:\n",
    "            mkResult = mk.original_test(sampleMetric[metric])\n",
    "            result.loc[sample, metric+\" has a trend?\"] = mkResult.h\n",
    "            result.loc[sample, metric+\" trend is \"] = mkResult.trend\n",
    "            result.loc[sample, metric+\" trend pvalue \"] = mkResult.p\n",
    "    return result"
   ]
  },
  {
   "cell_type": "code",
   "execution_count": 289,
   "id": "hearing-tobacco",
   "metadata": {},
   "outputs": [],
   "source": [
    "androidMannKendallResult = extractMannKendallTest(androidNormalizedMetrics, androidListSamples)\n",
    "awsMannKendallResult = extractMannKendallTest(awsNormalizedMetrics, awsListSamples)\n",
    "azureMannKendallResult = extractMannKendallTest(azureNormalizedMetrics, azureListSamples)\n",
    "springMannKendallResult = extractMannKendallTest(springNormalizedMetrics, springListSamples)"
   ]
  },
  {
   "cell_type": "code",
   "execution_count": 271,
   "id": "funny-provincial",
   "metadata": {},
   "outputs": [
    {
     "ename": "FileExistsError",
     "evalue": "[Errno 17] File exists: '4-StatisticalTests/1-CodeSample/mannKendallTest'",
     "output_type": "error",
     "traceback": [
      "\u001b[0;31m---------------------------------------------------------------------------\u001b[0m",
      "\u001b[0;31mFileExistsError\u001b[0m                           Traceback (most recent call last)",
      "\u001b[0;32m<ipython-input-271-78ea469fd050>\u001b[0m in \u001b[0;36m<module>\u001b[0;34m\u001b[0m\n\u001b[0;32m----> 1\u001b[0;31m \u001b[0mos\u001b[0m\u001b[0;34m.\u001b[0m\u001b[0mmakedirs\u001b[0m\u001b[0;34m(\u001b[0m\u001b[0;34m\"4-StatisticalTests/1-CodeSample/mannKendallTest\"\u001b[0m\u001b[0;34m)\u001b[0m\u001b[0;34m\u001b[0m\u001b[0;34m\u001b[0m\u001b[0m\n\u001b[0m",
      "\u001b[0;32m/opt/conda/lib/python3.8/os.py\u001b[0m in \u001b[0;36mmakedirs\u001b[0;34m(name, mode, exist_ok)\u001b[0m\n\u001b[1;32m    221\u001b[0m             \u001b[0;32mreturn\u001b[0m\u001b[0;34m\u001b[0m\u001b[0;34m\u001b[0m\u001b[0m\n\u001b[1;32m    222\u001b[0m     \u001b[0;32mtry\u001b[0m\u001b[0;34m:\u001b[0m\u001b[0;34m\u001b[0m\u001b[0;34m\u001b[0m\u001b[0m\n\u001b[0;32m--> 223\u001b[0;31m         \u001b[0mmkdir\u001b[0m\u001b[0;34m(\u001b[0m\u001b[0mname\u001b[0m\u001b[0;34m,\u001b[0m \u001b[0mmode\u001b[0m\u001b[0;34m)\u001b[0m\u001b[0;34m\u001b[0m\u001b[0;34m\u001b[0m\u001b[0m\n\u001b[0m\u001b[1;32m    224\u001b[0m     \u001b[0;32mexcept\u001b[0m \u001b[0mOSError\u001b[0m\u001b[0;34m:\u001b[0m\u001b[0;34m\u001b[0m\u001b[0;34m\u001b[0m\u001b[0m\n\u001b[1;32m    225\u001b[0m         \u001b[0;31m# Cannot rely on checking for EEXIST, since the operating system\u001b[0m\u001b[0;34m\u001b[0m\u001b[0;34m\u001b[0m\u001b[0;34m\u001b[0m\u001b[0m\n",
      "\u001b[0;31mFileExistsError\u001b[0m: [Errno 17] File exists: '4-StatisticalTests/1-CodeSample/mannKendallTest'"
     ]
    }
   ],
   "source": [
    "os.makedirs(\"4-StatisticalTests/1-CodeSample/mannKendallTest\")"
   ]
  },
  {
   "cell_type": "code",
   "execution_count": 290,
   "id": "aquatic-drill",
   "metadata": {},
   "outputs": [],
   "source": [
    "androidMannKendallResult.to_csv(\"4-StatisticalTests/1-CodeSample/mannKendallTest/android_mann_kendall_results.csv\")\n",
    "awsMannKendallResult.to_csv(\"4-StatisticalTests/1-CodeSample/mannKendallTest/aws_mann_kendall_results.csv\")\n",
    "azureMannKendallResult.to_csv(\"4-StatisticalTests/1-CodeSample/mannKendallTest/azure_mann_kendall_results.csv\")\n",
    "springMannKendallResult.to_csv(\"4-StatisticalTests/1-CodeSample/mannKendallTest/spring_mann_kendall_results.csv\")"
   ]
  },
  {
   "cell_type": "markdown",
   "id": "wooden-balance",
   "metadata": {},
   "source": [
    "## Normality Test (Shapiro-Wilk)"
   ]
  },
  {
   "cell_type": "markdown",
   "id": "random-upset",
   "metadata": {},
   "source": [
    "Null Hyphotesis: The population has normal distribution\n",
    "\n",
    "Alternative Hyphotesis: The population has not normal distribution"
   ]
  },
  {
   "cell_type": "markdown",
   "id": "human-stationery",
   "metadata": {},
   "source": [
    "If p-value < 0.05 then null hyphotesis is rejected"
   ]
  },
  {
   "cell_type": "markdown",
   "id": "dangerous-floor",
   "metadata": {},
   "source": [
    "## Correlation Test"
   ]
  },
  {
   "cell_type": "markdown",
   "id": "tough-cambodia",
   "metadata": {},
   "source": [
    "Null Hypothesis: there is no correlation between data\n",
    "\n",
    "Alternative Hypothesis: there is a correlation"
   ]
  },
  {
   "cell_type": "markdown",
   "id": "corporate-mambo",
   "metadata": {},
   "source": [
    "If p-value < 0.05 then null Hypothesis is rejected."
   ]
  },
  {
   "cell_type": "markdown",
   "id": "english-server",
   "metadata": {},
   "source": [
    "If the metric is normalized we will apply the Pearson Test, otherwise we will apply Spearman Test"
   ]
  },
  {
   "cell_type": "code",
   "execution_count": 291,
   "id": "changing-depth",
   "metadata": {},
   "outputs": [],
   "source": [
    "from scipy import stats"
   ]
  },
  {
   "cell_type": "code",
   "execution_count": 292,
   "id": "proprietary-jersey",
   "metadata": {},
   "outputs": [],
   "source": [
    "def extractCorrelationTest(metrics, listSamples):\n",
    "    result = pd.DataFrame(index=listSamples.index)\n",
    "    for sample in listSamples.index.values:\n",
    "        sampleMetric = metrics[sample]\n",
    "        for metric in sampleMetric.columns.values:\n",
    "            #test if the set has normal distribution\n",
    "            if(stats.shapiro(sampleMetric[metric]).pvalue < 0.05):\n",
    "                correlationResult = stats.spearmanr(sampleMetric[\"questions\"], sampleMetric[metric], nan_policy=\"omit\")    \n",
    "            else:\n",
    "                correlationResult = stats.pearsonr(sampleMetric[\"questions\"], sampleMetric[metric])\n",
    "            \n",
    "            result.loc[sample, metric+\" correlation\"] = correlationResult[0]\n",
    "            result.loc[sample, metric+\" correlation pvalue\"] = correlationResult[1]\n",
    "    return result"
   ]
  },
  {
   "cell_type": "code",
   "execution_count": 293,
   "id": "supported-paper",
   "metadata": {},
   "outputs": [],
   "source": [
    "androidCorrelationResult = extractCorrelationTest(androidNormalizedMetrics, androidListSamples)\n",
    "awsCorrelationResult = extractCorrelationTest(awsNormalizedMetrics, awsListSamples)\n",
    "azureCorrelationResult = extractCorrelationTest(azureNormalizedMetrics, azureListSamples)\n",
    "springCorrelationResult = extractCorrelationTest(springNormalizedMetrics, springListSamples)"
   ]
  },
  {
   "cell_type": "code",
   "execution_count": null,
   "id": "hungarian-stable",
   "metadata": {},
   "outputs": [],
   "source": [
    "os.makedirs(\"4-StatisticalTests/1-CodeSample/correlationTest\")"
   ]
  },
  {
   "cell_type": "code",
   "execution_count": 294,
   "id": "another-archives",
   "metadata": {},
   "outputs": [],
   "source": [
    "androidCorrelationResult.to_csv(\"4-StatisticalTests/1-CodeSample/correlationTest/android_correlation_results.csv\")\n",
    "awsCorrelationResult.to_csv(\"4-StatisticalTests/1-CodeSample/correlationTest/aws_correlation_results.csv\")\n",
    "azureCorrelationResult.to_csv(\"4-StatisticalTests/1-CodeSample/correlationTest/azure_correlation_results.csv\")\n",
    "springCorrelationResult.to_csv(\"4-StatisticalTests/1-CodeSample/correlationTest/spring_correlation_results.csv\")"
   ]
  }
 ],
 "metadata": {
  "kernelspec": {
   "display_name": "Python 3",
   "language": "python",
   "name": "python3"
  },
  "language_info": {
   "codemirror_mode": {
    "name": "ipython",
    "version": 3
   },
   "file_extension": ".py",
   "mimetype": "text/x-python",
   "name": "python",
   "nbconvert_exporter": "python",
   "pygments_lexer": "ipython3",
   "version": "3.8.6"
  }
 },
 "nbformat": 4,
 "nbformat_minor": 5
}
