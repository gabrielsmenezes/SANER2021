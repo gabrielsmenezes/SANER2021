{
 "cells": [
  {
   "cell_type": "code",
   "execution_count": 91,
   "id": "sexual-bloom",
   "metadata": {},
   "outputs": [
    {
     "data": {
      "text/plain": [
       "'/home/jovyan/work/SANER2021'"
      ]
     },
     "execution_count": 91,
     "metadata": {},
     "output_type": "execute_result"
    }
   ],
   "source": [
    "import os\n",
    "os.getcwd()"
   ]
  },
  {
   "cell_type": "code",
   "execution_count": 92,
   "id": "configured-litigation",
   "metadata": {},
   "outputs": [],
   "source": [
    "os.chdir(\"/home/jovyan/work/SANER2021\")"
   ]
  },
  {
   "cell_type": "code",
   "execution_count": 93,
   "id": "universal-reservation",
   "metadata": {},
   "outputs": [],
   "source": [
    "import pandas as pd"
   ]
  },
  {
   "cell_type": "markdown",
   "id": "damaged-premium",
   "metadata": {},
   "source": [
    "## Loading metrics"
   ]
  },
  {
   "cell_type": "code",
   "execution_count": 94,
   "id": "superb-highway",
   "metadata": {},
   "outputs": [],
   "source": [
    "androidListSamples = pd.read_csv(\"1-GettingQuestions/samplesWithQuestions/androidSamples.csv\", index_col=0, skiprows=0)\n",
    "awsListSamples = pd.read_csv(\"1-GettingQuestions/samplesWithQuestions/awsSamples.csv\", index_col=0, skiprows=0)\n",
    "azureListSamples = pd.read_csv(\"1-GettingQuestions/samplesWithQuestions/azureSamples.csv\", index_col=0, skiprows=0)\n",
    "springListSamples = pd.read_csv(\"1-GettingQuestions/samplesWithQuestions/springSamples.csv\", index_col=0, skiprows=0)"
   ]
  },
  {
   "cell_type": "code",
   "execution_count": 95,
   "id": "musical-olympus",
   "metadata": {},
   "outputs": [],
   "source": [
    "def loadMetrics(listSamples):\n",
    "    metrics = dict()\n",
    "    for sample in listSamples.index.values:\n",
    "        metrics[sample] = pd.read_csv(f\"3-DataMerge/1-CodeSampleAgregation/{sample}.csv\", index_col=[0,1])\n",
    "    return metrics"
   ]
  },
  {
   "cell_type": "code",
   "execution_count": 96,
   "id": "warming-evaluation",
   "metadata": {},
   "outputs": [],
   "source": [
    "androidMetrics = loadMetrics(androidListSamples)\n",
    "awsMetrics = loadMetrics(awsListSamples)\n",
    "azureMetrics = loadMetrics(azureListSamples)\n",
    "springMetrics = loadMetrics(springListSamples)"
   ]
  },
  {
   "cell_type": "markdown",
   "id": "universal-pittsburgh",
   "metadata": {},
   "source": [
    "## Mann Kendall Test"
   ]
  },
  {
   "cell_type": "markdown",
   "id": "equal-pressing",
   "metadata": {},
   "source": [
    "Null Hypothesis: There is no monotonic trend.\n",
    "\n",
    "Alternative Hypothesis: There is a trend."
   ]
  },
  {
   "cell_type": "markdown",
   "id": "average-panama",
   "metadata": {},
   "source": [
    "If p-value < 0.05 then null Hypothesis is rejected."
   ]
  },
  {
   "cell_type": "code",
   "execution_count": 97,
   "id": "waiting-israel",
   "metadata": {
    "scrolled": true
   },
   "outputs": [
    {
     "name": "stdout",
     "output_type": "stream",
     "text": [
      "Requirement already satisfied: pymannkendall in /opt/conda/lib/python3.8/site-packages (1.4.1)\n",
      "Requirement already satisfied: scipy in /opt/conda/lib/python3.8/site-packages (from pymannkendall) (1.5.3)\n",
      "Requirement already satisfied: numpy in /opt/conda/lib/python3.8/site-packages (from pymannkendall) (1.19.5)\n",
      "Note: you may need to restart the kernel to use updated packages.\n"
     ]
    }
   ],
   "source": [
    "pip install pymannkendall"
   ]
  },
  {
   "cell_type": "code",
   "execution_count": 98,
   "id": "cellular-omega",
   "metadata": {},
   "outputs": [],
   "source": [
    "import pymannkendall as mk"
   ]
  },
  {
   "cell_type": "markdown",
   "id": "certified-theme",
   "metadata": {},
   "source": [
    "## Normalize metrics"
   ]
  },
  {
   "cell_type": "code",
   "execution_count": 99,
   "id": "surprising-chile",
   "metadata": {},
   "outputs": [],
   "source": [
    "def normalize(metrics):\n",
    "    return (metrics-metrics.min())/(metrics.max()-metrics.min())"
   ]
  },
  {
   "cell_type": "code",
   "execution_count": 100,
   "id": "opponent-bradford",
   "metadata": {
    "scrolled": true
   },
   "outputs": [],
   "source": [
    "def normalizeMetrics(metrics, listSamples):\n",
    "    for sample in listSamples.index.values:\n",
    "        metrics[sample] = normalize(metrics[sample])\n",
    "    return metrics"
   ]
  },
  {
   "cell_type": "code",
   "execution_count": 101,
   "id": "official-sacrifice",
   "metadata": {},
   "outputs": [],
   "source": [
    "androidNormalizedMetrics = normalizeMetrics(androidMetrics, androidListSamples)\n",
    "awsNormalizedMetrics = normalizeMetrics(awsMetrics, awsListSamples)\n",
    "azureNormalizedMetrics = normalizeMetrics(azureMetrics, azureListSamples)\n",
    "springNormalizedMetrics = normalizeMetrics(springMetrics, springListSamples)"
   ]
  },
  {
   "cell_type": "code",
   "execution_count": 122,
   "id": "historical-reliance",
   "metadata": {},
   "outputs": [],
   "source": [
    "def extractMannKendallTest(metrics, listSamples):\n",
    "    result = pd.DataFrame(index=listSamples.index)\n",
    "    for sample in listSamples.index.values:\n",
    "        sampleMetric = metrics[sample]\n",
    "        for metric in sampleMetric.columns.values:\n",
    "            try:\n",
    "                mkResult = mk.original_test(sampleMetric[metric])\n",
    "                result.loc[sample, metric+\" has a trend?\"] = mkResult.h\n",
    "                result.loc[sample, metric+\" trend is \"] = mkResult.trend\n",
    "                result.loc[sample, metric+\" trend pvalue \"] = format(mkResult.p, '.30f')\n",
    "\n",
    "            except:\n",
    "                mkResult = 0\n",
    "    return result"
   ]
  },
  {
   "cell_type": "code",
   "execution_count": 123,
   "id": "lined-champion",
   "metadata": {},
   "outputs": [],
   "source": [
    "androidMannKendallResult = extractMannKendallTest(androidNormalizedMetrics, androidListSamples)\n",
    "awsMannKendallResult = extractMannKendallTest(awsNormalizedMetrics, awsListSamples)\n",
    "azureMannKendallResult = extractMannKendallTest(azureNormalizedMetrics, azureListSamples)\n",
    "springMannKendallResult = extractMannKendallTest(springNormalizedMetrics, springListSamples)"
   ]
  },
  {
   "cell_type": "code",
   "execution_count": 128,
   "id": "joint-settlement",
   "metadata": {},
   "outputs": [],
   "source": [
    "os.makedirs(\"4-StatisticalTests/1-CodeSample/mannKendallTest\")"
   ]
  },
  {
   "cell_type": "code",
   "execution_count": 129,
   "id": "sized-witness",
   "metadata": {},
   "outputs": [],
   "source": [
    "androidMannKendallResult.to_csv(\"4-StatisticalTests/1-CodeSample/mannKendallTest/android_mann_kendall_results.csv\")\n",
    "awsMannKendallResult.to_csv(\"4-StatisticalTests/1-CodeSample/mannKendallTest/aws_mann_kendall_results.csv\")\n",
    "azureMannKendallResult.to_csv(\"4-StatisticalTests/1-CodeSample/mannKendallTest/azure_mann_kendall_results.csv\")\n",
    "springMannKendallResult.to_csv(\"4-StatisticalTests/1-CodeSample/mannKendallTest/spring_mann_kendall_results.csv\")"
   ]
  },
  {
   "cell_type": "markdown",
   "id": "brilliant-specialist",
   "metadata": {},
   "source": [
    "## Normality Test (Shapiro-Wilk)"
   ]
  },
  {
   "cell_type": "markdown",
   "id": "coordinated-allocation",
   "metadata": {},
   "source": [
    "Null Hyphotesis: The population has normal distribution\n",
    "\n",
    "Alternative Hyphotesis: The population has not normal distribution"
   ]
  },
  {
   "cell_type": "markdown",
   "id": "medical-thomas",
   "metadata": {},
   "source": [
    "If p-value < 0.05 then null hyphotesis is rejected"
   ]
  },
  {
   "cell_type": "markdown",
   "id": "surface-difference",
   "metadata": {},
   "source": [
    "## Correlation Test"
   ]
  },
  {
   "cell_type": "markdown",
   "id": "charitable-cattle",
   "metadata": {},
   "source": [
    "Null Hypothesis: there is no correlation between data\n",
    "\n",
    "Alternative Hypothesis: there is a correlation"
   ]
  },
  {
   "cell_type": "markdown",
   "id": "identified-pendant",
   "metadata": {},
   "source": [
    "If p-value < 0.05 then null Hypothesis is rejected."
   ]
  },
  {
   "cell_type": "markdown",
   "id": "horizontal-tracker",
   "metadata": {},
   "source": [
    "If the metric is normalized we will apply the Pearson Test, otherwise we will apply Spearman Test"
   ]
  },
  {
   "cell_type": "code",
   "execution_count": 132,
   "id": "exterior-output",
   "metadata": {},
   "outputs": [],
   "source": [
    "from scipy import stats"
   ]
  },
  {
   "cell_type": "code",
   "execution_count": 150,
   "id": "deadly-sheep",
   "metadata": {},
   "outputs": [],
   "source": [
    "def extractCorrelationTest(metrics, listSamples):\n",
    "    result = pd.DataFrame(index=listSamples.index)\n",
    "    for sample in listSamples.index.values:\n",
    "        sampleMetric = metrics[sample]\n",
    "        for metric in sampleMetric.columns.values:\n",
    "            #test if the set has normal distribution\n",
    "            if(stats.shapiro(sampleMetric[metric]).pvalue < 0.05):\n",
    "                correlationResult = stats.spearmanr(sampleMetric[\"questions\"], sampleMetric[metric], nan_policy=\"omit\")\n",
    "                result.loc[sample, metric+\" correlation\"] = correlationResult[0]\n",
    "                result.loc[sample, metric+\" correlation pvalue\"] = correlationResult[1]\n",
    "            else:\n",
    "                try:\n",
    "                    correlationResult = stats.pearsonr(sampleMetric[\"questions\"], sampleMetric[metric])\n",
    "                    result.loc[sample, metric+\" correlation\"] = correlationResult.r\n",
    "                    result.loc[sample, metric+\" correlation pvalue\"] = correlationResult.p-value\n",
    "                except:\n",
    "                    correlationResult = 0\n",
    "    return result"
   ]
  },
  {
   "cell_type": "code",
   "execution_count": 153,
   "id": "bound-mother",
   "metadata": {},
   "outputs": [],
   "source": [
    "androidCorrelationResult = extractCorrelationTest(androidNormalizedMetrics, androidListSamples)\n",
    "awsCorrelationResult = extractCorrelationTest(awsNormalizedMetrics, awsListSamples)\n",
    "azureCorrelationResult = extractCorrelationTest(azureNormalizedMetrics, azureListSamples)\n",
    "springCorrelationResult = extractCorrelationTest(springNormalizedMetrics, springListSamples)"
   ]
  },
  {
   "cell_type": "code",
   "execution_count": 154,
   "id": "brilliant-disorder",
   "metadata": {},
   "outputs": [],
   "source": [
    "os.makedirs(\"4-StatisticalTests/1-CodeSample/correlationTest\")"
   ]
  },
  {
   "cell_type": "code",
   "execution_count": 155,
   "id": "first-cardiff",
   "metadata": {},
   "outputs": [],
   "source": [
    "androidCorrelationResult.to_csv(\"4-StatisticalTests/1-CodeSample/correlationTest/android_correlation_results.csv\")\n",
    "awsCorrelationResult.to_csv(\"4-StatisticalTests/1-CodeSample/correlationTest/aws_correlation_results.csv\")\n",
    "azureCorrelationResult.to_csv(\"4-StatisticalTests/1-CodeSample/correlationTest/azure_correlation_results.csv\")\n",
    "springCorrelationResult.to_csv(\"4-StatisticalTests/1-CodeSample/correlationTest/spring_correlation_results.csv\")"
   ]
  }
 ],
 "metadata": {
  "kernelspec": {
   "display_name": "Python 3",
   "language": "python",
   "name": "python3"
  },
  "language_info": {
   "codemirror_mode": {
    "name": "ipython",
    "version": 3
   },
   "file_extension": ".py",
   "mimetype": "text/x-python",
   "name": "python",
   "nbconvert_exporter": "python",
   "pygments_lexer": "ipython3",
   "version": "3.8.6"
  }
 },
 "nbformat": 4,
 "nbformat_minor": 5
}
