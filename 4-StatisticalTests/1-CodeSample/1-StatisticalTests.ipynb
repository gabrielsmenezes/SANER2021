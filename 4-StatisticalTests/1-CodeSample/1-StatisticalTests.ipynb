{
 "cells": [
  {
   "cell_type": "code",
   "execution_count": 98,
   "id": "instructional-siemens",
   "metadata": {
    "scrolled": false
   },
   "outputs": [
    {
     "data": {
      "text/plain": [
       "'/home/jovyan/work/SANER2021'"
      ]
     },
     "execution_count": 98,
     "metadata": {},
     "output_type": "execute_result"
    }
   ],
   "source": [
    "import os\n",
    "os.getcwd()"
   ]
  },
  {
   "cell_type": "code",
   "execution_count": 99,
   "id": "covered-title",
   "metadata": {},
   "outputs": [],
   "source": [
    "os.chdir(\"/home/jovyan/work/SANER2021\")"
   ]
  },
  {
   "cell_type": "code",
   "execution_count": 100,
   "id": "union-meditation",
   "metadata": {},
   "outputs": [],
   "source": [
    "import pandas as pd"
   ]
  },
  {
   "cell_type": "markdown",
   "id": "developed-creature",
   "metadata": {},
   "source": [
    "## Loading metrics"
   ]
  },
  {
   "cell_type": "code",
   "execution_count": 101,
   "id": "unlikely-appeal",
   "metadata": {},
   "outputs": [],
   "source": [
    "androidListSamples = pd.read_csv(\"1-GettingQuestions/samplesWithQuestions/androidSamples.csv\", index_col=0, skiprows=0)\n",
    "awsListSamples = pd.read_csv(\"1-GettingQuestions/samplesWithQuestions/awsSamples.csv\", index_col=0, skiprows=0)\n",
    "azureListSamples = pd.read_csv(\"1-GettingQuestions/samplesWithQuestions/azureSamples.csv\", index_col=0, skiprows=0)\n",
    "springListSamples = pd.read_csv(\"1-GettingQuestions/samplesWithQuestions/springSamples.csv\", index_col=0, skiprows=0)"
   ]
  },
  {
   "cell_type": "code",
   "execution_count": 102,
   "id": "lonely-helping",
   "metadata": {},
   "outputs": [],
   "source": [
    "def loadMetrics(listSamples):\n",
    "    metrics = dict()\n",
    "    for sample in listSamples.index.values:\n",
    "        metrics[sample] = pd.read_csv(f\"3-DataMerge/1-CodeSampleAgregation/{sample}.csv\", index_col=[0,1], na_filter=False)\n",
    "    return metrics"
   ]
  },
  {
   "cell_type": "code",
   "execution_count": 103,
   "id": "unexpected-penalty",
   "metadata": {},
   "outputs": [],
   "source": [
    "androidMetrics = loadMetrics(androidListSamples)\n",
    "awsMetrics = loadMetrics(awsListSamples)\n",
    "azureMetrics = loadMetrics(azureListSamples)\n",
    "springMetrics = loadMetrics(springListSamples)"
   ]
  },
  {
   "cell_type": "markdown",
   "id": "portuguese-generator",
   "metadata": {},
   "source": [
    "## Mann Kendall Test"
   ]
  },
  {
   "cell_type": "markdown",
   "id": "essential-palmer",
   "metadata": {},
   "source": [
    "Null Hypothesis: There is no monotonic trend.\n",
    "\n",
    "Alternative Hypothesis: There is a trend."
   ]
  },
  {
   "cell_type": "markdown",
   "id": "western-humanity",
   "metadata": {},
   "source": [
    "If p-value < 0.05 then null Hypothesis is rejected."
   ]
  },
  {
   "cell_type": "code",
   "execution_count": 104,
   "id": "advised-moment",
   "metadata": {
    "scrolled": true
   },
   "outputs": [
    {
     "name": "stdout",
     "output_type": "stream",
     "text": [
      "Requirement already satisfied: pymannkendall in /opt/conda/lib/python3.8/site-packages (1.4.1)\n",
      "Requirement already satisfied: numpy in /opt/conda/lib/python3.8/site-packages (from pymannkendall) (1.19.5)\n",
      "Requirement already satisfied: scipy in /opt/conda/lib/python3.8/site-packages (from pymannkendall) (1.5.3)\n",
      "Note: you may need to restart the kernel to use updated packages.\n"
     ]
    }
   ],
   "source": [
    "pip install pymannkendall"
   ]
  },
  {
   "cell_type": "code",
   "execution_count": 105,
   "id": "provincial-asbestos",
   "metadata": {},
   "outputs": [],
   "source": [
    "import pymannkendall as mk"
   ]
  },
  {
   "cell_type": "code",
   "execution_count": 106,
   "id": "acoustic-great",
   "metadata": {},
   "outputs": [],
   "source": [
    "def extractMannKendallTest(metrics, listSamples):\n",
    "    result = pd.DataFrame(index=listSamples.index)\n",
    "    for sample in listSamples.index.values:\n",
    "        sampleMetric = metrics[sample]\n",
    "        for metric in sampleMetric.columns.values:\n",
    "            mkResult = mk.original_test(sampleMetric[metric])\n",
    "            result.loc[sample, metric+\" has a trend?\"] = mkResult.h\n",
    "            result.loc[sample, metric+\" trend is \"] = mkResult.trend\n",
    "            result.loc[sample, metric+\" trend pvalue \"] = mkResult.p\n",
    "    return result"
   ]
  },
  {
   "cell_type": "code",
   "execution_count": 107,
   "id": "enabling-structure",
   "metadata": {},
   "outputs": [],
   "source": [
    "androidMannKendallResult = extractMannKendallTest(androidMetrics, androidListSamples)\n",
    "awsMannKendallResult = extractMannKendallTest(awsMetrics, awsListSamples)\n",
    "azureMannKendallResult = extractMannKendallTest(azureMetrics, azureListSamples)\n",
    "springMannKendallResult = extractMannKendallTest(springMetrics, springListSamples)"
   ]
  },
  {
   "cell_type": "code",
   "execution_count": 108,
   "id": "distinct-genre",
   "metadata": {},
   "outputs": [],
   "source": [
    "androidMannKendallResult.to_csv(\"4-StatisticalTests/1-CodeSample/mannKendallTest/android_mann_kendall_results.csv\", decimal=',', sep=';')\n",
    "awsMannKendallResult.to_csv(\"4-StatisticalTests/1-CodeSample/mannKendallTest/aws_mann_kendall_results.csv\", decimal=',', sep=';')\n",
    "azureMannKendallResult.to_csv(\"4-StatisticalTests/1-CodeSample/mannKendallTest/azure_mann_kendall_results.csv\", decimal=',', sep=';')\n",
    "springMannKendallResult.to_csv(\"4-StatisticalTests/1-CodeSample/mannKendallTest/spring_mann_kendall_results.csv\", decimal=',', sep=';')"
   ]
  },
  {
   "cell_type": "markdown",
   "id": "appreciated-minnesota",
   "metadata": {},
   "source": [
    "## Normality Test (Shapiro-Wilk)"
   ]
  },
  {
   "cell_type": "markdown",
   "id": "static-velvet",
   "metadata": {},
   "source": [
    "Null Hyphotesis: The population has normal distribution\n",
    "\n",
    "Alternative Hyphotesis: The population has not normal distribution"
   ]
  },
  {
   "cell_type": "markdown",
   "id": "generous-forestry",
   "metadata": {},
   "source": [
    "If p-value < 0.05 then null hyphotesis is rejected"
   ]
  },
  {
   "cell_type": "markdown",
   "id": "active-elder",
   "metadata": {},
   "source": [
    "## Correlation Test"
   ]
  },
  {
   "cell_type": "markdown",
   "id": "collected-schedule",
   "metadata": {},
   "source": [
    "Null Hypothesis: there is no correlation between data\n",
    "\n",
    "Alternative Hypothesis: there is a correlation"
   ]
  },
  {
   "cell_type": "markdown",
   "id": "tender-brake",
   "metadata": {},
   "source": [
    "If p-value < 0.05 then null Hypothesis is rejected."
   ]
  },
  {
   "cell_type": "markdown",
   "id": "amended-humanitarian",
   "metadata": {},
   "source": [
    "If the metric is normalized we will apply the Pearson Test, otherwise we will apply Spearman Test"
   ]
  },
  {
   "cell_type": "code",
   "execution_count": 109,
   "id": "conditional-standing",
   "metadata": {},
   "outputs": [],
   "source": [
    "from scipy import stats"
   ]
  },
  {
   "cell_type": "code",
   "execution_count": 110,
   "id": "virtual-filter",
   "metadata": {},
   "outputs": [],
   "source": [
    "def extractCorrelationTest(metrics, listSamples):\n",
    "    result = pd.DataFrame(index=listSamples.index)\n",
    "    for sample in listSamples.index.values:\n",
    "        sampleMetric = metrics[sample]\n",
    "        for metric in sampleMetric.columns.values:\n",
    "            #test if the set has normal distribution\n",
    "            shapiroPvalue = stats.shapiro(sampleMetric[metric]).pvalue\n",
    "            if(shapiroPvalue < 0.05):\n",
    "                correlationResult = stats.spearmanr(sampleMetric[\"questions\"], sampleMetric[metric], nan_policy=\"omit\")    \n",
    "            else:\n",
    "                correlationResult = stats.pearsonr(sampleMetric[\"questions\"], sampleMetric[metric])\n",
    "            result.loc[sample, metric+\" correlation\"] = correlationResult[0]\n",
    "            result.loc[sample, metric+\" correlation pvalue\"] = correlationResult[1]\n",
    "    return result"
   ]
  },
  {
   "cell_type": "code",
   "execution_count": 111,
   "id": "opened-setting",
   "metadata": {},
   "outputs": [
    {
     "name": "stderr",
     "output_type": "stream",
     "text": [
      "/opt/conda/lib/python3.8/site-packages/scipy/stats/morestats.py:1678: UserWarning: Input data for shapiro has range zero. The results may not be accurate.\n",
      "  warnings.warn(\"Input data for shapiro has range zero. The results \"\n",
      "/opt/conda/lib/python3.8/site-packages/scipy/stats/stats.py:3845: PearsonRConstantInputWarning: An input array is constant; the correlation coefficent is not defined.\n",
      "  warnings.warn(PearsonRConstantInputWarning())\n"
     ]
    }
   ],
   "source": [
    "androidCorrelationResult = extractCorrelationTest(androidMetrics, androidListSamples)\n",
    "awsCorrelationResult = extractCorrelationTest(awsMetrics, awsListSamples)\n",
    "azureCorrelationResult = extractCorrelationTest(azureMetrics, azureListSamples)\n",
    "springCorrelationResult = extractCorrelationTest(springMetrics, springListSamples)"
   ]
  },
  {
   "cell_type": "code",
   "execution_count": 112,
   "id": "exceptional-substitute",
   "metadata": {},
   "outputs": [],
   "source": [
    "androidCorrelationResult.to_csv(\"4-StatisticalTests/1-CodeSample/correlationTest/android_correlation_results.csv\", decimal=',', sep=';')\n",
    "awsCorrelationResult.to_csv(\"4-StatisticalTests/1-CodeSample/correlationTest/aws_correlation_results.csv\", decimal=',', sep=';')\n",
    "azureCorrelationResult.to_csv(\"4-StatisticalTests/1-CodeSample/correlationTest/azure_correlation_results.csv\", decimal=',', sep=';')\n",
    "springCorrelationResult.to_csv(\"4-StatisticalTests/1-CodeSample/correlationTest/spring_correlation_results.csv\", decimal=',', sep=';')"
   ]
  },
  {
   "cell_type": "code",
   "execution_count": 138,
   "id": "favorite-holder",
   "metadata": {},
   "outputs": [],
   "source": [
    "metrics = {\n",
    "#     \"CountLine\": \"increasing\",\n",
    "#     \"CountLineCode\": \"increasing\",\n",
    "#     \"CountLineComment\": \"increasing\"\n",
    "#     \"readability\": \"increasing\",\n",
    "#     \"CountDeclClass\": \"increasing\",\n",
    "#     \"numberJavaFiles\": \"increasing\",\n",
    "    \"SumCyclomatic\": \"increasing\",\n",
    "    \"CountDeclMethodAll\": \"increasing\",\n",
    "    \"CountClassDerived\": \"no trend\",\n",
    "    \"PercentLackOfCohesion\": \"no trend\", \n",
    "    \"CountClassCoupled\": \"increasing\",\n",
    "    \"MaxInheritanceTree\": \"no trend\"\n",
    "}"
   ]
  },
  {
   "cell_type": "code",
   "execution_count": 143,
   "id": "geological-cleanup",
   "metadata": {},
   "outputs": [
    {
     "name": "stdout",
     "output_type": "stream",
     "text": [
      "Azure-Samples/Azure-Spring-Cloud-Samples 6\n",
      "Azure-Samples/azure-iot-samples-java 4\n",
      "Azure-Samples/aks-java-manage-kubernetes-cluster 4\n",
      "Azure-Samples/monitor-java-query-metrics-activitylogs 4\n"
     ]
    }
   ],
   "source": [
    "for sample in azureListSamples.index.values:\n",
    "    count = 0\n",
    "    for metric in metrics.keys():\n",
    "        if(metrics[metric] == azureMannKendallResult.loc[sample][f'{metric} trend is ']):\n",
    "            count = count + 1\n",
    "        else:\n",
    "            break\n",
    "#     print(sample, count)\n",
    "    if (count >= 4):\n",
    "        print(sample, count)\n",
    "        "
   ]
  },
  {
   "cell_type": "code",
   "execution_count": 130,
   "id": "going-habitat",
   "metadata": {},
   "outputs": [
    {
     "data": {
      "text/plain": [
       "'no trend'"
      ]
     },
     "execution_count": 130,
     "metadata": {},
     "output_type": "execute_result"
    }
   ],
   "source": [
    "springMannKendallResult.loc['spring-guides/tut-rest']['CountLine trend is ']"
   ]
  }
 ],
 "metadata": {
  "kernelspec": {
   "display_name": "Python 3",
   "language": "python",
   "name": "python3"
  },
  "language_info": {
   "codemirror_mode": {
    "name": "ipython",
    "version": 3
   },
   "file_extension": ".py",
   "mimetype": "text/x-python",
   "name": "python",
   "nbconvert_exporter": "python",
   "pygments_lexer": "ipython3",
   "version": "3.8.6"
  }
 },
 "nbformat": 4,
 "nbformat_minor": 5
}
