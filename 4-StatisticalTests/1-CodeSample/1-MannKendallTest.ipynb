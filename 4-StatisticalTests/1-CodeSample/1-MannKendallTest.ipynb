{
 "cells": [
  {
   "cell_type": "code",
   "execution_count": 91,
   "id": "otherwise-subscription",
   "metadata": {},
   "outputs": [
    {
     "data": {
      "text/plain": [
       "'/home/jovyan/work/SANER2021'"
      ]
     },
     "execution_count": 91,
     "metadata": {},
     "output_type": "execute_result"
    }
   ],
   "source": [
    "import os\n",
    "os.getcwd()"
   ]
  },
  {
   "cell_type": "code",
   "execution_count": 92,
   "id": "clear-privacy",
   "metadata": {},
   "outputs": [],
   "source": [
    "os.chdir(\"/home/jovyan/work/SANER2021\")"
   ]
  },
  {
   "cell_type": "code",
   "execution_count": 93,
   "id": "primary-blues",
   "metadata": {},
   "outputs": [],
   "source": [
    "import pandas as pd"
   ]
  },
  {
   "cell_type": "markdown",
   "id": "exact-coordination",
   "metadata": {},
   "source": [
    "## Loading metrics"
   ]
  },
  {
   "cell_type": "code",
   "execution_count": 94,
   "id": "congressional-pregnancy",
   "metadata": {},
   "outputs": [],
   "source": [
    "androidListSamples = pd.read_csv(\"1-GettingQuestions/samplesWithQuestions/androidSamples.csv\", index_col=0, skiprows=0)\n",
    "awsListSamples = pd.read_csv(\"1-GettingQuestions/samplesWithQuestions/awsSamples.csv\", index_col=0, skiprows=0)\n",
    "azureListSamples = pd.read_csv(\"1-GettingQuestions/samplesWithQuestions/azureSamples.csv\", index_col=0, skiprows=0)\n",
    "springListSamples = pd.read_csv(\"1-GettingQuestions/samplesWithQuestions/springSamples.csv\", index_col=0, skiprows=0)"
   ]
  },
  {
   "cell_type": "code",
   "execution_count": 95,
   "id": "contrary-congo",
   "metadata": {},
   "outputs": [],
   "source": [
    "def loadMetrics(listSamples):\n",
    "    metrics = dict()\n",
    "    for sample in listSamples.index.values:\n",
    "        metrics[sample] = pd.read_csv(f\"3-DataMerge/1-CodeSampleAgregation/{sample}.csv\", index_col=[0,1])\n",
    "    return metrics"
   ]
  },
  {
   "cell_type": "code",
   "execution_count": 96,
   "id": "returning-service",
   "metadata": {},
   "outputs": [],
   "source": [
    "androidMetrics = loadMetrics(androidListSamples)\n",
    "awsMetrics = loadMetrics(awsListSamples)\n",
    "azureMetrics = loadMetrics(azureListSamples)\n",
    "springMetrics = loadMetrics(springListSamples)"
   ]
  },
  {
   "cell_type": "markdown",
   "id": "induced-burden",
   "metadata": {},
   "source": [
    "## Mann Kendall Test"
   ]
  },
  {
   "cell_type": "markdown",
   "id": "subject-tokyo",
   "metadata": {},
   "source": [
    "Null Hypothesis: There is no monotonic trend.\n",
    "\n",
    "Alternative Hypothesis: There is a trend."
   ]
  },
  {
   "cell_type": "markdown",
   "id": "supported-technical",
   "metadata": {},
   "source": [
    "If p-value < 0.05 then null Hypothesis is rejected."
   ]
  },
  {
   "cell_type": "code",
   "execution_count": 97,
   "id": "preliminary-basin",
   "metadata": {
    "scrolled": true
   },
   "outputs": [
    {
     "name": "stdout",
     "output_type": "stream",
     "text": [
      "Requirement already satisfied: pymannkendall in /opt/conda/lib/python3.8/site-packages (1.4.1)\n",
      "Requirement already satisfied: scipy in /opt/conda/lib/python3.8/site-packages (from pymannkendall) (1.5.3)\n",
      "Requirement already satisfied: numpy in /opt/conda/lib/python3.8/site-packages (from pymannkendall) (1.19.5)\n",
      "Note: you may need to restart the kernel to use updated packages.\n"
     ]
    }
   ],
   "source": [
    "pip install pymannkendall"
   ]
  },
  {
   "cell_type": "code",
   "execution_count": 98,
   "id": "furnished-light",
   "metadata": {},
   "outputs": [],
   "source": [
    "import pymannkendall as mk"
   ]
  },
  {
   "cell_type": "markdown",
   "id": "minute-mouth",
   "metadata": {},
   "source": [
    "## Normalize metrics"
   ]
  },
  {
   "cell_type": "code",
   "execution_count": 99,
   "id": "interested-substance",
   "metadata": {},
   "outputs": [],
   "source": [
    "def normalize(metrics):\n",
    "    return (metrics-metrics.min())/(metrics.max()-metrics.min())"
   ]
  },
  {
   "cell_type": "code",
   "execution_count": 100,
   "id": "female-market",
   "metadata": {
    "scrolled": true
   },
   "outputs": [],
   "source": [
    "def normalizeMetrics(metrics, listSamples):\n",
    "    for sample in listSamples.index.values:\n",
    "        metrics[sample] = normalize(metrics[sample])\n",
    "    return metrics"
   ]
  },
  {
   "cell_type": "code",
   "execution_count": 101,
   "id": "strategic-fields",
   "metadata": {},
   "outputs": [],
   "source": [
    "androidNormalizedMetrics = normalizeMetrics(androidMetrics, androidListSamples)\n",
    "awsNormalizedMetrics = normalizeMetrics(awsMetrics, awsListSamples)\n",
    "azureNormalizedMetrics = normalizeMetrics(azureMetrics, azureListSamples)\n",
    "springNormalizedMetrics = normalizeMetrics(springMetrics, springListSamples)"
   ]
  },
  {
   "cell_type": "code",
   "execution_count": 122,
   "id": "blank-button",
   "metadata": {},
   "outputs": [],
   "source": [
    "def extractMannKendallTest(metrics, listSamples):\n",
    "    result = pd.DataFrame(index=listSamples.index)\n",
    "    for sample in listSamples.index.values:\n",
    "        sampleMetric = metrics[sample]\n",
    "        for metric in sampleMetric.columns.values:\n",
    "            try:\n",
    "                mkResult = mk.original_test(sampleMetric[metric])\n",
    "                result.loc[sample, metric+\" has a trend?\"] = mkResult.h\n",
    "                result.loc[sample, metric+\" trend is \"] = mkResult.trend\n",
    "                result.loc[sample, metric+\" trend pvalue \"] = format(mkResult.p, '.30f')\n",
    "\n",
    "            except:\n",
    "                mkResult = 0\n",
    "    return result"
   ]
  },
  {
   "cell_type": "code",
   "execution_count": 123,
   "id": "thermal-symphony",
   "metadata": {},
   "outputs": [],
   "source": [
    "androidMannKendallResult = extractMannKendallTest(androidNormalizedMetrics, androidListSamples)\n",
    "awsMannKendallResult = extractMannKendallTest(awsNormalizedMetrics, awsListSamples)\n",
    "azureMannKendallResult = extractMannKendallTest(azureNormalizedMetrics, azureListSamples)\n",
    "springMannKendallResult = extractMannKendallTest(springNormalizedMetrics, springListSamples)"
   ]
  },
  {
   "cell_type": "code",
   "execution_count": 128,
   "id": "artificial-leisure",
   "metadata": {},
   "outputs": [],
   "source": [
    "os.makedirs(\"4-StatisticalTests/1-CodeSample/mannKendallTest\")"
   ]
  },
  {
   "cell_type": "code",
   "execution_count": 129,
   "id": "aggregate-grass",
   "metadata": {},
   "outputs": [],
   "source": [
    "androidMannKendallResult.to_csv(\"4-StatisticalTests/1-CodeSample/mannKendallTest/android_mann_kendall_results.csv\")\n",
    "awsMannKendallResult.to_csv(\"4-StatisticalTests/1-CodeSample/mannKendallTest/aws_mann_kendall_results.csv\")\n",
    "azureMannKendallResult.to_csv(\"4-StatisticalTests/1-CodeSample/mannKendallTest/azure_mann_kendall_results.csv\")\n",
    "springMannKendallResult.to_csv(\"4-StatisticalTests/1-CodeSample/mannKendallTest/spring_mann_kendall_results.csv\")"
   ]
  },
  {
   "cell_type": "code",
   "execution_count": null,
   "id": "second-reserve",
   "metadata": {},
   "outputs": [],
   "source": []
  }
 ],
 "metadata": {
  "kernelspec": {
   "display_name": "Python 3",
   "language": "python",
   "name": "python3"
  },
  "language_info": {
   "codemirror_mode": {
    "name": "ipython",
    "version": 3
   },
   "file_extension": ".py",
   "mimetype": "text/x-python",
   "name": "python",
   "nbconvert_exporter": "python",
   "pygments_lexer": "ipython3",
   "version": "3.8.6"
  }
 },
 "nbformat": 4,
 "nbformat_minor": 5
}
