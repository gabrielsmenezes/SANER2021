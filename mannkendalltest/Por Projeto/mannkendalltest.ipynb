{
 "cells": [
  {
   "cell_type": "code",
   "execution_count": 512,
   "metadata": {},
   "outputs": [
    {
     "name": "stdout",
     "output_type": "stream",
     "text": [
      "Requirement already satisfied: pymannkendall in c:\\users\\tati_\\anaconda3\\lib\\site-packages (1.4.1)\n",
      "Requirement already satisfied: numpy in c:\\users\\tati_\\anaconda3\\lib\\site-packages (from pymannkendall) (1.18.5)\n",
      "Requirement already satisfied: scipy in c:\\users\\tati_\\anaconda3\\lib\\site-packages (from pymannkendall) (1.5.0)\n",
      "Note: you may need to restart the kernel to use updated packages.\n"
     ]
    }
   ],
   "source": [
    "pip install pymannkendall"
   ]
  },
  {
   "cell_type": "code",
   "execution_count": 513,
   "metadata": {},
   "outputs": [],
   "source": [
    "import pandas as pd\n",
    "import pymannkendall as mk"
   ]
  },
  {
   "cell_type": "code",
   "execution_count": 514,
   "metadata": {},
   "outputs": [],
   "source": [
    "samples = pd.read_csv(\"C:\\\\Users\\\\tati_\\\\Desktop\\\\gabriel\\\\pesquisamestrado-master\\\\pesquisamestrado-master\\\\listofsamples\\\\azuresamples.txt\", sep=\"\\n\", header=None, names=[\"path\"])"
   ]
  },
  {
   "cell_type": "code",
   "execution_count": 515,
   "metadata": {},
   "outputs": [],
   "source": [
    "samples[\"path\"] = samples[\"path\"].str.replace(\"/\", \"\\\\\\\\\")"
   ]
  },
  {
   "cell_type": "code",
   "execution_count": 517,
   "metadata": {},
   "outputs": [],
   "source": [
    "samplesDataframe = [pd.read_csv(\"C:\\\\Users\\\\tati_\\\\Desktop\\\\gabriel\\\\pesquisamestrado-master\\\\pesquisamestrado-master\\\\metricsbycommits\\\\\"+sample+\"__output.csv\", usecols=[4,5,6,7]) for sample in samples[\"path\"]]"
   ]
  },
  {
   "cell_type": "code",
   "execution_count": 518,
   "metadata": {},
   "outputs": [],
   "source": [
    "metrics = pd.DataFrame([[mk.original_test(sample[col]) for col in sample.columns] for sample in samplesDataframe], columns=samplesDataframe[0].columns, index=samples[\"path\"].to_list())"
   ]
  },
  {
   "cell_type": "code",
   "execution_count": 520,
   "metadata": {},
   "outputs": [],
   "source": [
    "metrics.to_csv(\"azure.csv\")"
   ]
  }
 ],
 "metadata": {
  "kernelspec": {
   "display_name": "Python 3",
   "language": "python",
   "name": "python3"
  },
  "language_info": {
   "codemirror_mode": {
    "name": "ipython",
    "version": 3
   },
   "file_extension": ".py",
   "mimetype": "text/x-python",
   "name": "python",
   "nbconvert_exporter": "python",
   "pygments_lexer": "ipython3",
   "version": "3.8.3"
  }
 },
 "nbformat": 4,
 "nbformat_minor": 4
}
